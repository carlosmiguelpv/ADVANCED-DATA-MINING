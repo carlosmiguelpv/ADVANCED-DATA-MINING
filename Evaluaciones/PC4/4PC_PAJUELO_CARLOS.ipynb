{
 "cells": [
  {
   "cell_type": "code",
   "execution_count": 1,
   "metadata": {},
   "outputs": [],
   "source": [
    "import pandas as pd\n",
    "\n",
    "from sklearn.preprocessing import LabelEncoder\n",
    "from sklearn.model_selection import train_test_split\n",
    "from sklearn.preprocessing import StandardScaler\n",
    "from imblearn.over_sampling import SMOTE\n",
    "from imblearn.over_sampling import RandomOverSampler\n",
    "from imblearn.under_sampling import RandomUnderSampler\n",
    "from sklearn.metrics import recall_score, roc_auc_score,auc,roc_curve"
   ]
  },
  {
   "cell_type": "code",
   "execution_count": 2,
   "metadata": {},
   "outputs": [],
   "source": [
    "train = pd.read_csv('churn-bigml-80.csv')\n",
    "train[\"flag_muestra\"] = \"train\"\n",
    "test = pd.read_csv('churn-bigml-20.csv')\n",
    "test[\"flag_muestra\"] = \"test\""
   ]
  },
  {
   "cell_type": "code",
   "execution_count": 3,
   "metadata": {},
   "outputs": [],
   "source": [
    "data = train._append(test)\n",
    "data['Area code'] = data['Area code'].astype(object)"
   ]
  },
  {
   "cell_type": "code",
   "execution_count": 4,
   "metadata": {},
   "outputs": [],
   "source": [
    "data['Total minutes'] = data['Total day minutes'] + data['Total eve minutes'] + data['Total night minutes'] + data['Total intl minutes']\n",
    "total_calls = data['Total day calls'] + data['Total eve calls'] + data['Total night calls'] + data['Total intl calls']\n",
    "data.insert(loc=len(data.columns), column='Total calls', value=total_calls)\n",
    "data['Total charge'] = data['Total day charge'] + data['Total eve charge'] + data['Total night charge'] + data['Total intl charge']\n",
    "data = data.rename(columns = {'International plan':'International_plan'})\n",
    "data = data.rename(columns = {'Voice mail plan':'Voice_mail_plan'})\n",
    "data['c_International_plan'] = LabelEncoder().fit_transform(data.International_plan.values)\n",
    "data['c_Voice_mail_plan'] = LabelEncoder().fit_transform(data.Voice_mail_plan.values)\n",
    "data['Churn'] = data['Churn'].astype('int64')"
   ]
  },
  {
   "cell_type": "code",
   "execution_count": 5,
   "metadata": {},
   "outputs": [],
   "source": [
    "data.to_csv('data.csv',index=False)"
   ]
  },
  {
   "cell_type": "code",
   "execution_count": 6,
   "metadata": {},
   "outputs": [
    {
     "data": {
      "text/html": [
       "<div>\n",
       "<style scoped>\n",
       "    .dataframe tbody tr th:only-of-type {\n",
       "        vertical-align: middle;\n",
       "    }\n",
       "\n",
       "    .dataframe tbody tr th {\n",
       "        vertical-align: top;\n",
       "    }\n",
       "\n",
       "    .dataframe thead th {\n",
       "        text-align: right;\n",
       "    }\n",
       "</style>\n",
       "<table border=\"1\" class=\"dataframe\">\n",
       "  <thead>\n",
       "    <tr style=\"text-align: right;\">\n",
       "      <th></th>\n",
       "      <th>c_International_plan</th>\n",
       "      <th>c_Voice_mail_plan</th>\n",
       "      <th>Number vmail messages</th>\n",
       "      <th>Total minutes</th>\n",
       "      <th>Total charge</th>\n",
       "      <th>Customer service calls</th>\n",
       "      <th>Churn</th>\n",
       "    </tr>\n",
       "  </thead>\n",
       "  <tbody>\n",
       "    <tr>\n",
       "      <th>0</th>\n",
       "      <td>0</td>\n",
       "      <td>1</td>\n",
       "      <td>25</td>\n",
       "      <td>717.2</td>\n",
       "      <td>75.56</td>\n",
       "      <td>1</td>\n",
       "      <td>0</td>\n",
       "    </tr>\n",
       "    <tr>\n",
       "      <th>1</th>\n",
       "      <td>0</td>\n",
       "      <td>1</td>\n",
       "      <td>26</td>\n",
       "      <td>625.2</td>\n",
       "      <td>59.24</td>\n",
       "      <td>1</td>\n",
       "      <td>0</td>\n",
       "    </tr>\n",
       "    <tr>\n",
       "      <th>2</th>\n",
       "      <td>0</td>\n",
       "      <td>0</td>\n",
       "      <td>0</td>\n",
       "      <td>539.4</td>\n",
       "      <td>62.29</td>\n",
       "      <td>0</td>\n",
       "      <td>0</td>\n",
       "    </tr>\n",
       "    <tr>\n",
       "      <th>3</th>\n",
       "      <td>1</td>\n",
       "      <td>0</td>\n",
       "      <td>0</td>\n",
       "      <td>564.8</td>\n",
       "      <td>66.80</td>\n",
       "      <td>2</td>\n",
       "      <td>0</td>\n",
       "    </tr>\n",
       "    <tr>\n",
       "      <th>4</th>\n",
       "      <td>1</td>\n",
       "      <td>0</td>\n",
       "      <td>0</td>\n",
       "      <td>512.0</td>\n",
       "      <td>52.09</td>\n",
       "      <td>3</td>\n",
       "      <td>0</td>\n",
       "    </tr>\n",
       "  </tbody>\n",
       "</table>\n",
       "</div>"
      ],
      "text/plain": [
       "   c_International_plan  c_Voice_mail_plan  Number vmail messages  \\\n",
       "0                     0                  1                     25   \n",
       "1                     0                  1                     26   \n",
       "2                     0                  0                      0   \n",
       "3                     1                  0                      0   \n",
       "4                     1                  0                      0   \n",
       "\n",
       "   Total minutes  Total charge  Customer service calls  Churn  \n",
       "0          717.2         75.56                       1      0  \n",
       "1          625.2         59.24                       1      0  \n",
       "2          539.4         62.29                       0      0  \n",
       "3          564.8         66.80                       2      0  \n",
       "4          512.0         52.09                       3      0  "
      ]
     },
     "execution_count": 6,
     "metadata": {},
     "output_type": "execute_result"
    }
   ],
   "source": [
    "data2=data[['c_International_plan','c_Voice_mail_plan','Number vmail messages','Total minutes','Total charge','Customer service calls','Churn']]\n",
    "data2.to_csv('data2.csv',index=False)\n",
    "data2.head()"
   ]
  },
  {
   "cell_type": "code",
   "execution_count": 17,
   "metadata": {},
   "outputs": [],
   "source": [
    "import pandas as pd\n",
    "import h2o\n",
    "from h2o.automl import H2OAutoML\n",
    "from h2o.estimators import H2OGeneralizedLinearEstimator, H2OGradientBoostingEstimator, H2ORandomForestEstimator, H2ODeepLearningEstimator\n",
    "from imblearn.over_sampling import SMOTE\n",
    "from sklearn.model_selection import train_test_split"
   ]
  },
  {
   "cell_type": "code",
   "execution_count": 18,
   "metadata": {},
   "outputs": [
    {
     "name": "stdout",
     "output_type": "stream",
     "text": [
      "Checking whether there is an H2O instance running at http://localhost:54321. connected.\n"
     ]
    },
    {
     "data": {
      "text/html": [
       "\n",
       "<style>\n",
       "\n",
       "#h2o-table-2.h2o-container {\n",
       "  overflow-x: auto;\n",
       "}\n",
       "#h2o-table-2 .h2o-table {\n",
       "  /* width: 100%; */\n",
       "  margin-top: 1em;\n",
       "  margin-bottom: 1em;\n",
       "}\n",
       "#h2o-table-2 .h2o-table caption {\n",
       "  white-space: nowrap;\n",
       "  caption-side: top;\n",
       "  text-align: left;\n",
       "  /* margin-left: 1em; */\n",
       "  margin: 0;\n",
       "  font-size: larger;\n",
       "}\n",
       "#h2o-table-2 .h2o-table thead {\n",
       "  white-space: nowrap; \n",
       "  position: sticky;\n",
       "  top: 0;\n",
       "  box-shadow: 0 -1px inset;\n",
       "}\n",
       "#h2o-table-2 .h2o-table tbody {\n",
       "  overflow: auto;\n",
       "}\n",
       "#h2o-table-2 .h2o-table th,\n",
       "#h2o-table-2 .h2o-table td {\n",
       "  text-align: right;\n",
       "  /* border: 1px solid; */\n",
       "}\n",
       "#h2o-table-2 .h2o-table tr:nth-child(even) {\n",
       "  /* background: #F5F5F5 */\n",
       "}\n",
       "\n",
       "</style>      \n",
       "<div id=\"h2o-table-2\" class=\"h2o-container\">\n",
       "  <table class=\"h2o-table\">\n",
       "    <caption></caption>\n",
       "    <thead></thead>\n",
       "    <tbody><tr><td>H2O_cluster_uptime:</td>\n",
       "<td>7 mins 43 secs</td></tr>\n",
       "<tr><td>H2O_cluster_timezone:</td>\n",
       "<td>America/Bogota</td></tr>\n",
       "<tr><td>H2O_data_parsing_timezone:</td>\n",
       "<td>UTC</td></tr>\n",
       "<tr><td>H2O_cluster_version:</td>\n",
       "<td>3.44.0.2</td></tr>\n",
       "<tr><td>H2O_cluster_version_age:</td>\n",
       "<td>17 days</td></tr>\n",
       "<tr><td>H2O_cluster_name:</td>\n",
       "<td>H2O_from_python_carlo_4i8o6c</td></tr>\n",
       "<tr><td>H2O_cluster_total_nodes:</td>\n",
       "<td>1</td></tr>\n",
       "<tr><td>H2O_cluster_free_memory:</td>\n",
       "<td>6.722 Gb</td></tr>\n",
       "<tr><td>H2O_cluster_total_cores:</td>\n",
       "<td>12</td></tr>\n",
       "<tr><td>H2O_cluster_allowed_cores:</td>\n",
       "<td>12</td></tr>\n",
       "<tr><td>H2O_cluster_status:</td>\n",
       "<td>locked, healthy</td></tr>\n",
       "<tr><td>H2O_connection_url:</td>\n",
       "<td>http://localhost:54321</td></tr>\n",
       "<tr><td>H2O_connection_proxy:</td>\n",
       "<td>{\"http\": null, \"https\": null}</td></tr>\n",
       "<tr><td>H2O_internal_security:</td>\n",
       "<td>False</td></tr>\n",
       "<tr><td>Python_version:</td>\n",
       "<td>3.11.5 final</td></tr></tbody>\n",
       "  </table>\n",
       "</div>\n"
      ],
      "text/plain": [
       "--------------------------  -----------------------------\n",
       "H2O_cluster_uptime:         7 mins 43 secs\n",
       "H2O_cluster_timezone:       America/Bogota\n",
       "H2O_data_parsing_timezone:  UTC\n",
       "H2O_cluster_version:        3.44.0.2\n",
       "H2O_cluster_version_age:    17 days\n",
       "H2O_cluster_name:           H2O_from_python_carlo_4i8o6c\n",
       "H2O_cluster_total_nodes:    1\n",
       "H2O_cluster_free_memory:    6.722 Gb\n",
       "H2O_cluster_total_cores:    12\n",
       "H2O_cluster_allowed_cores:  12\n",
       "H2O_cluster_status:         locked, healthy\n",
       "H2O_connection_url:         http://localhost:54321\n",
       "H2O_connection_proxy:       {\"http\": null, \"https\": null}\n",
       "H2O_internal_security:      False\n",
       "Python_version:             3.11.5 final\n",
       "--------------------------  -----------------------------"
      ]
     },
     "metadata": {},
     "output_type": "display_data"
    }
   ],
   "source": [
    "h2o.init()"
   ]
  },
  {
   "cell_type": "code",
   "execution_count": 19,
   "metadata": {},
   "outputs": [],
   "source": [
    "data_df = pd.read_csv(\"data2.csv\")"
   ]
  },
  {
   "cell_type": "code",
   "execution_count": 20,
   "metadata": {},
   "outputs": [],
   "source": [
    "X = data_df.drop('Churn', axis=1)\n",
    "y = data_df['Churn']\n"
   ]
  },
  {
   "cell_type": "code",
   "execution_count": 21,
   "metadata": {},
   "outputs": [
    {
     "data": {
      "text/html": [
       "<div>\n",
       "<style scoped>\n",
       "    .dataframe tbody tr th:only-of-type {\n",
       "        vertical-align: middle;\n",
       "    }\n",
       "\n",
       "    .dataframe tbody tr th {\n",
       "        vertical-align: top;\n",
       "    }\n",
       "\n",
       "    .dataframe thead th {\n",
       "        text-align: right;\n",
       "    }\n",
       "</style>\n",
       "<table border=\"1\" class=\"dataframe\">\n",
       "  <thead>\n",
       "    <tr style=\"text-align: right;\">\n",
       "      <th></th>\n",
       "      <th>c_International_plan</th>\n",
       "      <th>c_Voice_mail_plan</th>\n",
       "      <th>Number vmail messages</th>\n",
       "      <th>Total minutes</th>\n",
       "      <th>Total charge</th>\n",
       "      <th>Customer service calls</th>\n",
       "    </tr>\n",
       "  </thead>\n",
       "  <tbody>\n",
       "    <tr>\n",
       "      <th>0</th>\n",
       "      <td>0</td>\n",
       "      <td>1</td>\n",
       "      <td>25</td>\n",
       "      <td>717.2</td>\n",
       "      <td>75.56</td>\n",
       "      <td>1</td>\n",
       "    </tr>\n",
       "    <tr>\n",
       "      <th>1</th>\n",
       "      <td>0</td>\n",
       "      <td>1</td>\n",
       "      <td>26</td>\n",
       "      <td>625.2</td>\n",
       "      <td>59.24</td>\n",
       "      <td>1</td>\n",
       "    </tr>\n",
       "    <tr>\n",
       "      <th>2</th>\n",
       "      <td>0</td>\n",
       "      <td>0</td>\n",
       "      <td>0</td>\n",
       "      <td>539.4</td>\n",
       "      <td>62.29</td>\n",
       "      <td>0</td>\n",
       "    </tr>\n",
       "    <tr>\n",
       "      <th>3</th>\n",
       "      <td>1</td>\n",
       "      <td>0</td>\n",
       "      <td>0</td>\n",
       "      <td>564.8</td>\n",
       "      <td>66.80</td>\n",
       "      <td>2</td>\n",
       "    </tr>\n",
       "    <tr>\n",
       "      <th>4</th>\n",
       "      <td>1</td>\n",
       "      <td>0</td>\n",
       "      <td>0</td>\n",
       "      <td>512.0</td>\n",
       "      <td>52.09</td>\n",
       "      <td>3</td>\n",
       "    </tr>\n",
       "  </tbody>\n",
       "</table>\n",
       "</div>"
      ],
      "text/plain": [
       "   c_International_plan  c_Voice_mail_plan  Number vmail messages  \\\n",
       "0                     0                  1                     25   \n",
       "1                     0                  1                     26   \n",
       "2                     0                  0                      0   \n",
       "3                     1                  0                      0   \n",
       "4                     1                  0                      0   \n",
       "\n",
       "   Total minutes  Total charge  Customer service calls  \n",
       "0          717.2         75.56                       1  \n",
       "1          625.2         59.24                       1  \n",
       "2          539.4         62.29                       0  \n",
       "3          564.8         66.80                       2  \n",
       "4          512.0         52.09                       3  "
      ]
     },
     "execution_count": 21,
     "metadata": {},
     "output_type": "execute_result"
    }
   ],
   "source": [
    "X[0:5]"
   ]
  },
  {
   "cell_type": "code",
   "execution_count": 22,
   "metadata": {},
   "outputs": [],
   "source": [
    "X_train, X_test, y_train, y_test = train_test_split(X, y, test_size=0.2, random_state=42)"
   ]
  },
  {
   "cell_type": "code",
   "execution_count": 23,
   "metadata": {},
   "outputs": [],
   "source": [
    "smote = SMOTE(random_state=42)\n",
    "X_train_smote, y_train_smote = smote.fit_resample(X_train, y_train)"
   ]
  },
  {
   "cell_type": "code",
   "execution_count": 30,
   "metadata": {},
   "outputs": [],
   "source": [
    "train_df_smote = pd.DataFrame(X_train_smote, columns=X.columns)\n",
    "train_df_smote['Churn'] = y_train_smote"
   ]
  },
  {
   "cell_type": "code",
   "execution_count": 31,
   "metadata": {},
   "outputs": [
    {
     "name": "stdout",
     "output_type": "stream",
     "text": [
      "Parse progress: |████████████████████████████████████████████████████████████████| (done) 100%\n",
      "Parse progress: |████████████████████████████████████████████████████████████████| (done) 100%\n"
     ]
    }
   ],
   "source": [
    "train_h2o = h2o.H2OFrame(train_df_smote)\n",
    "test_h2o = h2o.H2OFrame(pd.concat([X_test, y_test], axis=1))"
   ]
  },
  {
   "cell_type": "code",
   "execution_count": 32,
   "metadata": {},
   "outputs": [
    {
     "data": {
      "text/plain": [
       "['c_International_plan',\n",
       " 'c_Voice_mail_plan',\n",
       " 'Number vmail messages',\n",
       " 'Total minutes',\n",
       " 'Total charge',\n",
       " 'Customer service calls',\n",
       " 'Churn']"
      ]
     },
     "execution_count": 32,
     "metadata": {},
     "output_type": "execute_result"
    }
   ],
   "source": [
    "train_h2o.columns"
   ]
  },
  {
   "cell_type": "code",
   "execution_count": 33,
   "metadata": {},
   "outputs": [],
   "source": [
    "predictors = train_h2o.columns[:-1]\n",
    "response_col = 'Churn'"
   ]
  },
  {
   "cell_type": "code",
   "execution_count": 34,
   "metadata": {},
   "outputs": [],
   "source": [
    "train_h2o[response_col] = train_h2o[response_col].asfactor()\n",
    "test_h2o[response_col] = test_h2o[response_col].asfactor()"
   ]
  },
  {
   "cell_type": "code",
   "execution_count": 38,
   "metadata": {},
   "outputs": [],
   "source": [
    "models = {\n",
    "    'GLM': H2OGeneralizedLinearEstimator(),\n",
    "    'Boosting': H2OGradientBoostingEstimator(),\n",
    "    'DeepLearning': H2ODeepLearningEstimator(),\n",
    "    'RandomForest': H2ORandomForestEstimator(),\n",
    "    #'AutoML': H2OAutoML(max_runtime_secs=3600, seed=1)\n",
    "}"
   ]
  },
  {
   "cell_type": "code",
   "execution_count": 39,
   "metadata": {},
   "outputs": [],
   "source": [
    "results = {'without_smote': {}, 'with_smote': {}}"
   ]
  },
  {
   "cell_type": "code",
   "execution_count": 40,
   "metadata": {},
   "outputs": [
    {
     "name": "stdout",
     "output_type": "stream",
     "text": [
      "glm Model Build progress: |██████████████████████████████████████████████████████| (done) 100%\n",
      "gbm Model Build progress: |██████████████████████████████████████████████████████| (done) 100%\n",
      "deeplearning Model Build progress: |█████████████████████████████████████████████| (done) 100%\n",
      "drf Model Build progress: |██████████████████████████████████████████████████████| (done) 100%\n"
     ]
    }
   ],
   "source": [
    "for name, model in models.items():\n",
    "    if name != 'AutoML':\n",
    "        model.train(x=predictors, y=response_col, training_frame=train_h2o)\n",
    "    else:\n",
    "        model.train(x=predictors, y=response_col, training_frame=test_h2o)\n",
    "    performance = model.model_performance(test_h2o)\n",
    "    results['without_smote'][name] = {\n",
    "        'ROC': performance.auc(),\n",
    "        'GINI': 2 * performance.auc() - 1\n",
    "    }"
   ]
  },
  {
   "cell_type": "code",
   "execution_count": 41,
   "metadata": {},
   "outputs": [
    {
     "name": "stdout",
     "output_type": "stream",
     "text": [
      "Parse progress: |████████████████████████████████████████████████████████████████| (done) 100%\n"
     ]
    },
    {
     "name": "stderr",
     "output_type": "stream",
     "text": [
      "c:\\Python\\Python311\\Lib\\site-packages\\h2o\\estimators\\estimator_base.py:192: RuntimeWarning: We have detected that your response column has only 2 unique values (0/1). If you wish to train a binary model instead of a regression model, convert your target column to categorical before training.\n",
      "  warnings.warn(mesg[\"message\"], RuntimeWarning)\n"
     ]
    },
    {
     "name": "stdout",
     "output_type": "stream",
     "text": [
      "glm Model Build progress: |██████████████████████████████████████████████████████| (done) 100%\n"
     ]
    },
    {
     "ename": "H2OResponseError",
     "evalue": "Server error java.lang.IllegalArgumentException:\n  Error: Test/Validation dataset has categorical column 'Churn' which is real-valued in the training data\n  Request: POST /3/ModelMetrics/models/GLM_model_python_1700939216330_8115/frames/py_7_sid_9ed5\n    data: {'auc_type': 'none'}\n",
     "output_type": "error",
     "traceback": [
      "\u001b[1;31m---------------------------------------------------------------------------\u001b[0m",
      "\u001b[1;31mH2OResponseError\u001b[0m                          Traceback (most recent call last)",
      "\u001b[1;32mc:\\Users\\carlo\\PYTHON CODIGOS\\GITHUB\\MDA\\ADVANCED-DATA-MINING\\Evaluaciones\\PC4\\4PC_PAJUELO_CARLOS.ipynb Celda 22\u001b[0m line \u001b[0;36m7\n\u001b[0;32m      <a href='vscode-notebook-cell:/c%3A/Users/carlo/PYTHON%20CODIGOS/GITHUB/MDA/ADVANCED-DATA-MINING/Evaluaciones/PC4/4PC_PAJUELO_CARLOS.ipynb#Y106sZmlsZQ%3D%3D?line=4'>5</a>\u001b[0m \u001b[39melse\u001b[39;00m:\n\u001b[0;32m      <a href='vscode-notebook-cell:/c%3A/Users/carlo/PYTHON%20CODIGOS/GITHUB/MDA/ADVANCED-DATA-MINING/Evaluaciones/PC4/4PC_PAJUELO_CARLOS.ipynb#Y106sZmlsZQ%3D%3D?line=5'>6</a>\u001b[0m     model\u001b[39m.\u001b[39mtrain(x\u001b[39m=\u001b[39mpredictors, y\u001b[39m=\u001b[39mresponse_col, training_frame\u001b[39m=\u001b[39mtrain_h2o_smote)\n\u001b[1;32m----> <a href='vscode-notebook-cell:/c%3A/Users/carlo/PYTHON%20CODIGOS/GITHUB/MDA/ADVANCED-DATA-MINING/Evaluaciones/PC4/4PC_PAJUELO_CARLOS.ipynb#Y106sZmlsZQ%3D%3D?line=6'>7</a>\u001b[0m performance \u001b[39m=\u001b[39m model\u001b[39m.\u001b[39;49mmodel_performance(test_h2o)\n\u001b[0;32m      <a href='vscode-notebook-cell:/c%3A/Users/carlo/PYTHON%20CODIGOS/GITHUB/MDA/ADVANCED-DATA-MINING/Evaluaciones/PC4/4PC_PAJUELO_CARLOS.ipynb#Y106sZmlsZQ%3D%3D?line=7'>8</a>\u001b[0m results[\u001b[39m'\u001b[39m\u001b[39mwith_smote\u001b[39m\u001b[39m'\u001b[39m][name] \u001b[39m=\u001b[39m {\n\u001b[0;32m      <a href='vscode-notebook-cell:/c%3A/Users/carlo/PYTHON%20CODIGOS/GITHUB/MDA/ADVANCED-DATA-MINING/Evaluaciones/PC4/4PC_PAJUELO_CARLOS.ipynb#Y106sZmlsZQ%3D%3D?line=8'>9</a>\u001b[0m     \u001b[39m'\u001b[39m\u001b[39mROC\u001b[39m\u001b[39m'\u001b[39m: performance\u001b[39m.\u001b[39mauc(),\n\u001b[0;32m     <a href='vscode-notebook-cell:/c%3A/Users/carlo/PYTHON%20CODIGOS/GITHUB/MDA/ADVANCED-DATA-MINING/Evaluaciones/PC4/4PC_PAJUELO_CARLOS.ipynb#Y106sZmlsZQ%3D%3D?line=9'>10</a>\u001b[0m     \u001b[39m'\u001b[39m\u001b[39mGINI\u001b[39m\u001b[39m'\u001b[39m: \u001b[39m2\u001b[39m \u001b[39m*\u001b[39m performance\u001b[39m.\u001b[39mauc() \u001b[39m-\u001b[39m \u001b[39m1\u001b[39m\n\u001b[0;32m     <a href='vscode-notebook-cell:/c%3A/Users/carlo/PYTHON%20CODIGOS/GITHUB/MDA/ADVANCED-DATA-MINING/Evaluaciones/PC4/4PC_PAJUELO_CARLOS.ipynb#Y106sZmlsZQ%3D%3D?line=10'>11</a>\u001b[0m }\n",
      "File \u001b[1;32mc:\\Python\\Python311\\Lib\\site-packages\\h2o\\model\\model_base.py:527\u001b[0m, in \u001b[0;36mModelBase.model_performance\u001b[1;34m(self, test_data, train, valid, xval, auc_type, auuc_type, custom_auuc_thresholds)\u001b[0m\n\u001b[0;32m    525\u001b[0m \u001b[39mif\u001b[39;00m auc_type \u001b[39mis\u001b[39;00m \u001b[39mnot\u001b[39;00m \u001b[39mNone\u001b[39;00m:\n\u001b[0;32m    526\u001b[0m     assert_is_type(auc_type, Enum(\u001b[39m\"\u001b[39m\u001b[39mauto\u001b[39m\u001b[39m\"\u001b[39m, \u001b[39m\"\u001b[39m\u001b[39mnone\u001b[39m\u001b[39m\"\u001b[39m, \u001b[39m\"\u001b[39m\u001b[39mmacro_ovr\u001b[39m\u001b[39m\"\u001b[39m, \u001b[39m\"\u001b[39m\u001b[39mweighted_ovr\u001b[39m\u001b[39m\"\u001b[39m, \u001b[39m\"\u001b[39m\u001b[39mmacro_ovo\u001b[39m\u001b[39m\"\u001b[39m, \u001b[39m\"\u001b[39m\u001b[39mweighted_ovo\u001b[39m\u001b[39m\"\u001b[39m))\n\u001b[1;32m--> 527\u001b[0m     res \u001b[39m=\u001b[39m h2o\u001b[39m.\u001b[39;49mapi(\u001b[39m\"\u001b[39;49m\u001b[39mPOST /3/ModelMetrics/models/\u001b[39;49m\u001b[39m%s\u001b[39;49;00m\u001b[39m/frames/\u001b[39;49m\u001b[39m%s\u001b[39;49;00m\u001b[39m\"\u001b[39;49m \u001b[39m%\u001b[39;49m (\u001b[39mself\u001b[39;49m\u001b[39m.\u001b[39;49mmodel_id, test_data\u001b[39m.\u001b[39;49mframe_id), \n\u001b[0;32m    528\u001b[0m                   data\u001b[39m=\u001b[39;49m{\u001b[39m\"\u001b[39;49m\u001b[39mauc_type\u001b[39;49m\u001b[39m\"\u001b[39;49m: auc_type})\n\u001b[0;32m    529\u001b[0m \u001b[39melif\u001b[39;00m auuc_type \u001b[39mis\u001b[39;00m \u001b[39mnot\u001b[39;00m \u001b[39mNone\u001b[39;00m:\n\u001b[0;32m    530\u001b[0m     assert_is_type(auuc_type, Enum(\u001b[39m\"\u001b[39m\u001b[39mAUTO\u001b[39m\u001b[39m\"\u001b[39m, \u001b[39m\"\u001b[39m\u001b[39mqini\u001b[39m\u001b[39m\"\u001b[39m, \u001b[39m\"\u001b[39m\u001b[39mgain\u001b[39m\u001b[39m\"\u001b[39m, \u001b[39m\"\u001b[39m\u001b[39mlift\u001b[39m\u001b[39m\"\u001b[39m))\n",
      "File \u001b[1;32mc:\\Python\\Python311\\Lib\\site-packages\\h2o\\h2o.py:122\u001b[0m, in \u001b[0;36mapi\u001b[1;34m(endpoint, data, json, filename, save_to)\u001b[0m\n\u001b[0;32m    120\u001b[0m \u001b[39m# type checks are performed in H2OConnection class\u001b[39;00m\n\u001b[0;32m    121\u001b[0m _check_connection()\n\u001b[1;32m--> 122\u001b[0m \u001b[39mreturn\u001b[39;00m h2oconn\u001b[39m.\u001b[39;49mrequest(endpoint, data\u001b[39m=\u001b[39;49mdata, json\u001b[39m=\u001b[39;49mjson, filename\u001b[39m=\u001b[39;49mfilename, save_to\u001b[39m=\u001b[39;49msave_to)\n",
      "File \u001b[1;32mc:\\Python\\Python311\\Lib\\site-packages\\h2o\\backend\\connection.py:499\u001b[0m, in \u001b[0;36mH2OConnection.request\u001b[1;34m(self, endpoint, data, json, filename, save_to)\u001b[0m\n\u001b[0;32m    497\u001b[0m         save_to \u001b[39m=\u001b[39m save_to(resp)\n\u001b[0;32m    498\u001b[0m     \u001b[39mself\u001b[39m\u001b[39m.\u001b[39m_log_end_transaction(start_time, resp)\n\u001b[1;32m--> 499\u001b[0m     \u001b[39mreturn\u001b[39;00m \u001b[39mself\u001b[39;49m\u001b[39m.\u001b[39;49m_process_response(resp, save_to)\n\u001b[0;32m    501\u001b[0m \u001b[39mexcept\u001b[39;00m (requests\u001b[39m.\u001b[39mexceptions\u001b[39m.\u001b[39mConnectionError, requests\u001b[39m.\u001b[39mexceptions\u001b[39m.\u001b[39mHTTPError) \u001b[39mas\u001b[39;00m e:\n\u001b[0;32m    502\u001b[0m     \u001b[39mif\u001b[39;00m \u001b[39mself\u001b[39m\u001b[39m.\u001b[39m_local_server \u001b[39mand\u001b[39;00m \u001b[39mnot\u001b[39;00m \u001b[39mself\u001b[39m\u001b[39m.\u001b[39m_local_server\u001b[39m.\u001b[39mis_running():\n",
      "File \u001b[1;32mc:\\Python\\Python311\\Lib\\site-packages\\h2o\\backend\\connection.py:853\u001b[0m, in \u001b[0;36mH2OConnection._process_response\u001b[1;34m(response, save_to)\u001b[0m\n\u001b[0;32m    851\u001b[0m \u001b[39mif\u001b[39;00m status_code \u001b[39min\u001b[39;00m {\u001b[39m400\u001b[39m, \u001b[39m404\u001b[39m, \u001b[39m412\u001b[39m} \u001b[39mand\u001b[39;00m \u001b[39misinstance\u001b[39m(data, H2OErrorV3):\n\u001b[0;32m    852\u001b[0m     data\u001b[39m.\u001b[39mshow_stacktrace \u001b[39m=\u001b[39m \u001b[39mFalse\u001b[39;00m\n\u001b[1;32m--> 853\u001b[0m     \u001b[39mraise\u001b[39;00m H2OResponseError(data)\n\u001b[0;32m    855\u001b[0m \u001b[39m# Server errors (notably 500 = \"Server Error\")\u001b[39;00m\n\u001b[0;32m    856\u001b[0m \u001b[39m# Note that it is possible to receive valid H2OErrorV3 object in this case, however it merely means the server\u001b[39;00m\n\u001b[0;32m    857\u001b[0m \u001b[39m# did not provide the correct status code.\u001b[39;00m\n\u001b[0;32m    858\u001b[0m \u001b[39mraise\u001b[39;00m H2OServerError(\u001b[39m\"\u001b[39m\u001b[39mHTTP \u001b[39m\u001b[39m%d\u001b[39;00m\u001b[39m \u001b[39m\u001b[39m%s\u001b[39;00m\u001b[39m:\u001b[39m\u001b[39m\\n\u001b[39;00m\u001b[39m%s\u001b[39;00m\u001b[39m\"\u001b[39m \u001b[39m%\u001b[39m (status_code, response\u001b[39m.\u001b[39mreason, data))\n",
      "\u001b[1;31mH2OResponseError\u001b[0m: Server error java.lang.IllegalArgumentException:\n  Error: Test/Validation dataset has categorical column 'Churn' which is real-valued in the training data\n  Request: POST /3/ModelMetrics/models/GLM_model_python_1700939216330_8115/frames/py_7_sid_9ed5\n    data: {'auc_type': 'none'}\n"
     ]
    }
   ],
   "source": [
    "train_h2o_smote = h2o.H2OFrame(train_df_smote)\n",
    "for name, model in models.items():\n",
    "    if name != 'AutoML':\n",
    "        model.train(x=predictors, y=response_col, training_frame=train_h2o_smote)\n",
    "    else:\n",
    "        model.train(x=predictors, y=response_col, training_frame=train_h2o_smote)\n",
    "    performance = model.model_performance(test_h2o)\n",
    "    results['with_smote'][name] = {\n",
    "        'ROC': performance.auc(),\n",
    "        'GINI': 2 * performance.auc() - 1\n",
    "    }"
   ]
  },
  {
   "cell_type": "code",
   "execution_count": 43,
   "metadata": {},
   "outputs": [
    {
     "name": "stdout",
     "output_type": "stream",
     "text": [
      "Checking whether there is an H2O instance running at http://localhost:54321."
     ]
    },
    {
     "name": "stdout",
     "output_type": "stream",
     "text": [
      " connected.\n"
     ]
    },
    {
     "data": {
      "text/html": [
       "\n",
       "<style>\n",
       "\n",
       "#h2o-table-4.h2o-container {\n",
       "  overflow-x: auto;\n",
       "}\n",
       "#h2o-table-4 .h2o-table {\n",
       "  /* width: 100%; */\n",
       "  margin-top: 1em;\n",
       "  margin-bottom: 1em;\n",
       "}\n",
       "#h2o-table-4 .h2o-table caption {\n",
       "  white-space: nowrap;\n",
       "  caption-side: top;\n",
       "  text-align: left;\n",
       "  /* margin-left: 1em; */\n",
       "  margin: 0;\n",
       "  font-size: larger;\n",
       "}\n",
       "#h2o-table-4 .h2o-table thead {\n",
       "  white-space: nowrap; \n",
       "  position: sticky;\n",
       "  top: 0;\n",
       "  box-shadow: 0 -1px inset;\n",
       "}\n",
       "#h2o-table-4 .h2o-table tbody {\n",
       "  overflow: auto;\n",
       "}\n",
       "#h2o-table-4 .h2o-table th,\n",
       "#h2o-table-4 .h2o-table td {\n",
       "  text-align: right;\n",
       "  /* border: 1px solid; */\n",
       "}\n",
       "#h2o-table-4 .h2o-table tr:nth-child(even) {\n",
       "  /* background: #F5F5F5 */\n",
       "}\n",
       "\n",
       "</style>      \n",
       "<div id=\"h2o-table-4\" class=\"h2o-container\">\n",
       "  <table class=\"h2o-table\">\n",
       "    <caption></caption>\n",
       "    <thead></thead>\n",
       "    <tbody><tr><td>H2O_cluster_uptime:</td>\n",
       "<td>26 mins 35 secs</td></tr>\n",
       "<tr><td>H2O_cluster_timezone:</td>\n",
       "<td>America/Bogota</td></tr>\n",
       "<tr><td>H2O_data_parsing_timezone:</td>\n",
       "<td>UTC</td></tr>\n",
       "<tr><td>H2O_cluster_version:</td>\n",
       "<td>3.44.0.2</td></tr>\n",
       "<tr><td>H2O_cluster_version_age:</td>\n",
       "<td>17 days</td></tr>\n",
       "<tr><td>H2O_cluster_name:</td>\n",
       "<td>H2O_from_python_carlo_4i8o6c</td></tr>\n",
       "<tr><td>H2O_cluster_total_nodes:</td>\n",
       "<td>1</td></tr>\n",
       "<tr><td>H2O_cluster_free_memory:</td>\n",
       "<td>6.657 Gb</td></tr>\n",
       "<tr><td>H2O_cluster_total_cores:</td>\n",
       "<td>12</td></tr>\n",
       "<tr><td>H2O_cluster_allowed_cores:</td>\n",
       "<td>12</td></tr>\n",
       "<tr><td>H2O_cluster_status:</td>\n",
       "<td>locked, healthy</td></tr>\n",
       "<tr><td>H2O_connection_url:</td>\n",
       "<td>http://localhost:54321</td></tr>\n",
       "<tr><td>H2O_connection_proxy:</td>\n",
       "<td>{\"http\": null, \"https\": null}</td></tr>\n",
       "<tr><td>H2O_internal_security:</td>\n",
       "<td>False</td></tr>\n",
       "<tr><td>Python_version:</td>\n",
       "<td>3.11.5 final</td></tr></tbody>\n",
       "  </table>\n",
       "</div>\n"
      ],
      "text/plain": [
       "--------------------------  -----------------------------\n",
       "H2O_cluster_uptime:         26 mins 35 secs\n",
       "H2O_cluster_timezone:       America/Bogota\n",
       "H2O_data_parsing_timezone:  UTC\n",
       "H2O_cluster_version:        3.44.0.2\n",
       "H2O_cluster_version_age:    17 days\n",
       "H2O_cluster_name:           H2O_from_python_carlo_4i8o6c\n",
       "H2O_cluster_total_nodes:    1\n",
       "H2O_cluster_free_memory:    6.657 Gb\n",
       "H2O_cluster_total_cores:    12\n",
       "H2O_cluster_allowed_cores:  12\n",
       "H2O_cluster_status:         locked, healthy\n",
       "H2O_connection_url:         http://localhost:54321\n",
       "H2O_connection_proxy:       {\"http\": null, \"https\": null}\n",
       "H2O_internal_security:      False\n",
       "Python_version:             3.11.5 final\n",
       "--------------------------  -----------------------------"
      ]
     },
     "metadata": {},
     "output_type": "display_data"
    },
    {
     "name": "stdout",
     "output_type": "stream",
     "text": [
      "Parse progress: |████████████████████████████████████████████████████████████████| (done) 100%\n",
      "Parse progress: |████████████████████████████████████████████████████████████████| (done) 100%\n",
      "Parse progress: |████████████████████████████████████████████████████████████████| (done) 100%\n",
      "glm Model Build progress: |██████████████████████████████████████████████████████| (done) 100%\n"
     ]
    },
    {
     "ename": "ValueError",
     "evalue": "not enough values to unpack (expected 3, got 2)",
     "output_type": "error",
     "traceback": [
      "\u001b[1;31m---------------------------------------------------------------------------\u001b[0m",
      "\u001b[1;31mValueError\u001b[0m                                Traceback (most recent call last)",
      "\u001b[1;32mc:\\Users\\carlo\\PYTHON CODIGOS\\GITHUB\\MDA\\ADVANCED-DATA-MINING\\Evaluaciones\\PC4\\4PC_PAJUELO_CARLOS.ipynb Celda 23\u001b[0m line \u001b[0;36m6\n\u001b[0;32m     <a href='vscode-notebook-cell:/c%3A/Users/carlo/PYTHON%20CODIGOS/GITHUB/MDA/ADVANCED-DATA-MINING/Evaluaciones/PC4/4PC_PAJUELO_CARLOS.ipynb#Y111sZmlsZQ%3D%3D?line=60'>61</a>\u001b[0m \u001b[39m# Obtener las métricas de la curva ROC\u001b[39;00m\n\u001b[0;32m     <a href='vscode-notebook-cell:/c%3A/Users/carlo/PYTHON%20CODIGOS/GITHUB/MDA/ADVANCED-DATA-MINING/Evaluaciones/PC4/4PC_PAJUELO_CARLOS.ipynb#Y111sZmlsZQ%3D%3D?line=61'>62</a>\u001b[0m roc_auc \u001b[39m=\u001b[39m performance\u001b[39m.\u001b[39mauc()\n\u001b[1;32m---> <a href='vscode-notebook-cell:/c%3A/Users/carlo/PYTHON%20CODIGOS/GITHUB/MDA/ADVANCED-DATA-MINING/Evaluaciones/PC4/4PC_PAJUELO_CARLOS.ipynb#Y111sZmlsZQ%3D%3D?line=62'>63</a>\u001b[0m fpr, tpr, thresholds \u001b[39m=\u001b[39m performance\u001b[39m.\u001b[39mroc()\n\u001b[0;32m     <a href='vscode-notebook-cell:/c%3A/Users/carlo/PYTHON%20CODIGOS/GITHUB/MDA/ADVANCED-DATA-MINING/Evaluaciones/PC4/4PC_PAJUELO_CARLOS.ipynb#Y111sZmlsZQ%3D%3D?line=64'>65</a>\u001b[0m \u001b[39m# Guardar las métricas de la curva ROC para la graficación\u001b[39;00m\n\u001b[0;32m     <a href='vscode-notebook-cell:/c%3A/Users/carlo/PYTHON%20CODIGOS/GITHUB/MDA/ADVANCED-DATA-MINING/Evaluaciones/PC4/4PC_PAJUELO_CARLOS.ipynb#Y111sZmlsZQ%3D%3D?line=65'>66</a>\u001b[0m roc_curves[\u001b[39mf\u001b[39m\u001b[39m\"\u001b[39m\u001b[39m{\u001b[39;00mname\u001b[39m}\u001b[39;00m\u001b[39m_\u001b[39m\u001b[39m{\u001b[39;00msmote_label\u001b[39m}\u001b[39;00m\u001b[39m\"\u001b[39m] \u001b[39m=\u001b[39m (fpr, tpr, roc_auc)\n",
      "\u001b[1;31mValueError\u001b[0m: not enough values to unpack (expected 3, got 2)"
     ]
    }
   ],
   "source": [
    "import h2o\n",
    "import pandas as pd\n",
    "from h2o.automl import H2OAutoML\n",
    "from h2o.estimators import H2OGeneralizedLinearEstimator, H2OGradientBoostingEstimator, H2ORandomForestEstimator, H2ODeepLearningEstimator\n",
    "from sklearn.model_selection import train_test_split\n",
    "from imblearn.over_sampling import SMOTE\n",
    "import matplotlib.pyplot as plt\n",
    "\n",
    "# Inicializar H2O\n",
    "h2o.init(max_mem_size=\"8G\")\n",
    "\n",
    "# Cargar los datos\n",
    "data_df = pd.read_csv(\"data2.csv\")\n",
    "\n",
    "# Dividir los datos en conjuntos de entrenamiento y prueba\n",
    "X = data_df.drop('Churn', axis=1)\n",
    "y = data_df['Churn']\n",
    "X_train, X_test, y_train, y_test = train_test_split(X, y, test_size=0.2, random_state=42)\n",
    "\n",
    "# Aplicar SMOTE al conjunto de entrenamiento\n",
    "smote = SMOTE(random_state=42)\n",
    "X_train_smote, y_train_smote = smote.fit_resample(X_train, y_train)\n",
    "\n",
    "# Convertir los conjuntos de datos a H2OFrames\n",
    "train_h2o = h2o.H2OFrame(pd.concat([X_train, y_train], axis=1))\n",
    "test_h2o = h2o.H2OFrame(pd.concat([X_test, y_test], axis=1))\n",
    "train_h2o_smote = h2o.H2OFrame(pd.concat([X_train_smote, y_train_smote], axis=1))\n",
    "\n",
    "# Asegurar que la columna de respuesta es un factor\n",
    "train_h2o['Churn'] = train_h2o['Churn'].asfactor()\n",
    "test_h2o['Churn'] = test_h2o['Churn'].asfactor()\n",
    "train_h2o_smote['Churn'] = train_h2o_smote['Churn'].asfactor()\n",
    "\n",
    "# Definir los predictores y la columna de respuesta\n",
    "predictors = train_h2o.columns[:-1]\n",
    "response_col = 'Churn'\n",
    "\n",
    "# Definir y entrenar los modelos\n",
    "models = {\n",
    "    'GLM': H2OGeneralizedLinearEstimator(),\n",
    "    'Boosting': H2OGradientBoostingEstimator(),\n",
    "    'DeepLearning': H2ODeepLearningEstimator(),\n",
    "    'RandomForest': H2ORandomForestEstimator(),\n",
    "    #'AutoML': H2OAutoML(max_runtime_secs=3600, seed=1)\n",
    "}\n",
    "\n",
    "# Entrenar y evaluar modelos\n",
    "roc_curves = {}\n",
    "\n",
    "for smote_used in [False, True]:\n",
    "    dataset = train_h2o_smote if smote_used else train_h2o\n",
    "    smote_label = \"smote\" if smote_used else \"without_smote\"\n",
    "    \n",
    "    for name, model in models.items():\n",
    "        # Entrenar modelo\n",
    "        model.train(x=predictors, y=response_col, training_frame=dataset)\n",
    "        \n",
    "        # Obtener rendimiento del modelo en el conjunto de prueba\n",
    "        performance = model.model_performance(test_h2o)\n",
    "        \n",
    "        # Obtener las métricas de la curva ROC\n",
    "        roc_auc = performance.auc()\n",
    "        fpr, tpr, thresholds = performance.roc()\n",
    "        \n",
    "        # Guardar las métricas de la curva ROC para la graficación\n",
    "        roc_curves[f\"{name}_{smote_label}\"] = (fpr, tpr, roc_auc)\n",
    "\n",
    "# Graficar las curvas ROC\n",
    "plt.figure(figsize=(10, 8))\n",
    "\n",
    "for name, (fpr, tpr, roc_auc) in roc_curves.items():\n",
    "    plt.plot(fpr, tpr, label=f'{name} AUC = {roc_auc:.2f}')\n",
    "\n",
    "plt.plot([0, 1], [0, 1], 'k--', label='Random chance')\n",
    "plt.xlim([0.0, 1.0])\n",
    "plt.ylim([0.0, 1.05])\n",
    "plt.xlabel('False Positive Rate')\n",
    "plt.ylabel('True Positive Rate')\n",
    "plt.title('Receiver Operating Characteristic')\n",
    "plt.legend(loc='lower right')\n",
    "\n",
    "# Guardar la figura\n",
    "plt.savefig('/mnt/data/roc_curves_combined.png')\n",
    "\n",
    "plt.show()"
   ]
  },
  {
   "cell_type": "code",
   "execution_count": 44,
   "metadata": {},
   "outputs": [
    {
     "name": "stdout",
     "output_type": "stream",
     "text": [
      "Checking whether there is an H2O instance running at http://localhost:54321. connected.\n"
     ]
    },
    {
     "data": {
      "text/html": [
       "\n",
       "<style>\n",
       "\n",
       "#h2o-table-5.h2o-container {\n",
       "  overflow-x: auto;\n",
       "}\n",
       "#h2o-table-5 .h2o-table {\n",
       "  /* width: 100%; */\n",
       "  margin-top: 1em;\n",
       "  margin-bottom: 1em;\n",
       "}\n",
       "#h2o-table-5 .h2o-table caption {\n",
       "  white-space: nowrap;\n",
       "  caption-side: top;\n",
       "  text-align: left;\n",
       "  /* margin-left: 1em; */\n",
       "  margin: 0;\n",
       "  font-size: larger;\n",
       "}\n",
       "#h2o-table-5 .h2o-table thead {\n",
       "  white-space: nowrap; \n",
       "  position: sticky;\n",
       "  top: 0;\n",
       "  box-shadow: 0 -1px inset;\n",
       "}\n",
       "#h2o-table-5 .h2o-table tbody {\n",
       "  overflow: auto;\n",
       "}\n",
       "#h2o-table-5 .h2o-table th,\n",
       "#h2o-table-5 .h2o-table td {\n",
       "  text-align: right;\n",
       "  /* border: 1px solid; */\n",
       "}\n",
       "#h2o-table-5 .h2o-table tr:nth-child(even) {\n",
       "  /* background: #F5F5F5 */\n",
       "}\n",
       "\n",
       "</style>      \n",
       "<div id=\"h2o-table-5\" class=\"h2o-container\">\n",
       "  <table class=\"h2o-table\">\n",
       "    <caption></caption>\n",
       "    <thead></thead>\n",
       "    <tbody><tr><td>H2O_cluster_uptime:</td>\n",
       "<td>30 mins 31 secs</td></tr>\n",
       "<tr><td>H2O_cluster_timezone:</td>\n",
       "<td>America/Bogota</td></tr>\n",
       "<tr><td>H2O_data_parsing_timezone:</td>\n",
       "<td>UTC</td></tr>\n",
       "<tr><td>H2O_cluster_version:</td>\n",
       "<td>3.44.0.2</td></tr>\n",
       "<tr><td>H2O_cluster_version_age:</td>\n",
       "<td>17 days</td></tr>\n",
       "<tr><td>H2O_cluster_name:</td>\n",
       "<td>H2O_from_python_carlo_4i8o6c</td></tr>\n",
       "<tr><td>H2O_cluster_total_nodes:</td>\n",
       "<td>1</td></tr>\n",
       "<tr><td>H2O_cluster_free_memory:</td>\n",
       "<td>6.657 Gb</td></tr>\n",
       "<tr><td>H2O_cluster_total_cores:</td>\n",
       "<td>12</td></tr>\n",
       "<tr><td>H2O_cluster_allowed_cores:</td>\n",
       "<td>12</td></tr>\n",
       "<tr><td>H2O_cluster_status:</td>\n",
       "<td>locked, healthy</td></tr>\n",
       "<tr><td>H2O_connection_url:</td>\n",
       "<td>http://localhost:54321</td></tr>\n",
       "<tr><td>H2O_connection_proxy:</td>\n",
       "<td>{\"http\": null, \"https\": null}</td></tr>\n",
       "<tr><td>H2O_internal_security:</td>\n",
       "<td>False</td></tr>\n",
       "<tr><td>Python_version:</td>\n",
       "<td>3.11.5 final</td></tr></tbody>\n",
       "  </table>\n",
       "</div>\n"
      ],
      "text/plain": [
       "--------------------------  -----------------------------\n",
       "H2O_cluster_uptime:         30 mins 31 secs\n",
       "H2O_cluster_timezone:       America/Bogota\n",
       "H2O_data_parsing_timezone:  UTC\n",
       "H2O_cluster_version:        3.44.0.2\n",
       "H2O_cluster_version_age:    17 days\n",
       "H2O_cluster_name:           H2O_from_python_carlo_4i8o6c\n",
       "H2O_cluster_total_nodes:    1\n",
       "H2O_cluster_free_memory:    6.657 Gb\n",
       "H2O_cluster_total_cores:    12\n",
       "H2O_cluster_allowed_cores:  12\n",
       "H2O_cluster_status:         locked, healthy\n",
       "H2O_connection_url:         http://localhost:54321\n",
       "H2O_connection_proxy:       {\"http\": null, \"https\": null}\n",
       "H2O_internal_security:      False\n",
       "Python_version:             3.11.5 final\n",
       "--------------------------  -----------------------------"
      ]
     },
     "metadata": {},
     "output_type": "display_data"
    }
   ],
   "source": [
    "import h2o\n",
    "import pandas as pd\n",
    "from h2o.automl import H2OAutoML\n",
    "from h2o.estimators import H2OGeneralizedLinearEstimator, H2OGradientBoostingEstimator, H2ORandomForestEstimator, H2ODeepLearningEstimator\n",
    "from sklearn.model_selection import train_test_split\n",
    "from imblearn.over_sampling import SMOTE\n",
    "import matplotlib.pyplot as plt\n",
    "\n",
    "# Inicializar H2O\n",
    "h2o.init(max_mem_size=\"8G\")\n",
    "\n",
    "# Cargar los datos\n",
    "data_df = pd.read_csv(\"data2.csv\")"
   ]
  },
  {
   "cell_type": "code",
   "execution_count": 47,
   "metadata": {},
   "outputs": [
    {
     "name": "stdout",
     "output_type": "stream",
     "text": [
      "Parse progress: |████████████████████████████████████████████████████████████████| (done) 100%\n",
      "Parse progress: |████████████████████████████████████████████████████████████████| (done) 100%\n",
      "Parse progress: |████████████████████████████████████████████████████████████████| (done) 100%\n"
     ]
    }
   ],
   "source": [
    "# Dividir los datos en conjuntos de entrenamiento y prueba\n",
    "X = data_df.drop('Churn', axis=1)\n",
    "y = data_df['Churn']\n",
    "X_train, X_test, y_train, y_test = train_test_split(X, y, test_size=0.2, random_state=42)\n",
    "\n",
    "# Aplicar SMOTE al conjunto de entrenamiento\n",
    "smote = SMOTE(random_state=42)\n",
    "X_train_smote, y_train_smote = smote.fit_resample(X_train, y_train)\n",
    "\n",
    "# Convertir los conjuntos de datos a H2OFrames\n",
    "train_h2o = h2o.H2OFrame(pd.concat([X_train, y_train], axis=1))\n",
    "test_h2o = h2o.H2OFrame(pd.concat([X_test, y_test], axis=1))\n",
    "train_h2o_smote = h2o.H2OFrame(pd.concat([X_train_smote, y_train_smote], axis=1))\n",
    "\n",
    "# Asegurar que la columna de respuesta es un factor\n",
    "train_h2o['Churn'] = train_h2o['Churn'].asfactor()\n",
    "test_h2o['Churn'] = test_h2o['Churn'].asfactor()\n",
    "train_h2o_smote['Churn'] = train_h2o_smote['Churn'].asfactor()\n"
   ]
  },
  {
   "cell_type": "code",
   "execution_count": 48,
   "metadata": {},
   "outputs": [],
   "source": [
    "# Definir los predictores y la columna de respuesta\n",
    "predictors = train_h2o.columns[:-1]\n",
    "response_col = 'Churn'\n",
    "\n",
    "# Definir y entrenar los modelos\n",
    "models = {\n",
    "    'GLM': H2OGeneralizedLinearEstimator(),\n",
    "    'Boosting': H2OGradientBoostingEstimator(),\n",
    "    'DeepLearning': H2ODeepLearningEstimator(),\n",
    "    'RandomForest': H2ORandomForestEstimator(),\n",
    "    #'AutoML': H2OAutoML(max_runtime_secs=3600, seed=1)\n",
    "}\n",
    "\n"
   ]
  },
  {
   "cell_type": "code",
   "execution_count": 49,
   "metadata": {},
   "outputs": [],
   "source": [
    "# Entrenar y evaluar modelos\n",
    "roc_curves = {}"
   ]
  },
  {
   "cell_type": "code",
   "execution_count": 50,
   "metadata": {},
   "outputs": [
    {
     "name": "stdout",
     "output_type": "stream",
     "text": [
      "glm Model Build progress: |██████████████████████████████████████████████████████| (done) 100%\n",
      "gbm Model Build progress: |██████████████████████████████████████████████████████| (done) 100%\n",
      "deeplearning Model Build progress: |█████████████████████████████████████████████| (done) 100%\n",
      "drf Model Build progress: |██████████████████████████████████████████████████████| (done) 100%\n",
      "glm Model Build progress: |██████████████████████████████████████████████████████| (done) 100%\n",
      "gbm Model Build progress: |██████████████████████████████████████████████████████| (done) 100%\n",
      "deeplearning Model Build progress: |█████████████████████████████████████████████| (done) 100%\n",
      "drf Model Build progress: |██████████████████████████████████████████████████████| (done) 100%\n"
     ]
    }
   ],
   "source": [
    "for smote_used in [False, True]:\n",
    "    dataset = train_h2o_smote if smote_used else train_h2o\n",
    "    smote_label = \"smote\" if smote_used else \"without_smote\"\n",
    "    \n",
    "    for name, model in models.items():\n",
    "        # Entrenar modelo\n",
    "        model.train(x=predictors, y=response_col, training_frame=dataset)\n",
    "        \n",
    "        # Obtener rendimiento del modelo en el conjunto de prueba\n",
    "        performance = model.model_performance(test_h2o)\n",
    "        \n",
    "        # Obtener las métricas de la curva ROC\n",
    "        roc_auc = performance.auc()\n",
    "        fpr, tpr = performance.roc()  # Corregido aquí: solo desempaquetar fpr y tpr\n",
    "        \n",
    "        # Guardar las métricas de la curva ROC para la graficación\n",
    "        roc_curves[f\"{name}_{smote_label}\"] = (fpr, tpr, roc_auc)"
   ]
  },
  {
   "cell_type": "code",
   "execution_count": 53,
   "metadata": {},
   "outputs": [
    {
     "data": {
      "image/png": "[encoded data removed]",
      "text/plain": [
       "<Figure size 1000x800 with 1 Axes>"
      ]
     },
     "metadata": {},
     "output_type": "display_data"
    }
   ],
   "source": [
    "# Graficar las curvas ROC\n",
    "plt.figure(figsize=(10, 8))\n",
    "\n",
    "for name, (fpr, tpr, roc_auc) in roc_curves.items():\n",
    "    plt.plot(fpr, tpr, label=f'{name} AUC = {roc_auc:.2f}')\n",
    "\n",
    "#plt.plot([0, 1], [0, 1], 'k--', label='Random chance')\n",
    "plt.xlim([0.0, 1.0])\n",
    "plt.ylim([0.0, 1.05])\n",
    "plt.xlabel('False Positive Rate')\n",
    "plt.ylabel('True Positive Rate')\n",
    "plt.title('Receiver Operating Characteristic')\n",
    "plt.legend(loc='lower right')\n",
    "\n",
    "\n",
    "plt.show()"
   ]
  },
  {
   "cell_type": "markdown",
   "metadata": {},
   "source": [
    "# PARTE 2"
   ]
  },
  {
   "cell_type": "code",
   "execution_count": 54,
   "metadata": {},
   "outputs": [
    {
     "name": "stdout",
     "output_type": "stream",
     "text": [
      "Parse progress: |████████████████████████████████████████████████████████████████| (done) 100%\n"
     ]
    }
   ],
   "source": [
    "# Carga de datos en el cluster H2O\n",
    "data_h2o = h2o.import_file(\n",
    "                path   = \"Churn Modeling.csv\",\n",
    "                header = 1,\n",
    "                sep    = \",\",\n",
    "                destination_frame = \"datos_h2o\"\n",
    "            )"
   ]
  },
  {
   "cell_type": "code",
   "execution_count": 55,
   "metadata": {},
   "outputs": [
    {
     "data": {
      "text/html": [
       "<table class='dataframe'>\n",
       "<thead>\n",
       "<tr><th style=\"text-align: right;\">  RowNumber</th><th style=\"text-align: right;\">  CustomerId</th><th>Surname  </th><th style=\"text-align: right;\">  CreditScore</th><th>Geography  </th><th>Gender  </th><th style=\"text-align: right;\">  Age</th><th style=\"text-align: right;\">  Tenure</th><th style=\"text-align: right;\">  Balance</th><th style=\"text-align: right;\">  NumOfProducts</th><th style=\"text-align: right;\">  HasCrCard</th><th style=\"text-align: right;\">  IsActiveMember</th><th style=\"text-align: right;\">  EstimatedSalary</th><th style=\"text-align: right;\">  Exited</th></tr>\n",
       "</thead>\n",
       "<tbody>\n",
       "<tr><td style=\"text-align: right;\">          1</td><td style=\"text-align: right;\"> 1.56346e+07</td><td>Hargrave </td><td style=\"text-align: right;\">          619</td><td>France     </td><td>Female  </td><td style=\"text-align: right;\">   42</td><td style=\"text-align: right;\">       2</td><td style=\"text-align: right;\">      0  </td><td style=\"text-align: right;\">              1</td><td style=\"text-align: right;\">          1</td><td style=\"text-align: right;\">               1</td><td style=\"text-align: right;\">         101349  </td><td style=\"text-align: right;\">       1</td></tr>\n",
       "<tr><td style=\"text-align: right;\">          2</td><td style=\"text-align: right;\"> 1.56473e+07</td><td>Hill     </td><td style=\"text-align: right;\">          608</td><td>Spain      </td><td>Female  </td><td style=\"text-align: right;\">   41</td><td style=\"text-align: right;\">       1</td><td style=\"text-align: right;\">  83807.9</td><td style=\"text-align: right;\">              1</td><td style=\"text-align: right;\">          0</td><td style=\"text-align: right;\">               1</td><td style=\"text-align: right;\">         112543  </td><td style=\"text-align: right;\">       0</td></tr>\n",
       "<tr><td style=\"text-align: right;\">          3</td><td style=\"text-align: right;\"> 1.56193e+07</td><td>Onio     </td><td style=\"text-align: right;\">          502</td><td>France     </td><td>Female  </td><td style=\"text-align: right;\">   42</td><td style=\"text-align: right;\">       8</td><td style=\"text-align: right;\"> 159661  </td><td style=\"text-align: right;\">              3</td><td style=\"text-align: right;\">          1</td><td style=\"text-align: right;\">               0</td><td style=\"text-align: right;\">         113932  </td><td style=\"text-align: right;\">       1</td></tr>\n",
       "<tr><td style=\"text-align: right;\">          4</td><td style=\"text-align: right;\"> 1.57014e+07</td><td>Boni     </td><td style=\"text-align: right;\">          699</td><td>France     </td><td>Female  </td><td style=\"text-align: right;\">   39</td><td style=\"text-align: right;\">       1</td><td style=\"text-align: right;\">      0  </td><td style=\"text-align: right;\">              2</td><td style=\"text-align: right;\">          0</td><td style=\"text-align: right;\">               0</td><td style=\"text-align: right;\">          93826.6</td><td style=\"text-align: right;\">       0</td></tr>\n",
       "<tr><td style=\"text-align: right;\">          5</td><td style=\"text-align: right;\"> 1.57379e+07</td><td>Mitchell </td><td style=\"text-align: right;\">          850</td><td>Spain      </td><td>Female  </td><td style=\"text-align: right;\">   43</td><td style=\"text-align: right;\">       2</td><td style=\"text-align: right;\"> 125511  </td><td style=\"text-align: right;\">              1</td><td style=\"text-align: right;\">          1</td><td style=\"text-align: right;\">               1</td><td style=\"text-align: right;\">          79084.1</td><td style=\"text-align: right;\">       0</td></tr>\n",
       "<tr><td style=\"text-align: right;\">          6</td><td style=\"text-align: right;\"> 1.5574e+07 </td><td>Chu      </td><td style=\"text-align: right;\">          645</td><td>Spain      </td><td>Male    </td><td style=\"text-align: right;\">   44</td><td style=\"text-align: right;\">       8</td><td style=\"text-align: right;\"> 113756  </td><td style=\"text-align: right;\">              2</td><td style=\"text-align: right;\">          1</td><td style=\"text-align: right;\">               0</td><td style=\"text-align: right;\">         149757  </td><td style=\"text-align: right;\">       1</td></tr>\n",
       "<tr><td style=\"text-align: right;\">          7</td><td style=\"text-align: right;\"> 1.55925e+07</td><td>Bartlett </td><td style=\"text-align: right;\">          822</td><td>France     </td><td>Male    </td><td style=\"text-align: right;\">   50</td><td style=\"text-align: right;\">       7</td><td style=\"text-align: right;\">      0  </td><td style=\"text-align: right;\">              2</td><td style=\"text-align: right;\">          1</td><td style=\"text-align: right;\">               1</td><td style=\"text-align: right;\">          10062.8</td><td style=\"text-align: right;\">       0</td></tr>\n",
       "<tr><td style=\"text-align: right;\">          8</td><td style=\"text-align: right;\"> 1.56561e+07</td><td>Obinna   </td><td style=\"text-align: right;\">          376</td><td>Germany    </td><td>Female  </td><td style=\"text-align: right;\">   29</td><td style=\"text-align: right;\">       4</td><td style=\"text-align: right;\"> 115047  </td><td style=\"text-align: right;\">              4</td><td style=\"text-align: right;\">          1</td><td style=\"text-align: right;\">               0</td><td style=\"text-align: right;\">         119347  </td><td style=\"text-align: right;\">       1</td></tr>\n",
       "<tr><td style=\"text-align: right;\">          9</td><td style=\"text-align: right;\"> 1.57924e+07</td><td>He       </td><td style=\"text-align: right;\">          501</td><td>France     </td><td>Male    </td><td style=\"text-align: right;\">   44</td><td style=\"text-align: right;\">       4</td><td style=\"text-align: right;\"> 142051  </td><td style=\"text-align: right;\">              2</td><td style=\"text-align: right;\">          0</td><td style=\"text-align: right;\">               1</td><td style=\"text-align: right;\">          74940.5</td><td style=\"text-align: right;\">       0</td></tr>\n",
       "<tr><td style=\"text-align: right;\">         10</td><td style=\"text-align: right;\"> 1.55924e+07</td><td>H?       </td><td style=\"text-align: right;\">          684</td><td>France     </td><td>Male    </td><td style=\"text-align: right;\">   27</td><td style=\"text-align: right;\">       2</td><td style=\"text-align: right;\"> 134604  </td><td style=\"text-align: right;\">              1</td><td style=\"text-align: right;\">          1</td><td style=\"text-align: right;\">               1</td><td style=\"text-align: right;\">          71725.7</td><td style=\"text-align: right;\">       0</td></tr>\n",
       "</tbody>\n",
       "</table><pre style='font-size: smaller; margin-bottom: 1em;'>[10 rows x 14 columns]</pre>"
      ],
      "text/plain": [
       "  RowNumber    CustomerId  Surname      CreditScore  Geography    Gender      Age    Tenure    Balance    NumOfProducts    HasCrCard    IsActiveMember    EstimatedSalary    Exited\n",
       "-----------  ------------  ---------  -------------  -----------  --------  -----  --------  ---------  ---------------  -----------  ----------------  -----------------  --------\n",
       "          1   1.56346e+07  Hargrave             619  France       Female       42         2        0                  1            1                 1           101349           1\n",
       "          2   1.56473e+07  Hill                 608  Spain        Female       41         1    83807.9                1            0                 1           112543           0\n",
       "          3   1.56193e+07  Onio                 502  France       Female       42         8   159661                  3            1                 0           113932           1\n",
       "          4   1.57014e+07  Boni                 699  France       Female       39         1        0                  2            0                 0            93826.6         0\n",
       "          5   1.57379e+07  Mitchell             850  Spain        Female       43         2   125511                  1            1                 1            79084.1         0\n",
       "          6   1.5574e+07   Chu                  645  Spain        Male         44         8   113756                  2            1                 0           149757           1\n",
       "          7   1.55925e+07  Bartlett             822  France       Male         50         7        0                  2            1                 1            10062.8         0\n",
       "          8   1.56561e+07  Obinna               376  Germany      Female       29         4   115047                  4            1                 0           119347           1\n",
       "          9   1.57924e+07  He                   501  France       Male         44         4   142051                  2            0                 1            74940.5         0\n",
       "         10   1.55924e+07  H?                   684  France       Male         27         2   134604                  1            1                 1            71725.7         0\n",
       "[10 rows x 14 columns]\n"
      ]
     },
     "execution_count": 55,
     "metadata": {},
     "output_type": "execute_result"
    }
   ],
   "source": [
    "data_h2o.head()"
   ]
  },
  {
   "cell_type": "code",
   "execution_count": 57,
   "metadata": {},
   "outputs": [
    {
     "data": {
      "text/plain": [
       "['CreditScore',\n",
       " 'Age',\n",
       " 'Tenure',\n",
       " 'Balance',\n",
       " 'NumOfProducts',\n",
       " 'HasCrCard',\n",
       " 'IsActiveMember',\n",
       " 'EstimatedSalary']"
      ]
     },
     "execution_count": 57,
     "metadata": {},
     "output_type": "execute_result"
    }
   ],
   "source": [
    "predictors = [\"CreditScore\",\"Age\",\"Tenure\",\"Balance\",\"NumOfProducts\",\"HasCrCard\",'IsActiveMember','EstimatedSalary']\n",
    "predictors"
   ]
  },
  {
   "cell_type": "code",
   "execution_count": 56,
   "metadata": {},
   "outputs": [],
   "source": [
    "from h2o.estimators import H2OaKMeansEstimator"
   ]
  },
  {
   "cell_type": "code",
   "execution_count": 58,
   "metadata": {},
   "outputs": [],
   "source": [
    "train, test = data_h2o.split_frame(ratios=[.9], seed=1234)"
   ]
  },
  {
   "cell_type": "code",
   "execution_count": 59,
   "metadata": {},
   "outputs": [],
   "source": [
    "kmeans = H2OKMeansEstimator(k=3,\n",
    "                            standardize=True,\n",
    "                            seed=1234)"
   ]
  },
  {
   "cell_type": "code",
   "execution_count": 60,
   "metadata": {},
   "outputs": [
    {
     "name": "stdout",
     "output_type": "stream",
     "text": [
      "kmeans Model Build progress: |███████████████████████████████████████████████████| (done) 100%\n"
     ]
    },
    {
     "data": {
      "text/html": [
       "<pre style='margin: 1em 0 1em 0;'>Model Details\n",
       "=============\n",
       "H2OKMeansEstimator : K-means\n",
       "Model Key: KMeans_model_python_1700939216330_8343\n",
       "</pre>\n",
       "<div style='margin: 1em 0 1em 0;'>\n",
       "<style>\n",
       "\n",
       "#h2o-table-6.h2o-container {\n",
       "  overflow-x: auto;\n",
       "}\n",
       "#h2o-table-6 .h2o-table {\n",
       "  /* width: 100%; */\n",
       "  margin-top: 1em;\n",
       "  margin-bottom: 1em;\n",
       "}\n",
       "#h2o-table-6 .h2o-table caption {\n",
       "  white-space: nowrap;\n",
       "  caption-side: top;\n",
       "  text-align: left;\n",
       "  /* margin-left: 1em; */\n",
       "  margin: 0;\n",
       "  font-size: larger;\n",
       "}\n",
       "#h2o-table-6 .h2o-table thead {\n",
       "  white-space: nowrap; \n",
       "  position: sticky;\n",
       "  top: 0;\n",
       "  box-shadow: 0 -1px inset;\n",
       "}\n",
       "#h2o-table-6 .h2o-table tbody {\n",
       "  overflow: auto;\n",
       "}\n",
       "#h2o-table-6 .h2o-table th,\n",
       "#h2o-table-6 .h2o-table td {\n",
       "  text-align: right;\n",
       "  /* border: 1px solid; */\n",
       "}\n",
       "#h2o-table-6 .h2o-table tr:nth-child(even) {\n",
       "  /* background: #F5F5F5 */\n",
       "}\n",
       "\n",
       "</style>      \n",
       "<div id=\"h2o-table-6\" class=\"h2o-container\">\n",
       "  <table class=\"h2o-table\">\n",
       "    <caption>Model Summary: </caption>\n",
       "    <thead><tr><th></th>\n",
       "<th>number_of_rows</th>\n",
       "<th>number_of_clusters</th>\n",
       "<th>number_of_categorical_columns</th>\n",
       "<th>number_of_iterations</th>\n",
       "<th>within_cluster_sum_of_squares</th>\n",
       "<th>total_sum_of_squares</th>\n",
       "<th>between_cluster_sum_of_squares</th></tr></thead>\n",
       "    <tbody><tr><td></td>\n",
       "<td>8999.0</td>\n",
       "<td>3.0</td>\n",
       "<td>0.0</td>\n",
       "<td>10.0</td>\n",
       "<td>57301.5640493</td>\n",
       "<td>71984.0</td>\n",
       "<td>14682.4359507</td></tr></tbody>\n",
       "  </table>\n",
       "</div>\n",
       "</div>\n",
       "<div style='margin: 1em 0 1em 0;'><pre style='margin: 1em 0 1em 0;'>ModelMetricsClustering: kmeans\n",
       "** Reported on train data. **\n",
       "\n",
       "Total Within Cluster Sum of Square Error: 56577.27787832834\n",
       "Total Sum of Square Error to Grand Mean: 71984.00056684844\n",
       "Between Cluster Sum of Square Error: 15406.722688520094</pre>\n",
       "<div style='margin: 1em 0 1em 0;'>\n",
       "<style>\n",
       "\n",
       "#h2o-table-7.h2o-container {\n",
       "  overflow-x: auto;\n",
       "}\n",
       "#h2o-table-7 .h2o-table {\n",
       "  /* width: 100%; */\n",
       "  margin-top: 1em;\n",
       "  margin-bottom: 1em;\n",
       "}\n",
       "#h2o-table-7 .h2o-table caption {\n",
       "  white-space: nowrap;\n",
       "  caption-side: top;\n",
       "  text-align: left;\n",
       "  /* margin-left: 1em; */\n",
       "  margin: 0;\n",
       "  font-size: larger;\n",
       "}\n",
       "#h2o-table-7 .h2o-table thead {\n",
       "  white-space: nowrap; \n",
       "  position: sticky;\n",
       "  top: 0;\n",
       "  box-shadow: 0 -1px inset;\n",
       "}\n",
       "#h2o-table-7 .h2o-table tbody {\n",
       "  overflow: auto;\n",
       "}\n",
       "#h2o-table-7 .h2o-table th,\n",
       "#h2o-table-7 .h2o-table td {\n",
       "  text-align: right;\n",
       "  /* border: 1px solid; */\n",
       "}\n",
       "#h2o-table-7 .h2o-table tr:nth-child(even) {\n",
       "  /* background: #F5F5F5 */\n",
       "}\n",
       "\n",
       "</style>      \n",
       "<div id=\"h2o-table-7\" class=\"h2o-container\">\n",
       "  <table class=\"h2o-table\">\n",
       "    <caption>Centroid Statistics: </caption>\n",
       "    <thead><tr><th></th>\n",
       "<th>centroid</th>\n",
       "<th>size</th>\n",
       "<th>within_cluster_sum_of_squares</th></tr></thead>\n",
       "    <tbody><tr><td></td>\n",
       "<td>1.0</td>\n",
       "<td>3242.0</td>\n",
       "<td>19956.2388070</td></tr>\n",
       "<tr><td></td>\n",
       "<td>2.0</td>\n",
       "<td>3120.0</td>\n",
       "<td>18055.2416628</td></tr>\n",
       "<tr><td></td>\n",
       "<td>3.0</td>\n",
       "<td>2637.0</td>\n",
       "<td>18565.7974086</td></tr></tbody>\n",
       "  </table>\n",
       "</div>\n",
       "</div></div>\n",
       "<div style='margin: 1em 0 1em 0;'><pre style='margin: 1em 0 1em 0;'>ModelMetricsClustering: kmeans\n",
       "** Reported on validation data. **\n",
       "\n",
       "Total Within Cluster Sum of Square Error: 6281.721424716056\n",
       "Total Sum of Square Error to Grand Mean: 8001.9471313237855\n",
       "Between Cluster Sum of Square Error: 1720.225706607729</pre>\n",
       "<div style='margin: 1em 0 1em 0;'>\n",
       "<style>\n",
       "\n",
       "#h2o-table-8.h2o-container {\n",
       "  overflow-x: auto;\n",
       "}\n",
       "#h2o-table-8 .h2o-table {\n",
       "  /* width: 100%; */\n",
       "  margin-top: 1em;\n",
       "  margin-bottom: 1em;\n",
       "}\n",
       "#h2o-table-8 .h2o-table caption {\n",
       "  white-space: nowrap;\n",
       "  caption-side: top;\n",
       "  text-align: left;\n",
       "  /* margin-left: 1em; */\n",
       "  margin: 0;\n",
       "  font-size: larger;\n",
       "}\n",
       "#h2o-table-8 .h2o-table thead {\n",
       "  white-space: nowrap; \n",
       "  position: sticky;\n",
       "  top: 0;\n",
       "  box-shadow: 0 -1px inset;\n",
       "}\n",
       "#h2o-table-8 .h2o-table tbody {\n",
       "  overflow: auto;\n",
       "}\n",
       "#h2o-table-8 .h2o-table th,\n",
       "#h2o-table-8 .h2o-table td {\n",
       "  text-align: right;\n",
       "  /* border: 1px solid; */\n",
       "}\n",
       "#h2o-table-8 .h2o-table tr:nth-child(even) {\n",
       "  /* background: #F5F5F5 */\n",
       "}\n",
       "\n",
       "</style>      \n",
       "<div id=\"h2o-table-8\" class=\"h2o-container\">\n",
       "  <table class=\"h2o-table\">\n",
       "    <caption>Centroid Statistics: </caption>\n",
       "    <thead><tr><th></th>\n",
       "<th>centroid</th>\n",
       "<th>size</th>\n",
       "<th>within_cluster_sum_of_squares</th></tr></thead>\n",
       "    <tbody><tr><td></td>\n",
       "<td>1.0</td>\n",
       "<td>365.0</td>\n",
       "<td>2250.5151670</td></tr>\n",
       "<tr><td></td>\n",
       "<td>2.0</td>\n",
       "<td>328.0</td>\n",
       "<td>1914.5101282</td></tr>\n",
       "<tr><td></td>\n",
       "<td>3.0</td>\n",
       "<td>308.0</td>\n",
       "<td>2116.6961296</td></tr></tbody>\n",
       "  </table>\n",
       "</div>\n",
       "</div></div>\n",
       "<div style='margin: 1em 0 1em 0;'>\n",
       "<style>\n",
       "\n",
       "#h2o-table-9.h2o-container {\n",
       "  overflow-x: auto;\n",
       "}\n",
       "#h2o-table-9 .h2o-table {\n",
       "  /* width: 100%; */\n",
       "  margin-top: 1em;\n",
       "  margin-bottom: 1em;\n",
       "}\n",
       "#h2o-table-9 .h2o-table caption {\n",
       "  white-space: nowrap;\n",
       "  caption-side: top;\n",
       "  text-align: left;\n",
       "  /* margin-left: 1em; */\n",
       "  margin: 0;\n",
       "  font-size: larger;\n",
       "}\n",
       "#h2o-table-9 .h2o-table thead {\n",
       "  white-space: nowrap; \n",
       "  position: sticky;\n",
       "  top: 0;\n",
       "  box-shadow: 0 -1px inset;\n",
       "}\n",
       "#h2o-table-9 .h2o-table tbody {\n",
       "  overflow: auto;\n",
       "}\n",
       "#h2o-table-9 .h2o-table th,\n",
       "#h2o-table-9 .h2o-table td {\n",
       "  text-align: right;\n",
       "  /* border: 1px solid; */\n",
       "}\n",
       "#h2o-table-9 .h2o-table tr:nth-child(even) {\n",
       "  /* background: #F5F5F5 */\n",
       "}\n",
       "\n",
       "</style>      \n",
       "<div id=\"h2o-table-9\" class=\"h2o-container\">\n",
       "  <table class=\"h2o-table\">\n",
       "    <caption>Scoring History: </caption>\n",
       "    <thead><tr><th></th>\n",
       "<th>timestamp</th>\n",
       "<th>duration</th>\n",
       "<th>iterations</th>\n",
       "<th>number_of_reassigned_observations</th>\n",
       "<th>within_cluster_sum_of_squares</th></tr></thead>\n",
       "    <tbody><tr><td></td>\n",
       "<td>2023-11-25 14:55:37</td>\n",
       "<td> 0.022 sec</td>\n",
       "<td>0.0</td>\n",
       "<td>nan</td>\n",
       "<td>nan</td></tr>\n",
       "<tr><td></td>\n",
       "<td>2023-11-25 14:55:37</td>\n",
       "<td> 0.081 sec</td>\n",
       "<td>1.0</td>\n",
       "<td>8999.0</td>\n",
       "<td>96413.6749003</td></tr>\n",
       "<tr><td></td>\n",
       "<td>2023-11-25 14:55:37</td>\n",
       "<td> 0.093 sec</td>\n",
       "<td>2.0</td>\n",
       "<td>1305.0</td>\n",
       "<td>62559.8496443</td></tr>\n",
       "<tr><td></td>\n",
       "<td>2023-11-25 14:55:37</td>\n",
       "<td> 0.102 sec</td>\n",
       "<td>3.0</td>\n",
       "<td>866.0</td>\n",
       "<td>61434.3729704</td></tr>\n",
       "<tr><td></td>\n",
       "<td>2023-11-25 14:55:37</td>\n",
       "<td> 0.109 sec</td>\n",
       "<td>4.0</td>\n",
       "<td>836.0</td>\n",
       "<td>60623.2578448</td></tr>\n",
       "<tr><td></td>\n",
       "<td>2023-11-25 14:55:37</td>\n",
       "<td> 0.116 sec</td>\n",
       "<td>5.0</td>\n",
       "<td>705.0</td>\n",
       "<td>59147.0098928</td></tr>\n",
       "<tr><td></td>\n",
       "<td>2023-11-25 14:55:37</td>\n",
       "<td> 0.124 sec</td>\n",
       "<td>6.0</td>\n",
       "<td>255.0</td>\n",
       "<td>58328.3494670</td></tr>\n",
       "<tr><td></td>\n",
       "<td>2023-11-25 14:55:37</td>\n",
       "<td> 0.131 sec</td>\n",
       "<td>7.0</td>\n",
       "<td>226.0</td>\n",
       "<td>58200.7029764</td></tr>\n",
       "<tr><td></td>\n",
       "<td>2023-11-25 14:55:37</td>\n",
       "<td> 0.139 sec</td>\n",
       "<td>8.0</td>\n",
       "<td>232.0</td>\n",
       "<td>58068.2142202</td></tr>\n",
       "<tr><td></td>\n",
       "<td>2023-11-25 14:55:37</td>\n",
       "<td> 0.147 sec</td>\n",
       "<td>9.0</td>\n",
       "<td>341.0</td>\n",
       "<td>57868.9915789</td></tr>\n",
       "<tr><td></td>\n",
       "<td>2023-11-25 14:55:37</td>\n",
       "<td> 0.154 sec</td>\n",
       "<td>10.0</td>\n",
       "<td>458.0</td>\n",
       "<td>57301.5640493</td></tr></tbody>\n",
       "  </table>\n",
       "</div>\n",
       "</div><pre style=\"font-size: smaller; margin: 1em 0 0 0;\">\n",
       "\n",
       "[tips]\n",
       "Use `model.explain()` to inspect the model.\n",
       "--\n",
       "Use `h2o.display.toggle_user_tips()` to switch on/off this section.</pre>"
      ],
      "text/plain": [
       "Model Details\n",
       "=============\n",
       "H2OKMeansEstimator : K-means\n",
       "Model Key: KMeans_model_python_1700939216330_8343\n",
       "\n",
       "\n",
       "Model Summary: \n",
       "    number_of_rows    number_of_clusters    number_of_categorical_columns    number_of_iterations    within_cluster_sum_of_squares    total_sum_of_squares    between_cluster_sum_of_squares\n",
       "--  ----------------  --------------------  -------------------------------  ----------------------  -------------------------------  ----------------------  --------------------------------\n",
       "    8999              3                     0                                10                      57301.6                          71984                   14682.4\n",
       "\n",
       "ModelMetricsClustering: kmeans\n",
       "** Reported on train data. **\n",
       "\n",
       "Total Within Cluster Sum of Square Error: 56577.27787832834\n",
       "Total Sum of Square Error to Grand Mean: 71984.00056684844\n",
       "Between Cluster Sum of Square Error: 15406.722688520094\n",
       "\n",
       "Centroid Statistics: \n",
       "    centroid    size    within_cluster_sum_of_squares\n",
       "--  ----------  ------  -------------------------------\n",
       "    1           3242    19956.2\n",
       "    2           3120    18055.2\n",
       "    3           2637    18565.8\n",
       "\n",
       "ModelMetricsClustering: kmeans\n",
       "** Reported on validation data. **\n",
       "\n",
       "Total Within Cluster Sum of Square Error: 6281.721424716056\n",
       "Total Sum of Square Error to Grand Mean: 8001.9471313237855\n",
       "Between Cluster Sum of Square Error: 1720.225706607729\n",
       "\n",
       "Centroid Statistics: \n",
       "    centroid    size    within_cluster_sum_of_squares\n",
       "--  ----------  ------  -------------------------------\n",
       "    1           365     2250.52\n",
       "    2           328     1914.51\n",
       "    3           308     2116.7\n",
       "\n",
       "Scoring History: \n",
       "    timestamp            duration    iterations    number_of_reassigned_observations    within_cluster_sum_of_squares\n",
       "--  -------------------  ----------  ------------  -----------------------------------  -------------------------------\n",
       "    2023-11-25 14:55:37  0.022 sec   0             nan                                  nan\n",
       "    2023-11-25 14:55:37  0.081 sec   1             8999                                 96413.7\n",
       "    2023-11-25 14:55:37  0.093 sec   2             1305                                 62559.8\n",
       "    2023-11-25 14:55:37  0.102 sec   3             866                                  61434.4\n",
       "    2023-11-25 14:55:37  0.109 sec   4             836                                  60623.3\n",
       "    2023-11-25 14:55:37  0.116 sec   5             705                                  59147\n",
       "    2023-11-25 14:55:37  0.124 sec   6             255                                  58328.3\n",
       "    2023-11-25 14:55:37  0.131 sec   7             226                                  58200.7\n",
       "    2023-11-25 14:55:37  0.139 sec   8             232                                  58068.2\n",
       "    2023-11-25 14:55:37  0.147 sec   9             341                                  57869\n",
       "    2023-11-25 14:55:37  0.154 sec   10            458                                  57301.6\n",
       "\n",
       "[tips]\n",
       "Use `model.explain()` to inspect the model.\n",
       "--\n",
       "Use `h2o.display.toggle_user_tips()` to switch on/off this section."
      ]
     },
     "execution_count": 60,
     "metadata": {},
     "output_type": "execute_result"
    }
   ],
   "source": [
    "kmeans.train(x=predictors,\n",
    "            training_frame=train,\n",
    "            validation_frame=test)"
   ]
  },
  {
   "cell_type": "code",
   "execution_count": 61,
   "metadata": {},
   "outputs": [
    {
     "name": "stdout",
     "output_type": "stream",
     "text": [
      "kmeans prediction progress: |████████████████████████████████████████████████████| (done) 100%\n"
     ]
    },
    {
     "data": {
      "text/html": [
       "<table class='dataframe'>\n",
       "<thead>\n",
       "<tr><th style=\"text-align: right;\">  predict</th></tr>\n",
       "</thead>\n",
       "<tbody>\n",
       "<tr><td style=\"text-align: right;\">        0</td></tr>\n",
       "<tr><td style=\"text-align: right;\">        2</td></tr>\n",
       "<tr><td style=\"text-align: right;\">        1</td></tr>\n",
       "<tr><td style=\"text-align: right;\">        0</td></tr>\n",
       "<tr><td style=\"text-align: right;\">        1</td></tr>\n",
       "<tr><td style=\"text-align: right;\">        0</td></tr>\n",
       "<tr><td style=\"text-align: right;\">        1</td></tr>\n",
       "<tr><td style=\"text-align: right;\">        2</td></tr>\n",
       "<tr><td style=\"text-align: right;\">        2</td></tr>\n",
       "<tr><td style=\"text-align: right;\">        1</td></tr>\n",
       "</tbody>\n",
       "</table><pre style='font-size: smaller; margin-bottom: 1em;'>[8999 rows x 1 column]</pre>"
      ],
      "text/plain": [
       "  predict\n",
       "---------\n",
       "        0\n",
       "        2\n",
       "        1\n",
       "        0\n",
       "        1\n",
       "        0\n",
       "        1\n",
       "        2\n",
       "        2\n",
       "        1\n",
       "[8999 rows x 1 column]\n"
      ]
     },
     "execution_count": 61,
     "metadata": {},
     "output_type": "execute_result"
    }
   ],
   "source": [
    "prediction_train = kmeans.predict(train)\n",
    "prediction_train"
   ]
  },
  {
   "cell_type": "code",
   "execution_count": 62,
   "metadata": {},
   "outputs": [
    {
     "data": {
      "text/html": [
       "<table class='dataframe'>\n",
       "<thead>\n",
       "<tr><th style=\"text-align: right;\">  C1</th></tr>\n",
       "</thead>\n",
       "<tbody>\n",
       "<tr><td style=\"text-align: right;\">   0</td></tr>\n",
       "<tr><td style=\"text-align: right;\">   2</td></tr>\n",
       "<tr><td style=\"text-align: right;\">   1</td></tr>\n",
       "</tbody>\n",
       "</table><pre style='font-size: smaller; margin-bottom: 1em;'>[3 rows x 1 column]</pre>"
      ],
      "text/plain": [
       "  C1\n",
       "----\n",
       "   0\n",
       "   2\n",
       "   1\n",
       "[3 rows x 1 column]\n"
      ]
     },
     "execution_count": 62,
     "metadata": {},
     "output_type": "execute_result"
    }
   ],
   "source": [
    "prediction_train['predict'].unique()"
   ]
  },
  {
   "cell_type": "code",
   "execution_count": 63,
   "metadata": {},
   "outputs": [
    {
     "name": "stdout",
     "output_type": "stream",
     "text": [
      "kmeans prediction progress: |████████████████████████████████████████████████████| (done) 100%\n"
     ]
    },
    {
     "data": {
      "text/html": [
       "<table class='dataframe'>\n",
       "<thead>\n",
       "<tr><th style=\"text-align: right;\">  predict</th></tr>\n",
       "</thead>\n",
       "<tbody>\n",
       "<tr><td style=\"text-align: right;\">        2</td></tr>\n",
       "<tr><td style=\"text-align: right;\">        0</td></tr>\n",
       "<tr><td style=\"text-align: right;\">        2</td></tr>\n",
       "<tr><td style=\"text-align: right;\">        0</td></tr>\n",
       "<tr><td style=\"text-align: right;\">        0</td></tr>\n",
       "<tr><td style=\"text-align: right;\">        2</td></tr>\n",
       "<tr><td style=\"text-align: right;\">        0</td></tr>\n",
       "<tr><td style=\"text-align: right;\">        2</td></tr>\n",
       "<tr><td style=\"text-align: right;\">        0</td></tr>\n",
       "<tr><td style=\"text-align: right;\">        1</td></tr>\n",
       "</tbody>\n",
       "</table><pre style='font-size: smaller; margin-bottom: 1em;'>[1001 rows x 1 column]</pre>"
      ],
      "text/plain": [
       "  predict\n",
       "---------\n",
       "        2\n",
       "        0\n",
       "        2\n",
       "        0\n",
       "        0\n",
       "        2\n",
       "        0\n",
       "        2\n",
       "        0\n",
       "        1\n",
       "[1001 rows x 1 column]\n"
      ]
     },
     "execution_count": 63,
     "metadata": {},
     "output_type": "execute_result"
    }
   ],
   "source": [
    "prediction_test = kmeans.predict(test)\n",
    "prediction_test"
   ]
  },
  {
   "cell_type": "code",
   "execution_count": 64,
   "metadata": {},
   "outputs": [
    {
     "data": {
      "text/html": [
       "<table class='dataframe'>\n",
       "<thead>\n",
       "<tr><th style=\"text-align: right;\">  C1</th></tr>\n",
       "</thead>\n",
       "<tbody>\n",
       "<tr><td style=\"text-align: right;\">   2</td></tr>\n",
       "<tr><td style=\"text-align: right;\">   0</td></tr>\n",
       "<tr><td style=\"text-align: right;\">   1</td></tr>\n",
       "</tbody>\n",
       "</table><pre style='font-size: smaller; margin-bottom: 1em;'>[3 rows x 1 column]</pre>"
      ],
      "text/plain": [
       "  C1\n",
       "----\n",
       "   2\n",
       "   0\n",
       "   1\n",
       "[3 rows x 1 column]\n"
      ]
     },
     "execution_count": 64,
     "metadata": {},
     "output_type": "execute_result"
    }
   ],
   "source": [
    "prediction_test['predict'].unique()"
   ]
  },
  {
   "cell_type": "code",
   "execution_count": 65,
   "metadata": {},
   "outputs": [
    {
     "data": {
      "text/html": [
       "<table class='dataframe'>\n",
       "<thead>\n",
       "<tr><th style=\"text-align: right;\">  RowNumber</th><th style=\"text-align: right;\">  CustomerId</th><th>Surname  </th><th style=\"text-align: right;\">  CreditScore</th><th>Geography  </th><th>Gender  </th><th style=\"text-align: right;\">  Age</th><th style=\"text-align: right;\">  Tenure</th><th style=\"text-align: right;\">  Balance</th><th style=\"text-align: right;\">  NumOfProducts</th><th style=\"text-align: right;\">  HasCrCard</th><th style=\"text-align: right;\">  IsActiveMember</th><th style=\"text-align: right;\">  EstimatedSalary</th><th style=\"text-align: right;\">  Exited</th></tr>\n",
       "</thead>\n",
       "<tbody>\n",
       "<tr><td style=\"text-align: right;\">          1</td><td style=\"text-align: right;\"> 1.56346e+07</td><td>Hargrave </td><td style=\"text-align: right;\">          619</td><td>France     </td><td>Female  </td><td style=\"text-align: right;\">   42</td><td style=\"text-align: right;\">       2</td><td style=\"text-align: right;\">      0  </td><td style=\"text-align: right;\">              1</td><td style=\"text-align: right;\">          1</td><td style=\"text-align: right;\">               1</td><td style=\"text-align: right;\">         101349  </td><td style=\"text-align: right;\">       0</td></tr>\n",
       "<tr><td style=\"text-align: right;\">          2</td><td style=\"text-align: right;\"> 1.56473e+07</td><td>Hill     </td><td style=\"text-align: right;\">          608</td><td>Spain      </td><td>Female  </td><td style=\"text-align: right;\">   41</td><td style=\"text-align: right;\">       1</td><td style=\"text-align: right;\">  83807.9</td><td style=\"text-align: right;\">              1</td><td style=\"text-align: right;\">          0</td><td style=\"text-align: right;\">               1</td><td style=\"text-align: right;\">         112543  </td><td style=\"text-align: right;\">       2</td></tr>\n",
       "<tr><td style=\"text-align: right;\">          3</td><td style=\"text-align: right;\"> 1.56193e+07</td><td>Onio     </td><td style=\"text-align: right;\">          502</td><td>France     </td><td>Female  </td><td style=\"text-align: right;\">   42</td><td style=\"text-align: right;\">       8</td><td style=\"text-align: right;\"> 159661  </td><td style=\"text-align: right;\">              3</td><td style=\"text-align: right;\">          1</td><td style=\"text-align: right;\">               0</td><td style=\"text-align: right;\">         113932  </td><td style=\"text-align: right;\">       1</td></tr>\n",
       "<tr><td style=\"text-align: right;\">          5</td><td style=\"text-align: right;\"> 1.57379e+07</td><td>Mitchell </td><td style=\"text-align: right;\">          850</td><td>Spain      </td><td>Female  </td><td style=\"text-align: right;\">   43</td><td style=\"text-align: right;\">       2</td><td style=\"text-align: right;\"> 125511  </td><td style=\"text-align: right;\">              1</td><td style=\"text-align: right;\">          1</td><td style=\"text-align: right;\">               1</td><td style=\"text-align: right;\">          79084.1</td><td style=\"text-align: right;\">       0</td></tr>\n",
       "<tr><td style=\"text-align: right;\">          6</td><td style=\"text-align: right;\"> 1.5574e+07 </td><td>Chu      </td><td style=\"text-align: right;\">          645</td><td>Spain      </td><td>Male    </td><td style=\"text-align: right;\">   44</td><td style=\"text-align: right;\">       8</td><td style=\"text-align: right;\"> 113756  </td><td style=\"text-align: right;\">              2</td><td style=\"text-align: right;\">          1</td><td style=\"text-align: right;\">               0</td><td style=\"text-align: right;\">         149757  </td><td style=\"text-align: right;\">       1</td></tr>\n",
       "<tr><td style=\"text-align: right;\">          7</td><td style=\"text-align: right;\"> 1.55925e+07</td><td>Bartlett </td><td style=\"text-align: right;\">          822</td><td>France     </td><td>Male    </td><td style=\"text-align: right;\">   50</td><td style=\"text-align: right;\">       7</td><td style=\"text-align: right;\">      0  </td><td style=\"text-align: right;\">              2</td><td style=\"text-align: right;\">          1</td><td style=\"text-align: right;\">               1</td><td style=\"text-align: right;\">          10062.8</td><td style=\"text-align: right;\">       0</td></tr>\n",
       "<tr><td style=\"text-align: right;\">          8</td><td style=\"text-align: right;\"> 1.56561e+07</td><td>Obinna   </td><td style=\"text-align: right;\">          376</td><td>Germany    </td><td>Female  </td><td style=\"text-align: right;\">   29</td><td style=\"text-align: right;\">       4</td><td style=\"text-align: right;\"> 115047  </td><td style=\"text-align: right;\">              4</td><td style=\"text-align: right;\">          1</td><td style=\"text-align: right;\">               0</td><td style=\"text-align: right;\">         119347  </td><td style=\"text-align: right;\">       1</td></tr>\n",
       "<tr><td style=\"text-align: right;\">          9</td><td style=\"text-align: right;\"> 1.57924e+07</td><td>He       </td><td style=\"text-align: right;\">          501</td><td>France     </td><td>Male    </td><td style=\"text-align: right;\">   44</td><td style=\"text-align: right;\">       4</td><td style=\"text-align: right;\"> 142051  </td><td style=\"text-align: right;\">              2</td><td style=\"text-align: right;\">          0</td><td style=\"text-align: right;\">               1</td><td style=\"text-align: right;\">          74940.5</td><td style=\"text-align: right;\">       2</td></tr>\n",
       "<tr><td style=\"text-align: right;\">         11</td><td style=\"text-align: right;\"> 1.57678e+07</td><td>Bearce   </td><td style=\"text-align: right;\">          528</td><td>France     </td><td>Male    </td><td style=\"text-align: right;\">   31</td><td style=\"text-align: right;\">       6</td><td style=\"text-align: right;\"> 102017  </td><td style=\"text-align: right;\">              2</td><td style=\"text-align: right;\">          0</td><td style=\"text-align: right;\">               0</td><td style=\"text-align: right;\">          80181.1</td><td style=\"text-align: right;\">       2</td></tr>\n",
       "<tr><td style=\"text-align: right;\">         12</td><td style=\"text-align: right;\"> 1.57372e+07</td><td>Andrews  </td><td style=\"text-align: right;\">          497</td><td>Spain      </td><td>Male    </td><td style=\"text-align: right;\">   24</td><td style=\"text-align: right;\">       3</td><td style=\"text-align: right;\">      0  </td><td style=\"text-align: right;\">              2</td><td style=\"text-align: right;\">          1</td><td style=\"text-align: right;\">               0</td><td style=\"text-align: right;\">          76390  </td><td style=\"text-align: right;\">       1</td></tr>\n",
       "</tbody>\n",
       "</table><pre style='font-size: smaller; margin-bottom: 1em;'>[10 rows x 14 columns]</pre>"
      ],
      "text/plain": [
       "  RowNumber    CustomerId  Surname      CreditScore  Geography    Gender      Age    Tenure    Balance    NumOfProducts    HasCrCard    IsActiveMember    EstimatedSalary    Exited\n",
       "-----------  ------------  ---------  -------------  -----------  --------  -----  --------  ---------  ---------------  -----------  ----------------  -----------------  --------\n",
       "          1   1.56346e+07  Hargrave             619  France       Female       42         2        0                  1            1                 1           101349           0\n",
       "          2   1.56473e+07  Hill                 608  Spain        Female       41         1    83807.9                1            0                 1           112543           2\n",
       "          3   1.56193e+07  Onio                 502  France       Female       42         8   159661                  3            1                 0           113932           1\n",
       "          5   1.57379e+07  Mitchell             850  Spain        Female       43         2   125511                  1            1                 1            79084.1         0\n",
       "          6   1.5574e+07   Chu                  645  Spain        Male         44         8   113756                  2            1                 0           149757           1\n",
       "          7   1.55925e+07  Bartlett             822  France       Male         50         7        0                  2            1                 1            10062.8         0\n",
       "          8   1.56561e+07  Obinna               376  Germany      Female       29         4   115047                  4            1                 0           119347           1\n",
       "          9   1.57924e+07  He                   501  France       Male         44         4   142051                  2            0                 1            74940.5         2\n",
       "         11   1.57678e+07  Bearce               528  France       Male         31         6   102017                  2            0                 0            80181.1         2\n",
       "         12   1.57372e+07  Andrews              497  Spain        Male         24         3        0                  2            1                 0            76390           1\n",
       "[10 rows x 14 columns]\n"
      ]
     },
     "execution_count": 65,
     "metadata": {},
     "output_type": "execute_result"
    }
   ],
   "source": [
    "train[\"Exited\"] = prediction_train[\"predict\"].asfactor()\n",
    "train.head()"
   ]
  },
  {
   "cell_type": "code",
   "execution_count": 67,
   "metadata": {},
   "outputs": [
    {
     "data": {
      "text/html": [
       "<table class='dataframe'>\n",
       "<thead>\n",
       "<tr><th style=\"text-align: right;\">  Exited</th><th style=\"text-align: right;\">  nrow</th></tr>\n",
       "</thead>\n",
       "<tbody>\n",
       "<tr><td style=\"text-align: right;\">       0</td><td style=\"text-align: right;\">  3242</td></tr>\n",
       "<tr><td style=\"text-align: right;\">       1</td><td style=\"text-align: right;\">  3120</td></tr>\n",
       "<tr><td style=\"text-align: right;\">       2</td><td style=\"text-align: right;\">  2637</td></tr>\n",
       "</tbody>\n",
       "</table><pre style='font-size: smaller; margin-bottom: 1em;'>[3 rows x 2 columns]</pre>"
      ],
      "text/plain": [
       "  Exited    nrow\n",
       "--------  ------\n",
       "       0    3242\n",
       "       1    3120\n",
       "       2    2637\n",
       "[3 rows x 2 columns]\n"
      ]
     },
     "execution_count": 67,
     "metadata": {},
     "output_type": "execute_result"
    }
   ],
   "source": [
    "train.group_by(['Exited']).count(na =\"all\").get_frame()"
   ]
  },
  {
   "cell_type": "code",
   "execution_count": null,
   "metadata": {},
   "outputs": [],
   "source": [
    "train.group_by(['Exited']).mean([\"CreditScore\",\"Age\",\"Tenure\",\"Balance\",\"NumOfProducts\",\"HasCrCard\",'IsActiveMember','EstimatedSalary'], na=\"all\").get_frame()"
   ]
  }
 ],
 "metadata": {
  "kernelspec": {
   "display_name": "Python 3",
   "language": "python",
   "name": "python3"
  },
  "language_info": {
   "codemirror_mode": {
    "name": "ipython",
    "version": 3
   },
   "file_extension": ".py",
   "mimetype": "text/x-python",
   "name": "python",
   "nbconvert_exporter": "python",
   "pygments_lexer": "ipython3",
   "version": "3.11.5"
  }
 },
 "nbformat": 4,
 "nbformat_minor": 2
}
