{
 "cells": [
  {
   "cell_type": "code",
   "execution_count": 152,
   "metadata": {},
   "outputs": [],
   "source": [
    "import pandas as pd\n",
    "import matplotlib.pyplot as plt\n",
    "import seaborn as sns\n",
    "import numpy as np\n",
    "import scipy.stats as ss\n",
    "\n",
    "from sklearn.model_selection import cross_val_score,train_test_split,StratifiedKFold\n",
    "from sklearn.preprocessing import StandardScaler\n",
    "from sklearn.naive_bayes import GaussianNB\n",
    "from sklearn.metrics import recall_score, roc_auc_score,auc,roc_curve\n",
    "from imblearn.over_sampling import SMOTE\n",
    "from collections import Counter\n",
    "from imblearn.over_sampling import RandomOverSampler\n",
    "from imblearn.under_sampling import RandomUnderSampler\n",
    "from sklearn.neighbors import KNeighborsClassifier\n",
    "from sklearn.preprocessing import LabelEncoder\n",
    "from sklearn.linear_model import LogisticRegression\n"
   ]
  },
  {
   "cell_type": "markdown",
   "metadata": {},
   "source": [
    "Comentar el contexto del caso: problema, objetivo, etc. (1 punto)\n",
    "\n",
    "Análisis univariado y bivariado más representativo. ¿Cuáles son los insights? (2 puntos)\n",
    "\n",
    "En base a una muestra de entrenamiento (80) y validación (20), con los modelos de Regresión Logística, KNN y Naive Bayes y haciendo uso de validación cruzada (k=5), presentar: "
   ]
  },
  {
   "cell_type": "code",
   "execution_count": 153,
   "metadata": {},
   "outputs": [],
   "source": [
    "def evaluate_model(classifier, X_test, y_test, model_name):\n",
    "  y_pred = classifier.predict(X_test)\n",
    "  y_pred_prob = classifier.predict_proba(X_test)\n",
    "  \n",
    "  sensibilidad = recall_score(y_test, y_pred)\n",
    "  false_positive_rate, true_positive_rate, thresholds = roc_curve(y_test, y_pred_prob[:,1])\n",
    "  roc_auc = auc(false_positive_rate, true_positive_rate)\n",
    "  gini = 2 * roc_auc - 1\n",
    "  false_positive_rate_todo.append(false_positive_rate)\n",
    "  true_positive_rate_todo.append(true_positive_rate)\n",
    "  return {\n",
    "      'Modelo': model_name,\n",
    "      'Sensibilidad': sensibilidad,\n",
    "      'ROC': roc_auc,\n",
    "      'GINI': gini\n",
    "  }"
   ]
  },
  {
   "cell_type": "code",
   "execution_count": 154,
   "metadata": {},
   "outputs": [],
   "source": [
    "false_positive_rate_todo =[]\n",
    "true_positive_rate_todo = []\n",
    "resultados = []\n",
    "sc = StandardScaler()\n",
    "sm = SMOTE(random_state=0)\n",
    "ros = RandomOverSampler(random_state=0)\n",
    "rus = RandomUnderSampler(random_state=0)"
   ]
  },
  {
   "cell_type": "code",
   "execution_count": 155,
   "metadata": {},
   "outputs": [
    {
     "data": {
      "text/html": [
       "<div>\n",
       "<style scoped>\n",
       "    .dataframe tbody tr th:only-of-type {\n",
       "        vertical-align: middle;\n",
       "    }\n",
       "\n",
       "    .dataframe tbody tr th {\n",
       "        vertical-align: top;\n",
       "    }\n",
       "\n",
       "    .dataframe thead th {\n",
       "        text-align: right;\n",
       "    }\n",
       "</style>\n",
       "<table border=\"1\" class=\"dataframe\">\n",
       "  <thead>\n",
       "    <tr style=\"text-align: right;\">\n",
       "      <th></th>\n",
       "      <th>State</th>\n",
       "      <th>Account length</th>\n",
       "      <th>Area code</th>\n",
       "      <th>International plan</th>\n",
       "      <th>Voice mail plan</th>\n",
       "      <th>Number vmail messages</th>\n",
       "      <th>Total day minutes</th>\n",
       "      <th>Total day calls</th>\n",
       "      <th>Total day charge</th>\n",
       "      <th>Total eve minutes</th>\n",
       "      <th>...</th>\n",
       "      <th>Total eve charge</th>\n",
       "      <th>Total night minutes</th>\n",
       "      <th>Total night calls</th>\n",
       "      <th>Total night charge</th>\n",
       "      <th>Total intl minutes</th>\n",
       "      <th>Total intl calls</th>\n",
       "      <th>Total intl charge</th>\n",
       "      <th>Customer service calls</th>\n",
       "      <th>Churn</th>\n",
       "      <th>flag_muestra</th>\n",
       "    </tr>\n",
       "  </thead>\n",
       "  <tbody>\n",
       "    <tr>\n",
       "      <th>0</th>\n",
       "      <td>KS</td>\n",
       "      <td>128</td>\n",
       "      <td>415</td>\n",
       "      <td>No</td>\n",
       "      <td>Yes</td>\n",
       "      <td>25</td>\n",
       "      <td>265.1</td>\n",
       "      <td>110</td>\n",
       "      <td>45.07</td>\n",
       "      <td>197.4</td>\n",
       "      <td>...</td>\n",
       "      <td>16.78</td>\n",
       "      <td>244.7</td>\n",
       "      <td>91</td>\n",
       "      <td>11.01</td>\n",
       "      <td>10.0</td>\n",
       "      <td>3</td>\n",
       "      <td>2.70</td>\n",
       "      <td>1</td>\n",
       "      <td>False</td>\n",
       "      <td>train</td>\n",
       "    </tr>\n",
       "    <tr>\n",
       "      <th>1</th>\n",
       "      <td>OH</td>\n",
       "      <td>107</td>\n",
       "      <td>415</td>\n",
       "      <td>No</td>\n",
       "      <td>Yes</td>\n",
       "      <td>26</td>\n",
       "      <td>161.6</td>\n",
       "      <td>123</td>\n",
       "      <td>27.47</td>\n",
       "      <td>195.5</td>\n",
       "      <td>...</td>\n",
       "      <td>16.62</td>\n",
       "      <td>254.4</td>\n",
       "      <td>103</td>\n",
       "      <td>11.45</td>\n",
       "      <td>13.7</td>\n",
       "      <td>3</td>\n",
       "      <td>3.70</td>\n",
       "      <td>1</td>\n",
       "      <td>False</td>\n",
       "      <td>train</td>\n",
       "    </tr>\n",
       "    <tr>\n",
       "      <th>2</th>\n",
       "      <td>NJ</td>\n",
       "      <td>137</td>\n",
       "      <td>415</td>\n",
       "      <td>No</td>\n",
       "      <td>No</td>\n",
       "      <td>0</td>\n",
       "      <td>243.4</td>\n",
       "      <td>114</td>\n",
       "      <td>41.38</td>\n",
       "      <td>121.2</td>\n",
       "      <td>...</td>\n",
       "      <td>10.30</td>\n",
       "      <td>162.6</td>\n",
       "      <td>104</td>\n",
       "      <td>7.32</td>\n",
       "      <td>12.2</td>\n",
       "      <td>5</td>\n",
       "      <td>3.29</td>\n",
       "      <td>0</td>\n",
       "      <td>False</td>\n",
       "      <td>train</td>\n",
       "    </tr>\n",
       "    <tr>\n",
       "      <th>3</th>\n",
       "      <td>OH</td>\n",
       "      <td>84</td>\n",
       "      <td>408</td>\n",
       "      <td>Yes</td>\n",
       "      <td>No</td>\n",
       "      <td>0</td>\n",
       "      <td>299.4</td>\n",
       "      <td>71</td>\n",
       "      <td>50.90</td>\n",
       "      <td>61.9</td>\n",
       "      <td>...</td>\n",
       "      <td>5.26</td>\n",
       "      <td>196.9</td>\n",
       "      <td>89</td>\n",
       "      <td>8.86</td>\n",
       "      <td>6.6</td>\n",
       "      <td>7</td>\n",
       "      <td>1.78</td>\n",
       "      <td>2</td>\n",
       "      <td>False</td>\n",
       "      <td>train</td>\n",
       "    </tr>\n",
       "    <tr>\n",
       "      <th>4</th>\n",
       "      <td>OK</td>\n",
       "      <td>75</td>\n",
       "      <td>415</td>\n",
       "      <td>Yes</td>\n",
       "      <td>No</td>\n",
       "      <td>0</td>\n",
       "      <td>166.7</td>\n",
       "      <td>113</td>\n",
       "      <td>28.34</td>\n",
       "      <td>148.3</td>\n",
       "      <td>...</td>\n",
       "      <td>12.61</td>\n",
       "      <td>186.9</td>\n",
       "      <td>121</td>\n",
       "      <td>8.41</td>\n",
       "      <td>10.1</td>\n",
       "      <td>3</td>\n",
       "      <td>2.73</td>\n",
       "      <td>3</td>\n",
       "      <td>False</td>\n",
       "      <td>train</td>\n",
       "    </tr>\n",
       "  </tbody>\n",
       "</table>\n",
       "<p>5 rows × 21 columns</p>\n",
       "</div>"
      ],
      "text/plain": [
       "  State  Account length  Area code International plan Voice mail plan  \\\n",
       "0    KS             128        415                 No             Yes   \n",
       "1    OH             107        415                 No             Yes   \n",
       "2    NJ             137        415                 No              No   \n",
       "3    OH              84        408                Yes              No   \n",
       "4    OK              75        415                Yes              No   \n",
       "\n",
       "   Number vmail messages  Total day minutes  Total day calls  \\\n",
       "0                     25              265.1              110   \n",
       "1                     26              161.6              123   \n",
       "2                      0              243.4              114   \n",
       "3                      0              299.4               71   \n",
       "4                      0              166.7              113   \n",
       "\n",
       "   Total day charge  Total eve minutes  ...  Total eve charge  \\\n",
       "0             45.07              197.4  ...             16.78   \n",
       "1             27.47              195.5  ...             16.62   \n",
       "2             41.38              121.2  ...             10.30   \n",
       "3             50.90               61.9  ...              5.26   \n",
       "4             28.34              148.3  ...             12.61   \n",
       "\n",
       "   Total night minutes  Total night calls  Total night charge  \\\n",
       "0                244.7                 91               11.01   \n",
       "1                254.4                103               11.45   \n",
       "2                162.6                104                7.32   \n",
       "3                196.9                 89                8.86   \n",
       "4                186.9                121                8.41   \n",
       "\n",
       "   Total intl minutes  Total intl calls  Total intl charge  \\\n",
       "0                10.0                 3               2.70   \n",
       "1                13.7                 3               3.70   \n",
       "2                12.2                 5               3.29   \n",
       "3                 6.6                 7               1.78   \n",
       "4                10.1                 3               2.73   \n",
       "\n",
       "   Customer service calls  Churn  flag_muestra  \n",
       "0                       1  False         train  \n",
       "1                       1  False         train  \n",
       "2                       0  False         train  \n",
       "3                       2  False         train  \n",
       "4                       3  False         train  \n",
       "\n",
       "[5 rows x 21 columns]"
      ]
     },
     "execution_count": 155,
     "metadata": {},
     "output_type": "execute_result"
    }
   ],
   "source": [
    "X = pd.read_csv('churn-bigml-80.csv')\n",
    "X[\"flag_muestra\"] = \"train\"\n",
    "X.head()"
   ]
  },
  {
   "cell_type": "code",
   "execution_count": 156,
   "metadata": {},
   "outputs": [
    {
     "data": {
      "text/html": [
       "<div>\n",
       "<style scoped>\n",
       "    .dataframe tbody tr th:only-of-type {\n",
       "        vertical-align: middle;\n",
       "    }\n",
       "\n",
       "    .dataframe tbody tr th {\n",
       "        vertical-align: top;\n",
       "    }\n",
       "\n",
       "    .dataframe thead th {\n",
       "        text-align: right;\n",
       "    }\n",
       "</style>\n",
       "<table border=\"1\" class=\"dataframe\">\n",
       "  <thead>\n",
       "    <tr style=\"text-align: right;\">\n",
       "      <th></th>\n",
       "      <th>State</th>\n",
       "      <th>Account length</th>\n",
       "      <th>Area code</th>\n",
       "      <th>International plan</th>\n",
       "      <th>Voice mail plan</th>\n",
       "      <th>Number vmail messages</th>\n",
       "      <th>Total day minutes</th>\n",
       "      <th>Total day calls</th>\n",
       "      <th>Total day charge</th>\n",
       "      <th>Total eve minutes</th>\n",
       "      <th>...</th>\n",
       "      <th>Total eve charge</th>\n",
       "      <th>Total night minutes</th>\n",
       "      <th>Total night calls</th>\n",
       "      <th>Total night charge</th>\n",
       "      <th>Total intl minutes</th>\n",
       "      <th>Total intl calls</th>\n",
       "      <th>Total intl charge</th>\n",
       "      <th>Customer service calls</th>\n",
       "      <th>Churn</th>\n",
       "      <th>flag_muestra</th>\n",
       "    </tr>\n",
       "  </thead>\n",
       "  <tbody>\n",
       "    <tr>\n",
       "      <th>0</th>\n",
       "      <td>LA</td>\n",
       "      <td>117</td>\n",
       "      <td>408</td>\n",
       "      <td>No</td>\n",
       "      <td>No</td>\n",
       "      <td>0</td>\n",
       "      <td>184.5</td>\n",
       "      <td>97</td>\n",
       "      <td>31.37</td>\n",
       "      <td>351.6</td>\n",
       "      <td>...</td>\n",
       "      <td>29.89</td>\n",
       "      <td>215.8</td>\n",
       "      <td>90</td>\n",
       "      <td>9.71</td>\n",
       "      <td>8.7</td>\n",
       "      <td>4</td>\n",
       "      <td>2.35</td>\n",
       "      <td>1</td>\n",
       "      <td>False</td>\n",
       "      <td>test</td>\n",
       "    </tr>\n",
       "    <tr>\n",
       "      <th>1</th>\n",
       "      <td>IN</td>\n",
       "      <td>65</td>\n",
       "      <td>415</td>\n",
       "      <td>No</td>\n",
       "      <td>No</td>\n",
       "      <td>0</td>\n",
       "      <td>129.1</td>\n",
       "      <td>137</td>\n",
       "      <td>21.95</td>\n",
       "      <td>228.5</td>\n",
       "      <td>...</td>\n",
       "      <td>19.42</td>\n",
       "      <td>208.8</td>\n",
       "      <td>111</td>\n",
       "      <td>9.40</td>\n",
       "      <td>12.7</td>\n",
       "      <td>6</td>\n",
       "      <td>3.43</td>\n",
       "      <td>4</td>\n",
       "      <td>True</td>\n",
       "      <td>test</td>\n",
       "    </tr>\n",
       "    <tr>\n",
       "      <th>2</th>\n",
       "      <td>NY</td>\n",
       "      <td>161</td>\n",
       "      <td>415</td>\n",
       "      <td>No</td>\n",
       "      <td>No</td>\n",
       "      <td>0</td>\n",
       "      <td>332.9</td>\n",
       "      <td>67</td>\n",
       "      <td>56.59</td>\n",
       "      <td>317.8</td>\n",
       "      <td>...</td>\n",
       "      <td>27.01</td>\n",
       "      <td>160.6</td>\n",
       "      <td>128</td>\n",
       "      <td>7.23</td>\n",
       "      <td>5.4</td>\n",
       "      <td>9</td>\n",
       "      <td>1.46</td>\n",
       "      <td>4</td>\n",
       "      <td>True</td>\n",
       "      <td>test</td>\n",
       "    </tr>\n",
       "    <tr>\n",
       "      <th>3</th>\n",
       "      <td>SC</td>\n",
       "      <td>111</td>\n",
       "      <td>415</td>\n",
       "      <td>No</td>\n",
       "      <td>No</td>\n",
       "      <td>0</td>\n",
       "      <td>110.4</td>\n",
       "      <td>103</td>\n",
       "      <td>18.77</td>\n",
       "      <td>137.3</td>\n",
       "      <td>...</td>\n",
       "      <td>11.67</td>\n",
       "      <td>189.6</td>\n",
       "      <td>105</td>\n",
       "      <td>8.53</td>\n",
       "      <td>7.7</td>\n",
       "      <td>6</td>\n",
       "      <td>2.08</td>\n",
       "      <td>2</td>\n",
       "      <td>False</td>\n",
       "      <td>test</td>\n",
       "    </tr>\n",
       "    <tr>\n",
       "      <th>4</th>\n",
       "      <td>HI</td>\n",
       "      <td>49</td>\n",
       "      <td>510</td>\n",
       "      <td>No</td>\n",
       "      <td>No</td>\n",
       "      <td>0</td>\n",
       "      <td>119.3</td>\n",
       "      <td>117</td>\n",
       "      <td>20.28</td>\n",
       "      <td>215.1</td>\n",
       "      <td>...</td>\n",
       "      <td>18.28</td>\n",
       "      <td>178.7</td>\n",
       "      <td>90</td>\n",
       "      <td>8.04</td>\n",
       "      <td>11.1</td>\n",
       "      <td>1</td>\n",
       "      <td>3.00</td>\n",
       "      <td>1</td>\n",
       "      <td>False</td>\n",
       "      <td>test</td>\n",
       "    </tr>\n",
       "  </tbody>\n",
       "</table>\n",
       "<p>5 rows × 21 columns</p>\n",
       "</div>"
      ],
      "text/plain": [
       "  State  Account length  Area code International plan Voice mail plan  \\\n",
       "0    LA             117        408                 No              No   \n",
       "1    IN              65        415                 No              No   \n",
       "2    NY             161        415                 No              No   \n",
       "3    SC             111        415                 No              No   \n",
       "4    HI              49        510                 No              No   \n",
       "\n",
       "   Number vmail messages  Total day minutes  Total day calls  \\\n",
       "0                      0              184.5               97   \n",
       "1                      0              129.1              137   \n",
       "2                      0              332.9               67   \n",
       "3                      0              110.4              103   \n",
       "4                      0              119.3              117   \n",
       "\n",
       "   Total day charge  Total eve minutes  ...  Total eve charge  \\\n",
       "0             31.37              351.6  ...             29.89   \n",
       "1             21.95              228.5  ...             19.42   \n",
       "2             56.59              317.8  ...             27.01   \n",
       "3             18.77              137.3  ...             11.67   \n",
       "4             20.28              215.1  ...             18.28   \n",
       "\n",
       "   Total night minutes  Total night calls  Total night charge  \\\n",
       "0                215.8                 90                9.71   \n",
       "1                208.8                111                9.40   \n",
       "2                160.6                128                7.23   \n",
       "3                189.6                105                8.53   \n",
       "4                178.7                 90                8.04   \n",
       "\n",
       "   Total intl minutes  Total intl calls  Total intl charge  \\\n",
       "0                 8.7                 4               2.35   \n",
       "1                12.7                 6               3.43   \n",
       "2                 5.4                 9               1.46   \n",
       "3                 7.7                 6               2.08   \n",
       "4                11.1                 1               3.00   \n",
       "\n",
       "   Customer service calls  Churn  flag_muestra  \n",
       "0                       1  False          test  \n",
       "1                       4   True          test  \n",
       "2                       4   True          test  \n",
       "3                       2  False          test  \n",
       "4                       1  False          test  \n",
       "\n",
       "[5 rows x 21 columns]"
      ]
     },
     "execution_count": 156,
     "metadata": {},
     "output_type": "execute_result"
    }
   ],
   "source": [
    "y = pd.read_csv('churn-bigml-20.csv')\n",
    "y[\"flag_muestra\"] = \"test\"\n",
    "y.head()"
   ]
  },
  {
   "cell_type": "code",
   "execution_count": 157,
   "metadata": {},
   "outputs": [
    {
     "data": {
      "text/html": [
       "<div>\n",
       "<style scoped>\n",
       "    .dataframe tbody tr th:only-of-type {\n",
       "        vertical-align: middle;\n",
       "    }\n",
       "\n",
       "    .dataframe tbody tr th {\n",
       "        vertical-align: top;\n",
       "    }\n",
       "\n",
       "    .dataframe thead th {\n",
       "        text-align: right;\n",
       "    }\n",
       "</style>\n",
       "<table border=\"1\" class=\"dataframe\">\n",
       "  <thead>\n",
       "    <tr style=\"text-align: right;\">\n",
       "      <th></th>\n",
       "      <th>State</th>\n",
       "      <th>Account length</th>\n",
       "      <th>Area code</th>\n",
       "      <th>International plan</th>\n",
       "      <th>Voice mail plan</th>\n",
       "      <th>Number vmail messages</th>\n",
       "      <th>Total day minutes</th>\n",
       "      <th>Total day calls</th>\n",
       "      <th>Total day charge</th>\n",
       "      <th>Total eve minutes</th>\n",
       "      <th>...</th>\n",
       "      <th>Total eve charge</th>\n",
       "      <th>Total night minutes</th>\n",
       "      <th>Total night calls</th>\n",
       "      <th>Total night charge</th>\n",
       "      <th>Total intl minutes</th>\n",
       "      <th>Total intl calls</th>\n",
       "      <th>Total intl charge</th>\n",
       "      <th>Customer service calls</th>\n",
       "      <th>Churn</th>\n",
       "      <th>flag_muestra</th>\n",
       "    </tr>\n",
       "  </thead>\n",
       "  <tbody>\n",
       "    <tr>\n",
       "      <th>0</th>\n",
       "      <td>KS</td>\n",
       "      <td>128</td>\n",
       "      <td>415</td>\n",
       "      <td>No</td>\n",
       "      <td>Yes</td>\n",
       "      <td>25</td>\n",
       "      <td>265.1</td>\n",
       "      <td>110</td>\n",
       "      <td>45.07</td>\n",
       "      <td>197.4</td>\n",
       "      <td>...</td>\n",
       "      <td>16.78</td>\n",
       "      <td>244.7</td>\n",
       "      <td>91</td>\n",
       "      <td>11.01</td>\n",
       "      <td>10.0</td>\n",
       "      <td>3</td>\n",
       "      <td>2.70</td>\n",
       "      <td>1</td>\n",
       "      <td>False</td>\n",
       "      <td>train</td>\n",
       "    </tr>\n",
       "    <tr>\n",
       "      <th>1</th>\n",
       "      <td>OH</td>\n",
       "      <td>107</td>\n",
       "      <td>415</td>\n",
       "      <td>No</td>\n",
       "      <td>Yes</td>\n",
       "      <td>26</td>\n",
       "      <td>161.6</td>\n",
       "      <td>123</td>\n",
       "      <td>27.47</td>\n",
       "      <td>195.5</td>\n",
       "      <td>...</td>\n",
       "      <td>16.62</td>\n",
       "      <td>254.4</td>\n",
       "      <td>103</td>\n",
       "      <td>11.45</td>\n",
       "      <td>13.7</td>\n",
       "      <td>3</td>\n",
       "      <td>3.70</td>\n",
       "      <td>1</td>\n",
       "      <td>False</td>\n",
       "      <td>train</td>\n",
       "    </tr>\n",
       "    <tr>\n",
       "      <th>2</th>\n",
       "      <td>NJ</td>\n",
       "      <td>137</td>\n",
       "      <td>415</td>\n",
       "      <td>No</td>\n",
       "      <td>No</td>\n",
       "      <td>0</td>\n",
       "      <td>243.4</td>\n",
       "      <td>114</td>\n",
       "      <td>41.38</td>\n",
       "      <td>121.2</td>\n",
       "      <td>...</td>\n",
       "      <td>10.30</td>\n",
       "      <td>162.6</td>\n",
       "      <td>104</td>\n",
       "      <td>7.32</td>\n",
       "      <td>12.2</td>\n",
       "      <td>5</td>\n",
       "      <td>3.29</td>\n",
       "      <td>0</td>\n",
       "      <td>False</td>\n",
       "      <td>train</td>\n",
       "    </tr>\n",
       "    <tr>\n",
       "      <th>3</th>\n",
       "      <td>OH</td>\n",
       "      <td>84</td>\n",
       "      <td>408</td>\n",
       "      <td>Yes</td>\n",
       "      <td>No</td>\n",
       "      <td>0</td>\n",
       "      <td>299.4</td>\n",
       "      <td>71</td>\n",
       "      <td>50.90</td>\n",
       "      <td>61.9</td>\n",
       "      <td>...</td>\n",
       "      <td>5.26</td>\n",
       "      <td>196.9</td>\n",
       "      <td>89</td>\n",
       "      <td>8.86</td>\n",
       "      <td>6.6</td>\n",
       "      <td>7</td>\n",
       "      <td>1.78</td>\n",
       "      <td>2</td>\n",
       "      <td>False</td>\n",
       "      <td>train</td>\n",
       "    </tr>\n",
       "    <tr>\n",
       "      <th>4</th>\n",
       "      <td>OK</td>\n",
       "      <td>75</td>\n",
       "      <td>415</td>\n",
       "      <td>Yes</td>\n",
       "      <td>No</td>\n",
       "      <td>0</td>\n",
       "      <td>166.7</td>\n",
       "      <td>113</td>\n",
       "      <td>28.34</td>\n",
       "      <td>148.3</td>\n",
       "      <td>...</td>\n",
       "      <td>12.61</td>\n",
       "      <td>186.9</td>\n",
       "      <td>121</td>\n",
       "      <td>8.41</td>\n",
       "      <td>10.1</td>\n",
       "      <td>3</td>\n",
       "      <td>2.73</td>\n",
       "      <td>3</td>\n",
       "      <td>False</td>\n",
       "      <td>train</td>\n",
       "    </tr>\n",
       "    <tr>\n",
       "      <th>...</th>\n",
       "      <td>...</td>\n",
       "      <td>...</td>\n",
       "      <td>...</td>\n",
       "      <td>...</td>\n",
       "      <td>...</td>\n",
       "      <td>...</td>\n",
       "      <td>...</td>\n",
       "      <td>...</td>\n",
       "      <td>...</td>\n",
       "      <td>...</td>\n",
       "      <td>...</td>\n",
       "      <td>...</td>\n",
       "      <td>...</td>\n",
       "      <td>...</td>\n",
       "      <td>...</td>\n",
       "      <td>...</td>\n",
       "      <td>...</td>\n",
       "      <td>...</td>\n",
       "      <td>...</td>\n",
       "      <td>...</td>\n",
       "      <td>...</td>\n",
       "    </tr>\n",
       "    <tr>\n",
       "      <th>662</th>\n",
       "      <td>WI</td>\n",
       "      <td>114</td>\n",
       "      <td>415</td>\n",
       "      <td>No</td>\n",
       "      <td>Yes</td>\n",
       "      <td>26</td>\n",
       "      <td>137.1</td>\n",
       "      <td>88</td>\n",
       "      <td>23.31</td>\n",
       "      <td>155.7</td>\n",
       "      <td>...</td>\n",
       "      <td>13.23</td>\n",
       "      <td>247.6</td>\n",
       "      <td>94</td>\n",
       "      <td>11.14</td>\n",
       "      <td>11.5</td>\n",
       "      <td>7</td>\n",
       "      <td>3.11</td>\n",
       "      <td>2</td>\n",
       "      <td>False</td>\n",
       "      <td>test</td>\n",
       "    </tr>\n",
       "    <tr>\n",
       "      <th>663</th>\n",
       "      <td>AL</td>\n",
       "      <td>106</td>\n",
       "      <td>408</td>\n",
       "      <td>No</td>\n",
       "      <td>Yes</td>\n",
       "      <td>29</td>\n",
       "      <td>83.6</td>\n",
       "      <td>131</td>\n",
       "      <td>14.21</td>\n",
       "      <td>203.9</td>\n",
       "      <td>...</td>\n",
       "      <td>17.33</td>\n",
       "      <td>229.5</td>\n",
       "      <td>73</td>\n",
       "      <td>10.33</td>\n",
       "      <td>8.1</td>\n",
       "      <td>3</td>\n",
       "      <td>2.19</td>\n",
       "      <td>1</td>\n",
       "      <td>False</td>\n",
       "      <td>test</td>\n",
       "    </tr>\n",
       "    <tr>\n",
       "      <th>664</th>\n",
       "      <td>VT</td>\n",
       "      <td>60</td>\n",
       "      <td>415</td>\n",
       "      <td>No</td>\n",
       "      <td>No</td>\n",
       "      <td>0</td>\n",
       "      <td>193.9</td>\n",
       "      <td>118</td>\n",
       "      <td>32.96</td>\n",
       "      <td>85.0</td>\n",
       "      <td>...</td>\n",
       "      <td>7.23</td>\n",
       "      <td>210.1</td>\n",
       "      <td>134</td>\n",
       "      <td>9.45</td>\n",
       "      <td>13.2</td>\n",
       "      <td>8</td>\n",
       "      <td>3.56</td>\n",
       "      <td>3</td>\n",
       "      <td>False</td>\n",
       "      <td>test</td>\n",
       "    </tr>\n",
       "    <tr>\n",
       "      <th>665</th>\n",
       "      <td>WV</td>\n",
       "      <td>159</td>\n",
       "      <td>415</td>\n",
       "      <td>No</td>\n",
       "      <td>No</td>\n",
       "      <td>0</td>\n",
       "      <td>169.8</td>\n",
       "      <td>114</td>\n",
       "      <td>28.87</td>\n",
       "      <td>197.7</td>\n",
       "      <td>...</td>\n",
       "      <td>16.80</td>\n",
       "      <td>193.7</td>\n",
       "      <td>82</td>\n",
       "      <td>8.72</td>\n",
       "      <td>11.6</td>\n",
       "      <td>4</td>\n",
       "      <td>3.13</td>\n",
       "      <td>1</td>\n",
       "      <td>False</td>\n",
       "      <td>test</td>\n",
       "    </tr>\n",
       "    <tr>\n",
       "      <th>666</th>\n",
       "      <td>CT</td>\n",
       "      <td>184</td>\n",
       "      <td>510</td>\n",
       "      <td>Yes</td>\n",
       "      <td>No</td>\n",
       "      <td>0</td>\n",
       "      <td>213.8</td>\n",
       "      <td>105</td>\n",
       "      <td>36.35</td>\n",
       "      <td>159.6</td>\n",
       "      <td>...</td>\n",
       "      <td>13.57</td>\n",
       "      <td>139.2</td>\n",
       "      <td>137</td>\n",
       "      <td>6.26</td>\n",
       "      <td>5.0</td>\n",
       "      <td>10</td>\n",
       "      <td>1.35</td>\n",
       "      <td>2</td>\n",
       "      <td>False</td>\n",
       "      <td>test</td>\n",
       "    </tr>\n",
       "  </tbody>\n",
       "</table>\n",
       "<p>3333 rows × 21 columns</p>\n",
       "</div>"
      ],
      "text/plain": [
       "    State  Account length  Area code International plan Voice mail plan  \\\n",
       "0      KS             128        415                 No             Yes   \n",
       "1      OH             107        415                 No             Yes   \n",
       "2      NJ             137        415                 No              No   \n",
       "3      OH              84        408                Yes              No   \n",
       "4      OK              75        415                Yes              No   \n",
       "..    ...             ...        ...                ...             ...   \n",
       "662    WI             114        415                 No             Yes   \n",
       "663    AL             106        408                 No             Yes   \n",
       "664    VT              60        415                 No              No   \n",
       "665    WV             159        415                 No              No   \n",
       "666    CT             184        510                Yes              No   \n",
       "\n",
       "     Number vmail messages  Total day minutes  Total day calls  \\\n",
       "0                       25              265.1              110   \n",
       "1                       26              161.6              123   \n",
       "2                        0              243.4              114   \n",
       "3                        0              299.4               71   \n",
       "4                        0              166.7              113   \n",
       "..                     ...                ...              ...   \n",
       "662                     26              137.1               88   \n",
       "663                     29               83.6              131   \n",
       "664                      0              193.9              118   \n",
       "665                      0              169.8              114   \n",
       "666                      0              213.8              105   \n",
       "\n",
       "     Total day charge  Total eve minutes  ...  Total eve charge  \\\n",
       "0               45.07              197.4  ...             16.78   \n",
       "1               27.47              195.5  ...             16.62   \n",
       "2               41.38              121.2  ...             10.30   \n",
       "3               50.90               61.9  ...              5.26   \n",
       "4               28.34              148.3  ...             12.61   \n",
       "..                ...                ...  ...               ...   \n",
       "662             23.31              155.7  ...             13.23   \n",
       "663             14.21              203.9  ...             17.33   \n",
       "664             32.96               85.0  ...              7.23   \n",
       "665             28.87              197.7  ...             16.80   \n",
       "666             36.35              159.6  ...             13.57   \n",
       "\n",
       "     Total night minutes  Total night calls  Total night charge  \\\n",
       "0                  244.7                 91               11.01   \n",
       "1                  254.4                103               11.45   \n",
       "2                  162.6                104                7.32   \n",
       "3                  196.9                 89                8.86   \n",
       "4                  186.9                121                8.41   \n",
       "..                   ...                ...                 ...   \n",
       "662                247.6                 94               11.14   \n",
       "663                229.5                 73               10.33   \n",
       "664                210.1                134                9.45   \n",
       "665                193.7                 82                8.72   \n",
       "666                139.2                137                6.26   \n",
       "\n",
       "     Total intl minutes  Total intl calls  Total intl charge  \\\n",
       "0                  10.0                 3               2.70   \n",
       "1                  13.7                 3               3.70   \n",
       "2                  12.2                 5               3.29   \n",
       "3                   6.6                 7               1.78   \n",
       "4                  10.1                 3               2.73   \n",
       "..                  ...               ...                ...   \n",
       "662                11.5                 7               3.11   \n",
       "663                 8.1                 3               2.19   \n",
       "664                13.2                 8               3.56   \n",
       "665                11.6                 4               3.13   \n",
       "666                 5.0                10               1.35   \n",
       "\n",
       "     Customer service calls  Churn  flag_muestra  \n",
       "0                         1  False         train  \n",
       "1                         1  False         train  \n",
       "2                         0  False         train  \n",
       "3                         2  False         train  \n",
       "4                         3  False         train  \n",
       "..                      ...    ...           ...  \n",
       "662                       2  False          test  \n",
       "663                       1  False          test  \n",
       "664                       3  False          test  \n",
       "665                       1  False          test  \n",
       "666                       2  False          test  \n",
       "\n",
       "[3333 rows x 21 columns]"
      ]
     },
     "execution_count": 157,
     "metadata": {},
     "output_type": "execute_result"
    }
   ],
   "source": [
    "data = X._append(y)\n",
    "data"
   ]
  },
  {
   "cell_type": "code",
   "execution_count": 158,
   "metadata": {},
   "outputs": [],
   "source": [
    "data['Area code'] = data['Area code'].astype(object)"
   ]
  },
  {
   "cell_type": "code",
   "execution_count": 159,
   "metadata": {},
   "outputs": [],
   "source": [
    "data['Total minutes'] = data['Total day minutes'] + data['Total eve minutes'] + data['Total night minutes'] + data['Total intl minutes']"
   ]
  },
  {
   "cell_type": "code",
   "execution_count": 160,
   "metadata": {},
   "outputs": [],
   "source": [
    "total_calls = data['Total day calls'] + data['Total eve calls'] + data['Total night calls'] + data['Total intl calls']\n",
    "data.insert(loc=len(data.columns), column='Total calls', value=total_calls)"
   ]
  },
  {
   "cell_type": "code",
   "execution_count": 161,
   "metadata": {},
   "outputs": [],
   "source": [
    "data['Total charge'] = data['Total day charge'] + data['Total eve charge'] + data['Total night charge'] + data['Total intl charge']\n"
   ]
  },
  {
   "cell_type": "code",
   "execution_count": 162,
   "metadata": {},
   "outputs": [],
   "source": [
    "data = data.rename(columns = {'International plan':'International_plan'})\n",
    "data = data.rename(columns = {'Voice mail plan':'Voice_mail_plan'})"
   ]
  },
  {
   "cell_type": "code",
   "execution_count": 163,
   "metadata": {},
   "outputs": [],
   "source": [
    "data['c_International_plan'] = LabelEncoder().fit_transform(data.International_plan.values)\n",
    "data['c_Voice_mail_plan'] = LabelEncoder().fit_transform(data.Voice_mail_plan.values)"
   ]
  },
  {
   "cell_type": "markdown",
   "metadata": {},
   "source": [
    "# UNIVARIADO"
   ]
  },
  {
   "cell_type": "code",
   "execution_count": 164,
   "metadata": {},
   "outputs": [
    {
     "data": {
      "image/png": "[encoded data removed]",
      "text/plain": [
       "<Figure size 640x480 with 1 Axes>"
      ]
     },
     "metadata": {},
     "output_type": "display_data"
    }
   ],
   "source": [
    "sns.countplot(data = data, x = 'Churn')\n",
    "plt.xlabel('Churn', fontsize = 15)\n",
    "plt.title('¿Cuántos usuarios han optado por darse de baja?', fontsize = 15)\n",
    "plt.show()"
   ]
  },
  {
   "cell_type": "code",
   "execution_count": 165,
   "metadata": {},
   "outputs": [
    {
     "data": {
      "image/png": "[encoded data removed]",
      "text/plain": [
       "<Figure size 640x480 with 1 Axes>"
      ]
     },
     "metadata": {},
     "output_type": "display_data"
    }
   ],
   "source": [
    "sns.boxplot(x='Churn',y='Number vmail messages',data=data)\n",
    "plt.show()"
   ]
  },
  {
   "cell_type": "code",
   "execution_count": 166,
   "metadata": {},
   "outputs": [
    {
     "data": {
      "image/png": "[encoded data removed]",
      "text/plain": [
       "<Figure size 640x480 with 1 Axes>"
      ]
     },
     "metadata": {},
     "output_type": "display_data"
    }
   ],
   "source": [
    "sns.boxplot(x='Churn',y='Total minutes',data=data)\n",
    "plt.show()"
   ]
  },
  {
   "cell_type": "code",
   "execution_count": 167,
   "metadata": {},
   "outputs": [
    {
     "data": {
      "image/png": "[encoded data removed]",
      "text/plain": [
       "<Figure size 640x480 with 1 Axes>"
      ]
     },
     "metadata": {},
     "output_type": "display_data"
    }
   ],
   "source": [
    "sns.boxplot(x='Churn',y='Total calls',data=data)\n",
    "plt.show()"
   ]
  },
  {
   "cell_type": "code",
   "execution_count": 168,
   "metadata": {},
   "outputs": [
    {
     "data": {
      "image/png": "[encoded data removed]",
      "text/plain": [
       "<Figure size 640x480 with 1 Axes>"
      ]
     },
     "metadata": {},
     "output_type": "display_data"
    }
   ],
   "source": [
    "sns.boxplot(x='Churn',y='Total calls',data=data)\n",
    "plt.show()"
   ]
  },
  {
   "cell_type": "code",
   "execution_count": 169,
   "metadata": {},
   "outputs": [
    {
     "data": {
      "image/png": "[encoded data removed]",
      "text/plain": [
       "<Figure size 640x480 with 1 Axes>"
      ]
     },
     "metadata": {},
     "output_type": "display_data"
    }
   ],
   "source": [
    "sns.boxplot(x='Churn',y='Total charge',data=data)\n",
    "plt.show()"
   ]
  },
  {
   "cell_type": "code",
   "execution_count": 170,
   "metadata": {},
   "outputs": [
    {
     "data": {
      "image/png": "[encoded data removed]",
      "text/plain": [
       "<Figure size 640x480 with 1 Axes>"
      ]
     },
     "metadata": {},
     "output_type": "display_data"
    }
   ],
   "source": [
    "sns.boxplot(x='Churn',y='Customer service calls',data=data)\n",
    "plt.show()"
   ]
  },
  {
   "cell_type": "code",
   "execution_count": null,
   "metadata": {},
   "outputs": [],
   "source": []
  },
  {
   "cell_type": "markdown",
   "metadata": {},
   "source": [
    "# MULTIVARIADO"
   ]
  },
  {
   "cell_type": "code",
   "execution_count": 171,
   "metadata": {},
   "outputs": [
    {
     "data": {
      "image/png": "[encoded data removed]",
      "text/plain": [
       "<Figure size 640x480 with 2 Axes>"
      ]
     },
     "metadata": {},
     "output_type": "display_data"
    }
   ],
   "source": [
    "sns.heatmap(data.loc[:,['Number vmail messages','Total minutes','Total charge','Customer service calls']].corr(method = \"pearson\"))\n",
    "plt.show()"
   ]
  },
  {
   "cell_type": "code",
   "execution_count": 172,
   "metadata": {},
   "outputs": [
    {
     "data": {
      "text/html": [
       "<div>\n",
       "<style scoped>\n",
       "    .dataframe tbody tr th:only-of-type {\n",
       "        vertical-align: middle;\n",
       "    }\n",
       "\n",
       "    .dataframe tbody tr th {\n",
       "        vertical-align: top;\n",
       "    }\n",
       "\n",
       "    .dataframe thead th {\n",
       "        text-align: right;\n",
       "    }\n",
       "</style>\n",
       "<table border=\"1\" class=\"dataframe\">\n",
       "  <thead>\n",
       "    <tr style=\"text-align: right;\">\n",
       "      <th></th>\n",
       "      <th>Number vmail messages</th>\n",
       "      <th>Total minutes</th>\n",
       "      <th>Total charge</th>\n",
       "      <th>Customer service calls</th>\n",
       "    </tr>\n",
       "  </thead>\n",
       "  <tbody>\n",
       "    <tr>\n",
       "      <th>Number vmail messages</th>\n",
       "      <td>1.000000</td>\n",
       "      <td>0.014779</td>\n",
       "      <td>0.009766</td>\n",
       "      <td>-0.013263</td>\n",
       "    </tr>\n",
       "    <tr>\n",
       "      <th>Total minutes</th>\n",
       "      <td>0.014779</td>\n",
       "      <td>1.000000</td>\n",
       "      <td>0.890804</td>\n",
       "      <td>-0.020969</td>\n",
       "    </tr>\n",
       "    <tr>\n",
       "      <th>Total charge</th>\n",
       "      <td>0.009766</td>\n",
       "      <td>0.890804</td>\n",
       "      <td>1.000000</td>\n",
       "      <td>-0.019873</td>\n",
       "    </tr>\n",
       "    <tr>\n",
       "      <th>Customer service calls</th>\n",
       "      <td>-0.013263</td>\n",
       "      <td>-0.020969</td>\n",
       "      <td>-0.019873</td>\n",
       "      <td>1.000000</td>\n",
       "    </tr>\n",
       "  </tbody>\n",
       "</table>\n",
       "</div>"
      ],
      "text/plain": [
       "                        Number vmail messages  Total minutes  Total charge  \\\n",
       "Number vmail messages                1.000000       0.014779      0.009766   \n",
       "Total minutes                        0.014779       1.000000      0.890804   \n",
       "Total charge                         0.009766       0.890804      1.000000   \n",
       "Customer service calls              -0.013263      -0.020969     -0.019873   \n",
       "\n",
       "                        Customer service calls  \n",
       "Number vmail messages                -0.013263  \n",
       "Total minutes                        -0.020969  \n",
       "Total charge                         -0.019873  \n",
       "Customer service calls                1.000000  "
      ]
     },
     "execution_count": 172,
     "metadata": {},
     "output_type": "execute_result"
    }
   ],
   "source": [
    "data.loc[:,['Number vmail messages','Total minutes','Total charge','Customer service calls']].corr(method = \"pearson\")"
   ]
  },
  {
   "cell_type": "code",
   "execution_count": 173,
   "metadata": {},
   "outputs": [
    {
     "data": {
      "text/plain": [
       "PearsonRResult(statistic=0.8908044705030175, pvalue=0.0)"
      ]
     },
     "execution_count": 173,
     "metadata": {},
     "output_type": "execute_result"
    }
   ],
   "source": [
    "ss.pearsonr(data['Total minutes'],data['Total charge'])"
   ]
  },
  {
   "cell_type": "code",
   "execution_count": 174,
   "metadata": {},
   "outputs": [],
   "source": [
    "data['Churn'] = data['Churn'].astype('int64')"
   ]
  },
  {
   "cell_type": "code",
   "execution_count": 175,
   "metadata": {},
   "outputs": [
    {
     "data": {
      "text/plain": [
       "Churn\n",
       "0    2850\n",
       "1     483\n",
       "Name: count, dtype: int64"
      ]
     },
     "execution_count": 175,
     "metadata": {},
     "output_type": "execute_result"
    }
   ],
   "source": [
    "data.Churn.value_counts()"
   ]
  },
  {
   "cell_type": "code",
   "execution_count": 176,
   "metadata": {},
   "outputs": [],
   "source": [
    "X = data[['c_International_plan','c_Voice_mail_plan','Number vmail messages','Total minutes','Total charge','Customer service calls']]\n",
    "y = data['Churn']"
   ]
  },
  {
   "cell_type": "code",
   "execution_count": 177,
   "metadata": {},
   "outputs": [],
   "source": [
    "X = X.to_numpy()"
   ]
  },
  {
   "cell_type": "code",
   "execution_count": 178,
   "metadata": {},
   "outputs": [],
   "source": [
    "y = y.to_numpy()"
   ]
  },
  {
   "cell_type": "code",
   "execution_count": 179,
   "metadata": {},
   "outputs": [],
   "source": [
    "X_train, X_test, y_train, y_test = train_test_split(X, y, test_size = 0.20, random_state = 0)"
   ]
  },
  {
   "cell_type": "markdown",
   "metadata": {},
   "source": [
    "# Base"
   ]
  },
  {
   "cell_type": "code",
   "execution_count": 180,
   "metadata": {},
   "outputs": [
    {
     "data": {
      "text/plain": [
       "(array([[-0.32732684,  1.63467927,  2.58447177, -0.74233081, -0.38804139,\n",
       "         -0.44351992],\n",
       "        [-0.32732684, -0.6117408 , -0.58560639, -0.14543277,  0.19371111,\n",
       "         -0.44351992],\n",
       "        [-0.32732684, -0.6117408 , -0.58560639, -0.61179423,  0.13926137,\n",
       "         -0.44351992],\n",
       "        [-0.32732684, -0.6117408 , -0.58560639, -0.93199934, -0.53133018,\n",
       "         -1.19331328],\n",
       "        [-0.32732684, -0.6117408 , -0.58560639,  0.599853  ,  0.79170302,\n",
       "          1.05606678]]),\n",
       " (2666, 6),\n",
       " array([[-0.32732684, -0.6117408 , -0.58560639, -0.38084489, -0.66697691,\n",
       "         -0.44351992],\n",
       "        [-0.32732684,  1.63467927,  1.47863055, -0.97885863, -0.32594958,\n",
       "          1.05606678],\n",
       "        [-0.32732684,  1.63467927,  1.99468979,  0.39121761,  0.68566931,\n",
       "         -1.19331328],\n",
       "        [-0.32732684, -0.6117408 , -0.58560639,  0.90778545,  1.039115  ,\n",
       "          1.80586013],\n",
       "        [-0.32732684,  1.63467927,  1.62607605,  1.05840458,  0.47742293,\n",
       "         -1.19331328]]),\n",
       " (667, 6))"
      ]
     },
     "execution_count": 180,
     "metadata": {},
     "output_type": "execute_result"
    }
   ],
   "source": [
    "X_train_base = sc.fit_transform(X_train)\n",
    "X_test_base = sc.transform(X_test)\n",
    "X_train_base[:5],X_train_base.shape, X_test_base[:5],X_test_base.shape"
   ]
  },
  {
   "cell_type": "code",
   "execution_count": 181,
   "metadata": {},
   "outputs": [],
   "source": [
    "knn_classifier = KNeighborsClassifier(n_neighbors=5)\n",
    "knn_classifier.fit(X_train_base, y_train)\n",
    "resultados.append(evaluate_model(knn_classifier, X_test_base, y_test, \"KNN_Base\"))"
   ]
  },
  {
   "cell_type": "code",
   "execution_count": 182,
   "metadata": {},
   "outputs": [],
   "source": [
    "nb_classifier = GaussianNB()\n",
    "nb_classifier.fit(X_train_base, y_train)\n",
    "resultados.append(evaluate_model(nb_classifier, X_test_base, y_test, \"Naive Bayes_Base\"))"
   ]
  },
  {
   "cell_type": "code",
   "execution_count": 183,
   "metadata": {},
   "outputs": [],
   "source": [
    "rl_classifier = LogisticRegression(random_state=0)\n",
    "rl_classifier.fit(X_train_base, y_train)\n",
    "resultados.append(evaluate_model(rl_classifier, X_test_base, y_test, \"RL_Base\"))"
   ]
  },
  {
   "cell_type": "code",
   "execution_count": null,
   "metadata": {},
   "outputs": [],
   "source": []
  },
  {
   "cell_type": "markdown",
   "metadata": {},
   "source": [
    "# SMOTE"
   ]
  },
  {
   "cell_type": "code",
   "execution_count": 184,
   "metadata": {},
   "outputs": [
    {
     "data": {
      "text/plain": [
       "(array([[-0.32732684,  1.63467927,  2.58447177, -0.74233081, -0.38804139,\n",
       "         -0.44351992],\n",
       "        [-0.32732684, -0.6117408 , -0.58560639, -0.14543277,  0.19371111,\n",
       "         -0.44351992],\n",
       "        [-0.32732684, -0.6117408 , -0.58560639, -0.61179423,  0.13926137,\n",
       "         -0.44351992],\n",
       "        [-0.32732684, -0.6117408 , -0.58560639, -0.93199934, -0.53133018,\n",
       "         -1.19331328],\n",
       "        [-0.32732684, -0.6117408 , -0.58560639,  0.599853  ,  0.79170302,\n",
       "          1.05606678]]),\n",
       " array([[-0.32732684, -0.6117408 , -0.58560639, -0.38084489, -0.66697691,\n",
       "         -0.44351992],\n",
       "        [-0.32732684,  1.63467927,  1.47863055, -0.97885863, -0.32594958,\n",
       "          1.05606678],\n",
       "        [-0.32732684,  1.63467927,  1.99468979,  0.39121761,  0.68566931,\n",
       "         -1.19331328],\n",
       "        [-0.32732684, -0.6117408 , -0.58560639,  0.90778545,  1.039115  ,\n",
       "          1.80586013],\n",
       "        [-0.32732684,  1.63467927,  1.62607605,  1.05840458,  0.47742293,\n",
       "         -1.19331328]]))"
      ]
     },
     "execution_count": 184,
     "metadata": {},
     "output_type": "execute_result"
    }
   ],
   "source": [
    "X_train_smote = sc.fit_transform(X_train)\n",
    "X_test_smote = sc.transform(X_test)\n",
    "X_train_smote, y_train_smote = sm.fit_resample(X_train_smote, y_train)\n",
    "X_train_smote[:5], X_test_smote[:5]"
   ]
  },
  {
   "cell_type": "code",
   "execution_count": 185,
   "metadata": {},
   "outputs": [],
   "source": [
    "knn_classifier = KNeighborsClassifier(n_neighbors=5)\n",
    "knn_classifier.fit(X_train_smote, y_train_smote)\n",
    "resultados.append(evaluate_model(knn_classifier, X_test_smote, y_test, \"KNN_SMOTE\"))"
   ]
  },
  {
   "cell_type": "code",
   "execution_count": 186,
   "metadata": {},
   "outputs": [],
   "source": [
    "rl_classifier = LogisticRegression(random_state=0)\n",
    "rl_classifier.fit(X_train_smote, y_train_smote)\n",
    "resultados.append(evaluate_model(rl_classifier, X_test_smote, y_test, \"RL_SMOTE\"))"
   ]
  },
  {
   "cell_type": "code",
   "execution_count": 187,
   "metadata": {},
   "outputs": [],
   "source": [
    "nb_classifier = GaussianNB()\n",
    "nb_classifier.fit(X_train_smote, y_train_smote)\n",
    "resultados.append(evaluate_model(nb_classifier, X_test_smote, y_test, \"Naive Bayes_SMOTE\"))"
   ]
  },
  {
   "cell_type": "markdown",
   "metadata": {},
   "source": [
    "# Oversampling"
   ]
  },
  {
   "cell_type": "code",
   "execution_count": 188,
   "metadata": {},
   "outputs": [
    {
     "data": {
      "text/plain": [
       "(array([[-0.46560386,  1.81280235,  2.76907703, -0.82589898, -0.51694348,\n",
       "         -0.53744621],\n",
       "        [-0.46560386, -0.55163212, -0.52987585, -0.29304455, -0.01846662,\n",
       "         -0.53744621],\n",
       "        [-0.46560386, -0.55163212, -0.52987585, -0.7093682 , -0.06512209,\n",
       "         -0.53744621],\n",
       "        [-0.46560386, -0.55163212, -0.52987585, -0.99521721, -0.63972103,\n",
       "         -1.16458159],\n",
       "        [-0.46560386, -0.55163212, -0.52987585,  0.37227649,  0.49392503,\n",
       "          0.71682456]]),\n",
       " array([[-0.46560386, -0.55163212, -0.52987585, -0.50319836, -0.75595045,\n",
       "         -0.53744621],\n",
       "        [-0.46560386,  1.81280235,  1.61827951, -1.03704877, -0.46373988,\n",
       "          0.71682456],\n",
       "        [-0.46560386,  1.81280235,  2.15531835,  0.18602644,  0.40306964,\n",
       "         -1.16458159],\n",
       "        [-0.46560386, -0.55163212, -0.52987585,  0.64716961,  0.70592093,\n",
       "          1.34395994],\n",
       "        [-0.46560386,  1.81280235,  1.77171918,  0.78162821,  0.22463293,\n",
       "         -1.16458159]]))"
      ]
     },
     "execution_count": 188,
     "metadata": {},
     "output_type": "execute_result"
    }
   ],
   "source": [
    "X_train_oversamplig, y_train_oversampling = ros.fit_resample(X_train, y_train)\n",
    "X_train_oversamplig = sc.fit_transform(X_train_oversamplig)\n",
    "X_test_oversamplig = sc.transform(X_test)\n",
    "X_train_oversamplig[:5], X_test_oversamplig[:5]"
   ]
  },
  {
   "cell_type": "code",
   "execution_count": 189,
   "metadata": {},
   "outputs": [],
   "source": [
    "knn_classifier = KNeighborsClassifier(n_neighbors=5)\n",
    "knn_classifier.fit(X_train_oversamplig, y_train_oversampling)\n",
    "resultados.append(evaluate_model(knn_classifier, X_test_oversamplig, y_test, \"KNN_Oversampling\"))"
   ]
  },
  {
   "cell_type": "code",
   "execution_count": 190,
   "metadata": {},
   "outputs": [],
   "source": [
    "nb_classifier = GaussianNB()\n",
    "nb_classifier.fit(X_train_oversamplig, y_train_oversampling)\n",
    "resultados.append(evaluate_model(nb_classifier, X_test_oversamplig, y_test, \"Naive Bayes_Oversampling\"))"
   ]
  },
  {
   "cell_type": "code",
   "execution_count": 191,
   "metadata": {},
   "outputs": [],
   "source": [
    "rl_classifier = LogisticRegression(random_state=0)\n",
    "rl_classifier.fit(X_train_oversamplig, y_train_oversampling)\n",
    "resultados.append(evaluate_model(rl_classifier, X_test_oversamplig, y_test, \"RL_Oversampling\"))"
   ]
  },
  {
   "cell_type": "markdown",
   "metadata": {},
   "source": [
    "# Undersampling"
   ]
  },
  {
   "cell_type": "code",
   "execution_count": 192,
   "metadata": {},
   "outputs": [
    {
     "data": {
      "text/plain": [
       "(array([[-0.4472136 , -0.5398062 , -0.51830431,  0.05623083, -0.28314198,\n",
       "          0.08224225],\n",
       "        [-0.4472136 , -0.5398062 , -0.51830431,  0.1337098 ,  0.18910567,\n",
       "         -1.1513915 ],\n",
       "        [ 2.23606798,  1.85251672,  2.26928142, -0.08581394, -0.26550285,\n",
       "         -0.53457463],\n",
       "        [-0.4472136 ,  1.85251672,  1.10778736,  0.7416217 ,  1.24905712,\n",
       "          1.93269288],\n",
       "        [-0.4472136 ,  1.85251672,  1.8046838 ,  0.45753215,  0.44326952,\n",
       "          0.08224225]]),\n",
       " array([[-0.4472136 , -0.5398062 , -0.51830431, -0.45532902, -0.70487758,\n",
       "         -0.53457463],\n",
       "        [-0.4472136 ,  1.85251672,  1.64981792, -0.98774859, -0.41864258,\n",
       "          0.69905913],\n",
       "        [-0.4472136 ,  1.85251672,  2.19184848,  0.23204849,  0.43044106,\n",
       "         -1.1513915 ],\n",
       "        [-0.4472136 , -0.5398062 , -0.51830431,  0.69195569,  0.72709918,\n",
       "          1.315876  ],\n",
       "        [-0.4472136 ,  1.85251672,  1.8046838 ,  0.82605391,  0.25565331,\n",
       "         -1.1513915 ]]))"
      ]
     },
     "execution_count": 192,
     "metadata": {},
     "output_type": "execute_result"
    }
   ],
   "source": [
    "X_train_undersampling, y_train_undersampling = rus.fit_resample(X_train, y_train)\n",
    "X_train_undersampling = sc.fit_transform(X_train_undersampling)\n",
    "X_test_undersampling = sc.transform(X_test)\n",
    "X_train_undersampling[:5], X_test_undersampling[:5]"
   ]
  },
  {
   "cell_type": "code",
   "execution_count": 193,
   "metadata": {},
   "outputs": [],
   "source": [
    "knn_classifier = KNeighborsClassifier(n_neighbors=5)\n",
    "knn_classifier.fit(X_train_undersampling, y_train_undersampling)\n",
    "resultados.append(evaluate_model(knn_classifier, X_test_undersampling, y_test, \"KNN_Undersampling\"))"
   ]
  },
  {
   "cell_type": "code",
   "execution_count": 194,
   "metadata": {},
   "outputs": [],
   "source": [
    "nb_classifier = GaussianNB()\n",
    "nb_classifier.fit(X_train_undersampling, y_train_undersampling)\n",
    "resultados.append(evaluate_model(nb_classifier, X_test_oversamplig, y_test, \"Naive Bayes_Undersampling\"))"
   ]
  },
  {
   "cell_type": "code",
   "execution_count": 195,
   "metadata": {},
   "outputs": [],
   "source": [
    "rl_classifier = LogisticRegression(random_state=0)\n",
    "rl_classifier.fit(X_train_undersampling, y_train_undersampling)\n",
    "resultados.append(evaluate_model(rl_classifier, X_test_oversamplig, y_test, \"RL_Undersampling\"))"
   ]
  },
  {
   "cell_type": "code",
   "execution_count": 196,
   "metadata": {},
   "outputs": [
    {
     "name": "stdout",
     "output_type": "stream",
     "text": [
      "                       Modelo  Sensibilidad       ROC      GINI\n",
      "0                    KNN_Base      0.677419  0.903610  0.807220\n",
      "1            Naive Bayes_Base      0.537634  0.857724  0.715447\n",
      "2                     RL_Base      0.182796  0.869788  0.739575\n",
      "3                   KNN_SMOTE      0.817204  0.896416  0.792833\n",
      "4                    RL_SMOTE      0.806452  0.869338  0.738676\n",
      "5           Naive Bayes_SMOTE      0.849462  0.858604  0.717208\n",
      "6            KNN_Oversampling      0.817204  0.882414  0.764827\n",
      "7    Naive Bayes_Oversampling      0.849462  0.857911  0.715822\n",
      "8             RL_Oversampling      0.806452  0.868870  0.737739\n",
      "9           KNN_Undersampling      0.849462  0.903544  0.807089\n",
      "10  Naive Bayes_Undersampling      0.763441  0.851092  0.702184\n",
      "11           RL_Undersampling      0.806452  0.867465  0.734929\n"
     ]
    }
   ],
   "source": [
    "df_resultados = pd.DataFrame(resultados)\n",
    "print(df_resultados)"
   ]
  },
  {
   "cell_type": "code",
   "execution_count": 197,
   "metadata": {},
   "outputs": [
    {
     "data": {
      "text/html": [
       "<div>\n",
       "<style scoped>\n",
       "    .dataframe tbody tr th:only-of-type {\n",
       "        vertical-align: middle;\n",
       "    }\n",
       "\n",
       "    .dataframe tbody tr th {\n",
       "        vertical-align: top;\n",
       "    }\n",
       "\n",
       "    .dataframe thead th {\n",
       "        text-align: right;\n",
       "    }\n",
       "</style>\n",
       "<table border=\"1\" class=\"dataframe\">\n",
       "  <thead>\n",
       "    <tr style=\"text-align: right;\">\n",
       "      <th></th>\n",
       "      <th>Modelo</th>\n",
       "      <th>Sensibilidad</th>\n",
       "      <th>ROC</th>\n",
       "      <th>GINI</th>\n",
       "    </tr>\n",
       "  </thead>\n",
       "  <tbody>\n",
       "    <tr>\n",
       "      <th>0</th>\n",
       "      <td>KNN_Base</td>\n",
       "      <td>0.677419</td>\n",
       "      <td>0.903610</td>\n",
       "      <td>0.807220</td>\n",
       "    </tr>\n",
       "    <tr>\n",
       "      <th>1</th>\n",
       "      <td>Naive Bayes_Base</td>\n",
       "      <td>0.537634</td>\n",
       "      <td>0.857724</td>\n",
       "      <td>0.715447</td>\n",
       "    </tr>\n",
       "    <tr>\n",
       "      <th>2</th>\n",
       "      <td>RL_Base</td>\n",
       "      <td>0.182796</td>\n",
       "      <td>0.869788</td>\n",
       "      <td>0.739575</td>\n",
       "    </tr>\n",
       "    <tr>\n",
       "      <th>3</th>\n",
       "      <td>KNN_SMOTE</td>\n",
       "      <td>0.817204</td>\n",
       "      <td>0.896416</td>\n",
       "      <td>0.792833</td>\n",
       "    </tr>\n",
       "    <tr>\n",
       "      <th>4</th>\n",
       "      <td>RL_SMOTE</td>\n",
       "      <td>0.806452</td>\n",
       "      <td>0.869338</td>\n",
       "      <td>0.738676</td>\n",
       "    </tr>\n",
       "    <tr>\n",
       "      <th>5</th>\n",
       "      <td>Naive Bayes_SMOTE</td>\n",
       "      <td>0.849462</td>\n",
       "      <td>0.858604</td>\n",
       "      <td>0.717208</td>\n",
       "    </tr>\n",
       "    <tr>\n",
       "      <th>6</th>\n",
       "      <td>KNN_Oversampling</td>\n",
       "      <td>0.817204</td>\n",
       "      <td>0.882414</td>\n",
       "      <td>0.764827</td>\n",
       "    </tr>\n",
       "    <tr>\n",
       "      <th>7</th>\n",
       "      <td>Naive Bayes_Oversampling</td>\n",
       "      <td>0.849462</td>\n",
       "      <td>0.857911</td>\n",
       "      <td>0.715822</td>\n",
       "    </tr>\n",
       "    <tr>\n",
       "      <th>8</th>\n",
       "      <td>RL_Oversampling</td>\n",
       "      <td>0.806452</td>\n",
       "      <td>0.868870</td>\n",
       "      <td>0.737739</td>\n",
       "    </tr>\n",
       "    <tr>\n",
       "      <th>9</th>\n",
       "      <td>KNN_Undersampling</td>\n",
       "      <td>0.849462</td>\n",
       "      <td>0.903544</td>\n",
       "      <td>0.807089</td>\n",
       "    </tr>\n",
       "    <tr>\n",
       "      <th>10</th>\n",
       "      <td>Naive Bayes_Undersampling</td>\n",
       "      <td>0.763441</td>\n",
       "      <td>0.851092</td>\n",
       "      <td>0.702184</td>\n",
       "    </tr>\n",
       "    <tr>\n",
       "      <th>11</th>\n",
       "      <td>RL_Undersampling</td>\n",
       "      <td>0.806452</td>\n",
       "      <td>0.867465</td>\n",
       "      <td>0.734929</td>\n",
       "    </tr>\n",
       "  </tbody>\n",
       "</table>\n",
       "</div>"
      ],
      "text/plain": [
       "                       Modelo  Sensibilidad       ROC      GINI\n",
       "0                    KNN_Base      0.677419  0.903610  0.807220\n",
       "1            Naive Bayes_Base      0.537634  0.857724  0.715447\n",
       "2                     RL_Base      0.182796  0.869788  0.739575\n",
       "3                   KNN_SMOTE      0.817204  0.896416  0.792833\n",
       "4                    RL_SMOTE      0.806452  0.869338  0.738676\n",
       "5           Naive Bayes_SMOTE      0.849462  0.858604  0.717208\n",
       "6            KNN_Oversampling      0.817204  0.882414  0.764827\n",
       "7    Naive Bayes_Oversampling      0.849462  0.857911  0.715822\n",
       "8             RL_Oversampling      0.806452  0.868870  0.737739\n",
       "9           KNN_Undersampling      0.849462  0.903544  0.807089\n",
       "10  Naive Bayes_Undersampling      0.763441  0.851092  0.702184\n",
       "11           RL_Undersampling      0.806452  0.867465  0.734929"
      ]
     },
     "execution_count": 197,
     "metadata": {},
     "output_type": "execute_result"
    }
   ],
   "source": [
    "df_resultados"
   ]
  },
  {
   "cell_type": "code",
   "execution_count": 198,
   "metadata": {},
   "outputs": [
    {
     "name": "stderr",
     "output_type": "stream",
     "text": [
      "c:\\Python\\Python311\\Lib\\site-packages\\sklearn\\linear_model\\_logistic.py:460: ConvergenceWarning: lbfgs failed to converge (status=1):\n",
      "STOP: TOTAL NO. of ITERATIONS REACHED LIMIT.\n",
      "\n",
      "Increase the number of iterations (max_iter) or scale the data as shown in:\n",
      "    https://scikit-learn.org/stable/modules/preprocessing.html\n",
      "Please also refer to the documentation for alternative solver options:\n",
      "    https://scikit-learn.org/stable/modules/linear_model.html#logistic-regression\n",
      "  n_iter_i = _check_optimize_result(\n"
     ]
    },
    {
     "data": {
      "image/png": "[encoded data removed]",
      "text/plain": [
       "<Figure size 1000x700 with 1 Axes>"
      ]
     },
     "metadata": {},
     "output_type": "display_data"
    }
   ],
   "source": [
    "import pandas as pd\n",
    "import matplotlib.pyplot as plt\n",
    "from sklearn.model_selection import train_test_split\n",
    "from sklearn.preprocessing import StandardScaler\n",
    "from sklearn.linear_model import LogisticRegression\n",
    "from sklearn.neighbors import KNeighborsClassifier\n",
    "from sklearn.naive_bayes import GaussianNB\n",
    "from sklearn.metrics import roc_curve, auc\n",
    "\n",
    "\n",
    "\n",
    "# Modelos a evaluar\n",
    "models = {\n",
    "    \"RL_Base\": LogisticRegression(random_state=0),\n",
    "    \"KNN_Base\": KNeighborsClassifier(n_neighbors=5),\n",
    "    \"Naive Bayes_Base\": GaussianNB()\n",
    "}\n",
    "\n",
    "plt.figure(figsize=(10, 7))\n",
    "\n",
    "# Calcular y graficar la curva ROC para cada modelo\n",
    "for name, model in models.items():\n",
    "    model.fit(X_train, y_train)\n",
    "    y_pred_prob = model.predict_proba(X_test)[:, 1]\n",
    "    fpr, tpr, _ = roc_curve(y_test, y_pred_prob)\n",
    "    roc_auc = auc(fpr, tpr)\n",
    "    plt.plot(fpr, tpr, label=f'{name} (area = {roc_auc:.2f})')\n",
    "\n",
    "plt.plot([0, 1], [0, 1], 'k--')\n",
    "plt.xlim([0.0, 1.0])\n",
    "plt.ylim([0.0, 1.05])\n",
    "plt.xlabel('Tasa Falsa Positiva')\n",
    "plt.ylabel('Tasa Verdadera Positiva')\n",
    "plt.title('Curvas ROC para RL, KNN y NB')\n",
    "plt.legend(loc=\"lower right\")\n",
    "plt.show()\n"
   ]
  },
  {
   "cell_type": "code",
   "execution_count": null,
   "metadata": {},
   "outputs": [],
   "source": []
  },
  {
   "cell_type": "code",
   "execution_count": null,
   "metadata": {},
   "outputs": [],
   "source": []
  },
  {
   "cell_type": "code",
   "execution_count": 199,
   "metadata": {},
   "outputs": [
    {
     "ename": "AttributeError",
     "evalue": "'numpy.ndarray' object has no attribute 'columns'",
     "output_type": "error",
     "traceback": [
      "\u001b[1;31m---------------------------------------------------------------------------\u001b[0m",
      "\u001b[1;31mAttributeError\u001b[0m                            Traceback (most recent call last)",
      "\u001b[1;32mc:\\Users\\carlo\\PYTHON CODIGOS\\GITHUB\\MDA\\ADVANCED-DATA-MINING\\Examen\\Solucion.ipynb Celda 59\u001b[0m line \u001b[0;36m1\n\u001b[1;32m----> <a href='vscode-notebook-cell:/c%3A/Users/carlo/PYTHON%20CODIGOS/GITHUB/MDA/ADVANCED-DATA-MINING/Examen/Solucion.ipynb#X15sZmlsZQ%3D%3D?line=0'>1</a>\u001b[0m X\u001b[39m.\u001b[39;49mcolumns\n",
      "\u001b[1;31mAttributeError\u001b[0m: 'numpy.ndarray' object has no attribute 'columns'"
     ]
    }
   ],
   "source": [
    "X.columns"
   ]
  },
  {
   "cell_type": "code",
   "execution_count": null,
   "metadata": {},
   "outputs": [
    {
     "data": {
      "text/plain": [
       "ShapiroResult(statistic=0.6197336912155151, pvalue=0.0)"
      ]
     },
     "execution_count": 17,
     "metadata": {},
     "output_type": "execute_result"
    }
   ],
   "source": [
    "ss.shapiro(X['Number vmail messages'])"
   ]
  },
  {
   "cell_type": "code",
   "execution_count": null,
   "metadata": {},
   "outputs": [
    {
     "name": "stdout",
     "output_type": "stream",
     "text": [
      "State\n"
     ]
    },
    {
     "ename": "AttributeError",
     "evalue": "'str' object has no attribute 'type'",
     "output_type": "error",
     "traceback": [
      "\u001b[1;31m---------------------------------------------------------------------------\u001b[0m",
      "\u001b[1;31mAttributeError\u001b[0m                            Traceback (most recent call last)",
      "\u001b[1;32mc:\\Users\\carlo\\PYTHON CODIGOS\\GITHUB\\MDA\\ADVANCED-DATA-MINING\\Examen\\Solucion.ipynb Celda 8\u001b[0m line \u001b[0;36m3\n\u001b[0;32m      <a href='vscode-notebook-cell:/c%3A/Users/carlo/PYTHON%20CODIGOS/GITHUB/MDA/ADVANCED-DATA-MINING/Examen/Solucion.ipynb#X16sZmlsZQ%3D%3D?line=0'>1</a>\u001b[0m \u001b[39mfor\u001b[39;00m a \u001b[39min\u001b[39;00m X\u001b[39m.\u001b[39mcolumns:\n\u001b[0;32m      <a href='vscode-notebook-cell:/c%3A/Users/carlo/PYTHON%20CODIGOS/GITHUB/MDA/ADVANCED-DATA-MINING/Examen/Solucion.ipynb#X16sZmlsZQ%3D%3D?line=1'>2</a>\u001b[0m   \u001b[39mprint\u001b[39m(a)\n\u001b[1;32m----> <a href='vscode-notebook-cell:/c%3A/Users/carlo/PYTHON%20CODIGOS/GITHUB/MDA/ADVANCED-DATA-MINING/Examen/Solucion.ipynb#X16sZmlsZQ%3D%3D?line=2'>3</a>\u001b[0m   a\u001b[39m.\u001b[39;49mtype\n\u001b[0;32m      <a href='vscode-notebook-cell:/c%3A/Users/carlo/PYTHON%20CODIGOS/GITHUB/MDA/ADVANCED-DATA-MINING/Examen/Solucion.ipynb#X16sZmlsZQ%3D%3D?line=3'>4</a>\u001b[0m   \u001b[39m#columna = a.\u001b[39;00m\n\u001b[0;32m      <a href='vscode-notebook-cell:/c%3A/Users/carlo/PYTHON%20CODIGOS/GITHUB/MDA/ADVANCED-DATA-MINING/Examen/Solucion.ipynb#X16sZmlsZQ%3D%3D?line=4'>5</a>\u001b[0m   \u001b[39m#ss.shapiro(X[''+a+''])\u001b[39;00m\n",
      "\u001b[1;31mAttributeError\u001b[0m: 'str' object has no attribute 'type'"
     ]
    }
   ],
   "source": [
    "for a in X.columns:\n",
    "  print(a)\n",
    "  #columna = a.\n",
    "  #ss.shapiro(X[''+a+''])"
   ]
  },
  {
   "cell_type": "code",
   "execution_count": null,
   "metadata": {},
   "outputs": [
    {
     "data": {
      "image/png": "[encoded data removed]",
      "text/plain": [
       "<Figure size 1000x600 with 1 Axes>"
      ]
     },
     "metadata": {},
     "output_type": "display_data"
    }
   ],
   "source": [
    "import pandas as pd\n",
    "import matplotlib.pyplot as plt\n",
    "\n",
    "# Suponiendo que df_resultados ya está definido\n",
    "# Seleccionar los tres modelos más adecuados basados en GINI (por ejemplo)\n",
    "top_3_models = df_resultados.nlargest(3, 'GINI')\n",
    "\n",
    "# Graficar Sensibilidad, ROC, y GINI para estos modelos\n",
    "fig, ax = plt.subplots(figsize=(10, 6))\n",
    "top_3_models.set_index('Modelo')[['Sensibilidad', 'ROC', 'GINI']].plot(kind='bar', ax=ax)\n",
    "plt.title('Métricas para los tres modelos más adecuados')\n",
    "plt.ylabel('Valor')\n",
    "plt.xlabel('Modelo')\n",
    "plt.ylim([0, 1])\n",
    "plt.grid(axis='y')\n",
    "plt.tight_layout()\n",
    "plt.show()\n"
   ]
  },
  {
   "cell_type": "code",
   "execution_count": null,
   "metadata": {},
   "outputs": [
    {
     "ename": "NameError",
     "evalue": "name 'false_positive_rate' is not defined",
     "output_type": "error",
     "traceback": [
      "\u001b[1;31m---------------------------------------------------------------------------\u001b[0m",
      "\u001b[1;31mNameError\u001b[0m                                 Traceback (most recent call last)",
      "\u001b[1;32mc:\\Users\\carlo\\PYTHON CODIGOS\\GITHUB\\MDA\\ADVANCED-DATA-MINING\\Examen\\Solucion.ipynb Celda 62\u001b[0m line \u001b[0;36m2\n\u001b[0;32m      <a href='vscode-notebook-cell:/c%3A/Users/carlo/PYTHON%20CODIGOS/GITHUB/MDA/ADVANCED-DATA-MINING/Examen/Solucion.ipynb#X20sZmlsZQ%3D%3D?line=0'>1</a>\u001b[0m plt\u001b[39m.\u001b[39mtitle(\u001b[39m'\u001b[39m\u001b[39mReceiver Operating Characteristic\u001b[39m\u001b[39m'\u001b[39m)\n\u001b[1;32m----> <a href='vscode-notebook-cell:/c%3A/Users/carlo/PYTHON%20CODIGOS/GITHUB/MDA/ADVANCED-DATA-MINING/Examen/Solucion.ipynb#X20sZmlsZQ%3D%3D?line=1'>2</a>\u001b[0m plt\u001b[39m.\u001b[39mplot(false_positive_rate,true_positive_rate, color\u001b[39m=\u001b[39m\u001b[39m'\u001b[39m\u001b[39mred\u001b[39m\u001b[39m'\u001b[39m,label \u001b[39m=\u001b[39m \u001b[39m'\u001b[39m\u001b[39mAUC = \u001b[39m\u001b[39m%0.2f\u001b[39;00m\u001b[39m'\u001b[39m \u001b[39m%\u001b[39m roc_auc)\n\u001b[0;32m      <a href='vscode-notebook-cell:/c%3A/Users/carlo/PYTHON%20CODIGOS/GITHUB/MDA/ADVANCED-DATA-MINING/Examen/Solucion.ipynb#X20sZmlsZQ%3D%3D?line=2'>3</a>\u001b[0m plt\u001b[39m.\u001b[39mlegend(loc \u001b[39m=\u001b[39m \u001b[39m'\u001b[39m\u001b[39mlower right\u001b[39m\u001b[39m'\u001b[39m)\n\u001b[0;32m      <a href='vscode-notebook-cell:/c%3A/Users/carlo/PYTHON%20CODIGOS/GITHUB/MDA/ADVANCED-DATA-MINING/Examen/Solucion.ipynb#X20sZmlsZQ%3D%3D?line=3'>4</a>\u001b[0m plt\u001b[39m.\u001b[39mplot([\u001b[39m0\u001b[39m, \u001b[39m1\u001b[39m], [\u001b[39m0\u001b[39m, \u001b[39m1\u001b[39m],linestyle\u001b[39m=\u001b[39m\u001b[39m'\u001b[39m\u001b[39m--\u001b[39m\u001b[39m'\u001b[39m)\n",
      "\u001b[1;31mNameError\u001b[0m: name 'false_positive_rate' is not defined"
     ]
    },
    {
     "data": {
      "image/png": "[encoded data removed]",
      "text/plain": [
       "<Figure size 640x480 with 1 Axes>"
      ]
     },
     "metadata": {},
     "output_type": "display_data"
    }
   ],
   "source": [
    "plt.title('Receiver Operating Characteristic')\n",
    "plt.plot(false_positive_rate,true_positive_rate, color='red',label = 'AUC = %0.2f' % roc_auc)\n",
    "plt.legend(loc = 'lower right')\n",
    "plt.plot([0, 1], [0, 1],linestyle='--')\n",
    "plt.axis('tight')\n",
    "plt.ylabel('True Positive Rate')\n",
    "plt.xlabel('False Positive Rate')\n",
    "plt.show()"
   ]
  },
  {
   "cell_type": "code",
   "execution_count": null,
   "metadata": {},
   "outputs": [],
   "source": []
  },
  {
   "cell_type": "code",
   "execution_count": null,
   "metadata": {},
   "outputs": [],
   "source": []
  },
  {
   "cell_type": "code",
   "execution_count": null,
   "metadata": {},
   "outputs": [],
   "source": [
    "X_train, X_test, y_train, y_test = train_test_split(X, y, test_size=0.20, random_state=0)\n",
    "X_train.shape, X_test.shape, y_train.shape, y_test.shape"
   ]
  },
  {
   "cell_type": "code",
   "execution_count": null,
   "metadata": {},
   "outputs": [],
   "source": []
  },
  {
   "cell_type": "code",
   "execution_count": null,
   "metadata": {},
   "outputs": [],
   "source": []
  },
  {
   "cell_type": "code",
   "execution_count": null,
   "metadata": {},
   "outputs": [],
   "source": []
  },
  {
   "cell_type": "code",
   "execution_count": null,
   "metadata": {},
   "outputs": [],
   "source": [
    "def evaluate_model(classifier, X_test, y_test, model_name):\n",
    "  y_pred = classifier.predict(X_test)\n",
    "  y_pred_prob = classifier.predict_proba(X_test)\n",
    "  \n",
    "  sensibilidad = recall_score(y_test, y_pred)\n",
    "  false_positive_rate, true_positive_rate, thresholds = roc_curve(y_test, y_pred_prob[:,1])\n",
    "  roc_auc = auc(false_positive_rate, true_positive_rate)\n",
    "  gini = 2 * roc_auc - 1\n",
    "  \n",
    "  return {\n",
    "      'Modelo': model_name,\n",
    "      'Sensibilidad': sensibilidad,\n",
    "      'ROC': roc_auc,\n",
    "      'GINI': gini\n",
    "  }\n",
    "\n",
    "data = pd.read_csv('datos/Social_Network_Ads.csv')\n",
    "data.head()\n",
    "X_train, X_test, y_train, y_test = train_test_split(X, y, test_size=0.20, random_state=0)\n",
    "X_train_base = sc.fit_transform(X_train)\n",
    "X_test_base = sc.transform(X_test)\n",
    "knn_classifier = KNeighborsClassifier(n_neighbors=5)\n",
    "knn_classifier.fit(X_train_base, y_train)\n",
    "resultados.append(evaluate_model(knn_classifier, X_test_base, y_test, \"KNN_Base\"))\n",
    "nb_classifier = GaussianNB()\n",
    "nb_classifier.fit(X_train_base, y_train)\n",
    "resultados.append(evaluate_model(nb_classifier, X_test_base, y_test, \"Naive Bayes_Base\"))\n",
    "\n",
    "\n",
    "\n"
   ]
  },
  {
   "cell_type": "code",
   "execution_count": null,
   "metadata": {},
   "outputs": [],
   "source": []
  },
  {
   "cell_type": "code",
   "execution_count": null,
   "metadata": {},
   "outputs": [],
   "source": []
  },
  {
   "cell_type": "code",
   "execution_count": null,
   "metadata": {},
   "outputs": [],
   "source": []
  }
 ],
 "metadata": {
  "kernelspec": {
   "display_name": "Python 3",
   "language": "python",
   "name": "python3"
  },
  "language_info": {
   "codemirror_mode": {
    "name": "ipython",
    "version": 3
   },
   "file_extension": ".py",
   "mimetype": "text/x-python",
   "name": "python",
   "nbconvert_exporter": "python",
   "pygments_lexer": "ipython3",
   "version": "3.11.5"
  }
 },
 "nbformat": 4,
 "nbformat_minor": 2
}
