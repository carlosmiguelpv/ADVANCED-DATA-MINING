{
 "cells": [
  {
   "cell_type": "markdown",
   "metadata": {},
   "source": [
    "# Aprendizaje No Supervisado con H2O"
   ]
  },
  {
   "cell_type": "markdown",
   "metadata": {},
   "source": [
    "### Docente: M.Sc. Richard Fernández "
   ]
  },
  {
   "cell_type": "code",
   "execution_count": 1,
   "metadata": {
    "scrolled": true
   },
   "outputs": [
    {
     "name": "stdout",
     "output_type": "stream",
     "text": [
      "Requirement already satisfied: h2o in c:\\users\\hp\\anaconda3\\lib\\site-packages (3.40.0.4)\n",
      "Requirement already satisfied: requests in c:\\users\\hp\\anaconda3\\lib\\site-packages (from h2o) (2.28.1)\n",
      "Requirement already satisfied: tabulate in c:\\users\\hp\\anaconda3\\lib\\site-packages (from h2o) (0.8.10)\n",
      "Requirement already satisfied: future in c:\\users\\hp\\anaconda3\\lib\\site-packages (from h2o) (0.18.3)\n",
      "Requirement already satisfied: certifi>=2017.4.17 in c:\\users\\hp\\anaconda3\\lib\\site-packages (from requests->h2o) (2022.12.7)\n",
      "Requirement already satisfied: urllib3<1.27,>=1.21.1 in c:\\users\\hp\\anaconda3\\lib\\site-packages (from requests->h2o) (1.26.14)\n",
      "Requirement already satisfied: charset-normalizer<3,>=2 in c:\\users\\hp\\anaconda3\\lib\\site-packages (from requests->h2o) (2.0.4)\n",
      "Requirement already satisfied: idna<4,>=2.5 in c:\\users\\hp\\anaconda3\\lib\\site-packages (from requests->h2o) (3.4)\n"
     ]
    }
   ],
   "source": [
    "! pip install h2o"
   ]
  },
  {
   "cell_type": "code",
   "execution_count": null,
   "metadata": {},
   "outputs": [],
   "source": [
    "import h2o"
   ]
  },
  {
   "cell_type": "code",
   "execution_count": 51,
   "metadata": {},
   "outputs": [
    {
     "name": "stdout",
     "output_type": "stream",
     "text": [
      "Checking whether there is an H2O instance running at http://localhost:54321. connected.\n",
      "Warning: Your H2O cluster version is (6 months and 26 days) old.  There may be a newer version available.\n",
      "Please download and install the latest version from: https://h2o-release.s3.amazonaws.com/h2o/latest_stable.html\n"
     ]
    },
    {
     "data": {
      "text/html": [
       "\n",
       "<style>\n",
       "\n",
       "#h2o-table-11.h2o-container {\n",
       "  overflow-x: auto;\n",
       "}\n",
       "#h2o-table-11 .h2o-table {\n",
       "  /* width: 100%; */\n",
       "  margin-top: 1em;\n",
       "  margin-bottom: 1em;\n",
       "}\n",
       "#h2o-table-11 .h2o-table caption {\n",
       "  white-space: nowrap;\n",
       "  caption-side: top;\n",
       "  text-align: left;\n",
       "  /* margin-left: 1em; */\n",
       "  margin: 0;\n",
       "  font-size: larger;\n",
       "}\n",
       "#h2o-table-11 .h2o-table thead {\n",
       "  white-space: nowrap; \n",
       "  position: sticky;\n",
       "  top: 0;\n",
       "  box-shadow: 0 -1px inset;\n",
       "}\n",
       "#h2o-table-11 .h2o-table tbody {\n",
       "  overflow: auto;\n",
       "}\n",
       "#h2o-table-11 .h2o-table th,\n",
       "#h2o-table-11 .h2o-table td {\n",
       "  text-align: right;\n",
       "  /* border: 1px solid; */\n",
       "}\n",
       "#h2o-table-11 .h2o-table tr:nth-child(even) {\n",
       "  /* background: #F5F5F5 */\n",
       "}\n",
       "\n",
       "</style>      \n",
       "<div id=\"h2o-table-11\" class=\"h2o-container\">\n",
       "  <table class=\"h2o-table\">\n",
       "    <caption></caption>\n",
       "    <thead></thead>\n",
       "    <tbody><tr><td>H2O_cluster_uptime:</td>\n",
       "<td>1 hour 2 mins</td></tr>\n",
       "<tr><td>H2O_cluster_timezone:</td>\n",
       "<td>America/Lima</td></tr>\n",
       "<tr><td>H2O_data_parsing_timezone:</td>\n",
       "<td>UTC</td></tr>\n",
       "<tr><td>H2O_cluster_version:</td>\n",
       "<td>3.40.0.4</td></tr>\n",
       "<tr><td>H2O_cluster_version_age:</td>\n",
       "<td>6 months and 26 days</td></tr>\n",
       "<tr><td>H2O_cluster_name:</td>\n",
       "<td>H2O_from_python_HP_m9v49a</td></tr>\n",
       "<tr><td>H2O_cluster_total_nodes:</td>\n",
       "<td>1</td></tr>\n",
       "<tr><td>H2O_cluster_free_memory:</td>\n",
       "<td>5.423 Gb</td></tr>\n",
       "<tr><td>H2O_cluster_total_cores:</td>\n",
       "<td>12</td></tr>\n",
       "<tr><td>H2O_cluster_allowed_cores:</td>\n",
       "<td>12</td></tr>\n",
       "<tr><td>H2O_cluster_status:</td>\n",
       "<td>locked, healthy</td></tr>\n",
       "<tr><td>H2O_connection_url:</td>\n",
       "<td>http://localhost:54321</td></tr>\n",
       "<tr><td>H2O_connection_proxy:</td>\n",
       "<td>{\"http\": null, \"https\": null}</td></tr>\n",
       "<tr><td>H2O_internal_security:</td>\n",
       "<td>False</td></tr>\n",
       "<tr><td>Python_version:</td>\n",
       "<td>3.10.9 final</td></tr></tbody>\n",
       "  </table>\n",
       "</div>\n"
      ],
      "text/plain": [
       "--------------------------  -----------------------------\n",
       "H2O_cluster_uptime:         1 hour 2 mins\n",
       "H2O_cluster_timezone:       America/Lima\n",
       "H2O_data_parsing_timezone:  UTC\n",
       "H2O_cluster_version:        3.40.0.4\n",
       "H2O_cluster_version_age:    6 months and 26 days\n",
       "H2O_cluster_name:           H2O_from_python_HP_m9v49a\n",
       "H2O_cluster_total_nodes:    1\n",
       "H2O_cluster_free_memory:    5.423 Gb\n",
       "H2O_cluster_total_cores:    12\n",
       "H2O_cluster_allowed_cores:  12\n",
       "H2O_cluster_status:         locked, healthy\n",
       "H2O_connection_url:         http://localhost:54321\n",
       "H2O_connection_proxy:       {\"http\": null, \"https\": null}\n",
       "H2O_internal_security:      False\n",
       "Python_version:             3.10.9 final\n",
       "--------------------------  -----------------------------"
      ]
     },
     "metadata": {},
     "output_type": "display_data"
    }
   ],
   "source": [
    "h2o.init()"
   ]
  },
  {
   "cell_type": "code",
   "execution_count": 91,
   "metadata": {},
   "outputs": [
    {
     "name": "stdout",
     "output_type": "stream",
     "text": [
      "Parse progress: |████████████████████████████████████████████████████████████████| (done) 100%\n"
     ]
    }
   ],
   "source": [
    "# Carga de datos en el cluster H2O\n",
    "data_h2o = h2o.import_file(\n",
    "                path   = \"D:/Bases/Otros/inv_mercados.csv\",\n",
    "                header = 1,\n",
    "                sep    = \",\",\n",
    "                destination_frame = \"datos_h2o\"\n",
    "            )"
   ]
  },
  {
   "cell_type": "code",
   "execution_count": 92,
   "metadata": {},
   "outputs": [
    {
     "data": {
      "text/html": [
       "<table class='dataframe'>\n",
       "<thead>\n",
       "<tr><th style=\"text-align: right;\">  ID</th><th style=\"text-align: right;\">  V1</th><th style=\"text-align: right;\">  V2</th><th style=\"text-align: right;\">  V3</th><th style=\"text-align: right;\">  V4</th><th style=\"text-align: right;\">  V5</th><th style=\"text-align: right;\">  V6</th></tr>\n",
       "</thead>\n",
       "<tbody>\n",
       "<tr><td style=\"text-align: right;\">   1</td><td style=\"text-align: right;\">   6</td><td style=\"text-align: right;\">   4</td><td style=\"text-align: right;\">   7</td><td style=\"text-align: right;\">   3</td><td style=\"text-align: right;\">   2</td><td style=\"text-align: right;\">   3</td></tr>\n",
       "<tr><td style=\"text-align: right;\">   2</td><td style=\"text-align: right;\">   2</td><td style=\"text-align: right;\">   3</td><td style=\"text-align: right;\">   1</td><td style=\"text-align: right;\">   4</td><td style=\"text-align: right;\">   5</td><td style=\"text-align: right;\">   4</td></tr>\n",
       "<tr><td style=\"text-align: right;\">   3</td><td style=\"text-align: right;\">   7</td><td style=\"text-align: right;\">   2</td><td style=\"text-align: right;\">   6</td><td style=\"text-align: right;\">   4</td><td style=\"text-align: right;\">   1</td><td style=\"text-align: right;\">   3</td></tr>\n",
       "<tr><td style=\"text-align: right;\">   4</td><td style=\"text-align: right;\">   4</td><td style=\"text-align: right;\">   6</td><td style=\"text-align: right;\">   4</td><td style=\"text-align: right;\">   5</td><td style=\"text-align: right;\">   3</td><td style=\"text-align: right;\">   6</td></tr>\n",
       "<tr><td style=\"text-align: right;\">   5</td><td style=\"text-align: right;\">   1</td><td style=\"text-align: right;\">   3</td><td style=\"text-align: right;\">   2</td><td style=\"text-align: right;\">   2</td><td style=\"text-align: right;\">   6</td><td style=\"text-align: right;\">   4</td></tr>\n",
       "<tr><td style=\"text-align: right;\">   6</td><td style=\"text-align: right;\">   6</td><td style=\"text-align: right;\">   4</td><td style=\"text-align: right;\">   6</td><td style=\"text-align: right;\">   3</td><td style=\"text-align: right;\">   3</td><td style=\"text-align: right;\">   4</td></tr>\n",
       "<tr><td style=\"text-align: right;\">   7</td><td style=\"text-align: right;\">   5</td><td style=\"text-align: right;\">   3</td><td style=\"text-align: right;\">   6</td><td style=\"text-align: right;\">   3</td><td style=\"text-align: right;\">   3</td><td style=\"text-align: right;\">   4</td></tr>\n",
       "<tr><td style=\"text-align: right;\">   8</td><td style=\"text-align: right;\">   7</td><td style=\"text-align: right;\">   3</td><td style=\"text-align: right;\">   7</td><td style=\"text-align: right;\">   4</td><td style=\"text-align: right;\">   1</td><td style=\"text-align: right;\">   4</td></tr>\n",
       "<tr><td style=\"text-align: right;\">   9</td><td style=\"text-align: right;\">   2</td><td style=\"text-align: right;\">   4</td><td style=\"text-align: right;\">   3</td><td style=\"text-align: right;\">   3</td><td style=\"text-align: right;\">   6</td><td style=\"text-align: right;\">   3</td></tr>\n",
       "<tr><td style=\"text-align: right;\">  10</td><td style=\"text-align: right;\">   3</td><td style=\"text-align: right;\">   5</td><td style=\"text-align: right;\">   3</td><td style=\"text-align: right;\">   6</td><td style=\"text-align: right;\">   4</td><td style=\"text-align: right;\">   6</td></tr>\n",
       "</tbody>\n",
       "</table><pre style='font-size: smaller; margin-bottom: 1em;'>[10 rows x 7 columns]</pre>"
      ],
      "text/plain": [
       "  ID    V1    V2    V3    V4    V5    V6\n",
       "----  ----  ----  ----  ----  ----  ----\n",
       "   1     6     4     7     3     2     3\n",
       "   2     2     3     1     4     5     4\n",
       "   3     7     2     6     4     1     3\n",
       "   4     4     6     4     5     3     6\n",
       "   5     1     3     2     2     6     4\n",
       "   6     6     4     6     3     3     4\n",
       "   7     5     3     6     3     3     4\n",
       "   8     7     3     7     4     1     4\n",
       "   9     2     4     3     3     6     3\n",
       "  10     3     5     3     6     4     6\n",
       "[10 rows x 7 columns]\n"
      ]
     },
     "execution_count": 92,
     "metadata": {},
     "output_type": "execute_result"
    }
   ],
   "source": [
    "data_h2o.head()"
   ]
  },
  {
   "cell_type": "code",
   "execution_count": 95,
   "metadata": {},
   "outputs": [
    {
     "data": {
      "text/plain": [
       "['V1', 'V2', 'V3', 'V4', 'V5', 'V6']"
      ]
     },
     "execution_count": 95,
     "metadata": {},
     "output_type": "execute_result"
    }
   ],
   "source": [
    "predictors = [\"V1\",\"V2\",\"V3\",\"V4\",\"V5\",\"V6\"]\n",
    "predictors"
   ]
  },
  {
   "cell_type": "code",
   "execution_count": 96,
   "metadata": {},
   "outputs": [],
   "source": [
    "train, test = data_h2o.split_frame(ratios=[.9], seed=1234)"
   ]
  },
  {
   "cell_type": "code",
   "execution_count": 97,
   "metadata": {},
   "outputs": [
    {
     "data": {
      "text/html": [
       "<table class='dataframe'>\n",
       "<thead>\n",
       "<tr><th style=\"text-align: right;\">  ID</th><th style=\"text-align: right;\">  V1</th><th style=\"text-align: right;\">  V2</th><th style=\"text-align: right;\">  V3</th><th style=\"text-align: right;\">  V4</th><th style=\"text-align: right;\">  V5</th><th style=\"text-align: right;\">  V6</th></tr>\n",
       "</thead>\n",
       "<tbody>\n",
       "<tr><td style=\"text-align: right;\">   1</td><td style=\"text-align: right;\">   6</td><td style=\"text-align: right;\">   4</td><td style=\"text-align: right;\">   7</td><td style=\"text-align: right;\">   3</td><td style=\"text-align: right;\">   2</td><td style=\"text-align: right;\">   3</td></tr>\n",
       "<tr><td style=\"text-align: right;\">   2</td><td style=\"text-align: right;\">   2</td><td style=\"text-align: right;\">   3</td><td style=\"text-align: right;\">   1</td><td style=\"text-align: right;\">   4</td><td style=\"text-align: right;\">   5</td><td style=\"text-align: right;\">   4</td></tr>\n",
       "<tr><td style=\"text-align: right;\">   3</td><td style=\"text-align: right;\">   7</td><td style=\"text-align: right;\">   2</td><td style=\"text-align: right;\">   6</td><td style=\"text-align: right;\">   4</td><td style=\"text-align: right;\">   1</td><td style=\"text-align: right;\">   3</td></tr>\n",
       "<tr><td style=\"text-align: right;\">   5</td><td style=\"text-align: right;\">   1</td><td style=\"text-align: right;\">   3</td><td style=\"text-align: right;\">   2</td><td style=\"text-align: right;\">   2</td><td style=\"text-align: right;\">   6</td><td style=\"text-align: right;\">   4</td></tr>\n",
       "<tr><td style=\"text-align: right;\">   6</td><td style=\"text-align: right;\">   6</td><td style=\"text-align: right;\">   4</td><td style=\"text-align: right;\">   6</td><td style=\"text-align: right;\">   3</td><td style=\"text-align: right;\">   3</td><td style=\"text-align: right;\">   4</td></tr>\n",
       "<tr><td style=\"text-align: right;\">   7</td><td style=\"text-align: right;\">   5</td><td style=\"text-align: right;\">   3</td><td style=\"text-align: right;\">   6</td><td style=\"text-align: right;\">   3</td><td style=\"text-align: right;\">   3</td><td style=\"text-align: right;\">   4</td></tr>\n",
       "<tr><td style=\"text-align: right;\">   8</td><td style=\"text-align: right;\">   7</td><td style=\"text-align: right;\">   3</td><td style=\"text-align: right;\">   7</td><td style=\"text-align: right;\">   4</td><td style=\"text-align: right;\">   1</td><td style=\"text-align: right;\">   4</td></tr>\n",
       "<tr><td style=\"text-align: right;\">   9</td><td style=\"text-align: right;\">   2</td><td style=\"text-align: right;\">   4</td><td style=\"text-align: right;\">   3</td><td style=\"text-align: right;\">   3</td><td style=\"text-align: right;\">   6</td><td style=\"text-align: right;\">   3</td></tr>\n",
       "<tr><td style=\"text-align: right;\">  11</td><td style=\"text-align: right;\">   1</td><td style=\"text-align: right;\">   3</td><td style=\"text-align: right;\">   2</td><td style=\"text-align: right;\">   3</td><td style=\"text-align: right;\">   5</td><td style=\"text-align: right;\">   3</td></tr>\n",
       "<tr><td style=\"text-align: right;\">  12</td><td style=\"text-align: right;\">   5</td><td style=\"text-align: right;\">   4</td><td style=\"text-align: right;\">   5</td><td style=\"text-align: right;\">   4</td><td style=\"text-align: right;\">   2</td><td style=\"text-align: right;\">   4</td></tr>\n",
       "</tbody>\n",
       "</table><pre style='font-size: smaller; margin-bottom: 1em;'>[10 rows x 7 columns]</pre>"
      ],
      "text/plain": [
       "  ID    V1    V2    V3    V4    V5    V6\n",
       "----  ----  ----  ----  ----  ----  ----\n",
       "   1     6     4     7     3     2     3\n",
       "   2     2     3     1     4     5     4\n",
       "   3     7     2     6     4     1     3\n",
       "   5     1     3     2     2     6     4\n",
       "   6     6     4     6     3     3     4\n",
       "   7     5     3     6     3     3     4\n",
       "   8     7     3     7     4     1     4\n",
       "   9     2     4     3     3     6     3\n",
       "  11     1     3     2     3     5     3\n",
       "  12     5     4     5     4     2     4\n",
       "[10 rows x 7 columns]\n"
      ]
     },
     "execution_count": 97,
     "metadata": {},
     "output_type": "execute_result"
    }
   ],
   "source": [
    "train.head()"
   ]
  },
  {
   "cell_type": "code",
   "execution_count": 98,
   "metadata": {},
   "outputs": [
    {
     "data": {
      "text/html": [
       "<table class='dataframe'>\n",
       "<thead>\n",
       "<tr><th style=\"text-align: right;\">  ID</th><th style=\"text-align: right;\">  V1</th><th style=\"text-align: right;\">  V2</th><th style=\"text-align: right;\">  V3</th><th style=\"text-align: right;\">  V4</th><th style=\"text-align: right;\">  V5</th><th style=\"text-align: right;\">  V6</th></tr>\n",
       "</thead>\n",
       "<tbody>\n",
       "<tr><td style=\"text-align: right;\">   4</td><td style=\"text-align: right;\">   4</td><td style=\"text-align: right;\">   6</td><td style=\"text-align: right;\">   4</td><td style=\"text-align: right;\">   5</td><td style=\"text-align: right;\">   3</td><td style=\"text-align: right;\">   6</td></tr>\n",
       "<tr><td style=\"text-align: right;\">  10</td><td style=\"text-align: right;\">   3</td><td style=\"text-align: right;\">   5</td><td style=\"text-align: right;\">   3</td><td style=\"text-align: right;\">   6</td><td style=\"text-align: right;\">   4</td><td style=\"text-align: right;\">   6</td></tr>\n",
       "<tr><td style=\"text-align: right;\">  19</td><td style=\"text-align: right;\">   4</td><td style=\"text-align: right;\">   6</td><td style=\"text-align: right;\">   3</td><td style=\"text-align: right;\">   7</td><td style=\"text-align: right;\">   2</td><td style=\"text-align: right;\">   7</td></tr>\n",
       "<tr><td style=\"text-align: right;\">  20</td><td style=\"text-align: right;\">   2</td><td style=\"text-align: right;\">   3</td><td style=\"text-align: right;\">   2</td><td style=\"text-align: right;\">   4</td><td style=\"text-align: right;\">   7</td><td style=\"text-align: right;\">   2</td></tr>\n",
       "</tbody>\n",
       "</table><pre style='font-size: smaller; margin-bottom: 1em;'>[4 rows x 7 columns]</pre>"
      ],
      "text/plain": [
       "  ID    V1    V2    V3    V4    V5    V6\n",
       "----  ----  ----  ----  ----  ----  ----\n",
       "   4     4     6     4     5     3     6\n",
       "  10     3     5     3     6     4     6\n",
       "  19     4     6     3     7     2     7\n",
       "  20     2     3     2     4     7     2\n",
       "[4 rows x 7 columns]\n"
      ]
     },
     "execution_count": 98,
     "metadata": {},
     "output_type": "execute_result"
    }
   ],
   "source": [
    "test.head()"
   ]
  },
  {
   "cell_type": "code",
   "execution_count": 99,
   "metadata": {},
   "outputs": [],
   "source": [
    "from h2o.estimators import H2OKMeansEstimator"
   ]
  },
  {
   "cell_type": "code",
   "execution_count": 100,
   "metadata": {},
   "outputs": [],
   "source": [
    "kmeans = H2OKMeansEstimator(k=3,\n",
    "                            standardize=True,\n",
    "                            seed=1234)"
   ]
  },
  {
   "cell_type": "code",
   "execution_count": 101,
   "metadata": {
    "scrolled": false
   },
   "outputs": [
    {
     "name": "stdout",
     "output_type": "stream",
     "text": [
      "kmeans Model Build progress: |███████████████████████████████████████████████████| (done) 100%\n"
     ]
    },
    {
     "data": {
      "text/html": [
       "<pre style='margin: 1em 0 1em 0;'>Model Details\n",
       "=============\n",
       "H2OKMeansEstimator : K-means\n",
       "Model Key: KMeans_model_python_1700785174225_7\n",
       "</pre>\n",
       "<div style='margin: 1em 0 1em 0;'>\n",
       "<style>\n",
       "\n",
       "#h2o-table-29.h2o-container {\n",
       "  overflow-x: auto;\n",
       "}\n",
       "#h2o-table-29 .h2o-table {\n",
       "  /* width: 100%; */\n",
       "  margin-top: 1em;\n",
       "  margin-bottom: 1em;\n",
       "}\n",
       "#h2o-table-29 .h2o-table caption {\n",
       "  white-space: nowrap;\n",
       "  caption-side: top;\n",
       "  text-align: left;\n",
       "  /* margin-left: 1em; */\n",
       "  margin: 0;\n",
       "  font-size: larger;\n",
       "}\n",
       "#h2o-table-29 .h2o-table thead {\n",
       "  white-space: nowrap; \n",
       "  position: sticky;\n",
       "  top: 0;\n",
       "  box-shadow: 0 -1px inset;\n",
       "}\n",
       "#h2o-table-29 .h2o-table tbody {\n",
       "  overflow: auto;\n",
       "}\n",
       "#h2o-table-29 .h2o-table th,\n",
       "#h2o-table-29 .h2o-table td {\n",
       "  text-align: right;\n",
       "  /* border: 1px solid; */\n",
       "}\n",
       "#h2o-table-29 .h2o-table tr:nth-child(even) {\n",
       "  /* background: #F5F5F5 */\n",
       "}\n",
       "\n",
       "</style>      \n",
       "<div id=\"h2o-table-29\" class=\"h2o-container\">\n",
       "  <table class=\"h2o-table\">\n",
       "    <caption>Model Summary: </caption>\n",
       "    <thead><tr><th></th>\n",
       "<th>number_of_rows</th>\n",
       "<th>number_of_clusters</th>\n",
       "<th>number_of_categorical_columns</th>\n",
       "<th>number_of_iterations</th>\n",
       "<th>within_cluster_sum_of_squares</th>\n",
       "<th>total_sum_of_squares</th>\n",
       "<th>between_cluster_sum_of_squares</th></tr></thead>\n",
       "    <tbody><tr><td></td>\n",
       "<td>16.0</td>\n",
       "<td>3.0</td>\n",
       "<td>0.0</td>\n",
       "<td>2.0</td>\n",
       "<td>27.5730339</td>\n",
       "<td>90.0</td>\n",
       "<td>62.4269661</td></tr></tbody>\n",
       "  </table>\n",
       "</div>\n",
       "</div>\n",
       "<div style='margin: 1em 0 1em 0;'><pre style='margin: 1em 0 1em 0;'>ModelMetricsClustering: kmeans\n",
       "** Reported on train data. **\n",
       "\n",
       "Total Within Cluster Sum of Square Error: 27.57303429075581\n",
       "Total Sum of Square Error to Grand Mean: 90.0000011282973\n",
       "Between Cluster Sum of Square Error: 62.426966837541485</pre>\n",
       "<div style='margin: 1em 0 1em 0;'>\n",
       "<style>\n",
       "\n",
       "#h2o-table-30.h2o-container {\n",
       "  overflow-x: auto;\n",
       "}\n",
       "#h2o-table-30 .h2o-table {\n",
       "  /* width: 100%; */\n",
       "  margin-top: 1em;\n",
       "  margin-bottom: 1em;\n",
       "}\n",
       "#h2o-table-30 .h2o-table caption {\n",
       "  white-space: nowrap;\n",
       "  caption-side: top;\n",
       "  text-align: left;\n",
       "  /* margin-left: 1em; */\n",
       "  margin: 0;\n",
       "  font-size: larger;\n",
       "}\n",
       "#h2o-table-30 .h2o-table thead {\n",
       "  white-space: nowrap; \n",
       "  position: sticky;\n",
       "  top: 0;\n",
       "  box-shadow: 0 -1px inset;\n",
       "}\n",
       "#h2o-table-30 .h2o-table tbody {\n",
       "  overflow: auto;\n",
       "}\n",
       "#h2o-table-30 .h2o-table th,\n",
       "#h2o-table-30 .h2o-table td {\n",
       "  text-align: right;\n",
       "  /* border: 1px solid; */\n",
       "}\n",
       "#h2o-table-30 .h2o-table tr:nth-child(even) {\n",
       "  /* background: #F5F5F5 */\n",
       "}\n",
       "\n",
       "</style>      \n",
       "<div id=\"h2o-table-30\" class=\"h2o-container\">\n",
       "  <table class=\"h2o-table\">\n",
       "    <caption>Centroid Statistics: </caption>\n",
       "    <thead><tr><th></th>\n",
       "<th>centroid</th>\n",
       "<th>size</th>\n",
       "<th>within_cluster_sum_of_squares</th></tr></thead>\n",
       "    <tbody><tr><td></td>\n",
       "<td>1.0</td>\n",
       "<td>8.0</td>\n",
       "<td>12.6579205</td></tr>\n",
       "<tr><td></td>\n",
       "<td>2.0</td>\n",
       "<td>3.0</td>\n",
       "<td>8.5420530</td></tr>\n",
       "<tr><td></td>\n",
       "<td>3.0</td>\n",
       "<td>5.0</td>\n",
       "<td>6.3730608</td></tr></tbody>\n",
       "  </table>\n",
       "</div>\n",
       "</div></div>\n",
       "<div style='margin: 1em 0 1em 0;'><pre style='margin: 1em 0 1em 0;'>ModelMetricsClustering: kmeans\n",
       "** Reported on validation data. **\n",
       "\n",
       "Total Within Cluster Sum of Square Error: 7.909061144875498\n",
       "Total Sum of Square Error to Grand Mean: 21.050213270508504\n",
       "Between Cluster Sum of Square Error: 13.141152125633006</pre>\n",
       "<div style='margin: 1em 0 1em 0;'>\n",
       "<style>\n",
       "\n",
       "#h2o-table-31.h2o-container {\n",
       "  overflow-x: auto;\n",
       "}\n",
       "#h2o-table-31 .h2o-table {\n",
       "  /* width: 100%; */\n",
       "  margin-top: 1em;\n",
       "  margin-bottom: 1em;\n",
       "}\n",
       "#h2o-table-31 .h2o-table caption {\n",
       "  white-space: nowrap;\n",
       "  caption-side: top;\n",
       "  text-align: left;\n",
       "  /* margin-left: 1em; */\n",
       "  margin: 0;\n",
       "  font-size: larger;\n",
       "}\n",
       "#h2o-table-31 .h2o-table thead {\n",
       "  white-space: nowrap; \n",
       "  position: sticky;\n",
       "  top: 0;\n",
       "  box-shadow: 0 -1px inset;\n",
       "}\n",
       "#h2o-table-31 .h2o-table tbody {\n",
       "  overflow: auto;\n",
       "}\n",
       "#h2o-table-31 .h2o-table th,\n",
       "#h2o-table-31 .h2o-table td {\n",
       "  text-align: right;\n",
       "  /* border: 1px solid; */\n",
       "}\n",
       "#h2o-table-31 .h2o-table tr:nth-child(even) {\n",
       "  /* background: #F5F5F5 */\n",
       "}\n",
       "\n",
       "</style>      \n",
       "<div id=\"h2o-table-31\" class=\"h2o-container\">\n",
       "  <table class=\"h2o-table\">\n",
       "    <caption>Centroid Statistics: </caption>\n",
       "    <thead><tr><th></th>\n",
       "<th>centroid</th>\n",
       "<th>size</th>\n",
       "<th>within_cluster_sum_of_squares</th></tr></thead>\n",
       "    <tbody><tr><td></td>\n",
       "<td>1.0</td>\n",
       "<td>0.0</td>\n",
       "<td>0.0</td></tr>\n",
       "<tr><td></td>\n",
       "<td>2.0</td>\n",
       "<td>3.0</td>\n",
       "<td>4.9411449</td></tr>\n",
       "<tr><td></td>\n",
       "<td>3.0</td>\n",
       "<td>1.0</td>\n",
       "<td>2.9679162</td></tr></tbody>\n",
       "  </table>\n",
       "</div>\n",
       "</div></div>\n",
       "<div style='margin: 1em 0 1em 0;'>\n",
       "<style>\n",
       "\n",
       "#h2o-table-32.h2o-container {\n",
       "  overflow-x: auto;\n",
       "}\n",
       "#h2o-table-32 .h2o-table {\n",
       "  /* width: 100%; */\n",
       "  margin-top: 1em;\n",
       "  margin-bottom: 1em;\n",
       "}\n",
       "#h2o-table-32 .h2o-table caption {\n",
       "  white-space: nowrap;\n",
       "  caption-side: top;\n",
       "  text-align: left;\n",
       "  /* margin-left: 1em; */\n",
       "  margin: 0;\n",
       "  font-size: larger;\n",
       "}\n",
       "#h2o-table-32 .h2o-table thead {\n",
       "  white-space: nowrap; \n",
       "  position: sticky;\n",
       "  top: 0;\n",
       "  box-shadow: 0 -1px inset;\n",
       "}\n",
       "#h2o-table-32 .h2o-table tbody {\n",
       "  overflow: auto;\n",
       "}\n",
       "#h2o-table-32 .h2o-table th,\n",
       "#h2o-table-32 .h2o-table td {\n",
       "  text-align: right;\n",
       "  /* border: 1px solid; */\n",
       "}\n",
       "#h2o-table-32 .h2o-table tr:nth-child(even) {\n",
       "  /* background: #F5F5F5 */\n",
       "}\n",
       "\n",
       "</style>      \n",
       "<div id=\"h2o-table-32\" class=\"h2o-container\">\n",
       "  <table class=\"h2o-table\">\n",
       "    <caption>Scoring History: </caption>\n",
       "    <thead><tr><th></th>\n",
       "<th>timestamp</th>\n",
       "<th>duration</th>\n",
       "<th>iterations</th>\n",
       "<th>number_of_reassigned_observations</th>\n",
       "<th>within_cluster_sum_of_squares</th></tr></thead>\n",
       "    <tbody><tr><td></td>\n",
       "<td>2023-11-23 20:41:25</td>\n",
       "<td> 0.021 sec</td>\n",
       "<td>0.0</td>\n",
       "<td>nan</td>\n",
       "<td>nan</td></tr>\n",
       "<tr><td></td>\n",
       "<td>2023-11-23 20:41:25</td>\n",
       "<td> 0.026 sec</td>\n",
       "<td>1.0</td>\n",
       "<td>16.0</td>\n",
       "<td>61.4314660</td></tr>\n",
       "<tr><td></td>\n",
       "<td>2023-11-23 20:41:25</td>\n",
       "<td> 0.026 sec</td>\n",
       "<td>2.0</td>\n",
       "<td>0.0</td>\n",
       "<td>27.5730339</td></tr></tbody>\n",
       "  </table>\n",
       "</div>\n",
       "</div><pre style=\"font-size: smaller; margin: 1em 0 0 0;\">\n",
       "\n",
       "[tips]\n",
       "Use `model.explain()` to inspect the model.\n",
       "--\n",
       "Use `h2o.display.toggle_user_tips()` to switch on/off this section.</pre>"
      ],
      "text/plain": [
       "Model Details\n",
       "=============\n",
       "H2OKMeansEstimator : K-means\n",
       "Model Key: KMeans_model_python_1700785174225_7\n",
       "\n",
       "\n",
       "Model Summary: \n",
       "    number_of_rows    number_of_clusters    number_of_categorical_columns    number_of_iterations    within_cluster_sum_of_squares    total_sum_of_squares    between_cluster_sum_of_squares\n",
       "--  ----------------  --------------------  -------------------------------  ----------------------  -------------------------------  ----------------------  --------------------------------\n",
       "    16                3                     0                                2                       27.573                           90                      62.427\n",
       "\n",
       "ModelMetricsClustering: kmeans\n",
       "** Reported on train data. **\n",
       "\n",
       "Total Within Cluster Sum of Square Error: 27.57303429075581\n",
       "Total Sum of Square Error to Grand Mean: 90.0000011282973\n",
       "Between Cluster Sum of Square Error: 62.426966837541485\n",
       "\n",
       "Centroid Statistics: \n",
       "    centroid    size    within_cluster_sum_of_squares\n",
       "--  ----------  ------  -------------------------------\n",
       "    1           8       12.6579\n",
       "    2           3       8.54205\n",
       "    3           5       6.37306\n",
       "\n",
       "ModelMetricsClustering: kmeans\n",
       "** Reported on validation data. **\n",
       "\n",
       "Total Within Cluster Sum of Square Error: 7.909061144875498\n",
       "Total Sum of Square Error to Grand Mean: 21.050213270508504\n",
       "Between Cluster Sum of Square Error: 13.141152125633006\n",
       "\n",
       "Centroid Statistics: \n",
       "    centroid    size    within_cluster_sum_of_squares\n",
       "--  ----------  ------  -------------------------------\n",
       "    1           0       0\n",
       "    2           3       4.94114\n",
       "    3           1       2.96792\n",
       "\n",
       "Scoring History: \n",
       "    timestamp            duration    iterations    number_of_reassigned_observations    within_cluster_sum_of_squares\n",
       "--  -------------------  ----------  ------------  -----------------------------------  -------------------------------\n",
       "    2023-11-23 20:41:25  0.021 sec   0             nan                                  nan\n",
       "    2023-11-23 20:41:25  0.026 sec   1             16                                   61.4315\n",
       "    2023-11-23 20:41:25  0.026 sec   2             0                                    27.573\n",
       "\n",
       "[tips]\n",
       "Use `model.explain()` to inspect the model.\n",
       "--\n",
       "Use `h2o.display.toggle_user_tips()` to switch on/off this section."
      ]
     },
     "execution_count": 101,
     "metadata": {},
     "output_type": "execute_result"
    }
   ],
   "source": [
    "kmeans.train(x=predictors,\n",
    "            training_frame=train,\n",
    "            validation_frame=test)"
   ]
  },
  {
   "cell_type": "code",
   "execution_count": 102,
   "metadata": {},
   "outputs": [
    {
     "name": "stdout",
     "output_type": "stream",
     "text": [
      "kmeans prediction progress: |████████████████████████████████████████████████████| (done) 100%\n"
     ]
    },
    {
     "data": {
      "text/html": [
       "<table class='dataframe'>\n",
       "<thead>\n",
       "<tr><th style=\"text-align: right;\">  predict</th></tr>\n",
       "</thead>\n",
       "<tbody>\n",
       "<tr><td style=\"text-align: right;\">        0</td></tr>\n",
       "<tr><td style=\"text-align: right;\">        2</td></tr>\n",
       "<tr><td style=\"text-align: right;\">        0</td></tr>\n",
       "<tr><td style=\"text-align: right;\">        2</td></tr>\n",
       "<tr><td style=\"text-align: right;\">        0</td></tr>\n",
       "<tr><td style=\"text-align: right;\">        0</td></tr>\n",
       "<tr><td style=\"text-align: right;\">        0</td></tr>\n",
       "<tr><td style=\"text-align: right;\">        2</td></tr>\n",
       "<tr><td style=\"text-align: right;\">        2</td></tr>\n",
       "<tr><td style=\"text-align: right;\">        0</td></tr>\n",
       "</tbody>\n",
       "</table><pre style='font-size: smaller; margin-bottom: 1em;'>[16 rows x 1 column]</pre>"
      ],
      "text/plain": [
       "  predict\n",
       "---------\n",
       "        0\n",
       "        2\n",
       "        0\n",
       "        2\n",
       "        0\n",
       "        0\n",
       "        0\n",
       "        2\n",
       "        2\n",
       "        0\n",
       "[16 rows x 1 column]\n"
      ]
     },
     "execution_count": 102,
     "metadata": {},
     "output_type": "execute_result"
    }
   ],
   "source": [
    "prediction_train = kmeans.predict(train)\n",
    "prediction_train"
   ]
  },
  {
   "cell_type": "code",
   "execution_count": 103,
   "metadata": {},
   "outputs": [
    {
     "data": {
      "text/html": [
       "<table class='dataframe'>\n",
       "<thead>\n",
       "<tr><th style=\"text-align: right;\">  C1</th></tr>\n",
       "</thead>\n",
       "<tbody>\n",
       "<tr><td style=\"text-align: right;\">   0</td></tr>\n",
       "<tr><td style=\"text-align: right;\">   2</td></tr>\n",
       "<tr><td style=\"text-align: right;\">   1</td></tr>\n",
       "</tbody>\n",
       "</table><pre style='font-size: smaller; margin-bottom: 1em;'>[3 rows x 1 column]</pre>"
      ],
      "text/plain": [
       "  C1\n",
       "----\n",
       "   0\n",
       "   2\n",
       "   1\n",
       "[3 rows x 1 column]\n"
      ]
     },
     "execution_count": 103,
     "metadata": {},
     "output_type": "execute_result"
    }
   ],
   "source": [
    "prediction_train['predict'].unique()"
   ]
  },
  {
   "cell_type": "code",
   "execution_count": 104,
   "metadata": {},
   "outputs": [
    {
     "name": "stdout",
     "output_type": "stream",
     "text": [
      "kmeans prediction progress: |████████████████████████████████████████████████████| (done) 100%\n"
     ]
    },
    {
     "data": {
      "text/html": [
       "<table class='dataframe'>\n",
       "<thead>\n",
       "<tr><th style=\"text-align: right;\">  predict</th></tr>\n",
       "</thead>\n",
       "<tbody>\n",
       "<tr><td style=\"text-align: right;\">        1</td></tr>\n",
       "<tr><td style=\"text-align: right;\">        1</td></tr>\n",
       "<tr><td style=\"text-align: right;\">        1</td></tr>\n",
       "<tr><td style=\"text-align: right;\">        2</td></tr>\n",
       "</tbody>\n",
       "</table><pre style='font-size: smaller; margin-bottom: 1em;'>[4 rows x 1 column]</pre>"
      ],
      "text/plain": [
       "  predict\n",
       "---------\n",
       "        1\n",
       "        1\n",
       "        1\n",
       "        2\n",
       "[4 rows x 1 column]\n"
      ]
     },
     "execution_count": 104,
     "metadata": {},
     "output_type": "execute_result"
    }
   ],
   "source": [
    "prediction_test = kmeans.predict(test)\n",
    "prediction_test"
   ]
  },
  {
   "cell_type": "code",
   "execution_count": 105,
   "metadata": {},
   "outputs": [
    {
     "data": {
      "text/html": [
       "<table class='dataframe'>\n",
       "<thead>\n",
       "<tr><th style=\"text-align: right;\">  C1</th></tr>\n",
       "</thead>\n",
       "<tbody>\n",
       "<tr><td style=\"text-align: right;\">   2</td></tr>\n",
       "<tr><td style=\"text-align: right;\">   1</td></tr>\n",
       "</tbody>\n",
       "</table><pre style='font-size: smaller; margin-bottom: 1em;'>[2 rows x 1 column]</pre>"
      ],
      "text/plain": [
       "  C1\n",
       "----\n",
       "   2\n",
       "   1\n",
       "[2 rows x 1 column]\n"
      ]
     },
     "execution_count": 105,
     "metadata": {},
     "output_type": "execute_result"
    }
   ],
   "source": [
    "prediction_test['predict'].unique()"
   ]
  },
  {
   "cell_type": "code",
   "execution_count": 121,
   "metadata": {},
   "outputs": [],
   "source": [
    "#performance = kmeans.model_performance()\n",
    "#performance"
   ]
  },
  {
   "cell_type": "code",
   "execution_count": 107,
   "metadata": {},
   "outputs": [
    {
     "data": {
      "text/html": [
       "<table class='dataframe'>\n",
       "<thead>\n",
       "<tr><th style=\"text-align: right;\">  ID</th><th style=\"text-align: right;\">  V1</th><th style=\"text-align: right;\">  V2</th><th style=\"text-align: right;\">  V3</th><th style=\"text-align: right;\">  V4</th><th style=\"text-align: right;\">  V5</th><th style=\"text-align: right;\">  V6</th><th style=\"text-align: right;\">  segmento</th></tr>\n",
       "</thead>\n",
       "<tbody>\n",
       "<tr><td style=\"text-align: right;\">   1</td><td style=\"text-align: right;\">   6</td><td style=\"text-align: right;\">   4</td><td style=\"text-align: right;\">   7</td><td style=\"text-align: right;\">   3</td><td style=\"text-align: right;\">   2</td><td style=\"text-align: right;\">   3</td><td style=\"text-align: right;\">         0</td></tr>\n",
       "<tr><td style=\"text-align: right;\">   2</td><td style=\"text-align: right;\">   2</td><td style=\"text-align: right;\">   3</td><td style=\"text-align: right;\">   1</td><td style=\"text-align: right;\">   4</td><td style=\"text-align: right;\">   5</td><td style=\"text-align: right;\">   4</td><td style=\"text-align: right;\">         2</td></tr>\n",
       "<tr><td style=\"text-align: right;\">   3</td><td style=\"text-align: right;\">   7</td><td style=\"text-align: right;\">   2</td><td style=\"text-align: right;\">   6</td><td style=\"text-align: right;\">   4</td><td style=\"text-align: right;\">   1</td><td style=\"text-align: right;\">   3</td><td style=\"text-align: right;\">         0</td></tr>\n",
       "<tr><td style=\"text-align: right;\">   5</td><td style=\"text-align: right;\">   1</td><td style=\"text-align: right;\">   3</td><td style=\"text-align: right;\">   2</td><td style=\"text-align: right;\">   2</td><td style=\"text-align: right;\">   6</td><td style=\"text-align: right;\">   4</td><td style=\"text-align: right;\">         2</td></tr>\n",
       "<tr><td style=\"text-align: right;\">   6</td><td style=\"text-align: right;\">   6</td><td style=\"text-align: right;\">   4</td><td style=\"text-align: right;\">   6</td><td style=\"text-align: right;\">   3</td><td style=\"text-align: right;\">   3</td><td style=\"text-align: right;\">   4</td><td style=\"text-align: right;\">         0</td></tr>\n",
       "<tr><td style=\"text-align: right;\">   7</td><td style=\"text-align: right;\">   5</td><td style=\"text-align: right;\">   3</td><td style=\"text-align: right;\">   6</td><td style=\"text-align: right;\">   3</td><td style=\"text-align: right;\">   3</td><td style=\"text-align: right;\">   4</td><td style=\"text-align: right;\">         0</td></tr>\n",
       "<tr><td style=\"text-align: right;\">   8</td><td style=\"text-align: right;\">   7</td><td style=\"text-align: right;\">   3</td><td style=\"text-align: right;\">   7</td><td style=\"text-align: right;\">   4</td><td style=\"text-align: right;\">   1</td><td style=\"text-align: right;\">   4</td><td style=\"text-align: right;\">         0</td></tr>\n",
       "<tr><td style=\"text-align: right;\">   9</td><td style=\"text-align: right;\">   2</td><td style=\"text-align: right;\">   4</td><td style=\"text-align: right;\">   3</td><td style=\"text-align: right;\">   3</td><td style=\"text-align: right;\">   6</td><td style=\"text-align: right;\">   3</td><td style=\"text-align: right;\">         2</td></tr>\n",
       "<tr><td style=\"text-align: right;\">  11</td><td style=\"text-align: right;\">   1</td><td style=\"text-align: right;\">   3</td><td style=\"text-align: right;\">   2</td><td style=\"text-align: right;\">   3</td><td style=\"text-align: right;\">   5</td><td style=\"text-align: right;\">   3</td><td style=\"text-align: right;\">         2</td></tr>\n",
       "<tr><td style=\"text-align: right;\">  12</td><td style=\"text-align: right;\">   5</td><td style=\"text-align: right;\">   4</td><td style=\"text-align: right;\">   5</td><td style=\"text-align: right;\">   4</td><td style=\"text-align: right;\">   2</td><td style=\"text-align: right;\">   4</td><td style=\"text-align: right;\">         0</td></tr>\n",
       "</tbody>\n",
       "</table><pre style='font-size: smaller; margin-bottom: 1em;'>[10 rows x 8 columns]</pre>"
      ],
      "text/plain": [
       "  ID    V1    V2    V3    V4    V5    V6    segmento\n",
       "----  ----  ----  ----  ----  ----  ----  ----------\n",
       "   1     6     4     7     3     2     3           0\n",
       "   2     2     3     1     4     5     4           2\n",
       "   3     7     2     6     4     1     3           0\n",
       "   5     1     3     2     2     6     4           2\n",
       "   6     6     4     6     3     3     4           0\n",
       "   7     5     3     6     3     3     4           0\n",
       "   8     7     3     7     4     1     4           0\n",
       "   9     2     4     3     3     6     3           2\n",
       "  11     1     3     2     3     5     3           2\n",
       "  12     5     4     5     4     2     4           0\n",
       "[10 rows x 8 columns]\n"
      ]
     },
     "execution_count": 107,
     "metadata": {},
     "output_type": "execute_result"
    }
   ],
   "source": [
    "train[\"segmento\"] = prediction_train[\"predict\"].asfactor()\n",
    "train.head()"
   ]
  },
  {
   "cell_type": "code",
   "execution_count": 119,
   "metadata": {},
   "outputs": [
    {
     "data": {
      "text/html": [
       "<table class='dataframe'>\n",
       "<thead>\n",
       "<tr><th style=\"text-align: right;\">  segmento</th><th style=\"text-align: right;\">  nrow</th></tr>\n",
       "</thead>\n",
       "<tbody>\n",
       "<tr><td style=\"text-align: right;\">         0</td><td style=\"text-align: right;\">     8</td></tr>\n",
       "<tr><td style=\"text-align: right;\">         1</td><td style=\"text-align: right;\">     3</td></tr>\n",
       "<tr><td style=\"text-align: right;\">         2</td><td style=\"text-align: right;\">     5</td></tr>\n",
       "</tbody>\n",
       "</table><pre style='font-size: smaller; margin-bottom: 1em;'>[3 rows x 2 columns]</pre>"
      ],
      "text/plain": [
       "  segmento    nrow\n",
       "----------  ------\n",
       "         0       8\n",
       "         1       3\n",
       "         2       5\n",
       "[3 rows x 2 columns]\n"
      ]
     },
     "execution_count": 119,
     "metadata": {},
     "output_type": "execute_result"
    }
   ],
   "source": [
    "train.group_by(['segmento']).count(na =\"all\").get_frame()"
   ]
  },
  {
   "cell_type": "code",
   "execution_count": 120,
   "metadata": {},
   "outputs": [
    {
     "data": {
      "text/html": [
       "<table class='dataframe'>\n",
       "<thead>\n",
       "<tr><th style=\"text-align: right;\">  segmento</th><th style=\"text-align: right;\">  mean_V1</th><th style=\"text-align: right;\">  mean_V2</th><th style=\"text-align: right;\">  mean_V3</th><th style=\"text-align: right;\">  mean_V4</th><th style=\"text-align: right;\">  mean_V5</th><th style=\"text-align: right;\">  mean_V6</th></tr>\n",
       "</thead>\n",
       "<tbody>\n",
       "<tr><td style=\"text-align: right;\">         0</td><td style=\"text-align: right;\">  5.75   </td><td style=\"text-align: right;\">    3.625</td><td style=\"text-align: right;\">  6      </td><td style=\"text-align: right;\">    3.125</td><td style=\"text-align: right;\">    1.875</td><td style=\"text-align: right;\">  3.875  </td></tr>\n",
       "<tr><td style=\"text-align: right;\">         1</td><td style=\"text-align: right;\">  3.33333</td><td style=\"text-align: right;\">    6    </td><td style=\"text-align: right;\">  3.33333</td><td style=\"text-align: right;\">    6    </td><td style=\"text-align: right;\">    4    </td><td style=\"text-align: right;\">  5.66667</td></tr>\n",
       "<tr><td style=\"text-align: right;\">         2</td><td style=\"text-align: right;\">  1.6    </td><td style=\"text-align: right;\">    3    </td><td style=\"text-align: right;\">  1.8    </td><td style=\"text-align: right;\">    3.4  </td><td style=\"text-align: right;\">    5.2  </td><td style=\"text-align: right;\">  3.6    </td></tr>\n",
       "</tbody>\n",
       "</table><pre style='font-size: smaller; margin-bottom: 1em;'>[3 rows x 7 columns]</pre>"
      ],
      "text/plain": [
       "  segmento    mean_V1    mean_V2    mean_V3    mean_V4    mean_V5    mean_V6\n",
       "----------  ---------  ---------  ---------  ---------  ---------  ---------\n",
       "         0    5.75         3.625    6            3.125      1.875    3.875\n",
       "         1    3.33333      6        3.33333      6          4        5.66667\n",
       "         2    1.6          3        1.8          3.4        5.2      3.6\n",
       "[3 rows x 7 columns]\n"
      ]
     },
     "execution_count": 120,
     "metadata": {},
     "output_type": "execute_result"
    }
   ],
   "source": [
    "train.group_by(['segmento']).mean(['V1','V2','V3','V4','V5','V6'], na=\"all\").get_frame()"
   ]
  },
  {
   "cell_type": "code",
   "execution_count": null,
   "metadata": {},
   "outputs": [],
   "source": []
  }
 ],
 "metadata": {
  "kernelspec": {
   "display_name": "Python 3 (ipykernel)",
   "language": "python",
   "name": "python3"
  },
  "language_info": {
   "codemirror_mode": {
    "name": "ipython",
    "version": 3
   },
   "file_extension": ".py",
   "mimetype": "text/x-python",
   "name": "python",
   "nbconvert_exporter": "python",
   "pygments_lexer": "ipython3",
   "version": "3.10.9"
  }
 },
 "nbformat": 4,
 "nbformat_minor": 2
}
