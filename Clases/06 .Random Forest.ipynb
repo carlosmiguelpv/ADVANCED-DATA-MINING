{
 "cells": [
  {
   "cell_type": "markdown",
   "metadata": {},
   "source": [
    "# Random Forest"
   ]
  },
  {
   "cell_type": "markdown",
   "metadata": {},
   "source": [
    "### Docente: M.Sc. Richard Fernández "
   ]
  },
  {
   "cell_type": "markdown",
   "metadata": {},
   "source": [
    "### Comprensión del negocio"
   ]
  },
  {
   "cell_type": "markdown",
   "metadata": {},
   "source": [
    "Objetivo del negocio: Incrementar el marketshare de \"Perú Bank\" en el mercado de depósitos a plazo."
   ]
  },
  {
   "cell_type": "markdown",
   "metadata": {},
   "source": [
    "Objetivo de ML: Predecir la probabilidad de que un cliente acepte el producto de depósito a plazo que ofrece \"Perú Bank\" mediante el canal de Call Center."
   ]
  },
  {
   "cell_type": "markdown",
   "metadata": {},
   "source": [
    "### Comprensión de los datos "
   ]
  },
  {
   "cell_type": "code",
   "execution_count": 2,
   "metadata": {},
   "outputs": [],
   "source": [
    "import pandas as pd\n",
    "import matplotlib.pyplot as plt\n",
    "import seaborn as sns\n",
    "import numpy as np\n",
    "import scipy.stats as ss\n",
    "\n",
    "from sklearn.model_selection import train_test_split\n",
    "\n",
    "from sklearn.ensemble import RandomForestClassifier\n",
    "\n",
    "from sklearn.metrics import classification_report, confusion_matrix\n",
    "from sklearn.metrics import ConfusionMatrixDisplay\n",
    "from sklearn.metrics import roc_curve, auc, roc_auc_score\n",
    "\n",
    "from sklearn.preprocessing import StandardScaler\n",
    "from sklearn.preprocessing import LabelEncoder\n",
    "\n",
    "from sklearn.model_selection import cross_val_score\n",
    "from sklearn.model_selection import GridSearchCV"
   ]
  },
  {
   "cell_type": "code",
   "execution_count": 3,
   "metadata": {},
   "outputs": [],
   "source": [
    "data = pd.read_csv('D:/Bases/Kaggle/Banco/bank_deposit.csv')"
   ]
  },
  {
   "cell_type": "code",
   "execution_count": 4,
   "metadata": {},
   "outputs": [
    {
     "data": {
      "text/html": [
       "<div>\n",
       "<style scoped>\n",
       "    .dataframe tbody tr th:only-of-type {\n",
       "        vertical-align: middle;\n",
       "    }\n",
       "\n",
       "    .dataframe tbody tr th {\n",
       "        vertical-align: top;\n",
       "    }\n",
       "\n",
       "    .dataframe thead th {\n",
       "        text-align: right;\n",
       "    }\n",
       "</style>\n",
       "<table border=\"1\" class=\"dataframe\">\n",
       "  <thead>\n",
       "    <tr style=\"text-align: right;\">\n",
       "      <th></th>\n",
       "      <th>idcliente</th>\n",
       "      <th>duration</th>\n",
       "      <th>previous</th>\n",
       "      <th>housing</th>\n",
       "      <th>campaign</th>\n",
       "      <th>loan</th>\n",
       "      <th>default</th>\n",
       "      <th>target</th>\n",
       "      <th>muestra</th>\n",
       "    </tr>\n",
       "  </thead>\n",
       "  <tbody>\n",
       "    <tr>\n",
       "      <th>0</th>\n",
       "      <td>1</td>\n",
       "      <td>261</td>\n",
       "      <td>0</td>\n",
       "      <td>1</td>\n",
       "      <td>1</td>\n",
       "      <td>0</td>\n",
       "      <td>0</td>\n",
       "      <td>0</td>\n",
       "      <td>1</td>\n",
       "    </tr>\n",
       "    <tr>\n",
       "      <th>1</th>\n",
       "      <td>2</td>\n",
       "      <td>50</td>\n",
       "      <td>0</td>\n",
       "      <td>1</td>\n",
       "      <td>1</td>\n",
       "      <td>0</td>\n",
       "      <td>0</td>\n",
       "      <td>0</td>\n",
       "      <td>1</td>\n",
       "    </tr>\n",
       "    <tr>\n",
       "      <th>2</th>\n",
       "      <td>3</td>\n",
       "      <td>1492</td>\n",
       "      <td>0</td>\n",
       "      <td>1</td>\n",
       "      <td>1</td>\n",
       "      <td>0</td>\n",
       "      <td>0</td>\n",
       "      <td>0</td>\n",
       "      <td>1</td>\n",
       "    </tr>\n",
       "    <tr>\n",
       "      <th>3</th>\n",
       "      <td>4</td>\n",
       "      <td>104</td>\n",
       "      <td>0</td>\n",
       "      <td>1</td>\n",
       "      <td>1</td>\n",
       "      <td>0</td>\n",
       "      <td>0</td>\n",
       "      <td>0</td>\n",
       "      <td>1</td>\n",
       "    </tr>\n",
       "    <tr>\n",
       "      <th>4</th>\n",
       "      <td>5</td>\n",
       "      <td>13</td>\n",
       "      <td>0</td>\n",
       "      <td>1</td>\n",
       "      <td>1</td>\n",
       "      <td>0</td>\n",
       "      <td>0</td>\n",
       "      <td>0</td>\n",
       "      <td>1</td>\n",
       "    </tr>\n",
       "  </tbody>\n",
       "</table>\n",
       "</div>"
      ],
      "text/plain": [
       "   idcliente  duration  previous  housing  campaign  loan  default  target  \\\n",
       "0          1       261         0        1         1     0        0       0   \n",
       "1          2        50         0        1         1     0        0       0   \n",
       "2          3      1492         0        1         1     0        0       0   \n",
       "3          4       104         0        1         1     0        0       0   \n",
       "4          5        13         0        1         1     0        0       0   \n",
       "\n",
       "   muestra  \n",
       "0        1  \n",
       "1        1  \n",
       "2        1  \n",
       "3        1  \n",
       "4        1  "
      ]
     },
     "execution_count": 4,
     "metadata": {},
     "output_type": "execute_result"
    }
   ],
   "source": [
    "data.head(5)"
   ]
  },
  {
   "cell_type": "code",
   "execution_count": 5,
   "metadata": {},
   "outputs": [
    {
     "data": {
      "text/plain": [
       "idcliente    int64\n",
       "duration     int64\n",
       "previous     int64\n",
       "housing      int64\n",
       "campaign     int64\n",
       "loan         int64\n",
       "default      int64\n",
       "target       int64\n",
       "muestra      int64\n",
       "dtype: object"
      ]
     },
     "execution_count": 5,
     "metadata": {},
     "output_type": "execute_result"
    }
   ],
   "source": [
    "data.dtypes"
   ]
  },
  {
   "cell_type": "code",
   "execution_count": 6,
   "metadata": {},
   "outputs": [],
   "source": [
    "data['housing'] = data['housing'].astype(object)\n",
    "data['loan'] = data['loan'].astype(object)\n",
    "data['default'] = data['default'].astype(object)"
   ]
  },
  {
   "cell_type": "code",
   "execution_count": 7,
   "metadata": {
    "scrolled": true
   },
   "outputs": [
    {
     "data": {
      "text/plain": [
       "idcliente     int64\n",
       "duration      int64\n",
       "previous      int64\n",
       "housing      object\n",
       "campaign      int64\n",
       "loan         object\n",
       "default      object\n",
       "target        int64\n",
       "muestra       int64\n",
       "dtype: object"
      ]
     },
     "execution_count": 7,
     "metadata": {},
     "output_type": "execute_result"
    }
   ],
   "source": [
    "data.dtypes"
   ]
  },
  {
   "cell_type": "code",
   "execution_count": 8,
   "metadata": {
    "scrolled": true
   },
   "outputs": [
    {
     "data": {
      "image/png": "[encoded data removed]",
      "text/plain": [
       "<Figure size 640x480 with 2 Axes>"
      ]
     },
     "metadata": {},
     "output_type": "display_data"
    }
   ],
   "source": [
    "#Heatmap\n",
    "sns.heatmap(data.loc[:,['duration','previous','campaign']].corr(method = \"spearman\"))\n",
    "plt.show()"
   ]
  },
  {
   "cell_type": "code",
   "execution_count": 9,
   "metadata": {},
   "outputs": [],
   "source": [
    "#Prueba de Correlación\n",
    "#Ho: no existe correlación entre las variables\n",
    "#Ha: existe correlación entre las variables"
   ]
  },
  {
   "cell_type": "code",
   "execution_count": 10,
   "metadata": {
    "scrolled": true
   },
   "outputs": [
    {
     "data": {
      "text/html": [
       "<div>\n",
       "<style scoped>\n",
       "    .dataframe tbody tr th:only-of-type {\n",
       "        vertical-align: middle;\n",
       "    }\n",
       "\n",
       "    .dataframe tbody tr th {\n",
       "        vertical-align: top;\n",
       "    }\n",
       "\n",
       "    .dataframe thead th {\n",
       "        text-align: right;\n",
       "    }\n",
       "</style>\n",
       "<table border=\"1\" class=\"dataframe\">\n",
       "  <thead>\n",
       "    <tr style=\"text-align: right;\">\n",
       "      <th></th>\n",
       "      <th>duration</th>\n",
       "      <th>previous</th>\n",
       "      <th>campaign</th>\n",
       "    </tr>\n",
       "  </thead>\n",
       "  <tbody>\n",
       "    <tr>\n",
       "      <th>duration</th>\n",
       "      <td>1.000000</td>\n",
       "      <td>0.007392</td>\n",
       "      <td>-0.045111</td>\n",
       "    </tr>\n",
       "    <tr>\n",
       "      <th>previous</th>\n",
       "      <td>0.007392</td>\n",
       "      <td>1.000000</td>\n",
       "      <td>-0.133380</td>\n",
       "    </tr>\n",
       "    <tr>\n",
       "      <th>campaign</th>\n",
       "      <td>-0.045111</td>\n",
       "      <td>-0.133380</td>\n",
       "      <td>1.000000</td>\n",
       "    </tr>\n",
       "  </tbody>\n",
       "</table>\n",
       "</div>"
      ],
      "text/plain": [
       "          duration  previous  campaign\n",
       "duration  1.000000  0.007392 -0.045111\n",
       "previous  0.007392  1.000000 -0.133380\n",
       "campaign -0.045111 -0.133380  1.000000"
      ]
     },
     "execution_count": 10,
     "metadata": {},
     "output_type": "execute_result"
    }
   ],
   "source": [
    "data.loc[:,['duration','previous','campaign']].corr(method = \"spearman\")"
   ]
  },
  {
   "cell_type": "code",
   "execution_count": 11,
   "metadata": {
    "scrolled": true
   },
   "outputs": [
    {
     "data": {
      "text/plain": [
       "dtype('int64')"
      ]
     },
     "execution_count": 11,
     "metadata": {},
     "output_type": "execute_result"
    }
   ],
   "source": [
    "data['target'].dtype"
   ]
  },
  {
   "cell_type": "code",
   "execution_count": 12,
   "metadata": {},
   "outputs": [],
   "source": [
    "data['target'] = data['target'].astype('int64')"
   ]
  },
  {
   "cell_type": "code",
   "execution_count": 13,
   "metadata": {
    "scrolled": true
   },
   "outputs": [
    {
     "data": {
      "text/plain": [
       "dtype('int64')"
      ]
     },
     "execution_count": 13,
     "metadata": {},
     "output_type": "execute_result"
    }
   ],
   "source": [
    "data['target'].dtype"
   ]
  },
  {
   "cell_type": "code",
   "execution_count": 14,
   "metadata": {
    "scrolled": false
   },
   "outputs": [
    {
     "data": {
      "text/plain": [
       "0    5289\n",
       "1    5289\n",
       "Name: target, dtype: int64"
      ]
     },
     "execution_count": 14,
     "metadata": {},
     "output_type": "execute_result"
    }
   ],
   "source": [
    "data.target.value_counts()"
   ]
  },
  {
   "cell_type": "code",
   "execution_count": 15,
   "metadata": {
    "scrolled": true
   },
   "outputs": [
    {
     "data": {
      "text/plain": [
       "0    50.0\n",
       "1    50.0\n",
       "Name: target, dtype: float64"
      ]
     },
     "execution_count": 15,
     "metadata": {},
     "output_type": "execute_result"
    }
   ],
   "source": [
    "100*data['target'].value_counts(normalize=True)"
   ]
  },
  {
   "cell_type": "code",
   "execution_count": 16,
   "metadata": {
    "scrolled": true
   },
   "outputs": [
    {
     "data": {
      "image/png": "[encoded data removed]",
      "text/plain": [
       "<Figure size 640x480 with 1 Axes>"
      ]
     },
     "metadata": {},
     "output_type": "display_data"
    }
   ],
   "source": [
    "sns.countplot(data = data, x = 'target')\n",
    "plt.xlabel('target', fontsize = 15)\n",
    "plt.title('¿Cuántos usuarios han aceptado la campaña de depósito a plazo?', fontsize = 15)\n",
    "plt.show()"
   ]
  },
  {
   "cell_type": "code",
   "execution_count": 17,
   "metadata": {
    "scrolled": false
   },
   "outputs": [
    {
     "data": {
      "image/png": "[encoded data removed]",
      "text/plain": [
       "<Figure size 640x480 with 1 Axes>"
      ]
     },
     "metadata": {},
     "output_type": "display_data"
    }
   ],
   "source": [
    "sns.boxplot(x='target',y='duration',data=data)\n",
    "plt.show()"
   ]
  },
  {
   "cell_type": "code",
   "execution_count": 18,
   "metadata": {
    "scrolled": true
   },
   "outputs": [
    {
     "data": {
      "image/png": "[encoded data removed]",
      "text/plain": [
       "<Figure size 640x480 with 1 Axes>"
      ]
     },
     "metadata": {},
     "output_type": "display_data"
    }
   ],
   "source": [
    "sns.boxplot(x='target',y='previous',data=data)\n",
    "plt.show()"
   ]
  },
  {
   "cell_type": "code",
   "execution_count": 19,
   "metadata": {
    "scrolled": false
   },
   "outputs": [
    {
     "data": {
      "image/png": "[encoded data removed]",
      "text/plain": [
       "<Figure size 640x480 with 1 Axes>"
      ]
     },
     "metadata": {},
     "output_type": "display_data"
    }
   ],
   "source": [
    "sns.boxplot(x='target',y='campaign',data=data)\n",
    "plt.show()"
   ]
  },
  {
   "cell_type": "code",
   "execution_count": 20,
   "metadata": {
    "scrolled": true
   },
   "outputs": [
    {
     "name": "stdout",
     "output_type": "stream",
     "text": [
      "housing     0     1\n",
      "target             \n",
      "0        2176  3113\n",
      "1        3354  1935\n"
     ]
    },
    {
     "data": {
      "image/png": "[encoded data removed]",
      "text/plain": [
       "<Figure size 400x400 with 1 Axes>"
      ]
     },
     "metadata": {},
     "output_type": "display_data"
    }
   ],
   "source": [
    "print(pd.crosstab(data[\"target\"],data[\"housing\"]))\n",
    "t = pd.crosstab(data[\"target\"],data[\"housing\"])\n",
    "t.div(t.sum(1).astype(float),axis=0).plot(kind=\"bar\",stacked=True,figsize=(4,4))\n",
    "plt.xlabel(\"target\")\n",
    "plt.ylabel(\"Percentage\")\n",
    "plt.show()"
   ]
  },
  {
   "cell_type": "code",
   "execution_count": 21,
   "metadata": {
    "scrolled": true
   },
   "outputs": [
    {
     "name": "stdout",
     "output_type": "stream",
     "text": [
      "loan       0    1\n",
      "target           \n",
      "0       4359  930\n",
      "1       4805  484\n"
     ]
    },
    {
     "data": {
      "image/png": "[encoded data removed]",
      "text/plain": [
       "<Figure size 400x400 with 1 Axes>"
      ]
     },
     "metadata": {},
     "output_type": "display_data"
    }
   ],
   "source": [
    "print(pd.crosstab(data[\"target\"],data[\"loan\"]))\n",
    "t = pd.crosstab(data[\"target\"],data[\"loan\"])\n",
    "t.div(t.sum(1).astype(float),axis=0).plot(kind=\"bar\",stacked=True,figsize=(4,4))\n",
    "plt.xlabel(\"target\")\n",
    "plt.ylabel(\"Percentage\")\n",
    "plt.show()"
   ]
  },
  {
   "cell_type": "code",
   "execution_count": 22,
   "metadata": {},
   "outputs": [
    {
     "name": "stdout",
     "output_type": "stream",
     "text": [
      "default     0   1\n",
      "target           \n",
      "0        5202  87\n",
      "1        5237  52\n"
     ]
    },
    {
     "data": {
      "image/png": "[encoded data removed]",
      "text/plain": [
       "<Figure size 400x400 with 1 Axes>"
      ]
     },
     "metadata": {},
     "output_type": "display_data"
    }
   ],
   "source": [
    "print(pd.crosstab(data[\"target\"],data[\"default\"]))\n",
    "t = pd.crosstab(data[\"target\"],data[\"default\"])\n",
    "t.div(t.sum(1).astype(float),axis=0).plot(kind=\"bar\",stacked=True,figsize=(4,4))\n",
    "plt.xlabel(\"target\")\n",
    "plt.ylabel(\"Percentage\")\n",
    "plt.show()"
   ]
  },
  {
   "cell_type": "markdown",
   "metadata": {},
   "source": [
    "### Preparación de los datos "
   ]
  },
  {
   "cell_type": "code",
   "execution_count": 23,
   "metadata": {
    "scrolled": true
   },
   "outputs": [],
   "source": [
    "data['c_housing'] = LabelEncoder().fit_transform(data.housing.values)\n",
    "data['c_loan'] = LabelEncoder().fit_transform(data.loan.values)\n",
    "data['c_default'] = LabelEncoder().fit_transform(data.default.values)"
   ]
  },
  {
   "cell_type": "code",
   "execution_count": 24,
   "metadata": {},
   "outputs": [
    {
     "data": {
      "text/html": [
       "<div>\n",
       "<style scoped>\n",
       "    .dataframe tbody tr th:only-of-type {\n",
       "        vertical-align: middle;\n",
       "    }\n",
       "\n",
       "    .dataframe tbody tr th {\n",
       "        vertical-align: top;\n",
       "    }\n",
       "\n",
       "    .dataframe thead th {\n",
       "        text-align: right;\n",
       "    }\n",
       "</style>\n",
       "<table border=\"1\" class=\"dataframe\">\n",
       "  <thead>\n",
       "    <tr style=\"text-align: right;\">\n",
       "      <th></th>\n",
       "      <th>idcliente</th>\n",
       "      <th>duration</th>\n",
       "      <th>previous</th>\n",
       "      <th>housing</th>\n",
       "      <th>campaign</th>\n",
       "      <th>loan</th>\n",
       "      <th>default</th>\n",
       "      <th>target</th>\n",
       "      <th>muestra</th>\n",
       "      <th>c_housing</th>\n",
       "      <th>c_loan</th>\n",
       "      <th>c_default</th>\n",
       "    </tr>\n",
       "  </thead>\n",
       "  <tbody>\n",
       "    <tr>\n",
       "      <th>0</th>\n",
       "      <td>1</td>\n",
       "      <td>261</td>\n",
       "      <td>0</td>\n",
       "      <td>1</td>\n",
       "      <td>1</td>\n",
       "      <td>0</td>\n",
       "      <td>0</td>\n",
       "      <td>0</td>\n",
       "      <td>1</td>\n",
       "      <td>1</td>\n",
       "      <td>0</td>\n",
       "      <td>0</td>\n",
       "    </tr>\n",
       "    <tr>\n",
       "      <th>1</th>\n",
       "      <td>2</td>\n",
       "      <td>50</td>\n",
       "      <td>0</td>\n",
       "      <td>1</td>\n",
       "      <td>1</td>\n",
       "      <td>0</td>\n",
       "      <td>0</td>\n",
       "      <td>0</td>\n",
       "      <td>1</td>\n",
       "      <td>1</td>\n",
       "      <td>0</td>\n",
       "      <td>0</td>\n",
       "    </tr>\n",
       "    <tr>\n",
       "      <th>2</th>\n",
       "      <td>3</td>\n",
       "      <td>1492</td>\n",
       "      <td>0</td>\n",
       "      <td>1</td>\n",
       "      <td>1</td>\n",
       "      <td>0</td>\n",
       "      <td>0</td>\n",
       "      <td>0</td>\n",
       "      <td>1</td>\n",
       "      <td>1</td>\n",
       "      <td>0</td>\n",
       "      <td>0</td>\n",
       "    </tr>\n",
       "    <tr>\n",
       "      <th>3</th>\n",
       "      <td>4</td>\n",
       "      <td>104</td>\n",
       "      <td>0</td>\n",
       "      <td>1</td>\n",
       "      <td>1</td>\n",
       "      <td>0</td>\n",
       "      <td>0</td>\n",
       "      <td>0</td>\n",
       "      <td>1</td>\n",
       "      <td>1</td>\n",
       "      <td>0</td>\n",
       "      <td>0</td>\n",
       "    </tr>\n",
       "    <tr>\n",
       "      <th>4</th>\n",
       "      <td>5</td>\n",
       "      <td>13</td>\n",
       "      <td>0</td>\n",
       "      <td>1</td>\n",
       "      <td>1</td>\n",
       "      <td>0</td>\n",
       "      <td>0</td>\n",
       "      <td>0</td>\n",
       "      <td>1</td>\n",
       "      <td>1</td>\n",
       "      <td>0</td>\n",
       "      <td>0</td>\n",
       "    </tr>\n",
       "  </tbody>\n",
       "</table>\n",
       "</div>"
      ],
      "text/plain": [
       "   idcliente  duration  previous housing  campaign loan default  target  \\\n",
       "0          1       261         0       1         1    0       0       0   \n",
       "1          2        50         0       1         1    0       0       0   \n",
       "2          3      1492         0       1         1    0       0       0   \n",
       "3          4       104         0       1         1    0       0       0   \n",
       "4          5        13         0       1         1    0       0       0   \n",
       "\n",
       "   muestra  c_housing  c_loan  c_default  \n",
       "0        1          1       0          0  \n",
       "1        1          1       0          0  \n",
       "2        1          1       0          0  \n",
       "3        1          1       0          0  \n",
       "4        1          1       0          0  "
      ]
     },
     "execution_count": 24,
     "metadata": {},
     "output_type": "execute_result"
    }
   ],
   "source": [
    "data.head(5)"
   ]
  },
  {
   "cell_type": "code",
   "execution_count": 25,
   "metadata": {},
   "outputs": [],
   "source": [
    "X = data[['c_housing','c_loan','duration']]\n",
    "y = data['target']"
   ]
  },
  {
   "cell_type": "code",
   "execution_count": 26,
   "metadata": {},
   "outputs": [],
   "source": [
    "X = X.to_numpy()"
   ]
  },
  {
   "cell_type": "code",
   "execution_count": 27,
   "metadata": {
    "scrolled": false
   },
   "outputs": [
    {
     "data": {
      "text/plain": [
       "array([[   1,    0,  261],\n",
       "       [   1,    0,   50],\n",
       "       [   1,    0, 1492],\n",
       "       [   1,    0,  104],\n",
       "       [   1,    0,   13]], dtype=int64)"
      ]
     },
     "execution_count": 27,
     "metadata": {},
     "output_type": "execute_result"
    }
   ],
   "source": [
    "X[0:5]"
   ]
  },
  {
   "cell_type": "code",
   "execution_count": 28,
   "metadata": {},
   "outputs": [],
   "source": [
    "y = y.to_numpy()"
   ]
  },
  {
   "cell_type": "code",
   "execution_count": 29,
   "metadata": {},
   "outputs": [
    {
     "data": {
      "text/plain": [
       "array([0, 0, 0, 0, 0], dtype=int64)"
      ]
     },
     "execution_count": 29,
     "metadata": {},
     "output_type": "execute_result"
    }
   ],
   "source": [
    "y[0:5]"
   ]
  },
  {
   "cell_type": "code",
   "execution_count": 30,
   "metadata": {},
   "outputs": [],
   "source": [
    "X_train, X_test, y_train, y_test = train_test_split(X, y, test_size = 0.20, random_state = 0)"
   ]
  },
  {
   "cell_type": "code",
   "execution_count": 31,
   "metadata": {},
   "outputs": [
    {
     "data": {
      "text/plain": [
       "array([[   1,    0, 1080],\n",
       "       [   1,    0,  204],\n",
       "       [   0,    0,  140],\n",
       "       [   0,    0,  373],\n",
       "       [   0,    0,  194]], dtype=int64)"
      ]
     },
     "execution_count": 31,
     "metadata": {},
     "output_type": "execute_result"
    }
   ],
   "source": [
    "X_train[0:5]"
   ]
  },
  {
   "cell_type": "code",
   "execution_count": 32,
   "metadata": {
    "scrolled": false
   },
   "outputs": [
    {
     "data": {
      "text/plain": [
       "array([[  0,   0, 263],\n",
       "       [  0,   0, 597],\n",
       "       [  0,   0, 150],\n",
       "       [  0,   0, 917],\n",
       "       [  1,   0, 404]], dtype=int64)"
      ]
     },
     "execution_count": 32,
     "metadata": {},
     "output_type": "execute_result"
    }
   ],
   "source": [
    "X_test[0:5]"
   ]
  },
  {
   "cell_type": "code",
   "execution_count": 33,
   "metadata": {},
   "outputs": [],
   "source": [
    "X_train_orig = X_train\n",
    "X_test_orig = X_train"
   ]
  },
  {
   "cell_type": "code",
   "execution_count": 34,
   "metadata": {
    "scrolled": true
   },
   "outputs": [],
   "source": [
    "X_train = StandardScaler().fit_transform(X_train)\n",
    "X_test = StandardScaler().fit_transform(X_test)"
   ]
  },
  {
   "cell_type": "code",
   "execution_count": 35,
   "metadata": {},
   "outputs": [
    {
     "data": {
      "text/plain": [
       "array([[ 1.05317258, -0.39338138,  2.00876968],\n",
       "       [ 1.05317258, -0.39338138, -0.50165504],\n",
       "       [-0.949512  , -0.39338138, -0.68506507],\n",
       "       [-0.949512  , -0.39338138, -0.01733795],\n",
       "       [-0.949512  , -0.39338138, -0.53031286]])"
      ]
     },
     "execution_count": 35,
     "metadata": {},
     "output_type": "execute_result"
    }
   ],
   "source": [
    "X_train[0:5]"
   ]
  },
  {
   "cell_type": "code",
   "execution_count": 36,
   "metadata": {
    "scrolled": false
   },
   "outputs": [
    {
     "data": {
      "text/plain": [
       "array([[-0.97941782, -0.39051946, -0.32766412],\n",
       "       [-0.97941782, -0.39051946,  0.63785382],\n",
       "       [-0.97941782, -0.39051946, -0.65432139],\n",
       "       [-0.97941782, -0.39051946,  1.56290095],\n",
       "       [ 1.02101471, -0.39051946,  0.07993477]])"
      ]
     },
     "execution_count": 36,
     "metadata": {},
     "output_type": "execute_result"
    }
   ],
   "source": [
    "X_test[0:5]"
   ]
  },
  {
   "cell_type": "markdown",
   "metadata": {},
   "source": [
    "### Modelado"
   ]
  },
  {
   "cell_type": "code",
   "execution_count": 37,
   "metadata": {},
   "outputs": [],
   "source": [
    "#Validación Cruzada\n",
    "cv_scores = cross_val_score(RandomForestClassifier(),X_train,y_train,cv=5)"
   ]
  },
  {
   "cell_type": "code",
   "execution_count": 38,
   "metadata": {},
   "outputs": [
    {
     "name": "stdout",
     "output_type": "stream",
     "text": [
      "[0.71234495 0.72711164 0.70626478 0.73877069 0.72458629]\n"
     ]
    }
   ],
   "source": [
    "#Accuracy\n",
    "print(cv_scores)"
   ]
  },
  {
   "cell_type": "code",
   "execution_count": 39,
   "metadata": {},
   "outputs": [
    {
     "name": "stdout",
     "output_type": "stream",
     "text": [
      "cv_scores mean:0.7218156670702196\n"
     ]
    }
   ],
   "source": [
    "#Accuracy Promedio\n",
    "print(\"cv_scores mean:{}\".format(np.mean(cv_scores)))"
   ]
  },
  {
   "cell_type": "code",
   "execution_count": 40,
   "metadata": {},
   "outputs": [],
   "source": [
    "#Tuning\n",
    "#n_estimators: Número de árboles\n",
    "#max_features: Cantidad de variables a considerar al buscar el mejor split\n",
    "#max_depth: Profundidad del árbol\n",
    "\n",
    "param_grid = {\n",
    "    'n_estimators': [100, 200, 300, 400, 500, 600, 700],\n",
    "    'max_features': ['sqrt', 'log2'],\n",
    "    'max_depth': [2, 3, 4, 5, 6, 7, 8, 9, 10]\n",
    "}"
   ]
  },
  {
   "cell_type": "code",
   "execution_count": 41,
   "metadata": {},
   "outputs": [
    {
     "name": "stdout",
     "output_type": "stream",
     "text": [
      "Fitting 5 folds for each of 126 candidates, totalling 630 fits\n",
      "[CV] END ...max_depth=2, max_features=sqrt, n_estimators=100; total time=   0.4s\n",
      "[CV] END ...max_depth=2, max_features=sqrt, n_estimators=100; total time=   0.3s\n",
      "[CV] END ...max_depth=2, max_features=sqrt, n_estimators=100; total time=   0.4s\n",
      "[CV] END ...max_depth=2, max_features=sqrt, n_estimators=100; total time=   0.4s\n",
      "[CV] END ...max_depth=2, max_features=sqrt, n_estimators=100; total time=   0.4s\n",
      "[CV] END ...max_depth=2, max_features=sqrt, n_estimators=200; total time=   0.8s\n",
      "[CV] END ...max_depth=2, max_features=sqrt, n_estimators=200; total time=   0.9s\n",
      "[CV] END ...max_depth=2, max_features=sqrt, n_estimators=200; total time=   0.8s\n",
      "[CV] END ...max_depth=2, max_features=sqrt, n_estimators=200; total time=   0.8s\n",
      "[CV] END ...max_depth=2, max_features=sqrt, n_estimators=200; total time=   0.8s\n",
      "[CV] END ...max_depth=2, max_features=sqrt, n_estimators=300; total time=   1.3s\n",
      "[CV] END ...max_depth=2, max_features=sqrt, n_estimators=300; total time=   1.3s\n",
      "[CV] END ...max_depth=2, max_features=sqrt, n_estimators=300; total time=   1.4s\n",
      "[CV] END ...max_depth=2, max_features=sqrt, n_estimators=300; total time=   1.2s\n",
      "[CV] END ...max_depth=2, max_features=sqrt, n_estimators=300; total time=   1.4s\n",
      "[CV] END ...max_depth=2, max_features=sqrt, n_estimators=400; total time=   1.8s\n",
      "[CV] END ...max_depth=2, max_features=sqrt, n_estimators=400; total time=   1.7s\n",
      "[CV] END ...max_depth=2, max_features=sqrt, n_estimators=400; total time=   1.7s\n",
      "[CV] END ...max_depth=2, max_features=sqrt, n_estimators=400; total time=   1.9s\n",
      "[CV] END ...max_depth=2, max_features=sqrt, n_estimators=400; total time=   1.8s\n",
      "[CV] END ...max_depth=2, max_features=sqrt, n_estimators=500; total time=   2.2s\n",
      "[CV] END ...max_depth=2, max_features=sqrt, n_estimators=500; total time=   2.2s\n",
      "[CV] END ...max_depth=2, max_features=sqrt, n_estimators=500; total time=   2.3s\n",
      "[CV] END ...max_depth=2, max_features=sqrt, n_estimators=500; total time=   2.1s\n",
      "[CV] END ...max_depth=2, max_features=sqrt, n_estimators=500; total time=   2.1s\n",
      "[CV] END ...max_depth=2, max_features=sqrt, n_estimators=600; total time=   2.6s\n",
      "[CV] END ...max_depth=2, max_features=sqrt, n_estimators=600; total time=   2.4s\n",
      "[CV] END ...max_depth=2, max_features=sqrt, n_estimators=600; total time=   2.6s\n",
      "[CV] END ...max_depth=2, max_features=sqrt, n_estimators=600; total time=   2.6s\n",
      "[CV] END ...max_depth=2, max_features=sqrt, n_estimators=600; total time=   2.6s\n",
      "[CV] END ...max_depth=2, max_features=sqrt, n_estimators=700; total time=   3.1s\n",
      "[CV] END ...max_depth=2, max_features=sqrt, n_estimators=700; total time=   3.2s\n",
      "[CV] END ...max_depth=2, max_features=sqrt, n_estimators=700; total time=   3.1s\n",
      "[CV] END ...max_depth=2, max_features=sqrt, n_estimators=700; total time=   3.1s\n",
      "[CV] END ...max_depth=2, max_features=sqrt, n_estimators=700; total time=   3.1s\n",
      "[CV] END ...max_depth=2, max_features=log2, n_estimators=100; total time=   0.4s\n",
      "[CV] END ...max_depth=2, max_features=log2, n_estimators=100; total time=   0.4s\n",
      "[CV] END ...max_depth=2, max_features=log2, n_estimators=100; total time=   0.3s\n",
      "[CV] END ...max_depth=2, max_features=log2, n_estimators=100; total time=   0.3s\n",
      "[CV] END ...max_depth=2, max_features=log2, n_estimators=100; total time=   0.3s\n",
      "[CV] END ...max_depth=2, max_features=log2, n_estimators=200; total time=   0.7s\n",
      "[CV] END ...max_depth=2, max_features=log2, n_estimators=200; total time=   0.8s\n",
      "[CV] END ...max_depth=2, max_features=log2, n_estimators=200; total time=   0.8s\n",
      "[CV] END ...max_depth=2, max_features=log2, n_estimators=200; total time=   0.8s\n",
      "[CV] END ...max_depth=2, max_features=log2, n_estimators=200; total time=   0.8s\n",
      "[CV] END ...max_depth=2, max_features=log2, n_estimators=300; total time=   1.3s\n",
      "[CV] END ...max_depth=2, max_features=log2, n_estimators=300; total time=   1.5s\n",
      "[CV] END ...max_depth=2, max_features=log2, n_estimators=300; total time=   1.4s\n",
      "[CV] END ...max_depth=2, max_features=log2, n_estimators=300; total time=   1.2s\n",
      "[CV] END ...max_depth=2, max_features=log2, n_estimators=300; total time=   1.2s\n",
      "[CV] END ...max_depth=2, max_features=log2, n_estimators=400; total time=   1.7s\n",
      "[CV] END ...max_depth=2, max_features=log2, n_estimators=400; total time=   1.7s\n",
      "[CV] END ...max_depth=2, max_features=log2, n_estimators=400; total time=   1.8s\n",
      "[CV] END ...max_depth=2, max_features=log2, n_estimators=400; total time=   1.7s\n",
      "[CV] END ...max_depth=2, max_features=log2, n_estimators=400; total time=   1.7s\n",
      "[CV] END ...max_depth=2, max_features=log2, n_estimators=500; total time=   2.2s\n",
      "[CV] END ...max_depth=2, max_features=log2, n_estimators=500; total time=   2.2s\n",
      "[CV] END ...max_depth=2, max_features=log2, n_estimators=500; total time=   2.2s\n",
      "[CV] END ...max_depth=2, max_features=log2, n_estimators=500; total time=   2.2s\n",
      "[CV] END ...max_depth=2, max_features=log2, n_estimators=500; total time=   2.2s\n",
      "[CV] END ...max_depth=2, max_features=log2, n_estimators=600; total time=   2.6s\n",
      "[CV] END ...max_depth=2, max_features=log2, n_estimators=600; total time=   2.5s\n",
      "[CV] END ...max_depth=2, max_features=log2, n_estimators=600; total time=   2.6s\n",
      "[CV] END ...max_depth=2, max_features=log2, n_estimators=600; total time=   2.6s\n",
      "[CV] END ...max_depth=2, max_features=log2, n_estimators=600; total time=   2.7s\n",
      "[CV] END ...max_depth=2, max_features=log2, n_estimators=700; total time=   3.1s\n",
      "[CV] END ...max_depth=2, max_features=log2, n_estimators=700; total time=   3.0s\n",
      "[CV] END ...max_depth=2, max_features=log2, n_estimators=700; total time=   2.9s\n",
      "[CV] END ...max_depth=2, max_features=log2, n_estimators=700; total time=   3.5s\n",
      "[CV] END ...max_depth=2, max_features=log2, n_estimators=700; total time=   3.1s\n",
      "[CV] END ...max_depth=3, max_features=sqrt, n_estimators=100; total time=   0.4s\n",
      "[CV] END ...max_depth=3, max_features=sqrt, n_estimators=100; total time=   0.4s\n",
      "[CV] END ...max_depth=3, max_features=sqrt, n_estimators=100; total time=   0.5s\n",
      "[CV] END ...max_depth=3, max_features=sqrt, n_estimators=100; total time=   0.4s\n",
      "[CV] END ...max_depth=3, max_features=sqrt, n_estimators=100; total time=   0.4s\n",
      "[CV] END ...max_depth=3, max_features=sqrt, n_estimators=200; total time=   0.9s\n",
      "[CV] END ...max_depth=3, max_features=sqrt, n_estimators=200; total time=   0.9s\n",
      "[CV] END ...max_depth=3, max_features=sqrt, n_estimators=200; total time=   0.9s\n",
      "[CV] END ...max_depth=3, max_features=sqrt, n_estimators=200; total time=   1.0s\n",
      "[CV] END ...max_depth=3, max_features=sqrt, n_estimators=200; total time=   0.9s\n",
      "[CV] END ...max_depth=3, max_features=sqrt, n_estimators=300; total time=   1.5s\n",
      "[CV] END ...max_depth=3, max_features=sqrt, n_estimators=300; total time=   1.5s\n",
      "[CV] END ...max_depth=3, max_features=sqrt, n_estimators=300; total time=   1.3s\n",
      "[CV] END ...max_depth=3, max_features=sqrt, n_estimators=300; total time=   1.5s\n",
      "[CV] END ...max_depth=3, max_features=sqrt, n_estimators=300; total time=   1.5s\n",
      "[CV] END ...max_depth=3, max_features=sqrt, n_estimators=400; total time=   2.0s\n",
      "[CV] END ...max_depth=3, max_features=sqrt, n_estimators=400; total time=   2.0s\n",
      "[CV] END ...max_depth=3, max_features=sqrt, n_estimators=400; total time=   2.0s\n",
      "[CV] END ...max_depth=3, max_features=sqrt, n_estimators=400; total time=   2.0s\n",
      "[CV] END ...max_depth=3, max_features=sqrt, n_estimators=400; total time=   2.1s\n",
      "[CV] END ...max_depth=3, max_features=sqrt, n_estimators=500; total time=   2.5s\n",
      "[CV] END ...max_depth=3, max_features=sqrt, n_estimators=500; total time=   2.8s\n",
      "[CV] END ...max_depth=3, max_features=sqrt, n_estimators=500; total time=   2.5s\n",
      "[CV] END ...max_depth=3, max_features=sqrt, n_estimators=500; total time=   2.3s\n",
      "[CV] END ...max_depth=3, max_features=sqrt, n_estimators=500; total time=   2.6s\n",
      "[CV] END ...max_depth=3, max_features=sqrt, n_estimators=600; total time=   3.0s\n",
      "[CV] END ...max_depth=3, max_features=sqrt, n_estimators=600; total time=   3.1s\n",
      "[CV] END ...max_depth=3, max_features=sqrt, n_estimators=600; total time=   3.0s\n",
      "[CV] END ...max_depth=3, max_features=sqrt, n_estimators=600; total time=   2.9s\n",
      "[CV] END ...max_depth=3, max_features=sqrt, n_estimators=600; total time=   3.0s\n",
      "[CV] END ...max_depth=3, max_features=sqrt, n_estimators=700; total time=   3.9s\n",
      "[CV] END ...max_depth=3, max_features=sqrt, n_estimators=700; total time=   3.4s\n",
      "[CV] END ...max_depth=3, max_features=sqrt, n_estimators=700; total time=   3.6s\n",
      "[CV] END ...max_depth=3, max_features=sqrt, n_estimators=700; total time=   3.6s\n",
      "[CV] END ...max_depth=3, max_features=sqrt, n_estimators=700; total time=   3.6s\n",
      "[CV] END ...max_depth=3, max_features=log2, n_estimators=100; total time=   0.4s\n",
      "[CV] END ...max_depth=3, max_features=log2, n_estimators=100; total time=   0.4s\n",
      "[CV] END ...max_depth=3, max_features=log2, n_estimators=100; total time=   0.5s\n",
      "[CV] END ...max_depth=3, max_features=log2, n_estimators=100; total time=   0.4s\n",
      "[CV] END ...max_depth=3, max_features=log2, n_estimators=100; total time=   0.4s\n",
      "[CV] END ...max_depth=3, max_features=log2, n_estimators=200; total time=   0.8s\n",
      "[CV] END ...max_depth=3, max_features=log2, n_estimators=200; total time=   1.0s\n",
      "[CV] END ...max_depth=3, max_features=log2, n_estimators=200; total time=   1.0s\n",
      "[CV] END ...max_depth=3, max_features=log2, n_estimators=200; total time=   0.9s\n",
      "[CV] END ...max_depth=3, max_features=log2, n_estimators=200; total time=   0.9s\n",
      "[CV] END ...max_depth=3, max_features=log2, n_estimators=300; total time=   1.5s\n",
      "[CV] END ...max_depth=3, max_features=log2, n_estimators=300; total time=   1.6s\n",
      "[CV] END ...max_depth=3, max_features=log2, n_estimators=300; total time=   1.6s\n",
      "[CV] END ...max_depth=3, max_features=log2, n_estimators=300; total time=   1.5s\n",
      "[CV] END ...max_depth=3, max_features=log2, n_estimators=300; total time=   1.6s\n",
      "[CV] END ...max_depth=3, max_features=log2, n_estimators=400; total time=   2.0s\n",
      "[CV] END ...max_depth=3, max_features=log2, n_estimators=400; total time=   2.1s\n",
      "[CV] END ...max_depth=3, max_features=log2, n_estimators=400; total time=   2.0s\n",
      "[CV] END ...max_depth=3, max_features=log2, n_estimators=400; total time=   2.0s\n",
      "[CV] END ...max_depth=3, max_features=log2, n_estimators=400; total time=   2.2s\n",
      "[CV] END ...max_depth=3, max_features=log2, n_estimators=500; total time=   2.7s\n",
      "[CV] END ...max_depth=3, max_features=log2, n_estimators=500; total time=   2.7s\n",
      "[CV] END ...max_depth=3, max_features=log2, n_estimators=500; total time=   2.8s\n",
      "[CV] END ...max_depth=3, max_features=log2, n_estimators=500; total time=   2.8s\n",
      "[CV] END ...max_depth=3, max_features=log2, n_estimators=500; total time=   2.4s\n",
      "[CV] END ...max_depth=3, max_features=log2, n_estimators=600; total time=   3.2s\n",
      "[CV] END ...max_depth=3, max_features=log2, n_estimators=600; total time=   3.3s\n",
      "[CV] END ...max_depth=3, max_features=log2, n_estimators=600; total time=   3.4s\n",
      "[CV] END ...max_depth=3, max_features=log2, n_estimators=600; total time=   3.0s\n",
      "[CV] END ...max_depth=3, max_features=log2, n_estimators=600; total time=   3.1s\n",
      "[CV] END ...max_depth=3, max_features=log2, n_estimators=700; total time=   3.5s\n",
      "[CV] END ...max_depth=3, max_features=log2, n_estimators=700; total time=   3.7s\n",
      "[CV] END ...max_depth=3, max_features=log2, n_estimators=700; total time=   3.7s\n",
      "[CV] END ...max_depth=3, max_features=log2, n_estimators=700; total time=   3.5s\n",
      "[CV] END ...max_depth=3, max_features=log2, n_estimators=700; total time=   3.6s\n",
      "[CV] END ...max_depth=4, max_features=sqrt, n_estimators=100; total time=   0.5s\n",
      "[CV] END ...max_depth=4, max_features=sqrt, n_estimators=100; total time=   0.5s\n",
      "[CV] END ...max_depth=4, max_features=sqrt, n_estimators=100; total time=   0.5s\n",
      "[CV] END ...max_depth=4, max_features=sqrt, n_estimators=100; total time=   0.5s\n",
      "[CV] END ...max_depth=4, max_features=sqrt, n_estimators=100; total time=   0.5s\n",
      "[CV] END ...max_depth=4, max_features=sqrt, n_estimators=200; total time=   1.1s\n",
      "[CV] END ...max_depth=4, max_features=sqrt, n_estimators=200; total time=   1.2s\n",
      "[CV] END ...max_depth=4, max_features=sqrt, n_estimators=200; total time=   1.1s\n",
      "[CV] END ...max_depth=4, max_features=sqrt, n_estimators=200; total time=   1.2s\n",
      "[CV] END ...max_depth=4, max_features=sqrt, n_estimators=200; total time=   1.1s\n",
      "[CV] END ...max_depth=4, max_features=sqrt, n_estimators=300; total time=   1.7s\n",
      "[CV] END ...max_depth=4, max_features=sqrt, n_estimators=300; total time=   1.6s\n",
      "[CV] END ...max_depth=4, max_features=sqrt, n_estimators=300; total time=   1.7s\n",
      "[CV] END ...max_depth=4, max_features=sqrt, n_estimators=300; total time=   1.7s\n",
      "[CV] END ...max_depth=4, max_features=sqrt, n_estimators=300; total time=   1.7s\n",
      "[CV] END ...max_depth=4, max_features=sqrt, n_estimators=400; total time=   2.2s\n",
      "[CV] END ...max_depth=4, max_features=sqrt, n_estimators=400; total time=   2.3s\n",
      "[CV] END ...max_depth=4, max_features=sqrt, n_estimators=400; total time=   2.3s\n",
      "[CV] END ...max_depth=4, max_features=sqrt, n_estimators=400; total time=   2.4s\n",
      "[CV] END ...max_depth=4, max_features=sqrt, n_estimators=400; total time=   2.3s\n",
      "[CV] END ...max_depth=4, max_features=sqrt, n_estimators=500; total time=   3.3s\n",
      "[CV] END ...max_depth=4, max_features=sqrt, n_estimators=500; total time=   3.0s\n",
      "[CV] END ...max_depth=4, max_features=sqrt, n_estimators=500; total time=   2.9s\n",
      "[CV] END ...max_depth=4, max_features=sqrt, n_estimators=500; total time=   2.9s\n",
      "[CV] END ...max_depth=4, max_features=sqrt, n_estimators=500; total time=   2.8s\n",
      "[CV] END ...max_depth=4, max_features=sqrt, n_estimators=600; total time=   3.5s\n",
      "[CV] END ...max_depth=4, max_features=sqrt, n_estimators=600; total time=   3.6s\n",
      "[CV] END ...max_depth=4, max_features=sqrt, n_estimators=600; total time=   3.4s\n",
      "[CV] END ...max_depth=4, max_features=sqrt, n_estimators=600; total time=   3.4s\n",
      "[CV] END ...max_depth=4, max_features=sqrt, n_estimators=600; total time=   3.3s\n",
      "[CV] END ...max_depth=4, max_features=sqrt, n_estimators=700; total time=   4.1s\n",
      "[CV] END ...max_depth=4, max_features=sqrt, n_estimators=700; total time=   4.1s\n",
      "[CV] END ...max_depth=4, max_features=sqrt, n_estimators=700; total time=   3.9s\n",
      "[CV] END ...max_depth=4, max_features=sqrt, n_estimators=700; total time=   4.0s\n",
      "[CV] END ...max_depth=4, max_features=sqrt, n_estimators=700; total time=   4.2s\n",
      "[CV] END ...max_depth=4, max_features=log2, n_estimators=100; total time=   0.5s\n",
      "[CV] END ...max_depth=4, max_features=log2, n_estimators=100; total time=   0.5s\n",
      "[CV] END ...max_depth=4, max_features=log2, n_estimators=100; total time=   0.5s\n",
      "[CV] END ...max_depth=4, max_features=log2, n_estimators=100; total time=   0.5s\n",
      "[CV] END ...max_depth=4, max_features=log2, n_estimators=100; total time=   0.5s\n",
      "[CV] END ...max_depth=4, max_features=log2, n_estimators=200; total time=   1.1s\n",
      "[CV] END ...max_depth=4, max_features=log2, n_estimators=200; total time=   1.0s\n",
      "[CV] END ...max_depth=4, max_features=log2, n_estimators=200; total time=   1.1s\n",
      "[CV] END ...max_depth=4, max_features=log2, n_estimators=200; total time=   1.1s\n",
      "[CV] END ...max_depth=4, max_features=log2, n_estimators=200; total time=   1.2s\n",
      "[CV] END ...max_depth=4, max_features=log2, n_estimators=300; total time=   1.8s\n",
      "[CV] END ...max_depth=4, max_features=log2, n_estimators=300; total time=   1.7s\n",
      "[CV] END ...max_depth=4, max_features=log2, n_estimators=300; total time=   1.8s\n",
      "[CV] END ...max_depth=4, max_features=log2, n_estimators=300; total time=   1.7s\n",
      "[CV] END ...max_depth=4, max_features=log2, n_estimators=300; total time=   1.7s\n",
      "[CV] END ...max_depth=4, max_features=log2, n_estimators=400; total time=   2.9s\n",
      "[CV] END ...max_depth=4, max_features=log2, n_estimators=400; total time=   2.7s\n",
      "[CV] END ...max_depth=4, max_features=log2, n_estimators=400; total time=   2.2s\n",
      "[CV] END ...max_depth=4, max_features=log2, n_estimators=400; total time=   2.5s\n",
      "[CV] END ...max_depth=4, max_features=log2, n_estimators=400; total time=   2.4s\n",
      "[CV] END ...max_depth=4, max_features=log2, n_estimators=500; total time=   3.5s\n",
      "[CV] END ...max_depth=4, max_features=log2, n_estimators=500; total time=   2.9s\n",
      "[CV] END ...max_depth=4, max_features=log2, n_estimators=500; total time=   3.0s\n",
      "[CV] END ...max_depth=4, max_features=log2, n_estimators=500; total time=   3.0s\n",
      "[CV] END ...max_depth=4, max_features=log2, n_estimators=500; total time=   3.1s\n",
      "[CV] END ...max_depth=4, max_features=log2, n_estimators=600; total time=   3.4s\n",
      "[CV] END ...max_depth=4, max_features=log2, n_estimators=600; total time=   3.6s\n",
      "[CV] END ...max_depth=4, max_features=log2, n_estimators=600; total time=   3.4s\n",
      "[CV] END ...max_depth=4, max_features=log2, n_estimators=600; total time=   3.5s\n",
      "[CV] END ...max_depth=4, max_features=log2, n_estimators=600; total time=   3.6s\n",
      "[CV] END ...max_depth=4, max_features=log2, n_estimators=700; total time=   4.0s\n",
      "[CV] END ...max_depth=4, max_features=log2, n_estimators=700; total time=   4.2s\n",
      "[CV] END ...max_depth=4, max_features=log2, n_estimators=700; total time=   4.3s\n",
      "[CV] END ...max_depth=4, max_features=log2, n_estimators=700; total time=   3.9s\n",
      "[CV] END ...max_depth=4, max_features=log2, n_estimators=700; total time=   4.0s\n",
      "[CV] END ...max_depth=5, max_features=sqrt, n_estimators=100; total time=   0.6s\n",
      "[CV] END ...max_depth=5, max_features=sqrt, n_estimators=100; total time=   0.6s\n",
      "[CV] END ...max_depth=5, max_features=sqrt, n_estimators=100; total time=   0.6s\n",
      "[CV] END ...max_depth=5, max_features=sqrt, n_estimators=100; total time=   0.5s\n",
      "[CV] END ...max_depth=5, max_features=sqrt, n_estimators=100; total time=   0.5s\n",
      "[CV] END ...max_depth=5, max_features=sqrt, n_estimators=200; total time=   1.3s\n",
      "[CV] END ...max_depth=5, max_features=sqrt, n_estimators=200; total time=   1.3s\n",
      "[CV] END ...max_depth=5, max_features=sqrt, n_estimators=200; total time=   1.3s\n",
      "[CV] END ...max_depth=5, max_features=sqrt, n_estimators=200; total time=   1.3s\n",
      "[CV] END ...max_depth=5, max_features=sqrt, n_estimators=200; total time=   1.2s\n",
      "[CV] END ...max_depth=5, max_features=sqrt, n_estimators=300; total time=   1.9s\n",
      "[CV] END ...max_depth=5, max_features=sqrt, n_estimators=300; total time=   1.9s\n",
      "[CV] END ...max_depth=5, max_features=sqrt, n_estimators=300; total time=   2.0s\n",
      "[CV] END ...max_depth=5, max_features=sqrt, n_estimators=300; total time=   2.0s\n",
      "[CV] END ...max_depth=5, max_features=sqrt, n_estimators=300; total time=   2.2s\n",
      "[CV] END ...max_depth=5, max_features=sqrt, n_estimators=400; total time=   2.4s\n",
      "[CV] END ...max_depth=5, max_features=sqrt, n_estimators=400; total time=   2.7s\n",
      "[CV] END ...max_depth=5, max_features=sqrt, n_estimators=400; total time=   2.6s\n",
      "[CV] END ...max_depth=5, max_features=sqrt, n_estimators=400; total time=   2.5s\n",
      "[CV] END ...max_depth=5, max_features=sqrt, n_estimators=400; total time=   2.6s\n",
      "[CV] END ...max_depth=5, max_features=sqrt, n_estimators=500; total time=   3.3s\n",
      "[CV] END ...max_depth=5, max_features=sqrt, n_estimators=500; total time=   3.1s\n",
      "[CV] END ...max_depth=5, max_features=sqrt, n_estimators=500; total time=   3.6s\n",
      "[CV] END ...max_depth=5, max_features=sqrt, n_estimators=500; total time=   3.2s\n",
      "[CV] END ...max_depth=5, max_features=sqrt, n_estimators=500; total time=   3.2s\n",
      "[CV] END ...max_depth=5, max_features=sqrt, n_estimators=600; total time=   3.8s\n",
      "[CV] END ...max_depth=5, max_features=sqrt, n_estimators=600; total time=   4.5s\n",
      "[CV] END ...max_depth=5, max_features=sqrt, n_estimators=600; total time=   4.1s\n",
      "[CV] END ...max_depth=5, max_features=sqrt, n_estimators=600; total time=   3.7s\n",
      "[CV] END ...max_depth=5, max_features=sqrt, n_estimators=600; total time=   3.9s\n",
      "[CV] END ...max_depth=5, max_features=sqrt, n_estimators=700; total time=   4.6s\n",
      "[CV] END ...max_depth=5, max_features=sqrt, n_estimators=700; total time=   4.5s\n",
      "[CV] END ...max_depth=5, max_features=sqrt, n_estimators=700; total time=   4.6s\n",
      "[CV] END ...max_depth=5, max_features=sqrt, n_estimators=700; total time=   4.6s\n",
      "[CV] END ...max_depth=5, max_features=sqrt, n_estimators=700; total time=   5.0s\n",
      "[CV] END ...max_depth=5, max_features=log2, n_estimators=100; total time=   0.6s\n",
      "[CV] END ...max_depth=5, max_features=log2, n_estimators=100; total time=   0.6s\n",
      "[CV] END ...max_depth=5, max_features=log2, n_estimators=100; total time=   0.6s\n",
      "[CV] END ...max_depth=5, max_features=log2, n_estimators=100; total time=   0.6s\n",
      "[CV] END ...max_depth=5, max_features=log2, n_estimators=100; total time=   0.6s\n",
      "[CV] END ...max_depth=5, max_features=log2, n_estimators=200; total time=   1.2s\n",
      "[CV] END ...max_depth=5, max_features=log2, n_estimators=200; total time=   1.3s\n",
      "[CV] END ...max_depth=5, max_features=log2, n_estimators=200; total time=   1.3s\n",
      "[CV] END ...max_depth=5, max_features=log2, n_estimators=200; total time=   1.3s\n",
      "[CV] END ...max_depth=5, max_features=log2, n_estimators=200; total time=   1.2s\n",
      "[CV] END ...max_depth=5, max_features=log2, n_estimators=300; total time=   1.9s\n",
      "[CV] END ...max_depth=5, max_features=log2, n_estimators=300; total time=   1.8s\n",
      "[CV] END ...max_depth=5, max_features=log2, n_estimators=300; total time=   1.9s\n",
      "[CV] END ...max_depth=5, max_features=log2, n_estimators=300; total time=   1.9s\n",
      "[CV] END ...max_depth=5, max_features=log2, n_estimators=300; total time=   1.9s\n",
      "[CV] END ...max_depth=5, max_features=log2, n_estimators=400; total time=   2.6s\n",
      "[CV] END ...max_depth=5, max_features=log2, n_estimators=400; total time=   2.6s\n",
      "[CV] END ...max_depth=5, max_features=log2, n_estimators=400; total time=   2.5s\n",
      "[CV] END ...max_depth=5, max_features=log2, n_estimators=400; total time=   2.7s\n",
      "[CV] END ...max_depth=5, max_features=log2, n_estimators=400; total time=   2.6s\n",
      "[CV] END ...max_depth=5, max_features=log2, n_estimators=500; total time=   3.3s\n",
      "[CV] END ...max_depth=5, max_features=log2, n_estimators=500; total time=   3.5s\n",
      "[CV] END ...max_depth=5, max_features=log2, n_estimators=500; total time=   3.5s\n",
      "[CV] END ...max_depth=5, max_features=log2, n_estimators=500; total time=   3.7s\n",
      "[CV] END ...max_depth=5, max_features=log2, n_estimators=500; total time=   3.6s\n",
      "[CV] END ...max_depth=5, max_features=log2, n_estimators=600; total time=   4.3s\n",
      "[CV] END ...max_depth=5, max_features=log2, n_estimators=600; total time=   4.2s\n",
      "[CV] END ...max_depth=5, max_features=log2, n_estimators=600; total time=   4.1s\n",
      "[CV] END ...max_depth=5, max_features=log2, n_estimators=600; total time=   4.0s\n",
      "[CV] END ...max_depth=5, max_features=log2, n_estimators=600; total time=   4.0s\n",
      "[CV] END ...max_depth=5, max_features=log2, n_estimators=700; total time=   4.8s\n",
      "[CV] END ...max_depth=5, max_features=log2, n_estimators=700; total time=   4.7s\n",
      "[CV] END ...max_depth=5, max_features=log2, n_estimators=700; total time=   4.6s\n",
      "[CV] END ...max_depth=5, max_features=log2, n_estimators=700; total time=   5.0s\n",
      "[CV] END ...max_depth=5, max_features=log2, n_estimators=700; total time=   4.8s\n",
      "[CV] END ...max_depth=6, max_features=sqrt, n_estimators=100; total time=   0.6s\n",
      "[CV] END ...max_depth=6, max_features=sqrt, n_estimators=100; total time=   0.7s\n",
      "[CV] END ...max_depth=6, max_features=sqrt, n_estimators=100; total time=   0.6s\n",
      "[CV] END ...max_depth=6, max_features=sqrt, n_estimators=100; total time=   0.6s\n",
      "[CV] END ...max_depth=6, max_features=sqrt, n_estimators=100; total time=   0.6s\n",
      "[CV] END ...max_depth=6, max_features=sqrt, n_estimators=200; total time=   1.4s\n",
      "[CV] END ...max_depth=6, max_features=sqrt, n_estimators=200; total time=   1.4s\n",
      "[CV] END ...max_depth=6, max_features=sqrt, n_estimators=200; total time=   1.4s\n",
      "[CV] END ...max_depth=6, max_features=sqrt, n_estimators=200; total time=   1.4s\n",
      "[CV] END ...max_depth=6, max_features=sqrt, n_estimators=200; total time=   1.4s\n",
      "[CV] END ...max_depth=6, max_features=sqrt, n_estimators=300; total time=   2.2s\n",
      "[CV] END ...max_depth=6, max_features=sqrt, n_estimators=300; total time=   2.3s\n",
      "[CV] END ...max_depth=6, max_features=sqrt, n_estimators=300; total time=   2.1s\n",
      "[CV] END ...max_depth=6, max_features=sqrt, n_estimators=300; total time=   2.1s\n",
      "[CV] END ...max_depth=6, max_features=sqrt, n_estimators=300; total time=   2.2s\n",
      "[CV] END ...max_depth=6, max_features=sqrt, n_estimators=400; total time=   2.9s\n",
      "[CV] END ...max_depth=6, max_features=sqrt, n_estimators=400; total time=   2.9s\n",
      "[CV] END ...max_depth=6, max_features=sqrt, n_estimators=400; total time=   2.9s\n",
      "[CV] END ...max_depth=6, max_features=sqrt, n_estimators=400; total time=   3.0s\n",
      "[CV] END ...max_depth=6, max_features=sqrt, n_estimators=400; total time=   3.2s\n",
      "[CV] END ...max_depth=6, max_features=sqrt, n_estimators=500; total time=   3.8s\n",
      "[CV] END ...max_depth=6, max_features=sqrt, n_estimators=500; total time=   3.7s\n",
      "[CV] END ...max_depth=6, max_features=sqrt, n_estimators=500; total time=   3.9s\n",
      "[CV] END ...max_depth=6, max_features=sqrt, n_estimators=500; total time=   3.8s\n",
      "[CV] END ...max_depth=6, max_features=sqrt, n_estimators=500; total time=   4.0s\n",
      "[CV] END ...max_depth=6, max_features=sqrt, n_estimators=600; total time=   4.8s\n",
      "[CV] END ...max_depth=6, max_features=sqrt, n_estimators=600; total time=   4.9s\n",
      "[CV] END ...max_depth=6, max_features=sqrt, n_estimators=600; total time=   4.9s\n",
      "[CV] END ...max_depth=6, max_features=sqrt, n_estimators=600; total time=   4.9s\n",
      "[CV] END ...max_depth=6, max_features=sqrt, n_estimators=600; total time=   4.8s\n",
      "[CV] END ...max_depth=6, max_features=sqrt, n_estimators=700; total time=   5.7s\n",
      "[CV] END ...max_depth=6, max_features=sqrt, n_estimators=700; total time=   5.7s\n",
      "[CV] END ...max_depth=6, max_features=sqrt, n_estimators=700; total time=   6.0s\n",
      "[CV] END ...max_depth=6, max_features=sqrt, n_estimators=700; total time=   5.8s\n",
      "[CV] END ...max_depth=6, max_features=sqrt, n_estimators=700; total time=   5.5s\n",
      "[CV] END ...max_depth=6, max_features=log2, n_estimators=100; total time=   0.8s\n",
      "[CV] END ...max_depth=6, max_features=log2, n_estimators=100; total time=   0.8s\n",
      "[CV] END ...max_depth=6, max_features=log2, n_estimators=100; total time=   0.7s\n",
      "[CV] END ...max_depth=6, max_features=log2, n_estimators=100; total time=   0.7s\n",
      "[CV] END ...max_depth=6, max_features=log2, n_estimators=100; total time=   0.7s\n",
      "[CV] END ...max_depth=6, max_features=log2, n_estimators=200; total time=   1.4s\n",
      "[CV] END ...max_depth=6, max_features=log2, n_estimators=200; total time=   1.4s\n",
      "[CV] END ...max_depth=6, max_features=log2, n_estimators=200; total time=   1.2s\n",
      "[CV] END ...max_depth=6, max_features=log2, n_estimators=200; total time=   1.4s\n",
      "[CV] END ...max_depth=6, max_features=log2, n_estimators=200; total time=   1.5s\n",
      "[CV] END ...max_depth=6, max_features=log2, n_estimators=300; total time=   2.2s\n",
      "[CV] END ...max_depth=6, max_features=log2, n_estimators=300; total time=   2.3s\n",
      "[CV] END ...max_depth=6, max_features=log2, n_estimators=300; total time=   2.2s\n",
      "[CV] END ...max_depth=6, max_features=log2, n_estimators=300; total time=   2.1s\n",
      "[CV] END ...max_depth=6, max_features=log2, n_estimators=300; total time=   2.1s\n",
      "[CV] END ...max_depth=6, max_features=log2, n_estimators=400; total time=   3.0s\n",
      "[CV] END ...max_depth=6, max_features=log2, n_estimators=400; total time=   2.9s\n",
      "[CV] END ...max_depth=6, max_features=log2, n_estimators=400; total time=   3.0s\n",
      "[CV] END ...max_depth=6, max_features=log2, n_estimators=400; total time=   3.3s\n",
      "[CV] END ...max_depth=6, max_features=log2, n_estimators=400; total time=   2.8s\n",
      "[CV] END ...max_depth=6, max_features=log2, n_estimators=500; total time=   3.7s\n",
      "[CV] END ...max_depth=6, max_features=log2, n_estimators=500; total time=   3.8s\n",
      "[CV] END ...max_depth=6, max_features=log2, n_estimators=500; total time=   3.9s\n",
      "[CV] END ...max_depth=6, max_features=log2, n_estimators=500; total time=   3.6s\n",
      "[CV] END ...max_depth=6, max_features=log2, n_estimators=500; total time=   3.7s\n",
      "[CV] END ...max_depth=6, max_features=log2, n_estimators=600; total time=   4.5s\n",
      "[CV] END ...max_depth=6, max_features=log2, n_estimators=600; total time=   4.6s\n",
      "[CV] END ...max_depth=6, max_features=log2, n_estimators=600; total time=   4.4s\n",
      "[CV] END ...max_depth=6, max_features=log2, n_estimators=600; total time=   4.6s\n",
      "[CV] END ...max_depth=6, max_features=log2, n_estimators=600; total time=   4.5s\n",
      "[CV] END ...max_depth=6, max_features=log2, n_estimators=700; total time=   5.1s\n",
      "[CV] END ...max_depth=6, max_features=log2, n_estimators=700; total time=   5.4s\n",
      "[CV] END ...max_depth=6, max_features=log2, n_estimators=700; total time=   5.4s\n",
      "[CV] END ...max_depth=6, max_features=log2, n_estimators=700; total time=   5.3s\n",
      "[CV] END ...max_depth=6, max_features=log2, n_estimators=700; total time=   5.5s\n",
      "[CV] END ...max_depth=7, max_features=sqrt, n_estimators=100; total time=   0.7s\n",
      "[CV] END ...max_depth=7, max_features=sqrt, n_estimators=100; total time=   0.8s\n",
      "[CV] END ...max_depth=7, max_features=sqrt, n_estimators=100; total time=   0.8s\n",
      "[CV] END ...max_depth=7, max_features=sqrt, n_estimators=100; total time=   0.8s\n",
      "[CV] END ...max_depth=7, max_features=sqrt, n_estimators=100; total time=   0.8s\n",
      "[CV] END ...max_depth=7, max_features=sqrt, n_estimators=200; total time=   1.8s\n",
      "[CV] END ...max_depth=7, max_features=sqrt, n_estimators=200; total time=   1.7s\n",
      "[CV] END ...max_depth=7, max_features=sqrt, n_estimators=200; total time=   1.7s\n",
      "[CV] END ...max_depth=7, max_features=sqrt, n_estimators=200; total time=   1.6s\n",
      "[CV] END ...max_depth=7, max_features=sqrt, n_estimators=200; total time=   2.0s\n",
      "[CV] END ...max_depth=7, max_features=sqrt, n_estimators=300; total time=   2.6s\n",
      "[CV] END ...max_depth=7, max_features=sqrt, n_estimators=300; total time=   2.9s\n",
      "[CV] END ...max_depth=7, max_features=sqrt, n_estimators=300; total time=   2.7s\n",
      "[CV] END ...max_depth=7, max_features=sqrt, n_estimators=300; total time=   2.6s\n",
      "[CV] END ...max_depth=7, max_features=sqrt, n_estimators=300; total time=   2.4s\n",
      "[CV] END ...max_depth=7, max_features=sqrt, n_estimators=400; total time=   3.2s\n",
      "[CV] END ...max_depth=7, max_features=sqrt, n_estimators=400; total time=   3.6s\n",
      "[CV] END ...max_depth=7, max_features=sqrt, n_estimators=400; total time=   3.5s\n",
      "[CV] END ...max_depth=7, max_features=sqrt, n_estimators=400; total time=   3.5s\n",
      "[CV] END ...max_depth=7, max_features=sqrt, n_estimators=400; total time=   3.5s\n",
      "[CV] END ...max_depth=7, max_features=sqrt, n_estimators=500; total time=   4.4s\n",
      "[CV] END ...max_depth=7, max_features=sqrt, n_estimators=500; total time=   4.5s\n",
      "[CV] END ...max_depth=7, max_features=sqrt, n_estimators=500; total time=   4.5s\n",
      "[CV] END ...max_depth=7, max_features=sqrt, n_estimators=500; total time=   4.4s\n",
      "[CV] END ...max_depth=7, max_features=sqrt, n_estimators=500; total time=   4.5s\n",
      "[CV] END ...max_depth=7, max_features=sqrt, n_estimators=600; total time=   5.6s\n",
      "[CV] END ...max_depth=7, max_features=sqrt, n_estimators=600; total time=   5.4s\n",
      "[CV] END ...max_depth=7, max_features=sqrt, n_estimators=600; total time=   5.4s\n",
      "[CV] END ...max_depth=7, max_features=sqrt, n_estimators=600; total time=   5.4s\n",
      "[CV] END ...max_depth=7, max_features=sqrt, n_estimators=600; total time=   5.3s\n",
      "[CV] END ...max_depth=7, max_features=sqrt, n_estimators=700; total time=   6.3s\n",
      "[CV] END ...max_depth=7, max_features=sqrt, n_estimators=700; total time=   6.3s\n",
      "[CV] END ...max_depth=7, max_features=sqrt, n_estimators=700; total time=   6.2s\n",
      "[CV] END ...max_depth=7, max_features=sqrt, n_estimators=700; total time=   6.3s\n",
      "[CV] END ...max_depth=7, max_features=sqrt, n_estimators=700; total time=   6.0s\n",
      "[CV] END ...max_depth=7, max_features=log2, n_estimators=100; total time=   0.8s\n",
      "[CV] END ...max_depth=7, max_features=log2, n_estimators=100; total time=   0.6s\n",
      "[CV] END ...max_depth=7, max_features=log2, n_estimators=100; total time=   0.4s\n",
      "[CV] END ...max_depth=7, max_features=log2, n_estimators=100; total time=   0.8s\n",
      "[CV] END ...max_depth=7, max_features=log2, n_estimators=100; total time=   0.9s\n",
      "[CV] END ...max_depth=7, max_features=log2, n_estimators=200; total time=   1.7s\n",
      "[CV] END ...max_depth=7, max_features=log2, n_estimators=200; total time=   1.7s\n",
      "[CV] END ...max_depth=7, max_features=log2, n_estimators=200; total time=   1.7s\n",
      "[CV] END ...max_depth=7, max_features=log2, n_estimators=200; total time=   1.8s\n",
      "[CV] END ...max_depth=7, max_features=log2, n_estimators=200; total time=   1.7s\n",
      "[CV] END ...max_depth=7, max_features=log2, n_estimators=300; total time=   2.7s\n",
      "[CV] END ...max_depth=7, max_features=log2, n_estimators=300; total time=   2.6s\n",
      "[CV] END ...max_depth=7, max_features=log2, n_estimators=300; total time=   2.6s\n",
      "[CV] END ...max_depth=7, max_features=log2, n_estimators=300; total time=   2.9s\n",
      "[CV] END ...max_depth=7, max_features=log2, n_estimators=300; total time=   2.9s\n",
      "[CV] END ...max_depth=7, max_features=log2, n_estimators=400; total time=   3.7s\n",
      "[CV] END ...max_depth=7, max_features=log2, n_estimators=400; total time=   4.2s\n",
      "[CV] END ...max_depth=7, max_features=log2, n_estimators=400; total time=   3.5s\n",
      "[CV] END ...max_depth=7, max_features=log2, n_estimators=400; total time=   3.5s\n",
      "[CV] END ...max_depth=7, max_features=log2, n_estimators=400; total time=   3.4s\n",
      "[CV] END ...max_depth=7, max_features=log2, n_estimators=500; total time=   4.3s\n",
      "[CV] END ...max_depth=7, max_features=log2, n_estimators=500; total time=   3.4s\n",
      "[CV] END ...max_depth=7, max_features=log2, n_estimators=500; total time=   3.5s\n",
      "[CV] END ...max_depth=7, max_features=log2, n_estimators=500; total time=   4.9s\n",
      "[CV] END ...max_depth=7, max_features=log2, n_estimators=500; total time=   4.9s\n",
      "[CV] END ...max_depth=7, max_features=log2, n_estimators=600; total time=   6.1s\n",
      "[CV] END ...max_depth=7, max_features=log2, n_estimators=600; total time=   6.0s\n",
      "[CV] END ...max_depth=7, max_features=log2, n_estimators=600; total time=   5.0s\n",
      "[CV] END ...max_depth=7, max_features=log2, n_estimators=600; total time=   5.0s\n",
      "[CV] END ...max_depth=7, max_features=log2, n_estimators=600; total time=   5.1s\n",
      "[CV] END ...max_depth=7, max_features=log2, n_estimators=700; total time=   6.0s\n",
      "[CV] END ...max_depth=7, max_features=log2, n_estimators=700; total time=   5.9s\n",
      "[CV] END ...max_depth=7, max_features=log2, n_estimators=700; total time=   6.0s\n",
      "[CV] END ...max_depth=7, max_features=log2, n_estimators=700; total time=   6.2s\n",
      "[CV] END ...max_depth=7, max_features=log2, n_estimators=700; total time=   5.9s\n",
      "[CV] END ...max_depth=8, max_features=sqrt, n_estimators=100; total time=   0.9s\n",
      "[CV] END ...max_depth=8, max_features=sqrt, n_estimators=100; total time=   0.8s\n",
      "[CV] END ...max_depth=8, max_features=sqrt, n_estimators=100; total time=   0.9s\n",
      "[CV] END ...max_depth=8, max_features=sqrt, n_estimators=100; total time=   0.9s\n",
      "[CV] END ...max_depth=8, max_features=sqrt, n_estimators=100; total time=   0.8s\n",
      "[CV] END ...max_depth=8, max_features=sqrt, n_estimators=200; total time=   1.8s\n",
      "[CV] END ...max_depth=8, max_features=sqrt, n_estimators=200; total time=   1.8s\n",
      "[CV] END ...max_depth=8, max_features=sqrt, n_estimators=200; total time=   1.9s\n",
      "[CV] END ...max_depth=8, max_features=sqrt, n_estimators=200; total time=   1.8s\n",
      "[CV] END ...max_depth=8, max_features=sqrt, n_estimators=200; total time=   1.8s\n",
      "[CV] END ...max_depth=8, max_features=sqrt, n_estimators=300; total time=   2.7s\n",
      "[CV] END ...max_depth=8, max_features=sqrt, n_estimators=300; total time=   2.7s\n",
      "[CV] END ...max_depth=8, max_features=sqrt, n_estimators=300; total time=   2.8s\n",
      "[CV] END ...max_depth=8, max_features=sqrt, n_estimators=300; total time=   3.2s\n",
      "[CV] END ...max_depth=8, max_features=sqrt, n_estimators=300; total time=   3.2s\n",
      "[CV] END ...max_depth=8, max_features=sqrt, n_estimators=400; total time=   3.6s\n",
      "[CV] END ...max_depth=8, max_features=sqrt, n_estimators=400; total time=   3.7s\n",
      "[CV] END ...max_depth=8, max_features=sqrt, n_estimators=400; total time=   3.8s\n",
      "[CV] END ...max_depth=8, max_features=sqrt, n_estimators=400; total time=   3.6s\n",
      "[CV] END ...max_depth=8, max_features=sqrt, n_estimators=400; total time=   3.5s\n",
      "[CV] END ...max_depth=8, max_features=sqrt, n_estimators=500; total time=   4.5s\n",
      "[CV] END ...max_depth=8, max_features=sqrt, n_estimators=500; total time=   4.5s\n",
      "[CV] END ...max_depth=8, max_features=sqrt, n_estimators=500; total time=   4.7s\n",
      "[CV] END ...max_depth=8, max_features=sqrt, n_estimators=500; total time=   4.4s\n",
      "[CV] END ...max_depth=8, max_features=sqrt, n_estimators=500; total time=   4.5s\n",
      "[CV] END ...max_depth=8, max_features=sqrt, n_estimators=600; total time=   5.4s\n",
      "[CV] END ...max_depth=8, max_features=sqrt, n_estimators=600; total time=   5.5s\n",
      "[CV] END ...max_depth=8, max_features=sqrt, n_estimators=600; total time=   5.6s\n",
      "[CV] END ...max_depth=8, max_features=sqrt, n_estimators=600; total time=   5.6s\n",
      "[CV] END ...max_depth=8, max_features=sqrt, n_estimators=600; total time=   5.6s\n",
      "[CV] END ...max_depth=8, max_features=sqrt, n_estimators=700; total time=   6.9s\n",
      "[CV] END ...max_depth=8, max_features=sqrt, n_estimators=700; total time=   6.7s\n",
      "[CV] END ...max_depth=8, max_features=sqrt, n_estimators=700; total time=   6.7s\n",
      "[CV] END ...max_depth=8, max_features=sqrt, n_estimators=700; total time=   6.6s\n",
      "[CV] END ...max_depth=8, max_features=sqrt, n_estimators=700; total time=   6.8s\n",
      "[CV] END ...max_depth=8, max_features=log2, n_estimators=100; total time=   1.1s\n",
      "[CV] END ...max_depth=8, max_features=log2, n_estimators=100; total time=   1.0s\n",
      "[CV] END ...max_depth=8, max_features=log2, n_estimators=100; total time=   0.9s\n",
      "[CV] END ...max_depth=8, max_features=log2, n_estimators=100; total time=   0.9s\n",
      "[CV] END ...max_depth=8, max_features=log2, n_estimators=100; total time=   0.9s\n",
      "[CV] END ...max_depth=8, max_features=log2, n_estimators=200; total time=   1.9s\n",
      "[CV] END ...max_depth=8, max_features=log2, n_estimators=200; total time=   1.7s\n",
      "[CV] END ...max_depth=8, max_features=log2, n_estimators=200; total time=   2.2s\n",
      "[CV] END ...max_depth=8, max_features=log2, n_estimators=200; total time=   1.9s\n",
      "[CV] END ...max_depth=8, max_features=log2, n_estimators=200; total time=   1.8s\n",
      "[CV] END ...max_depth=8, max_features=log2, n_estimators=300; total time=   2.9s\n",
      "[CV] END ...max_depth=8, max_features=log2, n_estimators=300; total time=   2.6s\n",
      "[CV] END ...max_depth=8, max_features=log2, n_estimators=300; total time=   3.0s\n",
      "[CV] END ...max_depth=8, max_features=log2, n_estimators=300; total time=   2.7s\n",
      "[CV] END ...max_depth=8, max_features=log2, n_estimators=300; total time=   2.7s\n",
      "[CV] END ...max_depth=8, max_features=log2, n_estimators=400; total time=   4.0s\n",
      "[CV] END ...max_depth=8, max_features=log2, n_estimators=400; total time=   4.0s\n",
      "[CV] END ...max_depth=8, max_features=log2, n_estimators=400; total time=   3.6s\n",
      "[CV] END ...max_depth=8, max_features=log2, n_estimators=400; total time=   3.7s\n",
      "[CV] END ...max_depth=8, max_features=log2, n_estimators=400; total time=   3.7s\n",
      "[CV] END ...max_depth=8, max_features=log2, n_estimators=500; total time=   4.8s\n",
      "[CV] END ...max_depth=8, max_features=log2, n_estimators=500; total time=   4.7s\n",
      "[CV] END ...max_depth=8, max_features=log2, n_estimators=500; total time=   4.8s\n",
      "[CV] END ...max_depth=8, max_features=log2, n_estimators=500; total time=   4.8s\n",
      "[CV] END ...max_depth=8, max_features=log2, n_estimators=500; total time=   4.8s\n",
      "[CV] END ...max_depth=8, max_features=log2, n_estimators=600; total time=   5.8s\n",
      "[CV] END ...max_depth=8, max_features=log2, n_estimators=600; total time=   5.9s\n",
      "[CV] END ...max_depth=8, max_features=log2, n_estimators=600; total time=   5.2s\n",
      "[CV] END ...max_depth=8, max_features=log2, n_estimators=600; total time=   5.7s\n",
      "[CV] END ...max_depth=8, max_features=log2, n_estimators=600; total time=   6.0s\n",
      "[CV] END ...max_depth=8, max_features=log2, n_estimators=700; total time=   6.7s\n",
      "[CV] END ...max_depth=8, max_features=log2, n_estimators=700; total time=   7.1s\n",
      "[CV] END ...max_depth=8, max_features=log2, n_estimators=700; total time=   6.6s\n",
      "[CV] END ...max_depth=8, max_features=log2, n_estimators=700; total time=   6.8s\n",
      "[CV] END ...max_depth=8, max_features=log2, n_estimators=700; total time=   6.3s\n",
      "[CV] END ...max_depth=9, max_features=sqrt, n_estimators=100; total time=   0.7s\n",
      "[CV] END ...max_depth=9, max_features=sqrt, n_estimators=100; total time=   0.8s\n",
      "[CV] END ...max_depth=9, max_features=sqrt, n_estimators=100; total time=   0.8s\n",
      "[CV] END ...max_depth=9, max_features=sqrt, n_estimators=100; total time=   0.9s\n",
      "[CV] END ...max_depth=9, max_features=sqrt, n_estimators=100; total time=   0.9s\n",
      "[CV] END ...max_depth=9, max_features=sqrt, n_estimators=200; total time=   1.8s\n",
      "[CV] END ...max_depth=9, max_features=sqrt, n_estimators=200; total time=   1.9s\n",
      "[CV] END ...max_depth=9, max_features=sqrt, n_estimators=200; total time=   1.8s\n",
      "[CV] END ...max_depth=9, max_features=sqrt, n_estimators=200; total time=   1.7s\n",
      "[CV] END ...max_depth=9, max_features=sqrt, n_estimators=200; total time=   1.8s\n",
      "[CV] END ...max_depth=9, max_features=sqrt, n_estimators=300; total time=   2.8s\n",
      "[CV] END ...max_depth=9, max_features=sqrt, n_estimators=300; total time=   2.9s\n",
      "[CV] END ...max_depth=9, max_features=sqrt, n_estimators=300; total time=   3.1s\n",
      "[CV] END ...max_depth=9, max_features=sqrt, n_estimators=300; total time=   3.0s\n",
      "[CV] END ...max_depth=9, max_features=sqrt, n_estimators=300; total time=   2.9s\n",
      "[CV] END ...max_depth=9, max_features=sqrt, n_estimators=400; total time=   3.8s\n",
      "[CV] END ...max_depth=9, max_features=sqrt, n_estimators=400; total time=   4.0s\n",
      "[CV] END ...max_depth=9, max_features=sqrt, n_estimators=400; total time=   4.0s\n",
      "[CV] END ...max_depth=9, max_features=sqrt, n_estimators=400; total time=   3.8s\n",
      "[CV] END ...max_depth=9, max_features=sqrt, n_estimators=400; total time=   3.9s\n",
      "[CV] END ...max_depth=9, max_features=sqrt, n_estimators=500; total time=   5.0s\n",
      "[CV] END ...max_depth=9, max_features=sqrt, n_estimators=500; total time=   5.2s\n",
      "[CV] END ...max_depth=9, max_features=sqrt, n_estimators=500; total time=   5.0s\n",
      "[CV] END ...max_depth=9, max_features=sqrt, n_estimators=500; total time=   5.1s\n",
      "[CV] END ...max_depth=9, max_features=sqrt, n_estimators=500; total time=   5.1s\n",
      "[CV] END ...max_depth=9, max_features=sqrt, n_estimators=600; total time=   6.5s\n",
      "[CV] END ...max_depth=9, max_features=sqrt, n_estimators=600; total time=   6.3s\n",
      "[CV] END ...max_depth=9, max_features=sqrt, n_estimators=600; total time=   6.3s\n",
      "[CV] END ...max_depth=9, max_features=sqrt, n_estimators=600; total time=   6.2s\n",
      "[CV] END ...max_depth=9, max_features=sqrt, n_estimators=600; total time=   6.3s\n",
      "[CV] END ...max_depth=9, max_features=sqrt, n_estimators=700; total time=   7.3s\n",
      "[CV] END ...max_depth=9, max_features=sqrt, n_estimators=700; total time=   7.4s\n",
      "[CV] END ...max_depth=9, max_features=sqrt, n_estimators=700; total time=   7.3s\n",
      "[CV] END ...max_depth=9, max_features=sqrt, n_estimators=700; total time=   7.3s\n",
      "[CV] END ...max_depth=9, max_features=sqrt, n_estimators=700; total time=   7.4s\n",
      "[CV] END ...max_depth=9, max_features=log2, n_estimators=100; total time=   0.9s\n",
      "[CV] END ...max_depth=9, max_features=log2, n_estimators=100; total time=   0.9s\n",
      "[CV] END ...max_depth=9, max_features=log2, n_estimators=100; total time=   0.9s\n",
      "[CV] END ...max_depth=9, max_features=log2, n_estimators=100; total time=   0.9s\n",
      "[CV] END ...max_depth=9, max_features=log2, n_estimators=100; total time=   0.9s\n",
      "[CV] END ...max_depth=9, max_features=log2, n_estimators=200; total time=   1.9s\n",
      "[CV] END ...max_depth=9, max_features=log2, n_estimators=200; total time=   1.9s\n",
      "[CV] END ...max_depth=9, max_features=log2, n_estimators=200; total time=   1.8s\n",
      "[CV] END ...max_depth=9, max_features=log2, n_estimators=200; total time=   2.2s\n",
      "[CV] END ...max_depth=9, max_features=log2, n_estimators=200; total time=   2.0s\n",
      "[CV] END ...max_depth=9, max_features=log2, n_estimators=300; total time=   3.1s\n",
      "[CV] END ...max_depth=9, max_features=log2, n_estimators=300; total time=   2.7s\n",
      "[CV] END ...max_depth=9, max_features=log2, n_estimators=300; total time=   2.9s\n",
      "[CV] END ...max_depth=9, max_features=log2, n_estimators=300; total time=   2.9s\n",
      "[CV] END ...max_depth=9, max_features=log2, n_estimators=300; total time=   2.6s\n",
      "[CV] END ...max_depth=9, max_features=log2, n_estimators=400; total time=   4.0s\n",
      "[CV] END ...max_depth=9, max_features=log2, n_estimators=400; total time=   4.0s\n",
      "[CV] END ...max_depth=9, max_features=log2, n_estimators=400; total time=   3.9s\n",
      "[CV] END ...max_depth=9, max_features=log2, n_estimators=400; total time=   3.9s\n",
      "[CV] END ...max_depth=9, max_features=log2, n_estimators=400; total time=   4.0s\n",
      "[CV] END ...max_depth=9, max_features=log2, n_estimators=500; total time=   4.9s\n",
      "[CV] END ...max_depth=9, max_features=log2, n_estimators=500; total time=   5.1s\n",
      "[CV] END ...max_depth=9, max_features=log2, n_estimators=500; total time=   4.9s\n",
      "[CV] END ...max_depth=9, max_features=log2, n_estimators=500; total time=   4.8s\n",
      "[CV] END ...max_depth=9, max_features=log2, n_estimators=500; total time=   4.7s\n",
      "[CV] END ...max_depth=9, max_features=log2, n_estimators=600; total time=   5.8s\n",
      "[CV] END ...max_depth=9, max_features=log2, n_estimators=600; total time=   5.9s\n",
      "[CV] END ...max_depth=9, max_features=log2, n_estimators=600; total time=   5.9s\n",
      "[CV] END ...max_depth=9, max_features=log2, n_estimators=600; total time=   5.8s\n",
      "[CV] END ...max_depth=9, max_features=log2, n_estimators=600; total time=   6.2s\n",
      "[CV] END ...max_depth=9, max_features=log2, n_estimators=700; total time=   6.3s\n",
      "[CV] END ...max_depth=9, max_features=log2, n_estimators=700; total time=   7.0s\n",
      "[CV] END ...max_depth=9, max_features=log2, n_estimators=700; total time=   7.0s\n",
      "[CV] END ...max_depth=9, max_features=log2, n_estimators=700; total time=   7.1s\n",
      "[CV] END ...max_depth=9, max_features=log2, n_estimators=700; total time=   6.7s\n",
      "[CV] END ..max_depth=10, max_features=sqrt, n_estimators=100; total time=   1.0s\n",
      "[CV] END ..max_depth=10, max_features=sqrt, n_estimators=100; total time=   1.0s\n",
      "[CV] END ..max_depth=10, max_features=sqrt, n_estimators=100; total time=   1.0s\n",
      "[CV] END ..max_depth=10, max_features=sqrt, n_estimators=100; total time=   0.9s\n",
      "[CV] END ..max_depth=10, max_features=sqrt, n_estimators=100; total time=   1.1s\n",
      "[CV] END ..max_depth=10, max_features=sqrt, n_estimators=200; total time=   2.0s\n",
      "[CV] END ..max_depth=10, max_features=sqrt, n_estimators=200; total time=   2.2s\n",
      "[CV] END ..max_depth=10, max_features=sqrt, n_estimators=200; total time=   2.1s\n",
      "[CV] END ..max_depth=10, max_features=sqrt, n_estimators=200; total time=   2.1s\n",
      "[CV] END ..max_depth=10, max_features=sqrt, n_estimators=200; total time=   2.1s\n",
      "[CV] END ..max_depth=10, max_features=sqrt, n_estimators=300; total time=   3.0s\n",
      "[CV] END ..max_depth=10, max_features=sqrt, n_estimators=300; total time=   3.3s\n",
      "[CV] END ..max_depth=10, max_features=sqrt, n_estimators=300; total time=   3.3s\n",
      "[CV] END ..max_depth=10, max_features=sqrt, n_estimators=300; total time=   3.1s\n",
      "[CV] END ..max_depth=10, max_features=sqrt, n_estimators=300; total time=   3.3s\n",
      "[CV] END ..max_depth=10, max_features=sqrt, n_estimators=400; total time=   4.1s\n",
      "[CV] END ..max_depth=10, max_features=sqrt, n_estimators=400; total time=   4.5s\n",
      "[CV] END ..max_depth=10, max_features=sqrt, n_estimators=400; total time=   4.1s\n",
      "[CV] END ..max_depth=10, max_features=sqrt, n_estimators=400; total time=   4.1s\n",
      "[CV] END ..max_depth=10, max_features=sqrt, n_estimators=400; total time=   4.2s\n",
      "[CV] END ..max_depth=10, max_features=sqrt, n_estimators=500; total time=   5.3s\n",
      "[CV] END ..max_depth=10, max_features=sqrt, n_estimators=500; total time=   5.4s\n",
      "[CV] END ..max_depth=10, max_features=sqrt, n_estimators=500; total time=   5.1s\n",
      "[CV] END ..max_depth=10, max_features=sqrt, n_estimators=500; total time=   5.1s\n",
      "[CV] END ..max_depth=10, max_features=sqrt, n_estimators=500; total time=   5.4s\n",
      "[CV] END ..max_depth=10, max_features=sqrt, n_estimators=600; total time=   6.6s\n",
      "[CV] END ..max_depth=10, max_features=sqrt, n_estimators=600; total time=   6.6s\n",
      "[CV] END ..max_depth=10, max_features=sqrt, n_estimators=600; total time=   6.6s\n",
      "[CV] END ..max_depth=10, max_features=sqrt, n_estimators=600; total time=   6.6s\n",
      "[CV] END ..max_depth=10, max_features=sqrt, n_estimators=600; total time=   6.7s\n",
      "[CV] END ..max_depth=10, max_features=sqrt, n_estimators=700; total time=   7.7s\n",
      "[CV] END ..max_depth=10, max_features=sqrt, n_estimators=700; total time=   7.8s\n",
      "[CV] END ..max_depth=10, max_features=sqrt, n_estimators=700; total time=   7.8s\n",
      "[CV] END ..max_depth=10, max_features=sqrt, n_estimators=700; total time=   7.8s\n",
      "[CV] END ..max_depth=10, max_features=sqrt, n_estimators=700; total time=   7.8s\n",
      "[CV] END ..max_depth=10, max_features=log2, n_estimators=100; total time=   1.0s\n",
      "[CV] END ..max_depth=10, max_features=log2, n_estimators=100; total time=   1.0s\n",
      "[CV] END ..max_depth=10, max_features=log2, n_estimators=100; total time=   1.0s\n",
      "[CV] END ..max_depth=10, max_features=log2, n_estimators=100; total time=   1.0s\n",
      "[CV] END ..max_depth=10, max_features=log2, n_estimators=100; total time=   1.0s\n",
      "[CV] END ..max_depth=10, max_features=log2, n_estimators=200; total time=   2.2s\n",
      "[CV] END ..max_depth=10, max_features=log2, n_estimators=200; total time=   2.2s\n",
      "[CV] END ..max_depth=10, max_features=log2, n_estimators=200; total time=   2.2s\n",
      "[CV] END ..max_depth=10, max_features=log2, n_estimators=200; total time=   2.3s\n",
      "[CV] END ..max_depth=10, max_features=log2, n_estimators=200; total time=   2.2s\n",
      "[CV] END ..max_depth=10, max_features=log2, n_estimators=300; total time=   3.3s\n",
      "[CV] END ..max_depth=10, max_features=log2, n_estimators=300; total time=   3.3s\n",
      "[CV] END ..max_depth=10, max_features=log2, n_estimators=300; total time=   3.2s\n",
      "[CV] END ..max_depth=10, max_features=log2, n_estimators=300; total time=   3.2s\n",
      "[CV] END ..max_depth=10, max_features=log2, n_estimators=300; total time=   3.3s\n",
      "[CV] END ..max_depth=10, max_features=log2, n_estimators=400; total time=   4.4s\n",
      "[CV] END ..max_depth=10, max_features=log2, n_estimators=400; total time=   4.3s\n",
      "[CV] END ..max_depth=10, max_features=log2, n_estimators=400; total time=   4.3s\n",
      "[CV] END ..max_depth=10, max_features=log2, n_estimators=400; total time=   4.5s\n",
      "[CV] END ..max_depth=10, max_features=log2, n_estimators=400; total time=   4.3s\n",
      "[CV] END ..max_depth=10, max_features=log2, n_estimators=500; total time=   5.3s\n",
      "[CV] END ..max_depth=10, max_features=log2, n_estimators=500; total time=   5.3s\n",
      "[CV] END ..max_depth=10, max_features=log2, n_estimators=500; total time=   5.4s\n",
      "[CV] END ..max_depth=10, max_features=log2, n_estimators=500; total time=   5.2s\n",
      "[CV] END ..max_depth=10, max_features=log2, n_estimators=500; total time=   5.4s\n",
      "[CV] END ..max_depth=10, max_features=log2, n_estimators=600; total time=   6.5s\n",
      "[CV] END ..max_depth=10, max_features=log2, n_estimators=600; total time=   6.5s\n",
      "[CV] END ..max_depth=10, max_features=log2, n_estimators=600; total time=   6.5s\n",
      "[CV] END ..max_depth=10, max_features=log2, n_estimators=600; total time=   6.4s\n",
      "[CV] END ..max_depth=10, max_features=log2, n_estimators=600; total time=   6.5s\n",
      "[CV] END ..max_depth=10, max_features=log2, n_estimators=700; total time=   7.5s\n",
      "[CV] END ..max_depth=10, max_features=log2, n_estimators=700; total time=   7.5s\n",
      "[CV] END ..max_depth=10, max_features=log2, n_estimators=700; total time=   7.6s\n",
      "[CV] END ..max_depth=10, max_features=log2, n_estimators=700; total time=   7.5s\n",
      "[CV] END ..max_depth=10, max_features=log2, n_estimators=700; total time=   7.5s\n"
     ]
    },
    {
     "data": {
      "text/html": [
       "<style>#sk-container-id-1 {color: black;background-color: white;}#sk-container-id-1 pre{padding: 0;}#sk-container-id-1 div.sk-toggleable {background-color: white;}#sk-container-id-1 label.sk-toggleable__label {cursor: pointer;display: block;width: 100%;margin-bottom: 0;padding: 0.3em;box-sizing: border-box;text-align: center;}#sk-container-id-1 label.sk-toggleable__label-arrow:before {content: \"▸\";float: left;margin-right: 0.25em;color: #696969;}#sk-container-id-1 label.sk-toggleable__label-arrow:hover:before {color: black;}#sk-container-id-1 div.sk-estimator:hover label.sk-toggleable__label-arrow:before {color: black;}#sk-container-id-1 div.sk-toggleable__content {max-height: 0;max-width: 0;overflow: hidden;text-align: left;background-color: #f0f8ff;}#sk-container-id-1 div.sk-toggleable__content pre {margin: 0.2em;color: black;border-radius: 0.25em;background-color: #f0f8ff;}#sk-container-id-1 input.sk-toggleable__control:checked~div.sk-toggleable__content {max-height: 200px;max-width: 100%;overflow: auto;}#sk-container-id-1 input.sk-toggleable__control:checked~label.sk-toggleable__label-arrow:before {content: \"▾\";}#sk-container-id-1 div.sk-estimator input.sk-toggleable__control:checked~label.sk-toggleable__label {background-color: #d4ebff;}#sk-container-id-1 div.sk-label input.sk-toggleable__control:checked~label.sk-toggleable__label {background-color: #d4ebff;}#sk-container-id-1 input.sk-hidden--visually {border: 0;clip: rect(1px 1px 1px 1px);clip: rect(1px, 1px, 1px, 1px);height: 1px;margin: -1px;overflow: hidden;padding: 0;position: absolute;width: 1px;}#sk-container-id-1 div.sk-estimator {font-family: monospace;background-color: #f0f8ff;border: 1px dotted black;border-radius: 0.25em;box-sizing: border-box;margin-bottom: 0.5em;}#sk-container-id-1 div.sk-estimator:hover {background-color: #d4ebff;}#sk-container-id-1 div.sk-parallel-item::after {content: \"\";width: 100%;border-bottom: 1px solid gray;flex-grow: 1;}#sk-container-id-1 div.sk-label:hover label.sk-toggleable__label {background-color: #d4ebff;}#sk-container-id-1 div.sk-serial::before {content: \"\";position: absolute;border-left: 1px solid gray;box-sizing: border-box;top: 0;bottom: 0;left: 50%;z-index: 0;}#sk-container-id-1 div.sk-serial {display: flex;flex-direction: column;align-items: center;background-color: white;padding-right: 0.2em;padding-left: 0.2em;position: relative;}#sk-container-id-1 div.sk-item {position: relative;z-index: 1;}#sk-container-id-1 div.sk-parallel {display: flex;align-items: stretch;justify-content: center;background-color: white;position: relative;}#sk-container-id-1 div.sk-item::before, #sk-container-id-1 div.sk-parallel-item::before {content: \"\";position: absolute;border-left: 1px solid gray;box-sizing: border-box;top: 0;bottom: 0;left: 50%;z-index: -1;}#sk-container-id-1 div.sk-parallel-item {display: flex;flex-direction: column;z-index: 1;position: relative;background-color: white;}#sk-container-id-1 div.sk-parallel-item:first-child::after {align-self: flex-end;width: 50%;}#sk-container-id-1 div.sk-parallel-item:last-child::after {align-self: flex-start;width: 50%;}#sk-container-id-1 div.sk-parallel-item:only-child::after {width: 0;}#sk-container-id-1 div.sk-dashed-wrapped {border: 1px dashed gray;margin: 0 0.4em 0.5em 0.4em;box-sizing: border-box;padding-bottom: 0.4em;background-color: white;}#sk-container-id-1 div.sk-label label {font-family: monospace;font-weight: bold;display: inline-block;line-height: 1.2em;}#sk-container-id-1 div.sk-label-container {text-align: center;}#sk-container-id-1 div.sk-container {/* jupyter's `normalize.less` sets `[hidden] { display: none; }` but bootstrap.min.css set `[hidden] { display: none !important; }` so we also need the `!important` here to be able to override the default hidden behavior on the sphinx rendered scikit-learn.org. See: https://github.com/scikit-learn/scikit-learn/issues/21755 */display: inline-block !important;position: relative;}#sk-container-id-1 div.sk-text-repr-fallback {display: none;}</style><div id=\"sk-container-id-1\" class=\"sk-top-container\"><div class=\"sk-text-repr-fallback\"><pre>GridSearchCV(cv=5, estimator=RandomForestClassifier(),\n",
       "             param_grid={&#x27;max_depth&#x27;: [2, 3, 4, 5, 6, 7, 8, 9, 10],\n",
       "                         &#x27;max_features&#x27;: [&#x27;sqrt&#x27;, &#x27;log2&#x27;],\n",
       "                         &#x27;n_estimators&#x27;: [100, 200, 300, 400, 500, 600, 700]},\n",
       "             verbose=2)</pre><b>In a Jupyter environment, please rerun this cell to show the HTML representation or trust the notebook. <br />On GitHub, the HTML representation is unable to render, please try loading this page with nbviewer.org.</b></div><div class=\"sk-container\" hidden><div class=\"sk-item sk-dashed-wrapped\"><div class=\"sk-label-container\"><div class=\"sk-label sk-toggleable\"><input class=\"sk-toggleable__control sk-hidden--visually\" id=\"sk-estimator-id-1\" type=\"checkbox\" ><label for=\"sk-estimator-id-1\" class=\"sk-toggleable__label sk-toggleable__label-arrow\">GridSearchCV</label><div class=\"sk-toggleable__content\"><pre>GridSearchCV(cv=5, estimator=RandomForestClassifier(),\n",
       "             param_grid={&#x27;max_depth&#x27;: [2, 3, 4, 5, 6, 7, 8, 9, 10],\n",
       "                         &#x27;max_features&#x27;: [&#x27;sqrt&#x27;, &#x27;log2&#x27;],\n",
       "                         &#x27;n_estimators&#x27;: [100, 200, 300, 400, 500, 600, 700]},\n",
       "             verbose=2)</pre></div></div></div><div class=\"sk-parallel\"><div class=\"sk-parallel-item\"><div class=\"sk-item\"><div class=\"sk-label-container\"><div class=\"sk-label sk-toggleable\"><input class=\"sk-toggleable__control sk-hidden--visually\" id=\"sk-estimator-id-2\" type=\"checkbox\" ><label for=\"sk-estimator-id-2\" class=\"sk-toggleable__label sk-toggleable__label-arrow\">estimator: RandomForestClassifier</label><div class=\"sk-toggleable__content\"><pre>RandomForestClassifier()</pre></div></div></div><div class=\"sk-serial\"><div class=\"sk-item\"><div class=\"sk-estimator sk-toggleable\"><input class=\"sk-toggleable__control sk-hidden--visually\" id=\"sk-estimator-id-3\" type=\"checkbox\" ><label for=\"sk-estimator-id-3\" class=\"sk-toggleable__label sk-toggleable__label-arrow\">RandomForestClassifier</label><div class=\"sk-toggleable__content\"><pre>RandomForestClassifier()</pre></div></div></div></div></div></div></div></div></div></div>"
      ],
      "text/plain": [
       "GridSearchCV(cv=5, estimator=RandomForestClassifier(),\n",
       "             param_grid={'max_depth': [2, 3, 4, 5, 6, 7, 8, 9, 10],\n",
       "                         'max_features': ['sqrt', 'log2'],\n",
       "                         'n_estimators': [100, 200, 300, 400, 500, 600, 700]},\n",
       "             verbose=2)"
      ]
     },
     "execution_count": 41,
     "metadata": {},
     "output_type": "execute_result"
    }
   ],
   "source": [
    "grid = GridSearchCV(RandomForestClassifier(),param_grid,refit=True,verbose=2,cv=5)\n",
    "grid.fit(X_train,y_train)"
   ]
  },
  {
   "cell_type": "code",
   "execution_count": 42,
   "metadata": {},
   "outputs": [
    {
     "name": "stdout",
     "output_type": "stream",
     "text": [
      "RandomForestClassifier(max_depth=4, max_features='log2', n_estimators=600)\n"
     ]
    }
   ],
   "source": [
    "print(grid.best_estimator_)"
   ]
  },
  {
   "cell_type": "code",
   "execution_count": 43,
   "metadata": {
    "scrolled": true
   },
   "outputs": [],
   "source": [
    "#Random Forest\n",
    "classifier = RandomForestClassifier(max_depth=4, max_features='log2', n_estimators=600).fit(X_train, y_train)"
   ]
  },
  {
   "cell_type": "code",
   "execution_count": 44,
   "metadata": {
    "scrolled": true
   },
   "outputs": [
    {
     "data": {
      "text/plain": [
       "duration    0.834507\n",
       "housing     0.128975\n",
       "loan        0.036518\n",
       "dtype: float64"
      ]
     },
     "execution_count": 44,
     "metadata": {},
     "output_type": "execute_result"
    }
   ],
   "source": [
    "feature_scores = pd.Series(classifier.feature_importances_, index=['housing','loan','duration']).sort_values(ascending=False)\n",
    "feature_scores"
   ]
  },
  {
   "cell_type": "code",
   "execution_count": 45,
   "metadata": {},
   "outputs": [
    {
     "data": {
      "image/png": "[encoded data removed]",
      "text/plain": [
       "<Figure size 640x480 with 1 Axes>"
      ]
     },
     "metadata": {},
     "output_type": "display_data"
    }
   ],
   "source": [
    "sns.barplot(x=feature_scores, y=feature_scores.index)\n",
    "plt.xlabel('Feature Importance Score')\n",
    "plt.ylabel('Features')\n",
    "plt.title(\"Visualizing Important Features\")\n",
    "plt.show()"
   ]
  },
  {
   "cell_type": "markdown",
   "metadata": {},
   "source": [
    "### Evaluación "
   ]
  },
  {
   "cell_type": "code",
   "execution_count": 46,
   "metadata": {},
   "outputs": [],
   "source": [
    "y_pred = classifier.predict(X_test)"
   ]
  },
  {
   "cell_type": "code",
   "execution_count": 47,
   "metadata": {
    "scrolled": true
   },
   "outputs": [
    {
     "data": {
      "text/plain": [
       "array([1, 1, 0, 1, 0, 0, 1, 0, 1, 1, 1, 1, 0, 1, 0, 0, 0, 0, 0, 0],\n",
       "      dtype=int64)"
      ]
     },
     "execution_count": 47,
     "metadata": {},
     "output_type": "execute_result"
    }
   ],
   "source": [
    "y_pred[0:20]"
   ]
  },
  {
   "cell_type": "code",
   "execution_count": 48,
   "metadata": {},
   "outputs": [
    {
     "data": {
      "text/plain": [
       "array([1, 1, 0, 1, 1, 0, 1, 0, 0, 1, 1, 1, 0, 0, 1, 0, 0, 0, 1, 1],\n",
       "      dtype=int64)"
      ]
     },
     "execution_count": 48,
     "metadata": {},
     "output_type": "execute_result"
    }
   ],
   "source": [
    "y_test[0:20]"
   ]
  },
  {
   "cell_type": "code",
   "execution_count": 49,
   "metadata": {},
   "outputs": [
    {
     "data": {
      "text/plain": [
       "array([[800, 229],\n",
       "       [243, 844]], dtype=int64)"
      ]
     },
     "execution_count": 49,
     "metadata": {},
     "output_type": "execute_result"
    }
   ],
   "source": [
    "confusion_matrix(y_test, y_pred)"
   ]
  },
  {
   "cell_type": "code",
   "execution_count": 51,
   "metadata": {},
   "outputs": [
    {
     "name": "stdout",
     "output_type": "stream",
     "text": [
      "Confusion matrix, without normalization\n",
      "[[800 229]\n",
      " [243 844]]\n",
      "Normalized confusion matrix\n",
      "[[0.77745384 0.22254616]\n",
      " [0.22355106 0.77644894]]\n"
     ]
    },
    {
     "data": {
      "image/png": "[encoded data removed]",
      "text/plain": [
       "<Figure size 640x480 with 2 Axes>"
      ]
     },
     "metadata": {},
     "output_type": "display_data"
    },
    {
     "data": {
      "image/png": "[encoded data removed]",
      "text/plain": [
       "<Figure size 640x480 with 2 Axes>"
      ]
     },
     "metadata": {},
     "output_type": "display_data"
    }
   ],
   "source": [
    "# Plot non-normalized confusion matrix\n",
    "titles_options = [(\"Confusion matrix, without normalization\", None),\n",
    "                  (\"Normalized confusion matrix\", 'true')]\n",
    "for title, normalize in titles_options:\n",
    "    disp = ConfusionMatrixDisplay.from_estimator(classifier, X_test, y_test,\n",
    "                                                 #display_labels=y_test,\n",
    "                                                 cmap=plt.cm.Blues,\n",
    "                                                 normalize=normalize)\n",
    "    disp.ax_.set_title(title)\n",
    "\n",
    "    print(title)\n",
    "    print(disp.confusion_matrix)\n",
    "\n",
    "plt.show()"
   ]
  },
  {
   "cell_type": "code",
   "execution_count": 52,
   "metadata": {},
   "outputs": [],
   "source": [
    "y_pred_prob = classifier.predict_proba(X_test)"
   ]
  },
  {
   "cell_type": "code",
   "execution_count": 53,
   "metadata": {},
   "outputs": [
    {
     "data": {
      "text/plain": [
       "array([[0.27837768, 0.72162232],\n",
       "       [0.1520512 , 0.8479488 ],\n",
       "       [0.59606152, 0.40393848],\n",
       "       [0.12730905, 0.87269095],\n",
       "       [0.53568082, 0.46431918]])"
      ]
     },
     "execution_count": 53,
     "metadata": {},
     "output_type": "execute_result"
    }
   ],
   "source": [
    "y_pred_prob[0:5]"
   ]
  },
  {
   "cell_type": "code",
   "execution_count": 54,
   "metadata": {},
   "outputs": [
    {
     "data": {
      "text/plain": [
       "array([0.72162232, 0.8479488 , 0.40393848, 0.87269095, 0.46431918])"
      ]
     },
     "execution_count": 54,
     "metadata": {},
     "output_type": "execute_result"
    }
   ],
   "source": [
    "y_pred_prob[0:5,1]"
   ]
  },
  {
   "cell_type": "code",
   "execution_count": 55,
   "metadata": {},
   "outputs": [],
   "source": [
    "false_positive_rate, true_positive_rate, thresholds = roc_curve(y_test, y_pred_prob[:,1])"
   ]
  },
  {
   "cell_type": "code",
   "execution_count": 56,
   "metadata": {},
   "outputs": [
    {
     "data": {
      "text/plain": [
       "0.8590686110164922"
      ]
     },
     "execution_count": 56,
     "metadata": {},
     "output_type": "execute_result"
    }
   ],
   "source": [
    "roc_auc = auc(false_positive_rate, true_positive_rate)\n",
    "roc_auc"
   ]
  },
  {
   "cell_type": "code",
   "execution_count": 57,
   "metadata": {},
   "outputs": [
    {
     "data": {
      "image/png": "[encoded data removed]",
      "text/plain": [
       "<Figure size 640x480 with 1 Axes>"
      ]
     },
     "metadata": {},
     "output_type": "display_data"
    }
   ],
   "source": [
    "plt.title('Receiver Operating Characteristic')\n",
    "plt.plot(false_positive_rate,true_positive_rate, color='red',label = 'AUC = %0.2f' % roc_auc)\n",
    "plt.legend(loc = 'lower right')\n",
    "plt.plot([0, 1], [0, 1],linestyle='--')\n",
    "plt.axis('tight')\n",
    "plt.ylabel('True Positive Rate')\n",
    "plt.xlabel('False Positive Rate')\n",
    "plt.show()"
   ]
  },
  {
   "cell_type": "code",
   "execution_count": 58,
   "metadata": {},
   "outputs": [
    {
     "name": "stdout",
     "output_type": "stream",
     "text": [
      "              precision    recall  f1-score   support\n",
      "\n",
      "           0       0.77      0.78      0.77      1029\n",
      "           1       0.79      0.78      0.78      1087\n",
      "\n",
      "    accuracy                           0.78      2116\n",
      "   macro avg       0.78      0.78      0.78      2116\n",
      "weighted avg       0.78      0.78      0.78      2116\n",
      "\n"
     ]
    }
   ],
   "source": [
    "print(classification_report(y_test, y_pred))"
   ]
  },
  {
   "cell_type": "code",
   "execution_count": 59,
   "metadata": {},
   "outputs": [],
   "source": [
    "dataf = pd.concat([pd.DataFrame(X_test),pd.DataFrame(y_test),pd.DataFrame(y_pred),pd.DataFrame(y_pred_prob)],axis=1)"
   ]
  },
  {
   "cell_type": "code",
   "execution_count": 60,
   "metadata": {},
   "outputs": [
    {
     "data": {
      "text/html": [
       "<div>\n",
       "<style scoped>\n",
       "    .dataframe tbody tr th:only-of-type {\n",
       "        vertical-align: middle;\n",
       "    }\n",
       "\n",
       "    .dataframe tbody tr th {\n",
       "        vertical-align: top;\n",
       "    }\n",
       "\n",
       "    .dataframe thead th {\n",
       "        text-align: right;\n",
       "    }\n",
       "</style>\n",
       "<table border=\"1\" class=\"dataframe\">\n",
       "  <thead>\n",
       "    <tr style=\"text-align: right;\">\n",
       "      <th></th>\n",
       "      <th>0</th>\n",
       "      <th>1</th>\n",
       "      <th>2</th>\n",
       "      <th>0</th>\n",
       "      <th>0</th>\n",
       "      <th>0</th>\n",
       "      <th>1</th>\n",
       "    </tr>\n",
       "  </thead>\n",
       "  <tbody>\n",
       "    <tr>\n",
       "      <th>0</th>\n",
       "      <td>-0.979418</td>\n",
       "      <td>-0.390519</td>\n",
       "      <td>-0.327664</td>\n",
       "      <td>1</td>\n",
       "      <td>1</td>\n",
       "      <td>0.278378</td>\n",
       "      <td>0.721622</td>\n",
       "    </tr>\n",
       "    <tr>\n",
       "      <th>1</th>\n",
       "      <td>-0.979418</td>\n",
       "      <td>-0.390519</td>\n",
       "      <td>0.637854</td>\n",
       "      <td>1</td>\n",
       "      <td>1</td>\n",
       "      <td>0.152051</td>\n",
       "      <td>0.847949</td>\n",
       "    </tr>\n",
       "    <tr>\n",
       "      <th>2</th>\n",
       "      <td>-0.979418</td>\n",
       "      <td>-0.390519</td>\n",
       "      <td>-0.654321</td>\n",
       "      <td>0</td>\n",
       "      <td>0</td>\n",
       "      <td>0.596062</td>\n",
       "      <td>0.403938</td>\n",
       "    </tr>\n",
       "    <tr>\n",
       "      <th>3</th>\n",
       "      <td>-0.979418</td>\n",
       "      <td>-0.390519</td>\n",
       "      <td>1.562901</td>\n",
       "      <td>1</td>\n",
       "      <td>1</td>\n",
       "      <td>0.127309</td>\n",
       "      <td>0.872691</td>\n",
       "    </tr>\n",
       "    <tr>\n",
       "      <th>4</th>\n",
       "      <td>1.021015</td>\n",
       "      <td>-0.390519</td>\n",
       "      <td>0.079935</td>\n",
       "      <td>1</td>\n",
       "      <td>0</td>\n",
       "      <td>0.535681</td>\n",
       "      <td>0.464319</td>\n",
       "    </tr>\n",
       "  </tbody>\n",
       "</table>\n",
       "</div>"
      ],
      "text/plain": [
       "          0         1         2  0  0         0         1\n",
       "0 -0.979418 -0.390519 -0.327664  1  1  0.278378  0.721622\n",
       "1 -0.979418 -0.390519  0.637854  1  1  0.152051  0.847949\n",
       "2 -0.979418 -0.390519 -0.654321  0  0  0.596062  0.403938\n",
       "3 -0.979418 -0.390519  1.562901  1  1  0.127309  0.872691\n",
       "4  1.021015 -0.390519  0.079935  1  0  0.535681  0.464319"
      ]
     },
     "execution_count": 60,
     "metadata": {},
     "output_type": "execute_result"
    }
   ],
   "source": [
    "dataf.head(5)"
   ]
  },
  {
   "cell_type": "code",
   "execution_count": 61,
   "metadata": {},
   "outputs": [],
   "source": [
    "dataf.columns = ['c_housing','c_loan','duration','Target','Target_Pred','Target_Pred_Prob_0','Target_Pred_Prob_1']"
   ]
  },
  {
   "cell_type": "code",
   "execution_count": 62,
   "metadata": {
    "scrolled": false
   },
   "outputs": [
    {
     "data": {
      "text/html": [
       "<div>\n",
       "<style scoped>\n",
       "    .dataframe tbody tr th:only-of-type {\n",
       "        vertical-align: middle;\n",
       "    }\n",
       "\n",
       "    .dataframe tbody tr th {\n",
       "        vertical-align: top;\n",
       "    }\n",
       "\n",
       "    .dataframe thead th {\n",
       "        text-align: right;\n",
       "    }\n",
       "</style>\n",
       "<table border=\"1\" class=\"dataframe\">\n",
       "  <thead>\n",
       "    <tr style=\"text-align: right;\">\n",
       "      <th></th>\n",
       "      <th>c_housing</th>\n",
       "      <th>c_loan</th>\n",
       "      <th>duration</th>\n",
       "      <th>Target</th>\n",
       "      <th>Target_Pred</th>\n",
       "      <th>Target_Pred_Prob_0</th>\n",
       "      <th>Target_Pred_Prob_1</th>\n",
       "    </tr>\n",
       "  </thead>\n",
       "  <tbody>\n",
       "    <tr>\n",
       "      <th>0</th>\n",
       "      <td>-0.979418</td>\n",
       "      <td>-0.390519</td>\n",
       "      <td>-0.327664</td>\n",
       "      <td>1</td>\n",
       "      <td>1</td>\n",
       "      <td>0.278378</td>\n",
       "      <td>0.721622</td>\n",
       "    </tr>\n",
       "    <tr>\n",
       "      <th>1</th>\n",
       "      <td>-0.979418</td>\n",
       "      <td>-0.390519</td>\n",
       "      <td>0.637854</td>\n",
       "      <td>1</td>\n",
       "      <td>1</td>\n",
       "      <td>0.152051</td>\n",
       "      <td>0.847949</td>\n",
       "    </tr>\n",
       "    <tr>\n",
       "      <th>2</th>\n",
       "      <td>-0.979418</td>\n",
       "      <td>-0.390519</td>\n",
       "      <td>-0.654321</td>\n",
       "      <td>0</td>\n",
       "      <td>0</td>\n",
       "      <td>0.596062</td>\n",
       "      <td>0.403938</td>\n",
       "    </tr>\n",
       "    <tr>\n",
       "      <th>3</th>\n",
       "      <td>-0.979418</td>\n",
       "      <td>-0.390519</td>\n",
       "      <td>1.562901</td>\n",
       "      <td>1</td>\n",
       "      <td>1</td>\n",
       "      <td>0.127309</td>\n",
       "      <td>0.872691</td>\n",
       "    </tr>\n",
       "    <tr>\n",
       "      <th>4</th>\n",
       "      <td>1.021015</td>\n",
       "      <td>-0.390519</td>\n",
       "      <td>0.079935</td>\n",
       "      <td>1</td>\n",
       "      <td>0</td>\n",
       "      <td>0.535681</td>\n",
       "      <td>0.464319</td>\n",
       "    </tr>\n",
       "    <tr>\n",
       "      <th>5</th>\n",
       "      <td>1.021015</td>\n",
       "      <td>-0.390519</td>\n",
       "      <td>-1.015668</td>\n",
       "      <td>0</td>\n",
       "      <td>0</td>\n",
       "      <td>0.937934</td>\n",
       "      <td>0.062066</td>\n",
       "    </tr>\n",
       "    <tr>\n",
       "      <th>6</th>\n",
       "      <td>1.021015</td>\n",
       "      <td>-0.390519</td>\n",
       "      <td>1.629389</td>\n",
       "      <td>1</td>\n",
       "      <td>1</td>\n",
       "      <td>0.144872</td>\n",
       "      <td>0.855128</td>\n",
       "    </tr>\n",
       "    <tr>\n",
       "      <th>7</th>\n",
       "      <td>-0.979418</td>\n",
       "      <td>-0.390519</td>\n",
       "      <td>-0.905819</td>\n",
       "      <td>0</td>\n",
       "      <td>0</td>\n",
       "      <td>0.905904</td>\n",
       "      <td>0.094096</td>\n",
       "    </tr>\n",
       "    <tr>\n",
       "      <th>8</th>\n",
       "      <td>-0.979418</td>\n",
       "      <td>-0.390519</td>\n",
       "      <td>0.603165</td>\n",
       "      <td>0</td>\n",
       "      <td>1</td>\n",
       "      <td>0.153567</td>\n",
       "      <td>0.846433</td>\n",
       "    </tr>\n",
       "    <tr>\n",
       "      <th>9</th>\n",
       "      <td>-0.979418</td>\n",
       "      <td>-0.390519</td>\n",
       "      <td>-0.475094</td>\n",
       "      <td>1</td>\n",
       "      <td>1</td>\n",
       "      <td>0.321489</td>\n",
       "      <td>0.678511</td>\n",
       "    </tr>\n",
       "  </tbody>\n",
       "</table>\n",
       "</div>"
      ],
      "text/plain": [
       "   c_housing    c_loan  duration  Target  Target_Pred  Target_Pred_Prob_0  \\\n",
       "0  -0.979418 -0.390519 -0.327664       1            1            0.278378   \n",
       "1  -0.979418 -0.390519  0.637854       1            1            0.152051   \n",
       "2  -0.979418 -0.390519 -0.654321       0            0            0.596062   \n",
       "3  -0.979418 -0.390519  1.562901       1            1            0.127309   \n",
       "4   1.021015 -0.390519  0.079935       1            0            0.535681   \n",
       "5   1.021015 -0.390519 -1.015668       0            0            0.937934   \n",
       "6   1.021015 -0.390519  1.629389       1            1            0.144872   \n",
       "7  -0.979418 -0.390519 -0.905819       0            0            0.905904   \n",
       "8  -0.979418 -0.390519  0.603165       0            1            0.153567   \n",
       "9  -0.979418 -0.390519 -0.475094       1            1            0.321489   \n",
       "\n",
       "   Target_Pred_Prob_1  \n",
       "0            0.721622  \n",
       "1            0.847949  \n",
       "2            0.403938  \n",
       "3            0.872691  \n",
       "4            0.464319  \n",
       "5            0.062066  \n",
       "6            0.855128  \n",
       "7            0.094096  \n",
       "8            0.846433  \n",
       "9            0.678511  "
      ]
     },
     "execution_count": 62,
     "metadata": {},
     "output_type": "execute_result"
    }
   ],
   "source": [
    "dataf.head(10)"
   ]
  },
  {
   "cell_type": "code",
   "execution_count": 63,
   "metadata": {},
   "outputs": [],
   "source": [
    "dataf = pd.concat([pd.DataFrame(X_test_orig),pd.DataFrame(y_test),pd.DataFrame(y_pred),pd.DataFrame(y_pred_prob)],axis=1)"
   ]
  },
  {
   "cell_type": "code",
   "execution_count": 64,
   "metadata": {},
   "outputs": [
    {
     "data": {
      "text/html": [
       "<div>\n",
       "<style scoped>\n",
       "    .dataframe tbody tr th:only-of-type {\n",
       "        vertical-align: middle;\n",
       "    }\n",
       "\n",
       "    .dataframe tbody tr th {\n",
       "        vertical-align: top;\n",
       "    }\n",
       "\n",
       "    .dataframe thead th {\n",
       "        text-align: right;\n",
       "    }\n",
       "</style>\n",
       "<table border=\"1\" class=\"dataframe\">\n",
       "  <thead>\n",
       "    <tr style=\"text-align: right;\">\n",
       "      <th></th>\n",
       "      <th>0</th>\n",
       "      <th>1</th>\n",
       "      <th>2</th>\n",
       "      <th>0</th>\n",
       "      <th>0</th>\n",
       "      <th>0</th>\n",
       "      <th>1</th>\n",
       "    </tr>\n",
       "  </thead>\n",
       "  <tbody>\n",
       "    <tr>\n",
       "      <th>0</th>\n",
       "      <td>1</td>\n",
       "      <td>0</td>\n",
       "      <td>1080</td>\n",
       "      <td>1.0</td>\n",
       "      <td>1.0</td>\n",
       "      <td>0.278378</td>\n",
       "      <td>0.721622</td>\n",
       "    </tr>\n",
       "    <tr>\n",
       "      <th>1</th>\n",
       "      <td>1</td>\n",
       "      <td>0</td>\n",
       "      <td>204</td>\n",
       "      <td>1.0</td>\n",
       "      <td>1.0</td>\n",
       "      <td>0.152051</td>\n",
       "      <td>0.847949</td>\n",
       "    </tr>\n",
       "    <tr>\n",
       "      <th>2</th>\n",
       "      <td>0</td>\n",
       "      <td>0</td>\n",
       "      <td>140</td>\n",
       "      <td>0.0</td>\n",
       "      <td>0.0</td>\n",
       "      <td>0.596062</td>\n",
       "      <td>0.403938</td>\n",
       "    </tr>\n",
       "    <tr>\n",
       "      <th>3</th>\n",
       "      <td>0</td>\n",
       "      <td>0</td>\n",
       "      <td>373</td>\n",
       "      <td>1.0</td>\n",
       "      <td>1.0</td>\n",
       "      <td>0.127309</td>\n",
       "      <td>0.872691</td>\n",
       "    </tr>\n",
       "    <tr>\n",
       "      <th>4</th>\n",
       "      <td>0</td>\n",
       "      <td>0</td>\n",
       "      <td>194</td>\n",
       "      <td>1.0</td>\n",
       "      <td>0.0</td>\n",
       "      <td>0.535681</td>\n",
       "      <td>0.464319</td>\n",
       "    </tr>\n",
       "    <tr>\n",
       "      <th>5</th>\n",
       "      <td>0</td>\n",
       "      <td>0</td>\n",
       "      <td>387</td>\n",
       "      <td>0.0</td>\n",
       "      <td>0.0</td>\n",
       "      <td>0.937934</td>\n",
       "      <td>0.062066</td>\n",
       "    </tr>\n",
       "    <tr>\n",
       "      <th>6</th>\n",
       "      <td>1</td>\n",
       "      <td>1</td>\n",
       "      <td>250</td>\n",
       "      <td>1.0</td>\n",
       "      <td>1.0</td>\n",
       "      <td>0.144872</td>\n",
       "      <td>0.855128</td>\n",
       "    </tr>\n",
       "    <tr>\n",
       "      <th>7</th>\n",
       "      <td>0</td>\n",
       "      <td>0</td>\n",
       "      <td>132</td>\n",
       "      <td>0.0</td>\n",
       "      <td>0.0</td>\n",
       "      <td>0.905904</td>\n",
       "      <td>0.094096</td>\n",
       "    </tr>\n",
       "    <tr>\n",
       "      <th>8</th>\n",
       "      <td>0</td>\n",
       "      <td>0</td>\n",
       "      <td>305</td>\n",
       "      <td>0.0</td>\n",
       "      <td>1.0</td>\n",
       "      <td>0.153567</td>\n",
       "      <td>0.846433</td>\n",
       "    </tr>\n",
       "    <tr>\n",
       "      <th>9</th>\n",
       "      <td>1</td>\n",
       "      <td>0</td>\n",
       "      <td>156</td>\n",
       "      <td>1.0</td>\n",
       "      <td>1.0</td>\n",
       "      <td>0.321489</td>\n",
       "      <td>0.678511</td>\n",
       "    </tr>\n",
       "  </tbody>\n",
       "</table>\n",
       "</div>"
      ],
      "text/plain": [
       "   0  1     2    0    0         0         1\n",
       "0  1  0  1080  1.0  1.0  0.278378  0.721622\n",
       "1  1  0   204  1.0  1.0  0.152051  0.847949\n",
       "2  0  0   140  0.0  0.0  0.596062  0.403938\n",
       "3  0  0   373  1.0  1.0  0.127309  0.872691\n",
       "4  0  0   194  1.0  0.0  0.535681  0.464319\n",
       "5  0  0   387  0.0  0.0  0.937934  0.062066\n",
       "6  1  1   250  1.0  1.0  0.144872  0.855128\n",
       "7  0  0   132  0.0  0.0  0.905904  0.094096\n",
       "8  0  0   305  0.0  1.0  0.153567  0.846433\n",
       "9  1  0   156  1.0  1.0  0.321489  0.678511"
      ]
     },
     "execution_count": 64,
     "metadata": {},
     "output_type": "execute_result"
    }
   ],
   "source": [
    "dataf.head(10)"
   ]
  },
  {
   "cell_type": "code",
   "execution_count": 65,
   "metadata": {},
   "outputs": [],
   "source": [
    "dataf.columns = ['c_housing','c_loan','duration','Target','Target_Pred','Target_Pred_Prob_0','Target_Pred_Prob_1']"
   ]
  },
  {
   "cell_type": "code",
   "execution_count": 66,
   "metadata": {
    "scrolled": true
   },
   "outputs": [
    {
     "data": {
      "text/html": [
       "<div>\n",
       "<style scoped>\n",
       "    .dataframe tbody tr th:only-of-type {\n",
       "        vertical-align: middle;\n",
       "    }\n",
       "\n",
       "    .dataframe tbody tr th {\n",
       "        vertical-align: top;\n",
       "    }\n",
       "\n",
       "    .dataframe thead th {\n",
       "        text-align: right;\n",
       "    }\n",
       "</style>\n",
       "<table border=\"1\" class=\"dataframe\">\n",
       "  <thead>\n",
       "    <tr style=\"text-align: right;\">\n",
       "      <th></th>\n",
       "      <th>c_housing</th>\n",
       "      <th>c_loan</th>\n",
       "      <th>duration</th>\n",
       "      <th>Target</th>\n",
       "      <th>Target_Pred</th>\n",
       "      <th>Target_Pred_Prob_0</th>\n",
       "      <th>Target_Pred_Prob_1</th>\n",
       "    </tr>\n",
       "  </thead>\n",
       "  <tbody>\n",
       "    <tr>\n",
       "      <th>0</th>\n",
       "      <td>1</td>\n",
       "      <td>0</td>\n",
       "      <td>1080</td>\n",
       "      <td>1.0</td>\n",
       "      <td>1.0</td>\n",
       "      <td>0.278378</td>\n",
       "      <td>0.721622</td>\n",
       "    </tr>\n",
       "    <tr>\n",
       "      <th>1</th>\n",
       "      <td>1</td>\n",
       "      <td>0</td>\n",
       "      <td>204</td>\n",
       "      <td>1.0</td>\n",
       "      <td>1.0</td>\n",
       "      <td>0.152051</td>\n",
       "      <td>0.847949</td>\n",
       "    </tr>\n",
       "    <tr>\n",
       "      <th>2</th>\n",
       "      <td>0</td>\n",
       "      <td>0</td>\n",
       "      <td>140</td>\n",
       "      <td>0.0</td>\n",
       "      <td>0.0</td>\n",
       "      <td>0.596062</td>\n",
       "      <td>0.403938</td>\n",
       "    </tr>\n",
       "    <tr>\n",
       "      <th>3</th>\n",
       "      <td>0</td>\n",
       "      <td>0</td>\n",
       "      <td>373</td>\n",
       "      <td>1.0</td>\n",
       "      <td>1.0</td>\n",
       "      <td>0.127309</td>\n",
       "      <td>0.872691</td>\n",
       "    </tr>\n",
       "    <tr>\n",
       "      <th>4</th>\n",
       "      <td>0</td>\n",
       "      <td>0</td>\n",
       "      <td>194</td>\n",
       "      <td>1.0</td>\n",
       "      <td>0.0</td>\n",
       "      <td>0.535681</td>\n",
       "      <td>0.464319</td>\n",
       "    </tr>\n",
       "    <tr>\n",
       "      <th>5</th>\n",
       "      <td>0</td>\n",
       "      <td>0</td>\n",
       "      <td>387</td>\n",
       "      <td>0.0</td>\n",
       "      <td>0.0</td>\n",
       "      <td>0.937934</td>\n",
       "      <td>0.062066</td>\n",
       "    </tr>\n",
       "    <tr>\n",
       "      <th>6</th>\n",
       "      <td>1</td>\n",
       "      <td>1</td>\n",
       "      <td>250</td>\n",
       "      <td>1.0</td>\n",
       "      <td>1.0</td>\n",
       "      <td>0.144872</td>\n",
       "      <td>0.855128</td>\n",
       "    </tr>\n",
       "    <tr>\n",
       "      <th>7</th>\n",
       "      <td>0</td>\n",
       "      <td>0</td>\n",
       "      <td>132</td>\n",
       "      <td>0.0</td>\n",
       "      <td>0.0</td>\n",
       "      <td>0.905904</td>\n",
       "      <td>0.094096</td>\n",
       "    </tr>\n",
       "    <tr>\n",
       "      <th>8</th>\n",
       "      <td>0</td>\n",
       "      <td>0</td>\n",
       "      <td>305</td>\n",
       "      <td>0.0</td>\n",
       "      <td>1.0</td>\n",
       "      <td>0.153567</td>\n",
       "      <td>0.846433</td>\n",
       "    </tr>\n",
       "    <tr>\n",
       "      <th>9</th>\n",
       "      <td>1</td>\n",
       "      <td>0</td>\n",
       "      <td>156</td>\n",
       "      <td>1.0</td>\n",
       "      <td>1.0</td>\n",
       "      <td>0.321489</td>\n",
       "      <td>0.678511</td>\n",
       "    </tr>\n",
       "  </tbody>\n",
       "</table>\n",
       "</div>"
      ],
      "text/plain": [
       "   c_housing  c_loan  duration  Target  Target_Pred  Target_Pred_Prob_0  \\\n",
       "0          1       0      1080     1.0          1.0            0.278378   \n",
       "1          1       0       204     1.0          1.0            0.152051   \n",
       "2          0       0       140     0.0          0.0            0.596062   \n",
       "3          0       0       373     1.0          1.0            0.127309   \n",
       "4          0       0       194     1.0          0.0            0.535681   \n",
       "5          0       0       387     0.0          0.0            0.937934   \n",
       "6          1       1       250     1.0          1.0            0.144872   \n",
       "7          0       0       132     0.0          0.0            0.905904   \n",
       "8          0       0       305     0.0          1.0            0.153567   \n",
       "9          1       0       156     1.0          1.0            0.321489   \n",
       "\n",
       "   Target_Pred_Prob_1  \n",
       "0            0.721622  \n",
       "1            0.847949  \n",
       "2            0.403938  \n",
       "3            0.872691  \n",
       "4            0.464319  \n",
       "5            0.062066  \n",
       "6            0.855128  \n",
       "7            0.094096  \n",
       "8            0.846433  \n",
       "9            0.678511  "
      ]
     },
     "execution_count": 66,
     "metadata": {},
     "output_type": "execute_result"
    }
   ],
   "source": [
    "dataf.head(10)"
   ]
  },
  {
   "cell_type": "code",
   "execution_count": 67,
   "metadata": {},
   "outputs": [
    {
     "data": {
      "text/plain": [
       "0.2    0.175154\n",
       "0.4    0.338303\n",
       "0.6    0.695413\n",
       "0.8    0.805683\n",
       "Name: Target_Pred_Prob_1, dtype: float64"
      ]
     },
     "execution_count": 67,
     "metadata": {},
     "output_type": "execute_result"
    }
   ],
   "source": [
    "quantiles = dataf['Target_Pred_Prob_1'].quantile(q=[0.20,0.40,0.60,0.80])\n",
    "quantiles"
   ]
  },
  {
   "cell_type": "code",
   "execution_count": 68,
   "metadata": {},
   "outputs": [],
   "source": [
    "dataf.to_csv('D:/dataf.csv', index = False)"
   ]
  },
  {
   "cell_type": "markdown",
   "metadata": {},
   "source": [
    "### Tarea"
   ]
  },
  {
   "cell_type": "markdown",
   "metadata": {},
   "source": [
    "1. Para la base de datos dataf, crear una variable \"score1\", con las categorías: Muy alto, alto, medio, bajo y muy bajo. \n",
    "Usar: Target_Pred_Prob_1"
   ]
  },
  {
   "cell_type": "markdown",
   "metadata": {},
   "source": [
    "2. Para la base de datos dataf, crear una variable \"score2\", con las categorías: Muy alto, alto, medio, bajo y muy bajo. \n",
    "Usar: La tabla de deciles vs Target"
   ]
  },
  {
   "cell_type": "markdown",
   "metadata": {},
   "source": [
    "3. Proponer estrategias focalizadas para cada segmento."
   ]
  },
  {
   "cell_type": "markdown",
   "metadata": {},
   "source": [
    "4. Revisar los siguientes enlaces:\n",
    "    #RandomForestClassifier\n",
    "    #https://scikit-learn.org/stable/modules/generated/sklearn.ensemble.RandomForestClassifier.html\n",
    "    #Random Forest con Python \n",
    "    #https://www.cienciadedatos.net/documentos/py08_random_forest_python.html"
   ]
  },
  {
   "cell_type": "markdown",
   "metadata": {},
   "source": [
    "5. Tunear el modelo con otros valores."
   ]
  }
 ],
 "metadata": {
  "kernelspec": {
   "display_name": "Python 3 (ipykernel)",
   "language": "python",
   "name": "python3"
  },
  "language_info": {
   "codemirror_mode": {
    "name": "ipython",
    "version": 3
   },
   "file_extension": ".py",
   "mimetype": "text/x-python",
   "name": "python",
   "nbconvert_exporter": "python",
   "pygments_lexer": "ipython3",
   "version": "3.10.9"
  }
 },
 "nbformat": 4,
 "nbformat_minor": 4
}
