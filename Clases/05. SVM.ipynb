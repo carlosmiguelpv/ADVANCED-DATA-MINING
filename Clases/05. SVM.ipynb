{
 "cells": [
  {
   "cell_type": "markdown",
   "metadata": {},
   "source": [
    "# Máquinas de Soporte Vectorial"
   ]
  },
  {
   "cell_type": "markdown",
   "metadata": {},
   "source": [
    "### Docente: M.Sc. Richard Fernández"
   ]
  },
  {
   "cell_type": "markdown",
   "metadata": {},
   "source": [
    "### Comprensión del negocio "
   ]
  },
  {
   "cell_type": "markdown",
   "metadata": {},
   "source": [
    "Objetivo del negocio: Incrementar el marketshare de \"Perú Bank\" en el mercado de depósitos a plazo"
   ]
  },
  {
   "cell_type": "markdown",
   "metadata": {},
   "source": [
    "Objetivo de ML: Predecir la probabilidad de que un cliente acepte el producto de depósito a plazo que ofrece \"Perú Bank\" mediante el canal de Call Center."
   ]
  },
  {
   "cell_type": "markdown",
   "metadata": {},
   "source": [
    "### Comprensión de los datos "
   ]
  },
  {
   "cell_type": "code",
   "execution_count": 2,
   "metadata": {},
   "outputs": [],
   "source": [
    "import pandas as pd\n",
    "import matplotlib.pyplot as plt\n",
    "import seaborn as sns\n",
    "import numpy as np\n",
    "\n",
    "import scipy.stats as ss\n",
    "from scipy.stats import chi2_contingency\n",
    "\n",
    "from sklearn.model_selection import train_test_split\n",
    "\n",
    "from sklearn.svm import SVC\n",
    "\n",
    "from sklearn.metrics import classification_report, confusion_matrix\n",
    "from sklearn.metrics import ConfusionMatrixDisplay #(antes plot_confusion_matrix)\n",
    "from sklearn.metrics import roc_curve, auc, roc_auc_score\n",
    "\n",
    "from sklearn.preprocessing import StandardScaler\n",
    "from sklearn.preprocessing import LabelEncoder\n",
    "\n",
    "from sklearn.model_selection import cross_val_score\n",
    "from sklearn.model_selection import GridSearchCV"
   ]
  },
  {
   "cell_type": "code",
   "execution_count": 3,
   "metadata": {},
   "outputs": [],
   "source": [
    "data = pd.read_csv('D:/Bases/Kaggle/Banco/bank_deposit.csv')"
   ]
  },
  {
   "cell_type": "code",
   "execution_count": 4,
   "metadata": {},
   "outputs": [
    {
     "data": {
      "text/html": [
       "<div>\n",
       "<style scoped>\n",
       "    .dataframe tbody tr th:only-of-type {\n",
       "        vertical-align: middle;\n",
       "    }\n",
       "\n",
       "    .dataframe tbody tr th {\n",
       "        vertical-align: top;\n",
       "    }\n",
       "\n",
       "    .dataframe thead th {\n",
       "        text-align: right;\n",
       "    }\n",
       "</style>\n",
       "<table border=\"1\" class=\"dataframe\">\n",
       "  <thead>\n",
       "    <tr style=\"text-align: right;\">\n",
       "      <th></th>\n",
       "      <th>idcliente</th>\n",
       "      <th>duration</th>\n",
       "      <th>previous</th>\n",
       "      <th>housing</th>\n",
       "      <th>campaign</th>\n",
       "      <th>loan</th>\n",
       "      <th>default</th>\n",
       "      <th>target</th>\n",
       "      <th>muestra</th>\n",
       "    </tr>\n",
       "  </thead>\n",
       "  <tbody>\n",
       "    <tr>\n",
       "      <th>0</th>\n",
       "      <td>1</td>\n",
       "      <td>261</td>\n",
       "      <td>0</td>\n",
       "      <td>1</td>\n",
       "      <td>1</td>\n",
       "      <td>0</td>\n",
       "      <td>0</td>\n",
       "      <td>0</td>\n",
       "      <td>1</td>\n",
       "    </tr>\n",
       "    <tr>\n",
       "      <th>1</th>\n",
       "      <td>2</td>\n",
       "      <td>50</td>\n",
       "      <td>0</td>\n",
       "      <td>1</td>\n",
       "      <td>1</td>\n",
       "      <td>0</td>\n",
       "      <td>0</td>\n",
       "      <td>0</td>\n",
       "      <td>1</td>\n",
       "    </tr>\n",
       "    <tr>\n",
       "      <th>2</th>\n",
       "      <td>3</td>\n",
       "      <td>1492</td>\n",
       "      <td>0</td>\n",
       "      <td>1</td>\n",
       "      <td>1</td>\n",
       "      <td>0</td>\n",
       "      <td>0</td>\n",
       "      <td>0</td>\n",
       "      <td>1</td>\n",
       "    </tr>\n",
       "    <tr>\n",
       "      <th>3</th>\n",
       "      <td>4</td>\n",
       "      <td>104</td>\n",
       "      <td>0</td>\n",
       "      <td>1</td>\n",
       "      <td>1</td>\n",
       "      <td>0</td>\n",
       "      <td>0</td>\n",
       "      <td>0</td>\n",
       "      <td>1</td>\n",
       "    </tr>\n",
       "    <tr>\n",
       "      <th>4</th>\n",
       "      <td>5</td>\n",
       "      <td>13</td>\n",
       "      <td>0</td>\n",
       "      <td>1</td>\n",
       "      <td>1</td>\n",
       "      <td>0</td>\n",
       "      <td>0</td>\n",
       "      <td>0</td>\n",
       "      <td>1</td>\n",
       "    </tr>\n",
       "  </tbody>\n",
       "</table>\n",
       "</div>"
      ],
      "text/plain": [
       "   idcliente  duration  previous  housing  campaign  loan  default  target  \\\n",
       "0          1       261         0        1         1     0        0       0   \n",
       "1          2        50         0        1         1     0        0       0   \n",
       "2          3      1492         0        1         1     0        0       0   \n",
       "3          4       104         0        1         1     0        0       0   \n",
       "4          5        13         0        1         1     0        0       0   \n",
       "\n",
       "   muestra  \n",
       "0        1  \n",
       "1        1  \n",
       "2        1  \n",
       "3        1  \n",
       "4        1  "
      ]
     },
     "execution_count": 4,
     "metadata": {},
     "output_type": "execute_result"
    }
   ],
   "source": [
    "data.head()"
   ]
  },
  {
   "cell_type": "code",
   "execution_count": 5,
   "metadata": {},
   "outputs": [
    {
     "data": {
      "text/plain": [
       "idcliente    int64\n",
       "duration     int64\n",
       "previous     int64\n",
       "housing      int64\n",
       "campaign     int64\n",
       "loan         int64\n",
       "default      int64\n",
       "target       int64\n",
       "muestra      int64\n",
       "dtype: object"
      ]
     },
     "execution_count": 5,
     "metadata": {},
     "output_type": "execute_result"
    }
   ],
   "source": [
    "data.dtypes"
   ]
  },
  {
   "cell_type": "code",
   "execution_count": 6,
   "metadata": {},
   "outputs": [],
   "source": [
    "data['housing'] = data['housing'].astype(object)\n",
    "data['loan'] = data['loan'].astype(object)\n",
    "data['default'] = data['default'].astype(object)"
   ]
  },
  {
   "cell_type": "code",
   "execution_count": 7,
   "metadata": {
    "scrolled": true
   },
   "outputs": [
    {
     "data": {
      "text/plain": [
       "idcliente     int64\n",
       "duration      int64\n",
       "previous      int64\n",
       "housing      object\n",
       "campaign      int64\n",
       "loan         object\n",
       "default      object\n",
       "target        int64\n",
       "muestra       int64\n",
       "dtype: object"
      ]
     },
     "execution_count": 7,
     "metadata": {},
     "output_type": "execute_result"
    }
   ],
   "source": [
    "data.dtypes"
   ]
  },
  {
   "cell_type": "code",
   "execution_count": 8,
   "metadata": {},
   "outputs": [
    {
     "name": "stdout",
     "output_type": "stream",
     "text": [
      "<class 'pandas.core.frame.DataFrame'>\n",
      "RangeIndex: 10578 entries, 0 to 10577\n",
      "Data columns (total 9 columns):\n",
      " #   Column     Non-Null Count  Dtype \n",
      "---  ------     --------------  ----- \n",
      " 0   idcliente  10578 non-null  int64 \n",
      " 1   duration   10578 non-null  int64 \n",
      " 2   previous   10578 non-null  int64 \n",
      " 3   housing    10578 non-null  object\n",
      " 4   campaign   10578 non-null  int64 \n",
      " 5   loan       10578 non-null  object\n",
      " 6   default    10578 non-null  object\n",
      " 7   target     10578 non-null  int64 \n",
      " 8   muestra    10578 non-null  int64 \n",
      "dtypes: int64(6), object(3)\n",
      "memory usage: 743.9+ KB\n"
     ]
    }
   ],
   "source": [
    "data.info()"
   ]
  },
  {
   "cell_type": "code",
   "execution_count": 9,
   "metadata": {},
   "outputs": [],
   "source": [
    "#Prueba de normalidad\n",
    "#Ho: la variable se aproxima a una distribución normal\n",
    "#Ha: la variable no se aproxima a una distribución normal"
   ]
  },
  {
   "cell_type": "code",
   "execution_count": 10,
   "metadata": {},
   "outputs": [
    {
     "name": "stderr",
     "output_type": "stream",
     "text": [
      "C:\\Users\\HP\\anaconda3\\lib\\site-packages\\scipy\\stats\\_morestats.py:1816: UserWarning: p-value may not be accurate for N > 5000.\n",
      "  warnings.warn(\"p-value may not be accurate for N > 5000.\")\n"
     ]
    },
    {
     "data": {
      "text/plain": [
       "ShapiroResult(statistic=0.805237889289856, pvalue=0.0)"
      ]
     },
     "execution_count": 10,
     "metadata": {},
     "output_type": "execute_result"
    }
   ],
   "source": [
    "ss.shapiro(data.duration)"
   ]
  },
  {
   "cell_type": "code",
   "execution_count": 11,
   "metadata": {},
   "outputs": [
    {
     "data": {
      "text/plain": [
       "ShapiroResult(statistic=0.40508270263671875, pvalue=0.0)"
      ]
     },
     "execution_count": 11,
     "metadata": {},
     "output_type": "execute_result"
    }
   ],
   "source": [
    "ss.shapiro(data.previous)"
   ]
  },
  {
   "cell_type": "code",
   "execution_count": 12,
   "metadata": {},
   "outputs": [
    {
     "data": {
      "text/plain": [
       "ShapiroResult(statistic=0.5598058104515076, pvalue=0.0)"
      ]
     },
     "execution_count": 12,
     "metadata": {},
     "output_type": "execute_result"
    }
   ],
   "source": [
    "ss.shapiro(data.campaign)"
   ]
  },
  {
   "cell_type": "code",
   "execution_count": 13,
   "metadata": {
    "scrolled": false
   },
   "outputs": [
    {
     "data": {
      "image/png": "[encoded data removed]",
      "text/plain": [
       "<Figure size 640x480 with 2 Axes>"
      ]
     },
     "metadata": {},
     "output_type": "display_data"
    }
   ],
   "source": [
    "#Heatmap\n",
    "sns.heatmap(data.loc[:,['duration','previous','campaign']].corr(method = \"spearman\"))\n",
    "plt.show()"
   ]
  },
  {
   "cell_type": "code",
   "execution_count": 14,
   "metadata": {
    "scrolled": false
   },
   "outputs": [
    {
     "data": {
      "text/html": [
       "<div>\n",
       "<style scoped>\n",
       "    .dataframe tbody tr th:only-of-type {\n",
       "        vertical-align: middle;\n",
       "    }\n",
       "\n",
       "    .dataframe tbody tr th {\n",
       "        vertical-align: top;\n",
       "    }\n",
       "\n",
       "    .dataframe thead th {\n",
       "        text-align: right;\n",
       "    }\n",
       "</style>\n",
       "<table border=\"1\" class=\"dataframe\">\n",
       "  <thead>\n",
       "    <tr style=\"text-align: right;\">\n",
       "      <th></th>\n",
       "      <th>duration</th>\n",
       "      <th>previous</th>\n",
       "      <th>campaign</th>\n",
       "    </tr>\n",
       "  </thead>\n",
       "  <tbody>\n",
       "    <tr>\n",
       "      <th>duration</th>\n",
       "      <td>1.000000</td>\n",
       "      <td>0.007392</td>\n",
       "      <td>-0.045111</td>\n",
       "    </tr>\n",
       "    <tr>\n",
       "      <th>previous</th>\n",
       "      <td>0.007392</td>\n",
       "      <td>1.000000</td>\n",
       "      <td>-0.133380</td>\n",
       "    </tr>\n",
       "    <tr>\n",
       "      <th>campaign</th>\n",
       "      <td>-0.045111</td>\n",
       "      <td>-0.133380</td>\n",
       "      <td>1.000000</td>\n",
       "    </tr>\n",
       "  </tbody>\n",
       "</table>\n",
       "</div>"
      ],
      "text/plain": [
       "          duration  previous  campaign\n",
       "duration  1.000000  0.007392 -0.045111\n",
       "previous  0.007392  1.000000 -0.133380\n",
       "campaign -0.045111 -0.133380  1.000000"
      ]
     },
     "execution_count": 14,
     "metadata": {},
     "output_type": "execute_result"
    }
   ],
   "source": [
    "data.loc[:,['duration','previous','campaign']].corr(method = \"spearman\")"
   ]
  },
  {
   "cell_type": "code",
   "execution_count": 15,
   "metadata": {},
   "outputs": [],
   "source": [
    "#Prueba de Correlación\n",
    "#Ho: no existe correlación entre las variables\n",
    "#Ha: existe correlación entre las variables"
   ]
  },
  {
   "cell_type": "code",
   "execution_count": 16,
   "metadata": {},
   "outputs": [
    {
     "data": {
      "text/plain": [
       "SignificanceResult(statistic=0.007391554527368723, pvalue=0.44717238462569875)"
      ]
     },
     "execution_count": 16,
     "metadata": {},
     "output_type": "execute_result"
    }
   ],
   "source": [
    "ss.spearmanr(data['duration'],data['previous'])"
   ]
  },
  {
   "cell_type": "code",
   "execution_count": 17,
   "metadata": {},
   "outputs": [
    {
     "data": {
      "text/plain": [
       "SignificanceResult(statistic=-0.04511102781446181, pvalue=3.4596132567098772e-06)"
      ]
     },
     "execution_count": 17,
     "metadata": {},
     "output_type": "execute_result"
    }
   ],
   "source": [
    "ss.spearmanr(data['duration'],data['campaign'])"
   ]
  },
  {
   "cell_type": "code",
   "execution_count": 18,
   "metadata": {},
   "outputs": [
    {
     "data": {
      "text/plain": [
       "SignificanceResult(statistic=-0.13337989612024528, pvalue=3.456139168446694e-43)"
      ]
     },
     "execution_count": 18,
     "metadata": {},
     "output_type": "execute_result"
    }
   ],
   "source": [
    "ss.spearmanr(data['previous'],data['campaign'])"
   ]
  },
  {
   "cell_type": "code",
   "execution_count": 19,
   "metadata": {
    "scrolled": true
   },
   "outputs": [
    {
     "data": {
      "text/plain": [
       "dtype('int64')"
      ]
     },
     "execution_count": 19,
     "metadata": {},
     "output_type": "execute_result"
    }
   ],
   "source": [
    "data['target'].dtype"
   ]
  },
  {
   "cell_type": "code",
   "execution_count": 20,
   "metadata": {},
   "outputs": [],
   "source": [
    "data['target'] = data['target'].astype('int64')"
   ]
  },
  {
   "cell_type": "code",
   "execution_count": 21,
   "metadata": {
    "scrolled": true
   },
   "outputs": [
    {
     "data": {
      "text/plain": [
       "dtype('int64')"
      ]
     },
     "execution_count": 21,
     "metadata": {},
     "output_type": "execute_result"
    }
   ],
   "source": [
    "data['target'].dtype"
   ]
  },
  {
   "cell_type": "code",
   "execution_count": 22,
   "metadata": {
    "scrolled": false
   },
   "outputs": [
    {
     "data": {
      "text/plain": [
       "0    5289\n",
       "1    5289\n",
       "Name: target, dtype: int64"
      ]
     },
     "execution_count": 22,
     "metadata": {},
     "output_type": "execute_result"
    }
   ],
   "source": [
    "data.target.value_counts()"
   ]
  },
  {
   "cell_type": "code",
   "execution_count": 23,
   "metadata": {
    "scrolled": true
   },
   "outputs": [
    {
     "data": {
      "text/plain": [
       "0    50.0\n",
       "1    50.0\n",
       "Name: target, dtype: float64"
      ]
     },
     "execution_count": 23,
     "metadata": {},
     "output_type": "execute_result"
    }
   ],
   "source": [
    "100*data['target'].value_counts(normalize=True)"
   ]
  },
  {
   "cell_type": "code",
   "execution_count": 24,
   "metadata": {
    "scrolled": true
   },
   "outputs": [
    {
     "data": {
      "image/png": "[encoded data removed]",
      "text/plain": [
       "<Figure size 640x480 with 1 Axes>"
      ]
     },
     "metadata": {},
     "output_type": "display_data"
    }
   ],
   "source": [
    "sns.countplot(data = data, x = 'target')\n",
    "plt.xlabel('target', fontsize = 15)\n",
    "plt.title('¿Cuántos usuarios han aceptado la campaña de depósito a plazo?', fontsize = 15)\n",
    "plt.show()"
   ]
  },
  {
   "cell_type": "code",
   "execution_count": 25,
   "metadata": {
    "scrolled": false
   },
   "outputs": [
    {
     "data": {
      "image/png": "[encoded data removed]",
      "text/plain": [
       "<Figure size 640x480 with 1 Axes>"
      ]
     },
     "metadata": {},
     "output_type": "display_data"
    }
   ],
   "source": [
    "sns.boxplot(x='target',y='duration',data=data)\n",
    "plt.show()"
   ]
  },
  {
   "cell_type": "code",
   "execution_count": 26,
   "metadata": {
    "scrolled": true
   },
   "outputs": [
    {
     "data": {
      "image/png": "[encoded data removed]",
      "text/plain": [
       "<Figure size 640x480 with 1 Axes>"
      ]
     },
     "metadata": {},
     "output_type": "display_data"
    }
   ],
   "source": [
    "sns.boxplot(x='target',y='previous',data=data)\n",
    "plt.show()"
   ]
  },
  {
   "cell_type": "code",
   "execution_count": 27,
   "metadata": {
    "scrolled": false
   },
   "outputs": [
    {
     "data": {
      "image/png": "[encoded data removed]",
      "text/plain": [
       "<Figure size 640x480 with 1 Axes>"
      ]
     },
     "metadata": {},
     "output_type": "display_data"
    }
   ],
   "source": [
    "sns.boxplot(x='target',y='campaign',data=data)\n",
    "plt.show()"
   ]
  },
  {
   "cell_type": "code",
   "execution_count": 28,
   "metadata": {
    "scrolled": true
   },
   "outputs": [
    {
     "name": "stdout",
     "output_type": "stream",
     "text": [
      "housing     0     1\n",
      "target             \n",
      "0        2176  3113\n",
      "1        3354  1935\n"
     ]
    },
    {
     "data": {
      "image/png": "[encoded data removed]",
      "text/plain": [
       "<Figure size 400x400 with 1 Axes>"
      ]
     },
     "metadata": {},
     "output_type": "display_data"
    }
   ],
   "source": [
    "print(pd.crosstab(data[\"target\"],data[\"housing\"]))\n",
    "t = pd.crosstab(data[\"target\"],data[\"housing\"])\n",
    "t.div(t.sum(1).astype(float),axis=0).plot(kind=\"bar\",stacked=True,figsize=(4,4))\n",
    "plt.xlabel(\"target\")\n",
    "plt.ylabel(\"Percentage\")\n",
    "plt.show()"
   ]
  },
  {
   "cell_type": "code",
   "execution_count": 29,
   "metadata": {
    "scrolled": true
   },
   "outputs": [
    {
     "name": "stdout",
     "output_type": "stream",
     "text": [
      "loan       0    1\n",
      "target           \n",
      "0       4359  930\n",
      "1       4805  484\n"
     ]
    },
    {
     "data": {
      "image/png": "[encoded data removed]",
      "text/plain": [
       "<Figure size 400x400 with 1 Axes>"
      ]
     },
     "metadata": {},
     "output_type": "display_data"
    }
   ],
   "source": [
    "print(pd.crosstab(data[\"target\"],data[\"loan\"]))\n",
    "t = pd.crosstab(data[\"target\"],data[\"loan\"])\n",
    "t.div(t.sum(1).astype(float),axis=0).plot(kind=\"bar\",stacked=True,figsize=(4,4))\n",
    "plt.xlabel(\"target\")\n",
    "plt.ylabel(\"Percentage\")\n",
    "plt.show()"
   ]
  },
  {
   "cell_type": "code",
   "execution_count": 30,
   "metadata": {
    "scrolled": true
   },
   "outputs": [
    {
     "name": "stdout",
     "output_type": "stream",
     "text": [
      "default     0   1\n",
      "target           \n",
      "0        5202  87\n",
      "1        5237  52\n"
     ]
    },
    {
     "data": {
      "image/png": "[encoded data removed]",
      "text/plain": [
       "<Figure size 400x400 with 1 Axes>"
      ]
     },
     "metadata": {},
     "output_type": "display_data"
    }
   ],
   "source": [
    "print(pd.crosstab(data[\"target\"],data[\"default\"]))\n",
    "t = pd.crosstab(data[\"target\"],data[\"default\"])\n",
    "t.div(t.sum(1).astype(float),axis=0).plot(kind=\"bar\",stacked=True,figsize=(4,4))\n",
    "plt.xlabel(\"target\")\n",
    "plt.ylabel(\"Percentage\")\n",
    "plt.show()"
   ]
  },
  {
   "cell_type": "code",
   "execution_count": 31,
   "metadata": {},
   "outputs": [],
   "source": [
    "#Prueba Chi-Cuadrado\n",
    "#Ho: no existe dependencia entre las variables\n",
    "#Ha: existe dependencia entre las variables"
   ]
  },
  {
   "cell_type": "code",
   "execution_count": 32,
   "metadata": {},
   "outputs": [
    {
     "name": "stdout",
     "output_type": "stream",
     "text": [
      "3.557728213453099e-116\n"
     ]
    }
   ],
   "source": [
    "contigencia = pd.crosstab(data['target'], data['housing']) \n",
    "c, p, dof, expected = chi2_contingency(contigencia) \n",
    "print(p)"
   ]
  },
  {
   "cell_type": "code",
   "execution_count": 33,
   "metadata": {
    "scrolled": true
   },
   "outputs": [
    {
     "name": "stdout",
     "output_type": "stream",
     "text": [
      "4.921141785848781e-37\n"
     ]
    }
   ],
   "source": [
    "contigencia = pd.crosstab(data['target'], data['loan']) \n",
    "c, p, dof, expected = chi2_contingency(contigencia) \n",
    "print(p)"
   ]
  },
  {
   "cell_type": "code",
   "execution_count": 34,
   "metadata": {},
   "outputs": [],
   "source": [
    "#Al 95% de confianza, existe dependencia entre el target y las variables housing y loan."
   ]
  },
  {
   "cell_type": "code",
   "execution_count": 35,
   "metadata": {},
   "outputs": [
    {
     "name": "stdout",
     "output_type": "stream",
     "text": [
      "0.0036963177458966233\n"
     ]
    }
   ],
   "source": [
    "contigencia = pd.crosstab(data['target'], data['default']) \n",
    "c, p, dof, expected = chi2_contingency(contigencia) \n",
    "print(p)"
   ]
  },
  {
   "cell_type": "code",
   "execution_count": 36,
   "metadata": {},
   "outputs": [],
   "source": [
    "#Defaul es una variable filtro"
   ]
  },
  {
   "cell_type": "markdown",
   "metadata": {},
   "source": [
    "### Preparación de los datos "
   ]
  },
  {
   "cell_type": "code",
   "execution_count": 37,
   "metadata": {
    "scrolled": true
   },
   "outputs": [],
   "source": [
    "data['c_housing'] = LabelEncoder().fit_transform(data.housing.values)\n",
    "data['c_loan'] = LabelEncoder().fit_transform(data.loan.values)\n",
    "data['c_default'] = LabelEncoder().fit_transform(data.default.values)"
   ]
  },
  {
   "cell_type": "code",
   "execution_count": 38,
   "metadata": {},
   "outputs": [
    {
     "data": {
      "text/html": [
       "<div>\n",
       "<style scoped>\n",
       "    .dataframe tbody tr th:only-of-type {\n",
       "        vertical-align: middle;\n",
       "    }\n",
       "\n",
       "    .dataframe tbody tr th {\n",
       "        vertical-align: top;\n",
       "    }\n",
       "\n",
       "    .dataframe thead th {\n",
       "        text-align: right;\n",
       "    }\n",
       "</style>\n",
       "<table border=\"1\" class=\"dataframe\">\n",
       "  <thead>\n",
       "    <tr style=\"text-align: right;\">\n",
       "      <th></th>\n",
       "      <th>idcliente</th>\n",
       "      <th>duration</th>\n",
       "      <th>previous</th>\n",
       "      <th>housing</th>\n",
       "      <th>campaign</th>\n",
       "      <th>loan</th>\n",
       "      <th>default</th>\n",
       "      <th>target</th>\n",
       "      <th>muestra</th>\n",
       "      <th>c_housing</th>\n",
       "      <th>c_loan</th>\n",
       "      <th>c_default</th>\n",
       "    </tr>\n",
       "  </thead>\n",
       "  <tbody>\n",
       "    <tr>\n",
       "      <th>0</th>\n",
       "      <td>1</td>\n",
       "      <td>261</td>\n",
       "      <td>0</td>\n",
       "      <td>1</td>\n",
       "      <td>1</td>\n",
       "      <td>0</td>\n",
       "      <td>0</td>\n",
       "      <td>0</td>\n",
       "      <td>1</td>\n",
       "      <td>1</td>\n",
       "      <td>0</td>\n",
       "      <td>0</td>\n",
       "    </tr>\n",
       "    <tr>\n",
       "      <th>1</th>\n",
       "      <td>2</td>\n",
       "      <td>50</td>\n",
       "      <td>0</td>\n",
       "      <td>1</td>\n",
       "      <td>1</td>\n",
       "      <td>0</td>\n",
       "      <td>0</td>\n",
       "      <td>0</td>\n",
       "      <td>1</td>\n",
       "      <td>1</td>\n",
       "      <td>0</td>\n",
       "      <td>0</td>\n",
       "    </tr>\n",
       "    <tr>\n",
       "      <th>2</th>\n",
       "      <td>3</td>\n",
       "      <td>1492</td>\n",
       "      <td>0</td>\n",
       "      <td>1</td>\n",
       "      <td>1</td>\n",
       "      <td>0</td>\n",
       "      <td>0</td>\n",
       "      <td>0</td>\n",
       "      <td>1</td>\n",
       "      <td>1</td>\n",
       "      <td>0</td>\n",
       "      <td>0</td>\n",
       "    </tr>\n",
       "    <tr>\n",
       "      <th>3</th>\n",
       "      <td>4</td>\n",
       "      <td>104</td>\n",
       "      <td>0</td>\n",
       "      <td>1</td>\n",
       "      <td>1</td>\n",
       "      <td>0</td>\n",
       "      <td>0</td>\n",
       "      <td>0</td>\n",
       "      <td>1</td>\n",
       "      <td>1</td>\n",
       "      <td>0</td>\n",
       "      <td>0</td>\n",
       "    </tr>\n",
       "    <tr>\n",
       "      <th>4</th>\n",
       "      <td>5</td>\n",
       "      <td>13</td>\n",
       "      <td>0</td>\n",
       "      <td>1</td>\n",
       "      <td>1</td>\n",
       "      <td>0</td>\n",
       "      <td>0</td>\n",
       "      <td>0</td>\n",
       "      <td>1</td>\n",
       "      <td>1</td>\n",
       "      <td>0</td>\n",
       "      <td>0</td>\n",
       "    </tr>\n",
       "  </tbody>\n",
       "</table>\n",
       "</div>"
      ],
      "text/plain": [
       "   idcliente  duration  previous housing  campaign loan default  target  \\\n",
       "0          1       261         0       1         1    0       0       0   \n",
       "1          2        50         0       1         1    0       0       0   \n",
       "2          3      1492         0       1         1    0       0       0   \n",
       "3          4       104         0       1         1    0       0       0   \n",
       "4          5        13         0       1         1    0       0       0   \n",
       "\n",
       "   muestra  c_housing  c_loan  c_default  \n",
       "0        1          1       0          0  \n",
       "1        1          1       0          0  \n",
       "2        1          1       0          0  \n",
       "3        1          1       0          0  \n",
       "4        1          1       0          0  "
      ]
     },
     "execution_count": 38,
     "metadata": {},
     "output_type": "execute_result"
    }
   ],
   "source": [
    "data.head()"
   ]
  },
  {
   "cell_type": "code",
   "execution_count": 39,
   "metadata": {},
   "outputs": [],
   "source": [
    "X = data[['c_housing','c_loan','duration']]\n",
    "y = data['target']"
   ]
  },
  {
   "cell_type": "code",
   "execution_count": 40,
   "metadata": {},
   "outputs": [],
   "source": [
    "X = X.to_numpy()"
   ]
  },
  {
   "cell_type": "code",
   "execution_count": 41,
   "metadata": {
    "scrolled": false
   },
   "outputs": [
    {
     "data": {
      "text/plain": [
       "array([[   1,    0,  261],\n",
       "       [   1,    0,   50],\n",
       "       [   1,    0, 1492],\n",
       "       [   1,    0,  104],\n",
       "       [   1,    0,   13]], dtype=int64)"
      ]
     },
     "execution_count": 41,
     "metadata": {},
     "output_type": "execute_result"
    }
   ],
   "source": [
    "X[0:5]"
   ]
  },
  {
   "cell_type": "code",
   "execution_count": 42,
   "metadata": {},
   "outputs": [],
   "source": [
    "y = y.to_numpy()"
   ]
  },
  {
   "cell_type": "code",
   "execution_count": 43,
   "metadata": {},
   "outputs": [
    {
     "data": {
      "text/plain": [
       "array([0, 0, 0, 0, 0], dtype=int64)"
      ]
     },
     "execution_count": 43,
     "metadata": {},
     "output_type": "execute_result"
    }
   ],
   "source": [
    "y[0:5]"
   ]
  },
  {
   "cell_type": "code",
   "execution_count": 44,
   "metadata": {},
   "outputs": [],
   "source": [
    "X_train, X_test, y_train, y_test = train_test_split(X, y, test_size = 0.20, random_state = 0)"
   ]
  },
  {
   "cell_type": "code",
   "execution_count": 45,
   "metadata": {},
   "outputs": [
    {
     "data": {
      "text/plain": [
       "array([[   1,    0, 1080],\n",
       "       [   1,    0,  204],\n",
       "       [   0,    0,  140],\n",
       "       [   0,    0,  373],\n",
       "       [   0,    0,  194]], dtype=int64)"
      ]
     },
     "execution_count": 45,
     "metadata": {},
     "output_type": "execute_result"
    }
   ],
   "source": [
    "X_train[0:5]"
   ]
  },
  {
   "cell_type": "code",
   "execution_count": 46,
   "metadata": {},
   "outputs": [
    {
     "data": {
      "text/plain": [
       "array([[  0,   0, 263],\n",
       "       [  0,   0, 597],\n",
       "       [  0,   0, 150],\n",
       "       [  0,   0, 917],\n",
       "       [  1,   0, 404]], dtype=int64)"
      ]
     },
     "execution_count": 46,
     "metadata": {},
     "output_type": "execute_result"
    }
   ],
   "source": [
    "X_test[0:5]"
   ]
  },
  {
   "cell_type": "code",
   "execution_count": 47,
   "metadata": {
    "scrolled": true
   },
   "outputs": [],
   "source": [
    "X_train = StandardScaler().fit_transform(X_train)\n",
    "X_test = StandardScaler().fit_transform(X_test)"
   ]
  },
  {
   "cell_type": "code",
   "execution_count": 48,
   "metadata": {},
   "outputs": [
    {
     "data": {
      "text/plain": [
       "array([[ 1.05317258, -0.39338138,  2.00876968],\n",
       "       [ 1.05317258, -0.39338138, -0.50165504],\n",
       "       [-0.949512  , -0.39338138, -0.68506507],\n",
       "       [-0.949512  , -0.39338138, -0.01733795],\n",
       "       [-0.949512  , -0.39338138, -0.53031286]])"
      ]
     },
     "execution_count": 48,
     "metadata": {},
     "output_type": "execute_result"
    }
   ],
   "source": [
    "X_train[0:5]"
   ]
  },
  {
   "cell_type": "code",
   "execution_count": 49,
   "metadata": {},
   "outputs": [
    {
     "data": {
      "text/plain": [
       "array([[-0.97941782, -0.39051946, -0.32766412],\n",
       "       [-0.97941782, -0.39051946,  0.63785382],\n",
       "       [-0.97941782, -0.39051946, -0.65432139],\n",
       "       [-0.97941782, -0.39051946,  1.56290095],\n",
       "       [ 1.02101471, -0.39051946,  0.07993477]])"
      ]
     },
     "execution_count": 49,
     "metadata": {},
     "output_type": "execute_result"
    }
   ],
   "source": [
    "X_test[0:5]"
   ]
  },
  {
   "cell_type": "markdown",
   "metadata": {},
   "source": [
    "### Modelado"
   ]
  },
  {
   "cell_type": "code",
   "execution_count": 49,
   "metadata": {
    "scrolled": true
   },
   "outputs": [],
   "source": [
    "#SVM\n",
    "#classifier = SVC(kernel='linear',probability=True).fit(X_train, y_train)\n",
    "#classifier = SVC(kernel='poly',probability=True).fit(X_train, y_train)\n",
    "#classifier = SVC(kernel='rbf',probability=True).fit(X_train, y_train)\n",
    "#classifier = SVC(kernel='sigmoid',probability=True).fit(X_train, y_train)"
   ]
  },
  {
   "cell_type": "code",
   "execution_count": 50,
   "metadata": {},
   "outputs": [],
   "source": [
    "#Validación Cruzada\n",
    "cv_scores = cross_val_score(SVC(kernel='linear',probability=True),X_train,y_train,cv=5)"
   ]
  },
  {
   "cell_type": "code",
   "execution_count": 51,
   "metadata": {},
   "outputs": [
    {
     "name": "stdout",
     "output_type": "stream",
     "text": [
      "[0.76432369 0.76373302 0.75591017 0.77304965 0.76122931]\n"
     ]
    }
   ],
   "source": [
    "#Accuracy\n",
    "print(cv_scores)"
   ]
  },
  {
   "cell_type": "code",
   "execution_count": 52,
   "metadata": {},
   "outputs": [
    {
     "name": "stdout",
     "output_type": "stream",
     "text": [
      "cv_scores mean:0.7636491658742227\n"
     ]
    }
   ],
   "source": [
    "#Accuracy Promedio\n",
    "print(\"cv_scores mean:{}\".format(np.mean(cv_scores)))"
   ]
  },
  {
   "cell_type": "code",
   "execution_count": 53,
   "metadata": {},
   "outputs": [],
   "source": [
    "#Tuning\n",
    "#param_grid = {'C': [0.1,1,10,100], 'gamma': [1,0.1,0.01,0.001],'kernel': ['rbf', 'poly', 'sigmoid']}\n",
    "param_grid = {'C': [0.1,1,5,10,50,100], \n",
    "              'gamma': [2,1.5,1,0.1,0.01,0.001],\n",
    "              'kernel': ['rbf']}"
   ]
  },
  {
   "cell_type": "code",
   "execution_count": 52,
   "metadata": {
    "scrolled": true
   },
   "outputs": [
    {
     "name": "stdout",
     "output_type": "stream",
     "text": [
      "Fitting 5 folds for each of 36 candidates, totalling 180 fits\n",
      "[CV] END .........................C=0.1, gamma=2, kernel=rbf; total time=   2.8s\n",
      "[CV] END .........................C=0.1, gamma=2, kernel=rbf; total time=   2.8s\n",
      "[CV] END .........................C=0.1, gamma=2, kernel=rbf; total time=   2.7s\n",
      "[CV] END .........................C=0.1, gamma=2, kernel=rbf; total time=   2.7s\n",
      "[CV] END .........................C=0.1, gamma=2, kernel=rbf; total time=   2.7s\n",
      "[CV] END .......................C=0.1, gamma=1.5, kernel=rbf; total time=   2.7s\n",
      "[CV] END .......................C=0.1, gamma=1.5, kernel=rbf; total time=   2.8s\n",
      "[CV] END .......................C=0.1, gamma=1.5, kernel=rbf; total time=   2.8s\n",
      "[CV] END .......................C=0.1, gamma=1.5, kernel=rbf; total time=   2.8s\n",
      "[CV] END .......................C=0.1, gamma=1.5, kernel=rbf; total time=   2.7s\n",
      "[CV] END .........................C=0.1, gamma=1, kernel=rbf; total time=   2.9s\n",
      "[CV] END .........................C=0.1, gamma=1, kernel=rbf; total time=   2.8s\n",
      "[CV] END .........................C=0.1, gamma=1, kernel=rbf; total time=   2.8s\n",
      "[CV] END .........................C=0.1, gamma=1, kernel=rbf; total time=   2.8s\n",
      "[CV] END .........................C=0.1, gamma=1, kernel=rbf; total time=   2.7s\n",
      "[CV] END .......................C=0.1, gamma=0.1, kernel=rbf; total time=   2.7s\n",
      "[CV] END .......................C=0.1, gamma=0.1, kernel=rbf; total time=   2.7s\n",
      "[CV] END .......................C=0.1, gamma=0.1, kernel=rbf; total time=   2.6s\n",
      "[CV] END .......................C=0.1, gamma=0.1, kernel=rbf; total time=   2.7s\n",
      "[CV] END .......................C=0.1, gamma=0.1, kernel=rbf; total time=   2.7s\n",
      "[CV] END ......................C=0.1, gamma=0.01, kernel=rbf; total time=   3.1s\n",
      "[CV] END ......................C=0.1, gamma=0.01, kernel=rbf; total time=   3.1s\n",
      "[CV] END ......................C=0.1, gamma=0.01, kernel=rbf; total time=   3.1s\n",
      "[CV] END ......................C=0.1, gamma=0.01, kernel=rbf; total time=   3.2s\n",
      "[CV] END ......................C=0.1, gamma=0.01, kernel=rbf; total time=   3.3s\n",
      "[CV] END .....................C=0.1, gamma=0.001, kernel=rbf; total time=   4.0s\n",
      "[CV] END .....................C=0.1, gamma=0.001, kernel=rbf; total time=   4.0s\n",
      "[CV] END .....................C=0.1, gamma=0.001, kernel=rbf; total time=   4.0s\n",
      "[CV] END .....................C=0.1, gamma=0.001, kernel=rbf; total time=   4.0s\n",
      "[CV] END .....................C=0.1, gamma=0.001, kernel=rbf; total time=   4.0s\n",
      "[CV] END ...........................C=1, gamma=2, kernel=rbf; total time=   2.9s\n",
      "[CV] END ...........................C=1, gamma=2, kernel=rbf; total time=   2.9s\n",
      "[CV] END ...........................C=1, gamma=2, kernel=rbf; total time=   2.8s\n",
      "[CV] END ...........................C=1, gamma=2, kernel=rbf; total time=   2.9s\n",
      "[CV] END ...........................C=1, gamma=2, kernel=rbf; total time=   3.0s\n",
      "[CV] END .........................C=1, gamma=1.5, kernel=rbf; total time=   2.9s\n",
      "[CV] END .........................C=1, gamma=1.5, kernel=rbf; total time=   3.0s\n",
      "[CV] END .........................C=1, gamma=1.5, kernel=rbf; total time=   2.8s\n",
      "[CV] END .........................C=1, gamma=1.5, kernel=rbf; total time=   2.8s\n",
      "[CV] END .........................C=1, gamma=1.5, kernel=rbf; total time=   2.8s\n",
      "[CV] END ...........................C=1, gamma=1, kernel=rbf; total time=   2.8s\n",
      "[CV] END ...........................C=1, gamma=1, kernel=rbf; total time=   2.8s\n",
      "[CV] END ...........................C=1, gamma=1, kernel=rbf; total time=   2.7s\n",
      "[CV] END ...........................C=1, gamma=1, kernel=rbf; total time=   2.8s\n",
      "[CV] END ...........................C=1, gamma=1, kernel=rbf; total time=   2.7s\n",
      "[CV] END .........................C=1, gamma=0.1, kernel=rbf; total time=   2.7s\n",
      "[CV] END .........................C=1, gamma=0.1, kernel=rbf; total time=   2.7s\n",
      "[CV] END .........................C=1, gamma=0.1, kernel=rbf; total time=   2.6s\n",
      "[CV] END .........................C=1, gamma=0.1, kernel=rbf; total time=   2.6s\n",
      "[CV] END .........................C=1, gamma=0.1, kernel=rbf; total time=   2.6s\n",
      "[CV] END ........................C=1, gamma=0.01, kernel=rbf; total time=   2.8s\n",
      "[CV] END ........................C=1, gamma=0.01, kernel=rbf; total time=   2.8s\n",
      "[CV] END ........................C=1, gamma=0.01, kernel=rbf; total time=   2.9s\n",
      "[CV] END ........................C=1, gamma=0.01, kernel=rbf; total time=   2.9s\n",
      "[CV] END ........................C=1, gamma=0.01, kernel=rbf; total time=   2.8s\n",
      "[CV] END .......................C=1, gamma=0.001, kernel=rbf; total time=   3.4s\n",
      "[CV] END .......................C=1, gamma=0.001, kernel=rbf; total time=   3.4s\n",
      "[CV] END .......................C=1, gamma=0.001, kernel=rbf; total time=   3.4s\n",
      "[CV] END .......................C=1, gamma=0.001, kernel=rbf; total time=   3.4s\n",
      "[CV] END .......................C=1, gamma=0.001, kernel=rbf; total time=   3.4s\n",
      "[CV] END ...........................C=5, gamma=2, kernel=rbf; total time=   4.1s\n",
      "[CV] END ...........................C=5, gamma=2, kernel=rbf; total time=   4.3s\n",
      "[CV] END ...........................C=5, gamma=2, kernel=rbf; total time=   4.4s\n",
      "[CV] END ...........................C=5, gamma=2, kernel=rbf; total time=   3.5s\n",
      "[CV] END ...........................C=5, gamma=2, kernel=rbf; total time=   3.7s\n",
      "[CV] END .........................C=5, gamma=1.5, kernel=rbf; total time=   3.3s\n",
      "[CV] END .........................C=5, gamma=1.5, kernel=rbf; total time=   3.3s\n",
      "[CV] END .........................C=5, gamma=1.5, kernel=rbf; total time=   3.4s\n",
      "[CV] END .........................C=5, gamma=1.5, kernel=rbf; total time=   3.5s\n",
      "[CV] END .........................C=5, gamma=1.5, kernel=rbf; total time=   3.6s\n",
      "[CV] END ...........................C=5, gamma=1, kernel=rbf; total time=   3.4s\n",
      "[CV] END ...........................C=5, gamma=1, kernel=rbf; total time=   3.5s\n",
      "[CV] END ...........................C=5, gamma=1, kernel=rbf; total time=   3.0s\n",
      "[CV] END ...........................C=5, gamma=1, kernel=rbf; total time=   3.0s\n",
      "[CV] END ...........................C=5, gamma=1, kernel=rbf; total time=   3.3s\n",
      "[CV] END .........................C=5, gamma=0.1, kernel=rbf; total time=   2.7s\n",
      "[CV] END .........................C=5, gamma=0.1, kernel=rbf; total time=   2.7s\n",
      "[CV] END .........................C=5, gamma=0.1, kernel=rbf; total time=   2.7s\n",
      "[CV] END .........................C=5, gamma=0.1, kernel=rbf; total time=   2.7s\n",
      "[CV] END .........................C=5, gamma=0.1, kernel=rbf; total time=   2.8s\n",
      "[CV] END ........................C=5, gamma=0.01, kernel=rbf; total time=   2.8s\n",
      "[CV] END ........................C=5, gamma=0.01, kernel=rbf; total time=   2.8s\n",
      "[CV] END ........................C=5, gamma=0.01, kernel=rbf; total time=   2.7s\n",
      "[CV] END ........................C=5, gamma=0.01, kernel=rbf; total time=   2.8s\n",
      "[CV] END ........................C=5, gamma=0.01, kernel=rbf; total time=   2.6s\n",
      "[CV] END .......................C=5, gamma=0.001, kernel=rbf; total time=   3.1s\n",
      "[CV] END .......................C=5, gamma=0.001, kernel=rbf; total time=   3.1s\n",
      "[CV] END .......................C=5, gamma=0.001, kernel=rbf; total time=   3.1s\n",
      "[CV] END .......................C=5, gamma=0.001, kernel=rbf; total time=   3.2s\n",
      "[CV] END .......................C=5, gamma=0.001, kernel=rbf; total time=   3.1s\n",
      "[CV] END ..........................C=10, gamma=2, kernel=rbf; total time=   4.6s\n",
      "[CV] END ..........................C=10, gamma=2, kernel=rbf; total time=   4.5s\n",
      "[CV] END ..........................C=10, gamma=2, kernel=rbf; total time=   4.1s\n",
      "[CV] END ..........................C=10, gamma=2, kernel=rbf; total time=   4.8s\n",
      "[CV] END ..........................C=10, gamma=2, kernel=rbf; total time=   4.7s\n",
      "[CV] END ........................C=10, gamma=1.5, kernel=rbf; total time=   4.1s\n",
      "[CV] END ........................C=10, gamma=1.5, kernel=rbf; total time=   3.8s\n",
      "[CV] END ........................C=10, gamma=1.5, kernel=rbf; total time=   3.6s\n",
      "[CV] END ........................C=10, gamma=1.5, kernel=rbf; total time=   3.8s\n",
      "[CV] END ........................C=10, gamma=1.5, kernel=rbf; total time=   4.0s\n",
      "[CV] END ..........................C=10, gamma=1, kernel=rbf; total time=   3.5s\n",
      "[CV] END ..........................C=10, gamma=1, kernel=rbf; total time=   3.4s\n",
      "[CV] END ..........................C=10, gamma=1, kernel=rbf; total time=   3.4s\n",
      "[CV] END ..........................C=10, gamma=1, kernel=rbf; total time=   3.3s\n",
      "[CV] END ..........................C=10, gamma=1, kernel=rbf; total time=   3.6s\n",
      "[CV] END ........................C=10, gamma=0.1, kernel=rbf; total time=   2.8s\n",
      "[CV] END ........................C=10, gamma=0.1, kernel=rbf; total time=   2.8s\n",
      "[CV] END ........................C=10, gamma=0.1, kernel=rbf; total time=   2.7s\n",
      "[CV] END ........................C=10, gamma=0.1, kernel=rbf; total time=   2.9s\n",
      "[CV] END ........................C=10, gamma=0.1, kernel=rbf; total time=   2.8s\n",
      "[CV] END .......................C=10, gamma=0.01, kernel=rbf; total time=   2.7s\n",
      "[CV] END .......................C=10, gamma=0.01, kernel=rbf; total time=   2.7s\n",
      "[CV] END .......................C=10, gamma=0.01, kernel=rbf; total time=   2.7s\n",
      "[CV] END .......................C=10, gamma=0.01, kernel=rbf; total time=   2.8s\n",
      "[CV] END .......................C=10, gamma=0.01, kernel=rbf; total time=   2.6s\n",
      "[CV] END ......................C=10, gamma=0.001, kernel=rbf; total time=   3.0s\n",
      "[CV] END ......................C=10, gamma=0.001, kernel=rbf; total time=   3.1s\n",
      "[CV] END ......................C=10, gamma=0.001, kernel=rbf; total time=   3.1s\n",
      "[CV] END ......................C=10, gamma=0.001, kernel=rbf; total time=   3.1s\n",
      "[CV] END ......................C=10, gamma=0.001, kernel=rbf; total time=   3.0s\n",
      "[CV] END ..........................C=50, gamma=2, kernel=rbf; total time=   8.0s\n",
      "[CV] END ..........................C=50, gamma=2, kernel=rbf; total time=   8.5s\n",
      "[CV] END ..........................C=50, gamma=2, kernel=rbf; total time=   7.3s\n",
      "[CV] END ..........................C=50, gamma=2, kernel=rbf; total time=   7.9s\n",
      "[CV] END ..........................C=50, gamma=2, kernel=rbf; total time=   7.4s\n",
      "[CV] END ........................C=50, gamma=1.5, kernel=rbf; total time=   6.5s\n",
      "[CV] END ........................C=50, gamma=1.5, kernel=rbf; total time=   7.5s\n",
      "[CV] END ........................C=50, gamma=1.5, kernel=rbf; total time=   6.5s\n",
      "[CV] END ........................C=50, gamma=1.5, kernel=rbf; total time=   8.4s\n",
      "[CV] END ........................C=50, gamma=1.5, kernel=rbf; total time=   7.9s\n",
      "[CV] END ..........................C=50, gamma=1, kernel=rbf; total time=   5.4s\n",
      "[CV] END ..........................C=50, gamma=1, kernel=rbf; total time=   5.4s\n",
      "[CV] END ..........................C=50, gamma=1, kernel=rbf; total time=   5.9s\n",
      "[CV] END ..........................C=50, gamma=1, kernel=rbf; total time=   5.3s\n",
      "[CV] END ..........................C=50, gamma=1, kernel=rbf; total time=   5.9s\n",
      "[CV] END ........................C=50, gamma=0.1, kernel=rbf; total time=   3.3s\n",
      "[CV] END ........................C=50, gamma=0.1, kernel=rbf; total time=   3.2s\n",
      "[CV] END ........................C=50, gamma=0.1, kernel=rbf; total time=   3.3s\n",
      "[CV] END ........................C=50, gamma=0.1, kernel=rbf; total time=   3.3s\n",
      "[CV] END ........................C=50, gamma=0.1, kernel=rbf; total time=   3.2s\n",
      "[CV] END .......................C=50, gamma=0.01, kernel=rbf; total time=   2.8s\n",
      "[CV] END .......................C=50, gamma=0.01, kernel=rbf; total time=   2.8s\n",
      "[CV] END .......................C=50, gamma=0.01, kernel=rbf; total time=   2.9s\n",
      "[CV] END .......................C=50, gamma=0.01, kernel=rbf; total time=   2.7s\n",
      "[CV] END .......................C=50, gamma=0.01, kernel=rbf; total time=   2.8s\n",
      "[CV] END ......................C=50, gamma=0.001, kernel=rbf; total time=   3.2s\n",
      "[CV] END ......................C=50, gamma=0.001, kernel=rbf; total time=   3.2s\n",
      "[CV] END ......................C=50, gamma=0.001, kernel=rbf; total time=   2.9s\n",
      "[CV] END ......................C=50, gamma=0.001, kernel=rbf; total time=   2.9s\n",
      "[CV] END ......................C=50, gamma=0.001, kernel=rbf; total time=   2.9s\n",
      "[CV] END .........................C=100, gamma=2, kernel=rbf; total time=  11.4s\n",
      "[CV] END .........................C=100, gamma=2, kernel=rbf; total time=  11.2s\n",
      "[CV] END .........................C=100, gamma=2, kernel=rbf; total time=  10.9s\n",
      "[CV] END .........................C=100, gamma=2, kernel=rbf; total time=  11.0s\n",
      "[CV] END .........................C=100, gamma=2, kernel=rbf; total time=  11.8s\n",
      "[CV] END .......................C=100, gamma=1.5, kernel=rbf; total time=   8.8s\n",
      "[CV] END .......................C=100, gamma=1.5, kernel=rbf; total time=   9.5s\n",
      "[CV] END .......................C=100, gamma=1.5, kernel=rbf; total time=   9.6s\n",
      "[CV] END .......................C=100, gamma=1.5, kernel=rbf; total time=   9.2s\n",
      "[CV] END .......................C=100, gamma=1.5, kernel=rbf; total time=  10.0s\n",
      "[CV] END .........................C=100, gamma=1, kernel=rbf; total time=   7.1s\n",
      "[CV] END .........................C=100, gamma=1, kernel=rbf; total time=   8.4s\n",
      "[CV] END .........................C=100, gamma=1, kernel=rbf; total time=   7.4s\n",
      "[CV] END .........................C=100, gamma=1, kernel=rbf; total time=   7.4s\n",
      "[CV] END .........................C=100, gamma=1, kernel=rbf; total time=  10.7s\n",
      "[CV] END .......................C=100, gamma=0.1, kernel=rbf; total time=   3.7s\n",
      "[CV] END .......................C=100, gamma=0.1, kernel=rbf; total time=   4.0s\n",
      "[CV] END .......................C=100, gamma=0.1, kernel=rbf; total time=   3.8s\n",
      "[CV] END .......................C=100, gamma=0.1, kernel=rbf; total time=   3.6s\n",
      "[CV] END .......................C=100, gamma=0.1, kernel=rbf; total time=   3.7s\n",
      "[CV] END ......................C=100, gamma=0.01, kernel=rbf; total time=   2.8s\n",
      "[CV] END ......................C=100, gamma=0.01, kernel=rbf; total time=   2.8s\n",
      "[CV] END ......................C=100, gamma=0.01, kernel=rbf; total time=   2.9s\n",
      "[CV] END ......................C=100, gamma=0.01, kernel=rbf; total time=   2.7s\n",
      "[CV] END ......................C=100, gamma=0.01, kernel=rbf; total time=   2.7s\n",
      "[CV] END .....................C=100, gamma=0.001, kernel=rbf; total time=   3.2s\n",
      "[CV] END .....................C=100, gamma=0.001, kernel=rbf; total time=   2.9s\n",
      "[CV] END .....................C=100, gamma=0.001, kernel=rbf; total time=   2.8s\n",
      "[CV] END .....................C=100, gamma=0.001, kernel=rbf; total time=   2.8s\n",
      "[CV] END .....................C=100, gamma=0.001, kernel=rbf; total time=   2.9s\n"
     ]
    },
    {
     "data": {
      "text/plain": [
       "GridSearchCV(cv=5, estimator=SVC(),\n",
       "             param_grid={'C': [0.1, 1, 5, 10, 50, 100],\n",
       "                         'gamma': [2, 1.5, 1, 0.1, 0.01, 0.001],\n",
       "                         'kernel': ['rbf']},\n",
       "             verbose=2)"
      ]
     },
     "execution_count": 52,
     "metadata": {},
     "output_type": "execute_result"
    }
   ],
   "source": [
    "grid = GridSearchCV(SVC(),param_grid,refit=True,verbose=2,cv=5)\n",
    "grid.fit(X_train,y_train)"
   ]
  },
  {
   "cell_type": "code",
   "execution_count": 53,
   "metadata": {
    "scrolled": true
   },
   "outputs": [
    {
     "name": "stdout",
     "output_type": "stream",
     "text": [
      "SVC(C=10, gamma=2)\n"
     ]
    }
   ],
   "source": [
    "print(grid.best_estimator_)"
   ]
  },
  {
   "cell_type": "code",
   "execution_count": 54,
   "metadata": {},
   "outputs": [],
   "source": [
    "#SVM\n",
    "classifier = SVC(kernel='rbf',C = 10,gamma = 2,probability=True).fit(X_train, y_train)"
   ]
  },
  {
   "cell_type": "markdown",
   "metadata": {},
   "source": [
    "### Evaluación "
   ]
  },
  {
   "cell_type": "code",
   "execution_count": 55,
   "metadata": {},
   "outputs": [],
   "source": [
    "y_pred = classifier.predict(X_test)"
   ]
  },
  {
   "cell_type": "code",
   "execution_count": 56,
   "metadata": {},
   "outputs": [
    {
     "data": {
      "text/plain": [
       "array([1, 1, 0, 1, 0, 0, 1, 0, 1, 1, 1, 1, 1, 0, 0, 0, 0, 0, 0, 0],\n",
       "      dtype=int64)"
      ]
     },
     "execution_count": 56,
     "metadata": {},
     "output_type": "execute_result"
    }
   ],
   "source": [
    "y_pred[0:20]"
   ]
  },
  {
   "cell_type": "code",
   "execution_count": 57,
   "metadata": {},
   "outputs": [
    {
     "data": {
      "text/plain": [
       "array([1, 1, 0, 1, 1, 0, 1, 0, 0, 1, 1, 1, 0, 0, 1, 0, 0, 0, 1, 1],\n",
       "      dtype=int64)"
      ]
     },
     "execution_count": 57,
     "metadata": {},
     "output_type": "execute_result"
    }
   ],
   "source": [
    "y_test[0:20]"
   ]
  },
  {
   "cell_type": "code",
   "execution_count": 58,
   "metadata": {},
   "outputs": [
    {
     "data": {
      "text/plain": [
       "array([[791, 238],\n",
       "       [240, 847]], dtype=int64)"
      ]
     },
     "execution_count": 58,
     "metadata": {},
     "output_type": "execute_result"
    }
   ],
   "source": [
    "confusion_matrix(y_test, y_pred)"
   ]
  },
  {
   "cell_type": "code",
   "execution_count": 59,
   "metadata": {},
   "outputs": [
    {
     "name": "stdout",
     "output_type": "stream",
     "text": [
      "Confusion matrix, without normalization\n",
      "[[791 238]\n",
      " [240 847]]\n",
      "Normalized confusion matrix\n",
      "[[0.76870748 0.23129252]\n",
      " [0.22079117 0.77920883]]\n"
     ]
    },
    {
     "data": {
      "image/png": "[encoded data removed]",
      "text/plain": [
       "<Figure size 640x480 with 2 Axes>"
      ]
     },
     "metadata": {},
     "output_type": "display_data"
    },
    {
     "data": {
      "image/png": "[encoded data removed]",
      "text/plain": [
       "<Figure size 640x480 with 2 Axes>"
      ]
     },
     "metadata": {},
     "output_type": "display_data"
    }
   ],
   "source": [
    "# Plot non-normalized confusion matrix\n",
    "titles_options = [(\"Confusion matrix, without normalization\", None),\n",
    "                  (\"Normalized confusion matrix\", 'true')]\n",
    "for title, normalize in titles_options:\n",
    "#ConfusionMatrixDisplay\n",
    "    disp = ConfusionMatrixDisplay.from_estimator(classifier, X_test, y_test,\n",
    "                                                 #display_labels=y_test,\n",
    "                                                 cmap=plt.cm.Blues,\n",
    "                                                 normalize=normalize)\n",
    "    disp.ax_.set_title(title)\n",
    "\n",
    "    print(title)\n",
    "    print(disp.confusion_matrix)\n",
    "\n",
    "plt.show()"
   ]
  },
  {
   "cell_type": "code",
   "execution_count": 60,
   "metadata": {},
   "outputs": [],
   "source": [
    "y_pred_prob = classifier.predict_proba(X_test)"
   ]
  },
  {
   "cell_type": "code",
   "execution_count": 61,
   "metadata": {},
   "outputs": [
    {
     "data": {
      "text/plain": [
       "array([[0.18556585, 0.81443415],\n",
       "       [0.202735  , 0.797265  ],\n",
       "       [0.55516251, 0.44483749],\n",
       "       [0.20095782, 0.79904218],\n",
       "       [0.62742124, 0.37257876]])"
      ]
     },
     "execution_count": 61,
     "metadata": {},
     "output_type": "execute_result"
    }
   ],
   "source": [
    "y_pred_prob[0:5]"
   ]
  },
  {
   "cell_type": "code",
   "execution_count": 62,
   "metadata": {},
   "outputs": [
    {
     "data": {
      "text/plain": [
       "array([0.81443415, 0.797265  , 0.44483749, 0.79904218, 0.37257876])"
      ]
     },
     "execution_count": 62,
     "metadata": {},
     "output_type": "execute_result"
    }
   ],
   "source": [
    "y_pred_prob[0:5,1]"
   ]
  },
  {
   "cell_type": "code",
   "execution_count": 63,
   "metadata": {},
   "outputs": [],
   "source": [
    "false_positive_rate, true_positive_rate, thresholds = roc_curve(y_test, y_pred_prob[:,1])"
   ]
  },
  {
   "cell_type": "code",
   "execution_count": 64,
   "metadata": {},
   "outputs": [
    {
     "data": {
      "text/plain": [
       "0.8224457610616858"
      ]
     },
     "execution_count": 64,
     "metadata": {},
     "output_type": "execute_result"
    }
   ],
   "source": [
    "roc_auc = auc(false_positive_rate, true_positive_rate)\n",
    "roc_auc"
   ]
  },
  {
   "cell_type": "code",
   "execution_count": 65,
   "metadata": {},
   "outputs": [
    {
     "data": {
      "image/png": "[encoded data removed]",
      "text/plain": [
       "<Figure size 640x480 with 1 Axes>"
      ]
     },
     "metadata": {},
     "output_type": "display_data"
    }
   ],
   "source": [
    "plt.title('Receiver Operating Characteristic')\n",
    "plt.plot(false_positive_rate,true_positive_rate, color='red',label = 'AUC = %0.2f' % roc_auc)\n",
    "plt.legend(loc = 'lower right')\n",
    "plt.plot([0, 1], [0, 1],linestyle='--')\n",
    "plt.axis('tight')\n",
    "plt.ylabel('True Positive Rate')\n",
    "plt.xlabel('False Positive Rate')\n",
    "plt.show()"
   ]
  },
  {
   "cell_type": "code",
   "execution_count": 66,
   "metadata": {},
   "outputs": [
    {
     "name": "stdout",
     "output_type": "stream",
     "text": [
      "              precision    recall  f1-score   support\n",
      "\n",
      "           0       0.77      0.77      0.77      1029\n",
      "           1       0.78      0.78      0.78      1087\n",
      "\n",
      "    accuracy                           0.77      2116\n",
      "   macro avg       0.77      0.77      0.77      2116\n",
      "weighted avg       0.77      0.77      0.77      2116\n",
      "\n"
     ]
    }
   ],
   "source": [
    "print(classification_report(y_test, y_pred))"
   ]
  },
  {
   "cell_type": "code",
   "execution_count": 67,
   "metadata": {},
   "outputs": [],
   "source": [
    "dataf = pd.concat([pd.DataFrame(X_test),pd.DataFrame(y_test),pd.DataFrame(y_pred),pd.DataFrame(y_pred_prob)],axis=1)"
   ]
  },
  {
   "cell_type": "code",
   "execution_count": 68,
   "metadata": {},
   "outputs": [
    {
     "data": {
      "text/html": [
       "<div>\n",
       "<style scoped>\n",
       "    .dataframe tbody tr th:only-of-type {\n",
       "        vertical-align: middle;\n",
       "    }\n",
       "\n",
       "    .dataframe tbody tr th {\n",
       "        vertical-align: top;\n",
       "    }\n",
       "\n",
       "    .dataframe thead th {\n",
       "        text-align: right;\n",
       "    }\n",
       "</style>\n",
       "<table border=\"1\" class=\"dataframe\">\n",
       "  <thead>\n",
       "    <tr style=\"text-align: right;\">\n",
       "      <th></th>\n",
       "      <th>0</th>\n",
       "      <th>1</th>\n",
       "      <th>2</th>\n",
       "      <th>0</th>\n",
       "      <th>0</th>\n",
       "      <th>0</th>\n",
       "      <th>1</th>\n",
       "    </tr>\n",
       "  </thead>\n",
       "  <tbody>\n",
       "    <tr>\n",
       "      <th>0</th>\n",
       "      <td>-0.979418</td>\n",
       "      <td>-0.390519</td>\n",
       "      <td>-0.327664</td>\n",
       "      <td>1</td>\n",
       "      <td>1</td>\n",
       "      <td>0.185566</td>\n",
       "      <td>0.814434</td>\n",
       "    </tr>\n",
       "    <tr>\n",
       "      <th>1</th>\n",
       "      <td>-0.979418</td>\n",
       "      <td>-0.390519</td>\n",
       "      <td>0.637854</td>\n",
       "      <td>1</td>\n",
       "      <td>1</td>\n",
       "      <td>0.202735</td>\n",
       "      <td>0.797265</td>\n",
       "    </tr>\n",
       "    <tr>\n",
       "      <th>2</th>\n",
       "      <td>-0.979418</td>\n",
       "      <td>-0.390519</td>\n",
       "      <td>-0.654321</td>\n",
       "      <td>0</td>\n",
       "      <td>0</td>\n",
       "      <td>0.555163</td>\n",
       "      <td>0.444837</td>\n",
       "    </tr>\n",
       "    <tr>\n",
       "      <th>3</th>\n",
       "      <td>-0.979418</td>\n",
       "      <td>-0.390519</td>\n",
       "      <td>1.562901</td>\n",
       "      <td>1</td>\n",
       "      <td>1</td>\n",
       "      <td>0.200958</td>\n",
       "      <td>0.799042</td>\n",
       "    </tr>\n",
       "    <tr>\n",
       "      <th>4</th>\n",
       "      <td>1.021015</td>\n",
       "      <td>-0.390519</td>\n",
       "      <td>0.079935</td>\n",
       "      <td>1</td>\n",
       "      <td>0</td>\n",
       "      <td>0.627421</td>\n",
       "      <td>0.372579</td>\n",
       "    </tr>\n",
       "  </tbody>\n",
       "</table>\n",
       "</div>"
      ],
      "text/plain": [
       "          0         1         2  0  0         0         1\n",
       "0 -0.979418 -0.390519 -0.327664  1  1  0.185566  0.814434\n",
       "1 -0.979418 -0.390519  0.637854  1  1  0.202735  0.797265\n",
       "2 -0.979418 -0.390519 -0.654321  0  0  0.555163  0.444837\n",
       "3 -0.979418 -0.390519  1.562901  1  1  0.200958  0.799042\n",
       "4  1.021015 -0.390519  0.079935  1  0  0.627421  0.372579"
      ]
     },
     "execution_count": 68,
     "metadata": {},
     "output_type": "execute_result"
    }
   ],
   "source": [
    "dataf.head(5)"
   ]
  },
  {
   "cell_type": "code",
   "execution_count": 69,
   "metadata": {},
   "outputs": [],
   "source": [
    "dataf.columns = ['c_housing','c_loan','duration','Target','Target_Pred','Target_Pred_Prob_0','Target_Pred_Prob_1']"
   ]
  },
  {
   "cell_type": "code",
   "execution_count": 70,
   "metadata": {
    "scrolled": true
   },
   "outputs": [
    {
     "data": {
      "text/html": [
       "<div>\n",
       "<style scoped>\n",
       "    .dataframe tbody tr th:only-of-type {\n",
       "        vertical-align: middle;\n",
       "    }\n",
       "\n",
       "    .dataframe tbody tr th {\n",
       "        vertical-align: top;\n",
       "    }\n",
       "\n",
       "    .dataframe thead th {\n",
       "        text-align: right;\n",
       "    }\n",
       "</style>\n",
       "<table border=\"1\" class=\"dataframe\">\n",
       "  <thead>\n",
       "    <tr style=\"text-align: right;\">\n",
       "      <th></th>\n",
       "      <th>c_housing</th>\n",
       "      <th>c_loan</th>\n",
       "      <th>duration</th>\n",
       "      <th>Target</th>\n",
       "      <th>Target_Pred</th>\n",
       "      <th>Target_Pred_Prob_0</th>\n",
       "      <th>Target_Pred_Prob_1</th>\n",
       "    </tr>\n",
       "  </thead>\n",
       "  <tbody>\n",
       "    <tr>\n",
       "      <th>0</th>\n",
       "      <td>-0.979418</td>\n",
       "      <td>-0.390519</td>\n",
       "      <td>-0.327664</td>\n",
       "      <td>1</td>\n",
       "      <td>1</td>\n",
       "      <td>0.185566</td>\n",
       "      <td>0.814434</td>\n",
       "    </tr>\n",
       "    <tr>\n",
       "      <th>1</th>\n",
       "      <td>-0.979418</td>\n",
       "      <td>-0.390519</td>\n",
       "      <td>0.637854</td>\n",
       "      <td>1</td>\n",
       "      <td>1</td>\n",
       "      <td>0.202735</td>\n",
       "      <td>0.797265</td>\n",
       "    </tr>\n",
       "    <tr>\n",
       "      <th>2</th>\n",
       "      <td>-0.979418</td>\n",
       "      <td>-0.390519</td>\n",
       "      <td>-0.654321</td>\n",
       "      <td>0</td>\n",
       "      <td>0</td>\n",
       "      <td>0.555163</td>\n",
       "      <td>0.444837</td>\n",
       "    </tr>\n",
       "    <tr>\n",
       "      <th>3</th>\n",
       "      <td>-0.979418</td>\n",
       "      <td>-0.390519</td>\n",
       "      <td>1.562901</td>\n",
       "      <td>1</td>\n",
       "      <td>1</td>\n",
       "      <td>0.200958</td>\n",
       "      <td>0.799042</td>\n",
       "    </tr>\n",
       "    <tr>\n",
       "      <th>4</th>\n",
       "      <td>1.021015</td>\n",
       "      <td>-0.390519</td>\n",
       "      <td>0.079935</td>\n",
       "      <td>1</td>\n",
       "      <td>0</td>\n",
       "      <td>0.627421</td>\n",
       "      <td>0.372579</td>\n",
       "    </tr>\n",
       "  </tbody>\n",
       "</table>\n",
       "</div>"
      ],
      "text/plain": [
       "   c_housing    c_loan  duration  Target  Target_Pred  Target_Pred_Prob_0  \\\n",
       "0  -0.979418 -0.390519 -0.327664       1            1            0.185566   \n",
       "1  -0.979418 -0.390519  0.637854       1            1            0.202735   \n",
       "2  -0.979418 -0.390519 -0.654321       0            0            0.555163   \n",
       "3  -0.979418 -0.390519  1.562901       1            1            0.200958   \n",
       "4   1.021015 -0.390519  0.079935       1            0            0.627421   \n",
       "\n",
       "   Target_Pred_Prob_1  \n",
       "0            0.814434  \n",
       "1            0.797265  \n",
       "2            0.444837  \n",
       "3            0.799042  \n",
       "4            0.372579  "
      ]
     },
     "execution_count": 70,
     "metadata": {},
     "output_type": "execute_result"
    }
   ],
   "source": [
    "dataf.head()"
   ]
  },
  {
   "cell_type": "code",
   "execution_count": 71,
   "metadata": {
    "scrolled": true
   },
   "outputs": [
    {
     "data": {
      "text/plain": [
       "0.2    0.188148\n",
       "0.4    0.218978\n",
       "0.6    0.793142\n",
       "0.8    0.799686\n",
       "Name: Target_Pred_Prob_1, dtype: float64"
      ]
     },
     "execution_count": 71,
     "metadata": {},
     "output_type": "execute_result"
    }
   ],
   "source": [
    "quantiles = dataf['Target_Pred_Prob_1'].quantile(q=[0.20,0.40,0.60,0.80])\n",
    "quantiles"
   ]
  },
  {
   "cell_type": "code",
   "execution_count": 72,
   "metadata": {},
   "outputs": [],
   "source": [
    "dataf.to_csv('D:/dataf.csv', index = False)"
   ]
  },
  {
   "cell_type": "markdown",
   "metadata": {},
   "source": [
    "### Implementación"
   ]
  },
  {
   "cell_type": "markdown",
   "metadata": {},
   "source": [
    "Se puede exportar el modelo más adecuado para ponerlo en un ambiente de producción. A partir de ello se puede generar un API para alimentar una aplicación web o móvil."
   ]
  },
  {
   "cell_type": "markdown",
   "metadata": {},
   "source": [
    "A continuación se exportará el modelo más adecuado."
   ]
  },
  {
   "cell_type": "code",
   "execution_count": 72,
   "metadata": {},
   "outputs": [],
   "source": [
    "import pickle"
   ]
  },
  {
   "cell_type": "code",
   "execution_count": 75,
   "metadata": {},
   "outputs": [],
   "source": [
    "Pkl_Filename = \"D:/classifier.pkl\"\n",
    "\n",
    "with open (Pkl_Filename, 'wb') as file:\n",
    "    pickle.dump(classifier, file)"
   ]
  },
  {
   "cell_type": "markdown",
   "metadata": {},
   "source": [
    "### Tarea"
   ]
  },
  {
   "cell_type": "markdown",
   "metadata": {},
   "source": [
    "1.Para la base de datos dataf, colocar los valores originales de las primeras 3 variables.\n"
   ]
  },
  {
   "cell_type": "markdown",
   "metadata": {},
   "source": [
    "2.Para la base de datos dataf, crear una variable \"score\", con las categorías: Muy alto, alto, medio, bajo y muy bajo.\n",
    "(Usar: Target_Pred_Prob_1)"
   ]
  }
 ],
 "metadata": {
  "kernelspec": {
   "display_name": "Python 3 (ipykernel)",
   "language": "python",
   "name": "python3"
  },
  "language_info": {
   "codemirror_mode": {
    "name": "ipython",
    "version": 3
   },
   "file_extension": ".py",
   "mimetype": "text/x-python",
   "name": "python",
   "nbconvert_exporter": "python",
   "pygments_lexer": "ipython3",
   "version": "3.10.9"
  }
 },
 "nbformat": 4,
 "nbformat_minor": 4
}
